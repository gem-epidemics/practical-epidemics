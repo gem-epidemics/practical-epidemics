{
  "cells": [
    {
      "cell_type": "code",
      "execution_count": 27,
      "id": "0549d38f-8bd0-4a59-8b81-27fac48225d6",
      "metadata": {
        "tags": [],
        "id": "0549d38f-8bd0-4a59-8b81-27fac48225d6"
      },
      "outputs": [],
      "source": [
        "import base64\n",
        "import numpy as np\n",
        "from IPython.display import Image, display\n",
        "import matplotlib.pyplot as plt\n",
        "%matplotlib inline\n",
        "\n",
        "def mm(graph):\n",
        "  graphbytes = graph.encode(\"ascii\")\n",
        "  base64_bytes = base64.b64encode(graphbytes)\n",
        "  base64_string = base64_bytes.decode(\"ascii\")\n",
        "  display(Image(url=\"https://mermaid.ink/img/\" + base64_string))"
      ]
    },
    {
      "cell_type": "markdown",
      "id": "d562fbea-6a4d-4cc3-ab52-407ac0cfc780",
      "metadata": {
        "tags": [],
        "id": "d562fbea-6a4d-4cc3-ab52-407ac0cfc780"
      },
      "source": [
        "# Thoughts on implementing stochastic epidemic models\n",
        "\n",
        "This short notebook is intended to offer some thoughts on how to implement stochastic epidemic models in code.  The aim is to provide a clean, flexible, and yet efficient pattern for those implementing a stochastic model for the first time.  The concepts are (almost) language agnostic, though the examples will be shown in Python.\n",
        "\n",
        "In particular, the concepts presented here are used in [`gemlib`](https://gitlab.com/gem-epidemics/gemlib), and should give a reasonable introduction to those wishing to work with and extend `gemlib`."
      ]
    },
    {
      "cell_type": "markdown",
      "id": "af474340-61a6-4826-adca-089ce8152ce5",
      "metadata": {
        "tags": [],
        "id": "af474340-61a6-4826-adca-089ce8152ce5"
      },
      "source": [
        "## The SIR model: a recap\n",
        "\n",
        "In the standard homogeneously mixing SIR model, we have that individuals exist in three mutually exclusive states: S(usuceptible), I(nfectious), and R(emoved), collectively $X = (S, I, R)^T$.  \n",
        "\n",
        "We assume that for a _single individual_, the transition rates are\n",
        "\\begin{align}\n",
        "\\lambda^{\\mathrm{SI}}(X_t) &= \\beta I_t/N \\\\\n",
        "\\lambda^{\\mathrm{IR}}(X_t) &= \\gamma \\\\\n",
        "\\end{align}\n",
        "such that the $S\\rightarrow I$ transition is coupled to the current _prevalence_ of infectious individuals, but infectious individuals transition to being removed at constant rate $\\gamma$."
      ]
    },
    {
      "cell_type": "code",
      "execution_count": 2,
      "id": "66949821-a581-426b-85f4-7de6be89707d",
      "metadata": {
        "tags": [],
        "id": "66949821-a581-426b-85f4-7de6be89707d",
        "outputId": "621eaae0-c7da-4027-c769-68e2e09fc8c3",
        "colab": {
          "base_uri": "https://localhost:8080/",
          "height": 46
        }
      },
      "outputs": [
        {
          "output_type": "display_data",
          "data": {
            "text/html": [
              "<img src=\"https://mermaid.ink/img/CmZsb3djaGFydCBMUgogIFMtLSAiIzk0NjsiSS9OIC0tPkkKICBJIC0tICIjOTQ3OyIgLS0+IFIK\"/>"
            ],
            "text/plain": [
              "<IPython.core.display.Image object>"
            ]
          },
          "metadata": {}
        }
      ],
      "source": [
        "mm(\"\"\"\n",
        "flowchart LR\n",
        "  S-- \"#946;\"I/N -->I\n",
        "  I -- \"#947;\" --> R\n",
        "\"\"\")"
      ]
    },
    {
      "cell_type": "markdown",
      "id": "d6280dc2-69c5-4234-aed1-f40cb5c174c1",
      "metadata": {
        "tags": [],
        "id": "d6280dc2-69c5-4234-aed1-f40cb5c174c1"
      },
      "source": [
        "Given a starting set of conditions $X_0 = (S_0, I_0, R_0)^T$, we can propagate the system forward in time.  \n",
        "\n",
        "In the stochastic setting we have\n",
        "\\begin{align}\n",
        "Pr(I_{t+\\delta t} - I_{t} = 1 | X_{t}) &= \\beta I_t / N + o(\\delta t) \\\\\n",
        "Pr(I_{t+\\delta t} - I_{t} = -1 | X_{t}) &= \\gamma + o(\\delta t) \\\\\n",
        "\\end{align}\n",
        "for a small time interval $[t, t+\\delta t)$.  "
      ]
    },
    {
      "cell_type": "markdown",
      "id": "8ea0c078-6b2c-4bb7-bf2f-4f6276ba58ae",
      "metadata": {
        "tags": [],
        "id": "8ea0c078-6b2c-4bb7-bf2f-4f6276ba58ae"
      },
      "source": [
        "## Implementation\n",
        "\n",
        "* How do we implement such a method on the computer?\n",
        "* Continuous time, or discrete timesteps?\n",
        "* What if we have a different number of compartments?"
      ]
    },
    {
      "cell_type": "markdown",
      "id": "652c5ca2-15db-4fb4-a83b-78da9f66e472",
      "metadata": {
        "tags": [],
        "id": "652c5ca2-15db-4fb4-a83b-78da9f66e472"
      },
      "source": [
        "## Continous Time\n",
        "\n",
        "The _Gillespie algorithm_ propagates the system as a _piecewise_ time-homogeneous Poisson process:\n",
        "\n",
        "----\n",
        "\n",
        "Repeat\n",
        "\n",
        "1. Compute $\\Lambda \\leftarrow \\sum_{r \\in \\{SI,IR\\}} \\lambda^{r}\\left(X_t \\right)$\n",
        "2. If $\\Lambda = 0$ `break`\n",
        "3. $t^\\star \\leftarrow \\mbox{Exp}\\left( \\Lambda \\right)$\n",
        "2. $y^\\star \\leftarrow \\mbox{Discrete}\\left(\\{\\lambda^{SI}(X_t), \\lambda^{IR}(X_t)\\}\\right)$\n",
        "3. Update $t \\leftarrow t + t^\\star$\n",
        "4. If $y^\\star = 0$\n",
        "\n",
        "$$\n",
        "S_{t+t^\\star} = S_t -1 , I_t = I_t + 1\n",
        "$$\n",
        "\n",
        "else\n",
        "\n",
        "$$\n",
        "I_{t+t^\\star} = I_t -1, R_t = R_t + 1\n",
        "$$\n",
        "\n",
        "----"
      ]
    },
    {
      "cell_type": "code",
      "execution_count": 3,
      "id": "3a4af50b-7e99-4682-828b-694d9f0b9536",
      "metadata": {
        "tags": [],
        "id": "3a4af50b-7e99-4682-828b-694d9f0b9536"
      },
      "outputs": [],
      "source": [
        "def sir1(beta, gamma, S0, I0, R0):\n",
        "    S = S0\n",
        "    I = I0\n",
        "    R = R0\n",
        "    N = S0 + I0 + R0\n",
        "    t = 0\n",
        "\n",
        "    accum = [(t, S, I, R)]\n",
        "\n",
        "    while True:\n",
        "\n",
        "        # Calculate rates\n",
        "        si_rate = beta * I * S / (S+I+R)\n",
        "        ir_rate = gamma * I\n",
        "        total_rate = si_rate + ir_rate\n",
        "\n",
        "        if total_rate == 0.0: # Break if epidemic stops\n",
        "            break\n",
        "\n",
        "        # Draw time to next event, update t\n",
        "        tstar = np.random.exponential(1.0/total_rate)\n",
        "        t += tstar\n",
        "\n",
        "        # Decide if we have an infection (True) or not (False)\n",
        "        if np.random.uniform() < si_rate / total_rate:\n",
        "            S -= 1\n",
        "            I += 1\n",
        "        else:\n",
        "            I -= 1\n",
        "            R += 1\n",
        "\n",
        "        # Append result to accumulation buffer\n",
        "        accum.append((t, S, I, R))\n",
        "\n",
        "    # Reformat results and return\n",
        "    result = np.array(accum)\n",
        "    return dict(t=result[:,0], S=result[:,1], I=result[:,2], R=result[:,3])"
      ]
    },
    {
      "cell_type": "code",
      "execution_count": 44,
      "id": "4c534e5f-0b89-4444-a46a-8e53deba07a7",
      "metadata": {
        "tags": [],
        "id": "4c534e5f-0b89-4444-a46a-8e53deba07a7",
        "outputId": "1b1b4715-6d87-491c-ea96-da24e9463da1",
        "colab": {
          "base_uri": "https://localhost:8080/",
          "height": 449
        }
      },
      "outputs": [
        {
          "output_type": "display_data",
          "data": {
            "text/plain": [
              "<Figure size 640x480 with 1 Axes>"
            ],
            "image/png": "[encoded data removed]"
          },
          "metadata": {}
        }
      ],
      "source": [
        "np.random.seed(123)\n",
        "epi = sir1(beta=0.3, gamma=0.14, S0=999, I0=1, R0=0)\n",
        "\n",
        "plt.plot(epi['t'], epi['S'], label='S')\n",
        "plt.plot(epi['t'], epi['I'], label='I')\n",
        "plt.plot(epi['t'], epi['R'], label='R')\n",
        "plt.legend()\n",
        "plt.xlabel(\"Time\")\n",
        "_ = plt.ylabel(\"Individuals\")"
      ]
    },
    {
      "cell_type": "markdown",
      "id": "33674418-631b-457f-bea6-1f7399d67b42",
      "metadata": {
        "tags": [],
        "id": "33674418-631b-457f-bea6-1f7399d67b42"
      },
      "source": [
        "## Problems\n",
        "\n",
        "* How can we test?\n",
        "  * are the rates calculated correctly?\n",
        "\n",
        "\n",
        "* If we want to edit the rates, need to edit `sir1` function\n",
        "* What if we added another state? `SIR` $\\rightarrow$ `SEIR`\n",
        "* What if we define `sir1` in a separate file to any data?\n",
        "* What if we want to look at more than one population?\n",
        "    * or an individual level model?\n",
        "    \n",
        "* __How can we make `sir1` more generic__?\n",
        "    * separation of concerns: rate calculation, random numbers, state update"
      ]
    },
    {
      "cell_type": "markdown",
      "id": "bf069b4b-3b38-4d8d-ba96-39d434888a70",
      "metadata": {
        "tags": [],
        "id": "bf069b4b-3b38-4d8d-ba96-39d434888a70"
      },
      "source": [
        "## Editing rates\n",
        "\n",
        "Suppose we wish to edit our transition rates\n",
        "* e.g. introduce another parameter?\n",
        "\n",
        "$$\n",
        "\\lambda^{SI}(X_t) = \\beta I_t^\\phi S_t\n",
        "$$\n",
        "\n",
        "```python\n",
        "def sir2(beta, gamma, phi, S0, I0, R0):\n",
        "  # ...\n",
        "  si_rate = beta * np.power(I, phi) * S / (S+I+R)\n",
        "  ir_rate = gamma * I\n",
        "  # ...\n",
        "```\n",
        "\n",
        "* Quickly our `sir2` signature balloons!\n",
        "* If `sir2` is in a library, a user cannot modify it\n",
        "\n",
        "\n",
        "* Solution: factor out transition rates into a separate (user-specified) function"
      ]
    },
    {
      "cell_type": "code",
      "execution_count": 46,
      "id": "e44b02c1-1138-4246-9ca9-a267a2da35fb",
      "metadata": {
        "tags": [],
        "id": "e44b02c1-1138-4246-9ca9-a267a2da35fb"
      },
      "outputs": [],
      "source": [
        "def transition_rates(beta, gamma, phi, N):\n",
        "    \"\"\"Returns a _closure_ over beta, gamma, phi\"\"\"\n",
        "    def fn(state):\n",
        "        si_rate = beta * np.power(state['I'], phi) * state['S'] / N\n",
        "        ir_rate = gamma * state['I']\n",
        "        return si_rate, ir_rate\n",
        "\n",
        "    return fn\n",
        "\n",
        "def sir2(transition_rate_fn, S0, I0, R0):\n",
        "\n",
        "    S = S0\n",
        "    I = I0\n",
        "    R = R0\n",
        "    N = S0 + I0 + R0\n",
        "    t = 0\n",
        "\n",
        "    accum = [(t, S, I, R)]\n",
        "\n",
        "    while True:\n",
        "\n",
        "        # Calculate rates\n",
        "        si_rate, ir_rate = transition_rate_fn(dict(S=S, I=I, R=R))\n",
        "        total_rate = si_rate + ir_rate\n",
        "\n",
        "        if total_rate == 0.0: # Break if epidemic stops\n",
        "            break\n",
        "\n",
        "        # Draw time to next event, update t\n",
        "        tstar = np.random.exponential(1.0/total_rate)\n",
        "        t += tstar\n",
        "\n",
        "        # Decide if we have an infection (True) or not (False)\n",
        "        if np.random.uniform() < si_rate / total_rate:\n",
        "            S -= 1\n",
        "            I += 1\n",
        "        else:\n",
        "            I -= 1\n",
        "            R += 1\n",
        "\n",
        "        # Append result to accumulation buffer\n",
        "        accum.append((t, S, I, R))\n",
        "\n",
        "    # Reformat results and return\n",
        "    result = np.array(accum)\n",
        "    return dict(t=result[:,0], S=result[:,1], I=result[:,2], R=result[:,3])"
      ]
    },
    {
      "cell_type": "code",
      "execution_count": 47,
      "id": "6d48c208-8bc2-4086-b113-b3aa417e1916",
      "metadata": {
        "tags": [],
        "id": "6d48c208-8bc2-4086-b113-b3aa417e1916",
        "outputId": "a4071081-dd18-45cc-b5b2-ee778dc3b1f9",
        "colab": {
          "base_uri": "https://localhost:8080/"
        }
      },
      "outputs": [
        {
          "output_type": "execute_result",
          "data": {
            "text/plain": [
              "(np.float64(0.3996), 0.14)"
            ]
          },
          "metadata": {},
          "execution_count": 47
        }
      ],
      "source": [
        "# Test rate_fn\n",
        "rate_fn = transition_rates(beta=0.4, gamma=0.14, phi=0.8, N=1000)\n",
        "rate_fn(state=dict(S=999, I=1, R=0))"
      ]
    },
    {
      "cell_type": "code",
      "execution_count": 48,
      "id": "6083be62-d6ce-4667-a0f1-053f3814e625",
      "metadata": {
        "tags": [],
        "id": "6083be62-d6ce-4667-a0f1-053f3814e625",
        "outputId": "dc3048bc-18c6-4278-e7ef-30d5f9c6e341",
        "colab": {
          "base_uri": "https://localhost:8080/",
          "height": 449
        }
      },
      "outputs": [
        {
          "output_type": "display_data",
          "data": {
            "text/plain": [
              "<Figure size 640x480 with 1 Axes>"
            ],
            "image/png": "[encoded data removed]"
          },
          "metadata": {}
        }
      ],
      "source": [
        "trans_rate_fn = transition_rates(beta=0.4, gamma=0.14, phi=0.8, N=1000)  # close over parameter values\n",
        "np.random.seed(1)\n",
        "epi = sir2(trans_rate_fn, S0=999, I0=1, R0=0)\n",
        "\n",
        "plt.plot(epi['t'], epi['S'], label='S')\n",
        "plt.plot(epi['t'], epi['I'], label='I')\n",
        "plt.plot(epi['t'], epi['R'], label='R')\n",
        "plt.legend()\n",
        "plt.xlabel(\"Time\")\n",
        "_ = plt.ylabel(\"Individuals\")"
      ]
    },
    {
      "cell_type": "markdown",
      "id": "8e01a0d2-4aa4-4b48-a37f-65046df4bfbb",
      "metadata": {
        "tags": [],
        "id": "8e01a0d2-4aa4-4b48-a37f-65046df4bfbb"
      },
      "source": [
        "* User-specified transition rate function\n",
        "    * `trans_rate_fn` allows us to encapsulate parameters, data, etc.\n",
        "    * __testing__ is easy!\n",
        "\n",
        "\n",
        "* __Contract__: `sim2` expects `fn(t: float, state: dict) => (si_rate: float, ir_rate: float)`\n",
        "   * User controls `trans_rate_fn` signature\n",
        "   * inner function signature `fn(t, state)` is _unchanged_"
      ]
    },
    {
      "cell_type": "markdown",
      "id": "72c5d661-9458-412a-ac0d-b015e71972c9",
      "metadata": {
        "tags": [],
        "id": "72c5d661-9458-412a-ac0d-b015e71972c9"
      },
      "source": [
        "## Changing the number of states\n",
        "\n",
        "* `sir2` still stuck with _SIR_ model\n",
        "* How can we extend to more complex models?"
      ]
    },
    {
      "cell_type": "code",
      "execution_count": null,
      "id": "2cba9e8e-d2c0-4f49-8166-a208aae8db11",
      "metadata": {
        "tags": [],
        "id": "2cba9e8e-d2c0-4f49-8166-a208aae8db11",
        "outputId": "c7f842cd-13c9-4c78-eae5-23273ca01f91"
      },
      "outputs": [
        {
          "data": {
            "text/html": [
              "<img src=\"https://mermaid.ink/img/CmZsb3djaGFydCBMUgogIFMtLSAiIzk0NjsiSS9OIC0tPkUKICBFLS0gIiM5NDg7IkUgLS0+IEkKICBTLS0gIiM5NDk7IlMgLS0+IFYKICBWLS0gIiM5NDU7Izk0NjsiSS9OIC0tPiBFCiAgSSAtLSAiIzk0NzsiIC0tPiBSCg==\"/>"
            ],
            "text/plain": [
              "<IPython.core.display.Image object>"
            ]
          },
          "metadata": {},
          "output_type": "display_data"
        }
      ],
      "source": [
        "mm(\"\"\"\n",
        "flowchart LR\n",
        "  S-- \"#946;\"I/N -->E\n",
        "  E-- \"#948;\"E --> I\n",
        "  S-- \"#949;\"S --> V\n",
        "  V-- \"#945;#946;\"I/N --> E\n",
        "  I -- \"#947;\" --> R\n",
        "\"\"\")"
      ]
    },
    {
      "cell_type": "markdown",
      "id": "b0e02524-d45b-4ddc-9463-fd281d3d1144",
      "metadata": {
        "tags": [],
        "id": "b0e02524-d45b-4ddc-9463-fd281d3d1144"
      },
      "source": [
        "### Representing the State Transition Model\n",
        "\n",
        "Represents the Directed Acyclic Graph using _incidence matrix_, $B$\n",
        "* e.g. for SIR model\n",
        "\n",
        "\n",
        "| | SI | IR |\n",
        "|:-:|:-:|:-:|  \n",
        "|S | -1 | 0 |\n",
        "|I | 1 | -1 |\n",
        "|R | 0 | 1 |\n",
        "\n",
        "$$B = \\begin{pmatrix} -1 & 0 \\\\\n",
        "                       1 & -1 \\\\\n",
        "                       0 & 1 \\\\\n",
        "      \\end{pmatrix}\n",
        "$$"
      ]
    },
    {
      "cell_type": "markdown",
      "id": "9df83bbd-60f5-49e1-9c52-e939a6e1bd2a",
      "metadata": {
        "tags": [],
        "id": "9df83bbd-60f5-49e1-9c52-e939a6e1bd2a"
      },
      "source": [
        "### Incrementing $X_t$\n",
        "\n",
        "Suppose Step 3 returns a _one hot_ vector representing the transition:\n",
        "\n",
        "$$\n",
        "y^\\star = \\begin{cases} \\begin{pmatrix} 1 \\\\ 0 \\end{pmatrix} & S \\rightarrow I \\\\\n",
        "                        \\begin{pmatrix} 0 \\\\ 1 \\end{pmatrix} & I \\rightarrow R \\\\\n",
        "          \\end{cases}\n",
        "$$\n",
        "\n",
        "The _increment_ in $X_t = (S_t, I_t, R_t)^T$ is\n",
        "\n",
        "$$\\Delta X_t = B \\cdot y^\\star$$\n",
        "\n",
        "for any compatible choice of $y^\\star$, $X$, and $B$."
      ]
    },
    {
      "cell_type": "markdown",
      "id": "a3acf0e3-c1b9-4c70-9574-e9d7bd4464e0",
      "metadata": {
        "tags": [],
        "id": "a3acf0e3-c1b9-4c70-9574-e9d7bd4464e0"
      },
      "source": [
        "### Incrementing $X_t$\n",
        "\n",
        "Multiplying $y^\\star$ and $B$ allows us to propagate $X_t$ between timepoints:\n",
        "\n",
        "----\n",
        "\n",
        "Repeat\n",
        "\n",
        "1. Compute $\\Lambda \\leftarrow \\sum_{r \\in \\{SI,IR\\}} \\lambda^{r}\\left(X_t \\right)$\n",
        "2. If $\\Lambda = 0$ `break`\n",
        "3. $t^\\star \\leftarrow \\mbox{Exp}\\left( \\Lambda \\right)$\n",
        "4. $y^\\star \\leftarrow \\mbox{Discrete}\\left(\\{\\lambda^{SI}(X_t), \\lambda^{IR}(X_t)\\}\\right)$\n",
        "5. Update\n",
        "\n",
        "$$\n",
        "t \\leftarrow t + t^\\star\n",
        "$$\n",
        "\n",
        "and\n",
        "\n",
        "$$\n",
        "X_{t+t^\\star} = X_t + B \\cdot y^\\star\n",
        "$$\n",
        "\n",
        "----"
      ]
    },
    {
      "cell_type": "code",
      "execution_count": 49,
      "id": "c7c07151-8dc2-4bf0-8ea1-ef507b5d04b6",
      "metadata": {
        "tags": [],
        "id": "c7c07151-8dc2-4bf0-8ea1-ef507b5d04b6"
      },
      "outputs": [],
      "source": [
        "def cont_time_simulation(transition_rate_fn, initial_state, incidence_matrix):\n",
        "\n",
        "    current_state = initial_state.copy()\n",
        "    t = 0\n",
        "\n",
        "    state_accum = [initial_state]\n",
        "    t_accum = [t]\n",
        "\n",
        "    while True:\n",
        "\n",
        "        # Calculate rates\n",
        "        rates = transition_rate_fn(current_state)\n",
        "        total_rate = np.sum(rates)\n",
        "\n",
        "        if total_rate == 0.0: # Break if epidemic stops\n",
        "            break\n",
        "\n",
        "        # Draw time to next event, update t\n",
        "        tstar = np.random.exponential(1.0/total_rate)\n",
        "        t += tstar\n",
        "\n",
        "        # Draw event one hot vector\n",
        "        next_event = np.random.multinomial(n=1,\n",
        "                                           pvals=rates/total_rate)\n",
        "\n",
        "        # Propagate state\n",
        "        current_state += incidence_matrix.dot(next_event)\n",
        "\n",
        "        # Append result to accumulation buffer\n",
        "        state_accum.append(current_state.copy())\n",
        "        t_accum.append(t)\n",
        "\n",
        "    # Reformat results and return\n",
        "    state_result = np.stack(state_accum, axis=0)\n",
        "    t_result = np.stack(t_accum, axis=0)\n",
        "    return dict(t=t_result, state=state_result)"
      ]
    },
    {
      "cell_type": "code",
      "execution_count": 50,
      "id": "2c070ccc-69b1-497a-bfa1-635a1e89d73f",
      "metadata": {
        "tags": [],
        "id": "2c070ccc-69b1-497a-bfa1-635a1e89d73f"
      },
      "outputs": [],
      "source": [
        "# Model specification\n",
        "incidence_matrix = np.array([[-1, 0],\n",
        "                             [1, -1],\n",
        "                             [0, 1]])\n",
        "\n",
        "# Stacked transition rates\n",
        "def transition_rates(beta, gamma, phi):\n",
        "    \"\"\"Returns a _closure_ over beta, gamma, phi\"\"\"\n",
        "    def fn(state):\n",
        "        # Enumerate states\n",
        "        si_rate = beta * np.power(state[1], phi) * state[0] / np.sum(state)\n",
        "        ir_rate = gamma * state[1]\n",
        "\n",
        "        return np.stack([si_rate, ir_rate], axis=0)\n",
        "\n",
        "    return fn\n",
        "\n",
        "initial_state = [999, 1, 0]"
      ]
    },
    {
      "cell_type": "code",
      "execution_count": 51,
      "id": "37bcbab7-6720-4575-93f6-ffb2651180bd",
      "metadata": {
        "tags": [],
        "id": "37bcbab7-6720-4575-93f6-ffb2651180bd",
        "outputId": "3c7487c7-a13b-40ec-8918-d310fead4dcc",
        "colab": {
          "base_uri": "https://localhost:8080/",
          "height": 449
        }
      },
      "outputs": [
        {
          "output_type": "display_data",
          "data": {
            "text/plain": [
              "<Figure size 640x480 with 1 Axes>"
            ],
            "image/png": "[encoded data removed]"
          },
          "metadata": {}
        }
      ],
      "source": [
        "# Run the simulation\n",
        "np.random.seed(12)\n",
        "epi = cont_time_simulation(transition_rate_fn=transition_rates(0.4, 0.14, 0.8),\n",
        "                           initial_state=initial_state,\n",
        "                           incidence_matrix=incidence_matrix)\n",
        "\n",
        "plt.plot(epi['t'], epi['state'][:, 0], label='S')\n",
        "plt.plot(epi['t'], epi['state'][:, 1], label='I')\n",
        "plt.plot(epi['t'], epi['state'][:, 2], label='R')\n",
        "plt.legend()\n",
        "plt.xlabel(\"Time\")\n",
        "_ = plt.ylabel(\"Individuals\")"
      ]
    },
    {
      "cell_type": "markdown",
      "id": "f3fa4502-48e7-4dac-b0cf-1e4652228329",
      "metadata": {
        "tags": [],
        "id": "f3fa4502-48e7-4dac-b0cf-1e4652228329"
      },
      "source": [
        "## Broadening to more than one population stratum\n",
        "\n",
        "Suppose for our SIR, we have two neighbouring regions, coupled by a proximity matrix\n",
        "\n",
        "$$\n",
        "A = \\begin{pmatrix} 0 & 1 \\\\\n",
        "                      1 & 0 \\\\\n",
        "      \\end{pmatrix}\n",
        "$$\n",
        "\n",
        "such that\n",
        "\n",
        "$$\n",
        "\\mathbf{\\lambda}^{SI}_i(t, X_t) = \\frac{\\beta S_{it} (I_{it} + \\alpha A \\cdot I_t)}{N}\n",
        "$$\n",
        "\n",
        "where $\\alpha$ represents the force of infection across neighbouring regions.\n",
        "\n",
        "* Use __batching__..."
      ]
    },
    {
      "cell_type": "code",
      "execution_count": 52,
      "id": "ffc7e07b-7f39-4d19-bf9d-fb971281271c",
      "metadata": {
        "tags": [],
        "id": "ffc7e07b-7f39-4d19-bf9d-fb971281271c",
        "outputId": "657b95f6-f544-4490-e8b5-9540bbbf8098",
        "colab": {
          "base_uri": "https://localhost:8080/"
        }
      },
      "outputs": [
        {
          "output_type": "execute_result",
          "data": {
            "text/plain": [
              "array([[0.15984, 0.04   ],\n",
              "       [0.14   , 0.     ]])"
            ]
          },
          "metadata": {},
          "execution_count": 52
        }
      ],
      "source": [
        "A = np.array([[0, 1],\n",
        "              [1, 0]])\n",
        "\n",
        "initial_state = np.array([[999, 500],\n",
        "                          [1, 0],\n",
        "                          [0, 0]])\n",
        "\n",
        "incidence_matrix = np.array([[-1, 0],\n",
        "                             [1, -1],\n",
        "                             [0, 1]])\n",
        "\n",
        "def transition_rates(alpha, beta, gamma, A):\n",
        "    \"\"\"Returns a _closure_ over beta, gamma, phi\"\"\"\n",
        "    def fn(state):\n",
        "        # Enumerate states\n",
        "        within_region =  beta * state[1]  # length 2\n",
        "        between_region = alpha * A.dot(state[1]) # length 2\n",
        "        si_rate = beta * state[0] * (within_region + between_region) / np.sum(state, axis=0)\n",
        "        ir_rate = gamma * state[1] # length 2\n",
        "\n",
        "        return np.stack([si_rate, ir_rate], axis=0) # shape [num_transitions, num_regions]\n",
        "\n",
        "    return fn\n",
        "\n",
        "# Test rate function\n",
        "rate_fn = transition_rates(0.1, 0.4, 0.14, A)\n",
        "rate_fn(initial_state)"
      ]
    },
    {
      "cell_type": "code",
      "execution_count": 53,
      "id": "dcbe9e1a-e0da-4b99-95d3-0564628b0b9f",
      "metadata": {
        "tags": [],
        "id": "dcbe9e1a-e0da-4b99-95d3-0564628b0b9f"
      },
      "outputs": [],
      "source": [
        "def cont_time_simulation(transition_rate_fn, initial_state, incidence_matrix):\n",
        "\n",
        "    current_state = initial_state.copy()\n",
        "    t = 0\n",
        "\n",
        "    state_accum = [initial_state]\n",
        "    t_accum = [t]\n",
        "\n",
        "    while True:\n",
        "\n",
        "        # Calculate rates\n",
        "        rates = transition_rate_fn(current_state) # [num_rates, num_populations]\n",
        "        total_rate = np.sum(rates)\n",
        "\n",
        "        if total_rate == 0.0: # Break if epidemic stops\n",
        "            break\n",
        "\n",
        "        # Draw time to next event, update t\n",
        "        tstar = np.random.exponential(1.0/total_rate)\n",
        "        t += tstar\n",
        "\n",
        "        # Draw event one hot vector over flattened rates\n",
        "        next_event = np.random.multinomial(n=1,\n",
        "                                           pvals=rates.flatten()/total_rate)\n",
        "        next_event = next_event.reshape(rates.shape)  # [num_rates, num_populations]\n",
        "\n",
        "        # Propagate state - einsum batches B \\dot y over populations\n",
        "        incr = np.einsum(\"sr,r...->s...\",\n",
        "                         incidence_matrix,\n",
        "                         next_event)\n",
        "        current_state += incr\n",
        "\n",
        "        # Append result to accumulation buffer\n",
        "        state_accum.append(current_state.copy())\n",
        "        t_accum.append(t)\n",
        "\n",
        "    # Concatenate results and return\n",
        "    state_result = np.stack(state_accum, axis=0)\n",
        "    t_result = np.stack(t_accum, axis=0)\n",
        "    return dict(t=t_result, state=state_result)"
      ]
    },
    {
      "cell_type": "code",
      "execution_count": 56,
      "id": "2e09758a-dca7-48bb-be32-b2800027c7dc",
      "metadata": {
        "tags": [],
        "id": "2e09758a-dca7-48bb-be32-b2800027c7dc",
        "outputId": "89c1459f-8c2e-4ce9-8f48-c5ab540833e0",
        "colab": {
          "base_uri": "https://localhost:8080/",
          "height": 449
        }
      },
      "outputs": [
        {
          "output_type": "display_data",
          "data": {
            "text/plain": [
              "<Figure size 640x480 with 1 Axes>"
            ],
            "image/png": "[encoded data removed]"
          },
          "metadata": {}
        }
      ],
      "source": [
        "rate_fn = transition_rates(0.1, 0.5, 0.14, A)\n",
        "np.random.seed(123)\n",
        "epi = cont_time_simulation(transition_rate_fn=rate_fn,\n",
        "                           initial_state=initial_state,\n",
        "                           incidence_matrix=incidence_matrix)\n",
        "\n",
        "plt.plot(epi['t'], epi['state'][:, 0], label='S')\n",
        "plt.plot(epi['t'], epi['state'][:, 1], label='I')\n",
        "plt.plot(epi['t'], epi['state'][:, 2], label='R')\n",
        "plt.legend()\n",
        "plt.xlabel(\"Time\")\n",
        "_ = plt.ylabel(\"Individuals\")"
      ]
    },
    {
      "cell_type": "markdown",
      "id": "1f3132e4-128d-4394-a08a-6daa040645e9",
      "metadata": {
        "tags": [],
        "id": "1f3132e4-128d-4394-a08a-6daa040645e9"
      },
      "source": [
        "## Conclusions\n",
        "\n",
        "We have:\n",
        "\n",
        "* separated the concerns of: _transition rates_, _STM specification_, and _simulation_\n",
        "* put control of _model specification_ into the hands of the user\n",
        "* kept _algorithm_ code in the library\n",
        "* improved testability\n",
        "* concise, readable code\n",
        "\n",
        "Potentially we could:\n",
        "\n",
        "* provide other simulation algorithms (e.g. discrete)\n",
        "* keep model _specification_ constant\n"
      ]
    }
  ],
  "metadata": {
    "kernelspec": {
      "display_name": "Python 3 (ipykernel)",
      "language": "python",
      "name": "python3"
    },
    "language_info": {
      "codemirror_mode": {
        "name": "ipython",
        "version": 3
      },
      "file_extension": ".py",
      "mimetype": "text/x-python",
      "name": "python",
      "nbconvert_exporter": "python",
      "pygments_lexer": "ipython3",
      "version": "3.8.12"
    },
    "colab": {
      "provenance": []
    }
  },
  "nbformat": 4,
  "nbformat_minor": 5
}