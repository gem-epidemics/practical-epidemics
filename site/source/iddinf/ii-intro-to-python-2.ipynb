{
  "nbformat": 4,
  "nbformat_minor": 0,
  "metadata": {
    "colab": {
      "provenance": [],
      "toc_visible": true
    },
    "kernelspec": {
      "name": "python3",
      "display_name": "Python 3"
    },
    "language_info": {
      "name": "python"
    }
  },
  "cells": [
    {
      "cell_type": "markdown",
      "source": [
        "# ii. Introduction to Python II\n",
        "\n",
        "[![Open In Colab](https://colab.research.google.com/assets/colab-badge.svg)](https://colab.research.google.com/github/gem-epidemics/practical-epidemics/blob/master/site/source/iddinf/ii-intro-to-python-2.ipynb)\n",
        "\n",
        "**Date**: Monday Sept 9, 2024\n"
      ],
      "metadata": {
        "id": "h0jpv2j4Stap"
      }
    },
    {
      "cell_type": "markdown",
      "source": [
        "## LEARNING OUTCOMES\n",
        "\n",
        "* Be familiar with key Python libraries\n",
        "* Be able to read data and plot epidemic curves"
      ],
      "metadata": {
        "id": "3BRl_xlDU5sn"
      }
    },
    {
      "cell_type": "markdown",
      "source": [
        "## Key packages\n",
        "\n",
        "In this section we will demonstrate some key Python packages such as NumPy and pandas.\n",
        "\n",
        "NumPy is a fundamental numerical computing library in Python, and Pandas is used for data manipulation and analysis. The two work well together and allow us to work with dataframes and arrays with relative ease."
      ],
      "metadata": {
        "id": "ykdFEhkTiZvw"
      }
    },
    {
      "cell_type": "markdown",
      "source": [
        "### Numpy\n",
        "\n",
        "The convention is to `import numpy as np` - this creates a shorthand for accessing numpy operations."
      ],
      "metadata": {
        "id": "mi_3l0sWpl3o"
      }
    },
    {
      "cell_type": "code",
      "source": [
        "import numpy as np"
      ],
      "metadata": {
        "id": "w2ag1fDZpoSb"
      },
      "execution_count": null,
      "outputs": []
    },
    {
      "cell_type": "markdown",
      "source": [
        "Arrays are frequently used in numpy as a structure for storing and retrieving data. These can be n-dimensional.\n",
        "\n",
        "\n",
        "\n",
        "\n",
        "\n"
      ],
      "metadata": {
        "id": "9l7LEI0wAiIX"
      }
    },
    {
      "cell_type": "code",
      "source": [
        "# We can define an array using a list:\n",
        "infection_times = np.array([1.5, 3.2, 9.0, 4.0, 4.3])\n",
        "\n",
        "# We can then access an element of the array\n",
        "# remember in Python structures are zero indexed\n",
        "print(infection_times[0])"
      ],
      "metadata": {
        "colab": {
          "base_uri": "https://localhost:8080/"
        },
        "id": "QUmmYbanAtWh",
        "outputId": "c08498b2-2244-4230-cb65-faae2ec35f16"
      },
      "execution_count": null,
      "outputs": [
        {
          "output_type": "stream",
          "name": "stdout",
          "text": [
            "1.5\n"
          ]
        }
      ]
    },
    {
      "cell_type": "code",
      "source": [
        "# Let's define a 3-D array\n",
        "connectivity_matrix = np.array([[0, 1.5, 0.25],\n",
        "                                [1.5, 0, 0.5],\n",
        "                                [0.25, 0.5, 0]])\n",
        "\n",
        "# We can access elements and rows/columns in the same way\n",
        "print(connectivity_matrix[0,2])"
      ],
      "metadata": {
        "colab": {
          "base_uri": "https://localhost:8080/"
        },
        "id": "Rt-wzgBNEgH7",
        "outputId": "f6d8d0ee-b8cd-4e0b-da71-ade5a2f7767c"
      },
      "execution_count": null,
      "outputs": [
        {
          "output_type": "stream",
          "name": "stdout",
          "text": [
            "0.25\n"
          ]
        }
      ]
    },
    {
      "cell_type": "markdown",
      "source": [
        "### Exercises\n",
        "\n",
        "1. Print infection_times from the third element.\n",
        "\n",
        "2. Slice the 3-D array to print the first row only\n",
        "\n",
        "3. Define an integer called scale, and multiply with the connectivity_matrix\n",
        "\n",
        "4. Create an array of length x using `np.arange()` and use the reshape operator to creae matrices of differen dimensions."
      ],
      "metadata": {
        "id": "7kF-Mij2Dm89"
      }
    },
    {
      "cell_type": "code",
      "source": [],
      "metadata": {
        "id": "Y8ZjYVtOGpjc"
      },
      "execution_count": null,
      "outputs": []
    },
    {
      "cell_type": "markdown",
      "source": [
        "### Solutions\n"
      ],
      "metadata": {
        "id": "uPynKWHUFggq"
      }
    },
    {
      "cell_type": "code",
      "source": [
        "# 1. Print infection_times from the third element.\n",
        "print('solution 1: ', infection_times[2:])\n",
        "\n",
        "# 2. Slice the 3-D array to print the first row only\n",
        "print('solution 2: ', connectivity_matrix[0,:])\n",
        "\n",
        "# 3. Define a float called scale. Print the outport of scale multiplied with the connectivity_matrix\n",
        "scale = 1.5\n",
        "print('solution 3: \\n',  scale * connectivity_matrix)\n",
        "\n",
        "# 4. Create an array of length x using `np.arange()` and use the reshape operator to creae matrices of differen dimensions.\n",
        "arr = np.arange(18).reshape(6,3)\n",
        "print('solution 4: \\n',  arr)"
      ],
      "metadata": {
        "colab": {
          "base_uri": "https://localhost:8080/"
        },
        "id": "0gP8MTn_D3Bx",
        "outputId": "43e8179d-d601-4eec-922e-1471ec9858f6"
      },
      "execution_count": null,
      "outputs": [
        {
          "output_type": "stream",
          "name": "stdout",
          "text": [
            "solution 1:  [9.  4.  4.3]\n",
            "solution 2:  [0.   1.5  0.25]\n",
            "solution 3: \n",
            " [[0.    2.25  0.375]\n",
            " [2.25  0.    0.75 ]\n",
            " [0.375 0.75  0.   ]]\n",
            "solution 4: \n",
            " [[ 0  1  2]\n",
            " [ 3  4  5]\n",
            " [ 6  7  8]\n",
            " [ 9 10 11]\n",
            " [12 13 14]\n",
            " [15 16 17]]\n"
          ]
        }
      ]
    },
    {
      "cell_type": "markdown",
      "source": [
        "### Pandas\n",
        "\n",
        "Convention dictates we import pandas as pd. Although you could choose a different alias or none at all if you prefer."
      ],
      "metadata": {
        "id": "zVW9Oa2pp0p-"
      }
    },
    {
      "cell_type": "code",
      "source": [
        "import pandas as pd\n",
        "\n",
        "# Defining a dataframe with two columns\n",
        "cases = pd.DataFrame(({'total_cases': [3500, 2000, 15000, 1500, 42000],\n",
        "                        'location': ['Norwich', 'Birmingham', 'Exeter', 'Leicester', 'Liverpool']}))\n",
        "\n",
        "print(cases)"
      ],
      "metadata": {
        "id": "CLhuttjaH8sR",
        "colab": {
          "base_uri": "https://localhost:8080/"
        },
        "outputId": "613115db-7541-48c5-fb3c-a0484fcc1364"
      },
      "execution_count": null,
      "outputs": [
        {
          "output_type": "stream",
          "name": "stdout",
          "text": [
            "   total_cases    location\n",
            "0         3500     Norwich\n",
            "1         2000  Birmingham\n",
            "2        15000      Exeter\n",
            "3         1500   Leicester\n",
            "4        42000   Liverpool\n"
          ]
        }
      ]
    },
    {
      "cell_type": "code",
      "source": [
        "# We can check the shape of the dataframe - how many rows and columns it has\n",
        "print(cases.shape)"
      ],
      "metadata": {
        "colab": {
          "base_uri": "https://localhost:8080/"
        },
        "id": "GVQwfMOuKFlN",
        "outputId": "cb121357-043e-43cf-a7be-8c519c2e36fa"
      },
      "execution_count": null,
      "outputs": [
        {
          "output_type": "stream",
          "name": "stdout",
          "text": [
            "(5, 2)\n"
          ]
        }
      ]
    },
    {
      "cell_type": "code",
      "source": [
        "# We can access the columns by name\n",
        "print(cases['location'])"
      ],
      "metadata": {
        "colab": {
          "base_uri": "https://localhost:8080/"
        },
        "id": "J1RMa5vXp2S7",
        "outputId": "4c99e963-1b7d-4689-d743-506401f06b51"
      },
      "execution_count": null,
      "outputs": [
        {
          "output_type": "stream",
          "name": "stdout",
          "text": [
            "0       Norwich\n",
            "1    Birmingham\n",
            "2        Exeter\n",
            "3     Leicester\n",
            "4     Liverpool\n",
            "Name: location, dtype: object\n"
          ]
        }
      ]
    },
    {
      "cell_type": "code",
      "source": [
        "# Alternatively we can use .iloc to refer to the index location\n",
        "print(cases.iloc[:,1])"
      ],
      "metadata": {
        "colab": {
          "base_uri": "https://localhost:8080/"
        },
        "id": "qu7L8hmjNlry",
        "outputId": "9b877b91-8c84-4b55-cedd-4d3ee0b64895"
      },
      "execution_count": null,
      "outputs": [
        {
          "output_type": "stream",
          "name": "stdout",
          "text": [
            "0       Norwich\n",
            "1    Birmingham\n",
            "2        Exeter\n",
            "3     Leicester\n",
            "4     Liverpool\n",
            "Name: location, dtype: object\n"
          ]
        }
      ]
    },
    {
      "cell_type": "code",
      "source": [
        "# We can create a new column in our dataframe called alert. Here we set all values to a boolean False.\n",
        "cases['alert'] = False\n",
        "print(cases)"
      ],
      "metadata": {
        "colab": {
          "base_uri": "https://localhost:8080/"
        },
        "id": "Yuhb2hibrwNl",
        "outputId": "b4f8ef7d-5ab5-4b2e-aab4-3d81a90ad116"
      },
      "execution_count": null,
      "outputs": [
        {
          "output_type": "stream",
          "name": "stdout",
          "text": [
            "   total_cases    location  alert\n",
            "0         3500     Norwich  False\n",
            "1         2000  Birmingham  False\n",
            "2        15000      Exeter  False\n",
            "3         1500   Leicester  False\n",
            "4        42000   Liverpool  False\n"
          ]
        }
      ]
    },
    {
      "cell_type": "code",
      "source": [
        "# We can define a conditional for the values of alert to be based on the case count\n",
        "# in each location\n",
        "\n",
        "cases['alert'] = cases['total_cases'] >50\n",
        "print(cases)"
      ],
      "metadata": {
        "id": "zmNFlv30p3cA",
        "colab": {
          "base_uri": "https://localhost:8080/"
        },
        "outputId": "e0a1f413-e1c1-44db-a929-1d2fb025976b"
      },
      "execution_count": null,
      "outputs": [
        {
          "output_type": "stream",
          "name": "stdout",
          "text": [
            "   total_cases    location  alert\n",
            "0         3500     Norwich   True\n",
            "1         2000  Birmingham   True\n",
            "2        15000      Exeter   True\n",
            "3         1500   Leicester   True\n",
            "4        42000   Liverpool   True\n"
          ]
        }
      ]
    },
    {
      "cell_type": "markdown",
      "source": [
        "### Exercises\n",
        "1. Create a new dataframe with two columns. A location column which matches that of `cases['location']`, and a population size column.\n",
        "\n",
        "2. Merge your new dataframe with `cases` on the column location. You could use `pd.merge`.\n",
        "\n",
        "3. Create a new column in your combined data frame which defines proportion of cases to population size. Round this column to 3 decimal places."
      ],
      "metadata": {
        "id": "8hTysYPfU4UP"
      }
    },
    {
      "cell_type": "markdown",
      "source": [
        "### Solutions"
      ],
      "metadata": {
        "id": "WWn97kZKVlZc"
      }
    },
    {
      "cell_type": "code",
      "source": [
        "# 1. Create a new dataframe with two columns. A location column which matches that of `cases['location']`, and a population size column.\n",
        "pops = pd.DataFrame(({'location': ['Norwich', 'Birmingham', 'Exeter', 'Leicester', 'Liverpool'],\n",
        "                          'pop_size': [143900, 1.146e6, 129307, 1357394, 496784]}))\n",
        "print('solution 1: \\n',pops)\n",
        "# 2. Merge your new dataframe with `cases` on the column location.\n",
        "cases_pop = pd.merge(cases, pops, on = 'location')\n",
        "print('solution 2: \\n', cases_pop)\n",
        "\n",
        "# 3. Create a new column in your combined data frame which defines proportion of cases to population size.\n",
        "cases_pop['prop_cases_to_pop'] = (cases_pop['total_cases']/cases_pop['pop_size']).round(3)\n",
        "print('solution 3: \\n', cases_pop)"
      ],
      "metadata": {
        "colab": {
          "base_uri": "https://localhost:8080/"
        },
        "id": "eLPUWKjPVrNV",
        "outputId": "3b32385a-317a-45b5-f79f-baf355dc4f9c"
      },
      "execution_count": null,
      "outputs": [
        {
          "output_type": "stream",
          "name": "stdout",
          "text": [
            "solution 1: \n",
            "      location   pop_size\n",
            "0     Norwich   143900.0\n",
            "1  Birmingham  1146000.0\n",
            "2      Exeter   129307.0\n",
            "3   Leicester  1357394.0\n",
            "4   Liverpool   496784.0\n",
            "solution 2: \n",
            "    total_cases    location  alert   pop_size\n",
            "0         3500     Norwich   True   143900.0\n",
            "1         2000  Birmingham   True  1146000.0\n",
            "2        15000      Exeter   True   129307.0\n",
            "3         1500   Leicester   True  1357394.0\n",
            "4        42000   Liverpool   True   496784.0\n",
            "solution 3: \n",
            "    total_cases    location  alert   pop_size  prop_cases_to_pop\n",
            "0         3500     Norwich   True   143900.0              0.024\n",
            "1         2000  Birmingham   True  1146000.0              0.002\n",
            "2        15000      Exeter   True   129307.0              0.116\n",
            "3         1500   Leicester   True  1357394.0              0.001\n",
            "4        42000   Liverpool   True   496784.0              0.085\n"
          ]
        }
      ]
    },
    {
      "cell_type": "markdown",
      "source": [
        "### Reading and writing data\n",
        "Pandas is also commonly used for reading and writing data. More Pandas methods can be found here: https://pandas.pydata.org/docs/reference/general_functions.html#"
      ],
      "metadata": {
        "id": "ncHoWznFOWdw"
      }
    },
    {
      "cell_type": "code",
      "source": [
        "# Let's import an outbreak dataset from a github repo.\n"
      ],
      "metadata": {
        "id": "inKkHUMxZk_S"
      },
      "execution_count": null,
      "outputs": []
    },
    {
      "cell_type": "markdown",
      "source": [
        "## Plotting\n",
        "\n",
        "There are two main plotting libraries in Python - `Matplotlib` and `Seaborn`. In this section we will focus on Matplotlib.\n"
      ],
      "metadata": {
        "id": "yMLi7VLPO5R8"
      }
    },
    {
      "cell_type": "markdown",
      "source": [
        "* Import epidemic linelist\n",
        "* Plot\n",
        "* Subplots\n"
      ],
      "metadata": {
        "id": "fdJWk0MbRB9i"
      }
    },
    {
      "cell_type": "code",
      "source": [],
      "metadata": {
        "id": "kxFP1fFtuv9-"
      },
      "execution_count": null,
      "outputs": []
    }
  ]
}