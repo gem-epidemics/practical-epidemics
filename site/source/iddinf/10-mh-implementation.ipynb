{
  "cells": [
    {
      "cell_type": "markdown",
      "metadata": {
        "id": "SSKyQUPeg-DK"
      },
      "source": [
        "# Implementing a Metropolis-Hastings algorithm from scratch\n",
        "\n",
        "[![Open In Colab](https://colab.research.google.com/assets/colab-badge.svg)](https://colab.research.google.com/github/gem-epidemics/practical-epidemics/blob/master/site/source/iddinf/10-mh-implementation.ipynb)\n",
        "\n",
        "**Date**: Wednesday Sept 11, 2024"
      ]
    },
    {
      "cell_type": "markdown",
      "metadata": {
        "id": "6hq8G3fEoqmJ"
      },
      "source": [
        "## LEARNING OUTCOMES\n",
        "\n",
        "*   Understand how the Metropolis-Hastings sampling algorithm works\n",
        "*   Be confident coding a Metropolis-Hastings algorithm from scratch for parameter inference on a simple epidemic model\n"
      ]
    },
    {
      "cell_type": "markdown",
      "metadata": {
        "id": "-PKyjLYJoxIQ"
      },
      "source": [
        "## Theory"
      ]
    },
    {
      "cell_type": "markdown",
      "metadata": {
        "id": "t3P0MIp-hcWK"
      },
      "source": [
        "The Metropolis-Hastings (MH) algorithm is one of the most commonly used MCMC methods. It's a rejection sampling algorithm used to generate samples from distributions that are otherwise difficult to sample from directly.\n",
        "\n",
        "Parameter estimation via the MH algorithm works by firstly drawing an initial parameter value from a prior distribution. We then propose a new parameter value by drawing from a chosen proposal distribution. We now calculate the posterior (log likelihood and log prior) for both parameter values, and calculate the accpetance probability as defined below. These values are stored as part of the MCMC chain. We now have an updated parameter value and can propose a new parameter value until we have run our MCMC for the number of samples specified.\n",
        "\n",
        "\n",
        "The algorithm is as follows:"
      ]
    },
    {
      "cell_type": "markdown",
      "metadata": {
        "id": "G83cS9bbiYka"
      },
      "source": [
        "**Algorithm:** Metropolis-Hastings algorithm for sampling from a target distribution $\\pi(\\cdot)$ and proposal distribution $q(\\cdot)$.\n",
        "\n",
        "\n",
        "**Input:**  $q(\\cdot)$ proposal distribution, $\\pi(\\cdot)$ a target distribution\n",
        "\n",
        "**Initialise:** $\\theta^{(0)}$,  $i=0$, $n$ number of iterations\n",
        "\n",
        "**While** $i \\le n - 1$  **do**\n",
        "\n",
        ">>Propose $\\theta^* \\sim q(\\cdot | \\theta^{(i)})$\n",
        "\n",
        ">>Compute $\\alpha(\\theta^{(i)}, \\theta^*) = 1  \\wedge \\frac{\\pi(\\theta^*)q(\\theta^{(i)} | \\theta^*)}{\\pi(\\theta^{(i)})q(\\theta^{*} | \\theta^{(i)})}$  # acceptance probability\n",
        "  \n",
        ">>**if** $Uniform(0,1) < \\alpha(\\theta^{(i)}, \\theta^*)$ **then**\n",
        "\n",
        ">>$\\theta^{(i+1)} = \\theta^*$\n",
        "\n",
        ">>**else** $\\theta^{(i+1)} = \\theta^{(i)}$\n",
        "\n",
        "  >>**end**\n",
        "  \n",
        ">>$i ← i + 1$\n",
        "\n",
        ">**end**  \n"
      ]
    },
    {
      "cell_type": "markdown",
      "metadata": {
        "id": "eOLJy4dBhyh9"
      },
      "source": [
        "**Symmetric proposals**\n",
        "\n",
        "If the specified proposal distribtuion is symmetric the acceptance ratio simplifies.\n",
        "\n",
        " Symmetric proposal distributions are those which satisfy $q(\\theta^{(i)} | \\theta^*) = q(\\theta^{*} | \\theta^{(i)})$. Gaussian and uniform distributions centered on the current state are examples of symmetric proposals.\n",
        "\n",
        "In the symmetric case, the 'q ratio' is cancelled as $\\frac{q(\\theta^{(i)} | \\theta^*)}{q(\\theta^{*} | \\theta^{(i)})} = 1.$\n",
        "\n",
        "The acceptance probability is therefore simplified to $\\alpha(\\theta^{(i)}, \\theta^*) = 1 \\wedge \\frac{\\pi(\\theta^*)}{\\pi(\\theta^(i)}$.\n",
        "  \n",
        "  "
      ]
    },
    {
      "cell_type": "markdown",
      "metadata": {
        "id": "a_lP765KoIa1"
      },
      "source": [
        "## Implementation\n",
        "Firstly, load the packages we need. We'll be using the DiscreteTimeStateTransitionModel from gemlib to simulate our epidemic."
      ]
    },
    {
      "cell_type": "code",
      "execution_count": null,
      "metadata": {
        "id": "Gak9HkBZkMm-"
      },
      "outputs": [],
      "source": [
        "from warnings import warn\n",
        "\n",
        "try:\n",
        "    import google.colab\n",
        "    !pip install gemlib\n",
        "except:\n",
        "    warn(\"Not running in Colab, make sure `gemlib` is installed locally\")"
      ]
    },
    {
      "cell_type": "code",
      "execution_count": null,
      "metadata": {
        "id": "2R0Pc5uzg7uS"
      },
      "outputs": [],
      "source": [
        "import matplotlib.pyplot as plt\n",
        "import numpy as np\n",
        "from typing import NamedTuple\n",
        "\n",
        "import tensorflow as tf\n",
        "import tensorflow_probability as tfp\n",
        "\n",
        "import gemlib\n",
        "from gemlib.distributions import DiscreteTimeStateTransitionModel\n",
        "\n",
        "import numpy as np\n",
        "\n",
        "tfd = tfp.distributions\n",
        "\n",
        "%matplotlib inline\n",
        "\n",
        "DTYPE=np.float32"
      ]
    },
    {
      "cell_type": "markdown",
      "metadata": {
        "id": "Rymd4CKVjRxr"
      },
      "source": [
        "### Specify Bayesian model\n",
        "\n",
        "Specify a simple homoegeneous mixing SIR epidemic model using `JointDistributionCoroutine`. We are interested in estimating the infectious rate $\\beta$, and therefore need to specify a prior distribution."
      ]
    },
    {
      "cell_type": "code",
      "execution_count": null,
      "metadata": {
        "id": "vXrR5GiajU6-"
      },
      "outputs": [],
      "source": [
        "@tfd.JointDistributionCoroutine\n",
        "def model():\n",
        "\n",
        "  # Prior\n",
        "  beta = yield tfd.Gamma(\n",
        "      concentration=DTYPE(0.5), rate=DTYPE(10.0), name=\"beta\",\n",
        "  )\n",
        "\n",
        "  # Epidemic model\n",
        "  incidence_matrix = np.array(\n",
        "    [ #  SI  IR\n",
        "        [-1,  0],  # S\n",
        "        [ 1, -1],  # I\n",
        "        [ 0,  1], # R\n",
        "    ],\n",
        "    dtype=DTYPE\n",
        "  )\n",
        "\n",
        "  popsize = 1000\n",
        "\n",
        "  initial_state = np.array([[999, 1, 0]]).astype(DTYPE)\n",
        "\n",
        "  def transition_rates(t, state):\n",
        "    epsilon = DTYPE(1e-9)\n",
        "    gamma = DTYPE(0.1)\n",
        "\n",
        "    si_rate = beta * state[:, 1] + epsilon\n",
        "\n",
        "    ir_rate = tf.fill((state.shape[0],), gamma)\n",
        "\n",
        "\n",
        "    return si_rate, ir_rate\n",
        "\n",
        "  sir =  yield DiscreteTimeStateTransitionModel(transition_rate_fn=transition_rates,\n",
        "                                      incidence_matrix=incidence_matrix,\n",
        "                                      initial_state=initial_state,\n",
        "                                      initial_step=0,\n",
        "                                      time_delta=1.0,\n",
        "                                      num_steps=100,\n",
        "                                      name =\"sir\")"
      ]
    },
    {
      "cell_type": "markdown",
      "metadata": {
        "id": "uYVPivlOmrD3"
      },
      "source": [
        "Run a simulation from the prior distribution."
      ]
    },
    {
      "cell_type": "code",
      "execution_count": null,
      "metadata": {
        "id": "CsNUSPrPkCmD"
      },
      "outputs": [],
      "source": [
        "beta_val, sim_vals = model.sample(seed=[0,1])"
      ]
    },
    {
      "cell_type": "markdown",
      "metadata": {
        "id": "ZcIujDnJmF-B"
      },
      "source": [
        "Condition the model on having some epidemic output, in this case simulation data (sim_vals)."
      ]
    },
    {
      "cell_type": "code",
      "execution_count": null,
      "metadata": {
        "id": "tBZdtO4ljWY0"
      },
      "outputs": [],
      "source": [
        "conditioned_model = model.experimental_pin(sir=sim_vals)"
      ]
    },
    {
      "cell_type": "markdown",
      "metadata": {
        "id": "z7Tr6oZpnlHi"
      },
      "source": [
        "###Exercise 1: Set up the Metropolis Hastings algorithm\n",
        "\n",
        "Fristly, define an acceptance probability function called *mh_accept*, which takes the proposed_log_prob, the current_log_prob, and the log_q_ratio, and returns a boolean.\n",
        "\n",
        "For a guided example, copy the code blocks below into a cell and fill in the missing parts. A full solution is available below.\n",
        "\n",
        "\n",
        "\n",
        "```\n",
        "def mh_accept(proposed_log_prob, current_log_prob, log_q_ratio):\n",
        "  \"\"\"Decides whether to accept or reject a MH move\"\"\"\n",
        "\n",
        "  acceptance_prob =  # compute the acceptance probability\n",
        "  u = tfd.Bernoulli(probs=acceptance_prob, dtype=tf.bool).sample()\n",
        "\n",
        "  return u\n",
        "```\n"
      ]
    },
    {
      "cell_type": "markdown",
      "metadata": {
        "id": "lth_6CTY05pl"
      },
      "source": [
        "Next, define the target_log_prob_fn which takes the new parameter value and returns the log prob.\n",
        "\n",
        "```\n",
        "def target_log_prob_fn(beta_val):\n",
        "    return  # add a return statement\n",
        "```\n",
        "\n"
      ]
    },
    {
      "cell_type": "markdown",
      "metadata": {
        "id": "3KacVE7AdzMX"
      },
      "source": [
        "Now define the body of the metropolis hastings algorithm which take a target log prob function,\n",
        "the proposal distribution scale, an initial state and number of samples. It should return the samples and whether or not a sample has been accepted.\n",
        "\n",
        "As we are using a asymmetric proposal distribution (LogNormal) we need to calculate the q ratio.\n",
        "\n",
        "\n",
        "```\n",
        "def mh_algo(\n",
        "    target_log_prob_fn,\n",
        "    proposal_distribution_scale,\n",
        "    init_state,\n",
        "    num_samples,\n",
        "):\n",
        "\n",
        "    samples = []\n",
        "    accept = []\n",
        "\n",
        "    #set current state and compute log prob\n",
        "    current_state = init_state\n",
        "    current_log_prob = target_log_prob_fn(current_state)\n",
        "\n",
        "    for i in range(num_samples):\n",
        "\n",
        "      # Compute current likelihood\n",
        "      current_log_prob =\n",
        "\n",
        "      # Draw proposed state\n",
        "      proposed_state = tfp.distributions.LogNormal(loc=tf.math.log(current_state),\n",
        "                                                  scale = proposal_distribution_scale\n",
        "                                                  ).sample()\n",
        "\n",
        "      # Compute proposed log likelihood\n",
        "      proposed_log_prob =\n",
        "\n",
        "      # Calculate acceptance probabiliy and update parameter and posterior value\n",
        "      log_q_fwd = tfp.distributions.LogNormal(\n",
        "          loc=tf.math.log(current_state),\n",
        "          scale=proposal_distribution_scale\n",
        "      ).log_prob(proposed_state)\n",
        "\n",
        "      log_q_rev = # calculate the reverse\n",
        "\n",
        "      log_q_ratio = log_q_rev - log_q_fwd\n",
        "\n",
        "      is_accepted = mh_accept(\n",
        "          proposed_log_prob,\n",
        "          current_log_prob,\n",
        "          log_q_ratio\n",
        "      )\n",
        "      if is_accepted:\n",
        "        current_state = proposed_state\n",
        "\n",
        "      samples.append(current_state)\n",
        "      accept.append(is_accepted)\n",
        "\n",
        "    return # add a return statement\n",
        "```\n",
        "\n"
      ]
    },
    {
      "cell_type": "markdown",
      "metadata": {
        "id": "fDMpQBo5kQxu"
      },
      "source": [
        "Now let's run the algorithm.\n",
        "\n",
        "\n",
        "\n",
        "```\n",
        "num_samples = 50\n",
        "\n",
        "samples, accept = mh_algo(target_log_prob_fn=target_log_prob_fn,\n",
        "    proposal_distribution_scale=0.75,\n",
        "    init_state=0.005,\n",
        "    num_samples=num_samples)\n",
        "```\n",
        "\n"
      ]
    },
    {
      "cell_type": "markdown",
      "metadata": {
        "id": "8jpLNvugjLo7"
      },
      "source": [
        "### Solution"
      ]
    },
    {
      "cell_type": "code",
      "execution_count": null,
      "metadata": {
        "cellView": "form",
        "id": "T5NhvYQ4n62t"
      },
      "outputs": [],
      "source": [
        "# @title\n",
        "def mh_accept(proposed_log_prob, current_log_prob, log_q_ratio):\n",
        "  \"\"\"Decides whether to accept or reject a MH move\"\"\"\n",
        "  acceptance_prob = proposed_log_prob - current_log_prob + log_q_ratio\n",
        "  u = tfd.Bernoulli(probs=acceptance_prob, dtype=tf.bool).sample()\n",
        "\n",
        "  return u"
      ]
    },
    {
      "cell_type": "code",
      "execution_count": null,
      "metadata": {
        "cellView": "form",
        "id": "l2FIW47euzLU"
      },
      "outputs": [],
      "source": [
        "# @title\n",
        "def target_log_prob_fn(beta_val):\n",
        "    return conditioned_model.log_prob(beta=beta_val)"
      ]
    },
    {
      "cell_type": "code",
      "execution_count": null,
      "metadata": {
        "cellView": "form",
        "id": "RFE8oyT-g9Pq"
      },
      "outputs": [],
      "source": [
        "# @title\n",
        "def mh_algo(\n",
        "    target_log_prob_fn,\n",
        "    proposal_distribution_scale,\n",
        "    init_state,\n",
        "    num_samples,\n",
        "):\n",
        "\n",
        "    samples = []\n",
        "    accept = []\n",
        "\n",
        "    #set current state and compute log prob\n",
        "    current_state = init_state\n",
        "    current_log_prob = target_log_prob_fn(current_state)\n",
        "\n",
        "    for i in range(num_samples):\n",
        "\n",
        "      # Compute current likelihood\n",
        "      current_log_prob = target_log_prob_fn(current_state)\n",
        "\n",
        "      # Draw proposed state\n",
        "      proposed_state = tfp.distributions.LogNormal(loc=tf.math.log(current_state),\n",
        "                                                  scale = proposal_distribution_scale\n",
        "                                                  ).sample()\n",
        "\n",
        "      # Compute proposed log likelihood\n",
        "      proposed_log_prob = target_log_prob_fn(proposed_state)\n",
        "\n",
        "      # Calculate acceptance probabiliy and update parameter and posterior value\n",
        "      log_q_fwd = tfp.distributions.LogNormal(\n",
        "          loc=tf.math.log(current_state),\n",
        "          scale=proposal_distribution_scale\n",
        "      ).log_prob(proposed_state)\n",
        "\n",
        "      log_q_rev = tfp.distributions.LogNormal(\n",
        "          loc=tf.math.log(proposed_state),\n",
        "          scale=proposal_distribution_scale,\n",
        "      ).log_prob(current_state)\n",
        "\n",
        "      log_q_ratio = log_q_rev - log_q_fwd\n",
        "\n",
        "      is_accepted = mh_accept(\n",
        "          proposed_log_prob,\n",
        "          current_log_prob,\n",
        "          log_q_ratio\n",
        "      )\n",
        "      if is_accepted:\n",
        "        current_state = proposed_state\n",
        "\n",
        "      samples.append(current_state)\n",
        "      accept.append(is_accepted)\n",
        "\n",
        "    return np.stack(samples, axis=0), np.stack(accept, axis=0)"
      ]
    },
    {
      "cell_type": "code",
      "execution_count": null,
      "metadata": {
        "cellView": "form",
        "id": "i2-8ONNxhExq"
      },
      "outputs": [],
      "source": [
        "# @title\n",
        "num_samples = 50\n",
        "\n",
        "samples, accept = mh_algo(target_log_prob_fn=target_log_prob_fn,\n",
        "    proposal_distribution_scale=0.75,\n",
        "    init_state=0.005,\n",
        "    num_samples=num_samples)"
      ]
    },
    {
      "cell_type": "markdown",
      "metadata": {
        "id": "UB1ZXpZcQ6YS"
      },
      "source": [
        "## Exercise 2\n",
        "\n",
        "1. Produce a traceplot for beta\n",
        "\n",
        "2. Calculate the acceptance ratio\n",
        "\n",
        "3. Change the prior and proposal distribution scale to see how this impacts your model (check the traceplot and acceptance ratio)\n"
      ]
    },
    {
      "cell_type": "markdown",
      "metadata": {
        "id": "UPQV96e-UUEt"
      },
      "source": [
        "### Solutions"
      ]
    },
    {
      "cell_type": "code",
      "execution_count": null,
      "metadata": {
        "cellView": "form",
        "colab": {
          "base_uri": "https://localhost:8080/",
          "height": 410
        },
        "collapsed": true,
        "id": "UHCyFaoYinoB",
        "outputId": "b638f287-7016-4b19-b830-29ec901eb71e"
      },
      "outputs": [
        {
          "data": {
            "image/png": "[encoded data removed]",
            "text/plain": [
              "<Figure size 1200x400 with 1 Axes>"
            ]
          },
          "metadata": {},
          "output_type": "display_data"
        }
      ],
      "source": [
        "# @title\n",
        "# Solution 1:\n",
        "def trace_plot(samples):\n",
        "    fig, ax = plt.subplots(1, 1, figsize=(12, 4))\n",
        "\n",
        "    # trace plots for parameters\n",
        "    ax.plot(samples, linewidth=1, alpha=0.3)\n",
        "\n",
        "    # subtitles\n",
        "    ax.set_title('Trace plot of beta')\n",
        "    # axis limits\n",
        "    # ax[0].set_ylim(0., 0.4)\n",
        "    ax.set_ylim(0., 0.2)\n",
        "\n",
        "    # true value lines\n",
        "    ax.hlines(xmin=0, xmax=samples.shape[0], y=beta_val, color=\"red\")\n",
        "\n",
        "    # plot level axis labels\n",
        "    plt.xlabel('Iteration', fontweight=\"bold\")\n",
        "    fig.text(0.04, 0.5, 'Parameter Value', va='center', rotation='vertical', fontweight=\"bold\")\n",
        "\n",
        "\n",
        "trace_plot(samples)"
      ]
    },
    {
      "cell_type": "code",
      "execution_count": null,
      "metadata": {
        "cellView": "form",
        "colab": {
          "base_uri": "https://localhost:8080/"
        },
        "id": "ipgsx7Hrl4WT",
        "outputId": "3abbebeb-ba21-4cf5-d8be-7fe8089711de"
      },
      "outputs": [
        {
          "name": "stdout",
          "output_type": "stream",
          "text": [
            "0.18\n"
          ]
        }
      ],
      "source": [
        "# @title\n",
        "# Solution 2:\n",
        "acceptance_ratio = np.sum(accept)/num_samples\n",
        "print(acceptance_ratio)"
      ]
    },
    {
      "cell_type": "markdown",
      "metadata": {
        "id": "KjV3VA6NSIGQ"
      },
      "source": [
        "## Advanced exercise:\n",
        "Extend this Metropolis-Hastings algorithm to a Metropolis-within-Gibbs which updates beta and an additional parameter such as gamma.\n",
        "\n",
        "You'll have to add a prior to gamma, and think about adding a one_step function for the body of the metropolis hastings.\n",
        "\n"
      ]
    }
  ],
  "metadata": {
    "colab": {
      "collapsed_sections": [
        "8jpLNvugjLo7",
        "UPQV96e-UUEt"
      ],
      "provenance": []
    },
    "kernelspec": {
      "display_name": "Python 3",
      "name": "python3"
    },
    "language_info": {
      "name": "python"
    }
  },
  "nbformat": 4,
  "nbformat_minor": 0
}
