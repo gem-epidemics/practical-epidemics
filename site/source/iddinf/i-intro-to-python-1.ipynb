{
  "nbformat": 4,
  "nbformat_minor": 0,
  "metadata": {
    "colab": {
      "provenance": [],
      "collapsed_sections": [
        "b2hN0HK4F1Ub",
        "7qPsfd0NFuCS",
        "9qgA6CbpHrNc",
        "SdEOg3c8NyZx",
        "ZqSGf9C0OE3Z"
      ]
    },
    "kernelspec": {
      "name": "python3",
      "display_name": "Python 3"
    },
    "language_info": {
      "name": "python"
    }
  },
  "cells": [
    {
      "cell_type": "markdown",
      "source": [
        "# i. Introduction to Python 1\n",
        "\n",
        "[![Open In Colab](https://colab.research.google.com/assets/colab-badge.svg)](https://colab.research.google.com/github/gem-epidemics/practical-epidemics/blob/master/site/source/iddinf/i-intro-to-python-1.ipynb)\n",
        "\n",
        "**Date**: Monday Sept 9, 2024\n",
        "\n",
        "In this session we cover the Python syntax and commands that you will need throughout the course. Since a large proportion of people will have previously coded in R, we make an effort to relate and contrast Python and R.\n",
        "\n",
        "## LEARNING OUTCOMES\n",
        "- Understand and work with key data structures and functions\n",
        "- Perform basic mathematical operations using scientific computing libraries"
      ],
      "metadata": {
        "id": "Sh_lcGpc51aw"
      }
    },
    {
      "cell_type": "markdown",
      "source": [
        "## Imports\n",
        "\n",
        "Similar to how packages must be loaded into R, Python packages must be imported into the environment we are working within. This is done with the `import` function. Additionally, packages are typically given aliases as we have to call functions within the package by preempting the function with the package name.\n",
        "\n",
        "The imports must be done on every script"
      ],
      "metadata": {
        "id": "KtUDj5YE6KIU"
      }
    },
    {
      "cell_type": "code",
      "execution_count": null,
      "metadata": {
        "id": "iVHZ65rYIcdg"
      },
      "outputs": [],
      "source": [
        "# imports\n",
        "import numpy as np\n",
        "import pandas as pd\n",
        "import matplotlib.pyplot as plt\n",
        "import seaborn as sns\n",
        "import string\n",
        "import math"
      ]
    },
    {
      "cell_type": "code",
      "source": [
        "# set colour scheme for plots\n",
        "sns.set(palette = \"Dark2\")"
      ],
      "metadata": {
        "id": "4TKizJVMYmSH"
      },
      "execution_count": null,
      "outputs": []
    },
    {
      "cell_type": "markdown",
      "source": [
        "We can use a cell Python as a calculator."
      ],
      "metadata": {
        "id": "YnqBXVbj-6cV"
      }
    },
    {
      "cell_type": "code",
      "source": [
        "3+4"
      ],
      "metadata": {
        "colab": {
          "base_uri": "https://localhost:8080/"
        },
        "id": "5vV-oD4q_Avh",
        "outputId": "aea13935-7121-484d-8924-f1d400e50a5c"
      },
      "execution_count": null,
      "outputs": [
        {
          "output_type": "execute_result",
          "data": {
            "text/plain": [
              "7"
            ]
          },
          "metadata": {},
          "execution_count": 5
        }
      ]
    },
    {
      "cell_type": "code",
      "source": [
        "3*4"
      ],
      "metadata": {
        "colab": {
          "base_uri": "https://localhost:8080/"
        },
        "id": "DHamfazLAPJz",
        "outputId": "1ebd08a1-edbe-4ad3-ce04-84c42be22335"
      },
      "execution_count": null,
      "outputs": [
        {
          "output_type": "execute_result",
          "data": {
            "text/plain": [
              "12"
            ]
          },
          "metadata": {},
          "execution_count": 6
        }
      ]
    },
    {
      "cell_type": "code",
      "source": [
        "3**4"
      ],
      "metadata": {
        "colab": {
          "base_uri": "https://localhost:8080/"
        },
        "id": "rzhwISScAP27",
        "outputId": "b1f7fd2e-19bd-4fb7-f8ae-8fd8573e19d4"
      },
      "execution_count": null,
      "outputs": [
        {
          "output_type": "execute_result",
          "data": {
            "text/plain": [
              "81"
            ]
          },
          "metadata": {},
          "execution_count": 7
        }
      ]
    },
    {
      "cell_type": "code",
      "source": [
        "3/4"
      ],
      "metadata": {
        "colab": {
          "base_uri": "https://localhost:8080/"
        },
        "id": "WukKqtgiATeQ",
        "outputId": "1dcd3070-9ca8-48cd-cc4e-d834b0337716"
      },
      "execution_count": null,
      "outputs": [
        {
          "output_type": "execute_result",
          "data": {
            "text/plain": [
              "0.75"
            ]
          },
          "metadata": {},
          "execution_count": 8
        }
      ]
    },
    {
      "cell_type": "markdown",
      "source": [
        "## Python data structures\n",
        "\n",
        "This section introduces the base data structures available to us in Python. We beging with scalars and lists before moving into more complex structures such as nested lists, dictionaries and finishing off with (named) tuples.\n"
      ],
      "metadata": {
        "id": "EFU_pEFtbC9y"
      }
    },
    {
      "cell_type": "markdown",
      "source": [
        "\n",
        "### Atoms"
      ],
      "metadata": {
        "id": "yypEY8A94QQy"
      }
    },
    {
      "cell_type": "code",
      "source": [
        "# scalar values stored in memory\n",
        "x = 1                           # a number\n",
        "y = 'one'                       # a string"
      ],
      "metadata": {
        "id": "puXCt261afgu"
      },
      "execution_count": null,
      "outputs": []
    },
    {
      "cell_type": "code",
      "source": [
        "# use built-in function print\n",
        "print(x)"
      ],
      "metadata": {
        "colab": {
          "base_uri": "https://localhost:8080/"
        },
        "id": "1-f6PvEobC4z",
        "outputId": "794f3754-5b14-4a83-fb49-275a768d87fa"
      },
      "execution_count": null,
      "outputs": [
        {
          "output_type": "stream",
          "name": "stdout",
          "text": [
            "1\n"
          ]
        }
      ]
    },
    {
      "cell_type": "code",
      "source": [
        "type(x)"
      ],
      "metadata": {
        "colab": {
          "base_uri": "https://localhost:8080/"
        },
        "id": "Pi58ZC7Z4iQf",
        "outputId": "1536e2a9-b834-4af9-c15b-870a72e58ec9"
      },
      "execution_count": null,
      "outputs": [
        {
          "output_type": "execute_result",
          "data": {
            "text/plain": [
              "int"
            ]
          },
          "metadata": {},
          "execution_count": 11
        }
      ]
    },
    {
      "cell_type": "code",
      "source": [
        "type(y)"
      ],
      "metadata": {
        "colab": {
          "base_uri": "https://localhost:8080/"
        },
        "id": "glQijZxs4jGm",
        "outputId": "e3ed5685-508a-49b6-ecbd-0f43614bc230"
      },
      "execution_count": null,
      "outputs": [
        {
          "output_type": "execute_result",
          "data": {
            "text/plain": [
              "str"
            ]
          },
          "metadata": {},
          "execution_count": 12
        }
      ]
    },
    {
      "cell_type": "markdown",
      "source": [
        "A few rules:\n",
        "\n",
        "1. names can include letters, numbers, and underscores\n",
        "2. *cannot* start with a digit\n",
        "3. Python *is* case senstive"
      ],
      "metadata": {
        "id": "YUqiWlQR_M_h"
      }
    },
    {
      "cell_type": "markdown",
      "source": [
        "### Exercise 1\n",
        "\n",
        "Check your understanding of the following lines of code by tracing through them and writin what you expect the output to be in a comment on the same line"
      ],
      "metadata": {
        "id": "yyqcltofAXGg"
      }
    },
    {
      "cell_type": "code",
      "source": [
        "x = 12\n",
        "y = 6\n",
        "\n",
        "# Trace me :)\n",
        "x / 2               # Out:\n",
        "x / y               # Out:\n",
        "x*2 - y             # Out:\n",
        "sum_x_y = x + y     # Out:\n",
        "sum_x_y             # Out:"
      ],
      "metadata": {
        "colab": {
          "base_uri": "https://localhost:8080/"
        },
        "id": "ZvjGM8RQAiGf",
        "outputId": "46901bc3-a38d-49d9-d83b-c344804da648"
      },
      "execution_count": null,
      "outputs": [
        {
          "output_type": "execute_result",
          "data": {
            "text/plain": [
              "18"
            ]
          },
          "metadata": {},
          "execution_count": 13
        }
      ]
    },
    {
      "cell_type": "markdown",
      "source": [
        "### Solution"
      ],
      "metadata": {
        "id": "b2hN0HK4F1Ub"
      }
    },
    {
      "cell_type": "code",
      "source": [
        "# Trace me :) - Solution\n",
        "print(x / 2)\n",
        "print(x / y)\n",
        "print(x*2 - y)\n",
        "\n",
        "print(sum_x_y)"
      ],
      "metadata": {
        "colab": {
          "base_uri": "https://localhost:8080/"
        },
        "collapsed": true,
        "id": "QAfAkdXgBEjO",
        "outputId": "2814e102-6a54-41a5-f4e5-b328d8587cba"
      },
      "execution_count": null,
      "outputs": [
        {
          "output_type": "stream",
          "name": "stdout",
          "text": [
            "6.0\n",
            "2.0\n",
            "18\n",
            "18\n"
          ]
        }
      ]
    },
    {
      "cell_type": "markdown",
      "source": [
        "### Tuples\n",
        "\n",
        "Tuples are a collection of atoms that are immutable (i.e. the elements in the tuple cannot be added or removed once created). Items within a list can be accessed by using the index of the item. A important thing to note is that Python is a zero-indexed langauge so the first entry is at index 0."
      ],
      "metadata": {
        "id": "YPtgVubDiPTt"
      }
    },
    {
      "cell_type": "code",
      "source": [
        "z = (x, y)                      # a tuple - round brackets"
      ],
      "metadata": {
        "id": "ogPvT2J24S_d"
      },
      "execution_count": null,
      "outputs": []
    },
    {
      "cell_type": "code",
      "source": [
        "z[0]"
      ],
      "metadata": {
        "colab": {
          "base_uri": "https://localhost:8080/"
        },
        "id": "rQNMH9NJbqtj",
        "outputId": "7d875ead-7335-4422-ab4d-0a8979537668"
      },
      "execution_count": null,
      "outputs": [
        {
          "output_type": "execute_result",
          "data": {
            "text/plain": [
              "12"
            ]
          },
          "metadata": {},
          "execution_count": 16
        }
      ]
    },
    {
      "cell_type": "code",
      "source": [
        "z[1]"
      ],
      "metadata": {
        "colab": {
          "base_uri": "https://localhost:8080/"
        },
        "id": "luQ9sjcpbtqf",
        "outputId": "57cfa4e8-20ae-4621-ea5d-f7d27696a08d"
      },
      "execution_count": null,
      "outputs": [
        {
          "output_type": "execute_result",
          "data": {
            "text/plain": [
              "6"
            ]
          },
          "metadata": {},
          "execution_count": 17
        }
      ]
    },
    {
      "cell_type": "code",
      "source": [
        "# negative indexing\n",
        "z[-1]"
      ],
      "metadata": {
        "colab": {
          "base_uri": "https://localhost:8080/"
        },
        "id": "pNZXLSjsikZG",
        "outputId": "4158ef2c-d738-4c64-8599-c1d1c403837d"
      },
      "execution_count": null,
      "outputs": [
        {
          "output_type": "execute_result",
          "data": {
            "text/plain": [
              "6"
            ]
          },
          "metadata": {},
          "execution_count": 18
        }
      ]
    },
    {
      "cell_type": "code",
      "source": [
        "z = (x,y,x+y)"
      ],
      "metadata": {
        "id": "wcMoJU8GDPCS"
      },
      "execution_count": null,
      "outputs": []
    },
    {
      "cell_type": "code",
      "source": [
        "# tuple slicing - left close right open\n",
        "z[0:2]"
      ],
      "metadata": {
        "colab": {
          "base_uri": "https://localhost:8080/"
        },
        "id": "xPxiKbE2DTBB",
        "outputId": "2d7a5ed3-de09-4b8d-c890-3520f5d2592d"
      },
      "execution_count": null,
      "outputs": [
        {
          "output_type": "execute_result",
          "data": {
            "text/plain": [
              "(12, 6)"
            ]
          },
          "metadata": {},
          "execution_count": 20
        }
      ]
    },
    {
      "cell_type": "code",
      "source": [
        "z[1:3]"
      ],
      "metadata": {
        "colab": {
          "base_uri": "https://localhost:8080/"
        },
        "id": "694jougtDYvF",
        "outputId": "f44b3ae7-079b-4a3f-f854-46ce64c7e569"
      },
      "execution_count": null,
      "outputs": [
        {
          "output_type": "execute_result",
          "data": {
            "text/plain": [
              "(6, 18)"
            ]
          },
          "metadata": {},
          "execution_count": 21
        }
      ]
    },
    {
      "cell_type": "code",
      "source": [
        "z[0:-2], z[0:-1], z[0:],"
      ],
      "metadata": {
        "colab": {
          "base_uri": "https://localhost:8080/"
        },
        "id": "A5xdld5lDaTW",
        "outputId": "db6abfff-3024-482e-ff83-2e0224b13aba"
      },
      "execution_count": null,
      "outputs": [
        {
          "output_type": "execute_result",
          "data": {
            "text/plain": [
              "((12,), (12, 6), (12, 6, 18))"
            ]
          },
          "metadata": {},
          "execution_count": 22
        }
      ]
    },
    {
      "cell_type": "markdown",
      "source": [
        "### Exercise 2\n",
        "\n",
        "Given the list below, do the following:\n",
        "\n",
        "1. What is the 13th letter in the alphabet?\n",
        "2. What are the 7th to 11th letters of the alphabet?\n",
        "3. What is the middle letter of the alphabet?\n",
        "4. Spell dog using elements of the list\n",
        "\n",
        "\n",
        "**NOTE** Python is 0-indexed"
      ],
      "metadata": {
        "id": "4NtyCo4vBkVQ"
      }
    },
    {
      "cell_type": "code",
      "source": [
        "# tuple of all lowercase letters in the English alphabet\n",
        "alphabet = tuple(string.ascii_lowercase) # tuple constructor\n",
        "\n",
        "print(alphabet)"
      ],
      "metadata": {
        "colab": {
          "base_uri": "https://localhost:8080/"
        },
        "id": "fOLdpzclBjQ_",
        "outputId": "b410b27f-d7ed-4e1e-e3b4-b4545407c08e"
      },
      "execution_count": null,
      "outputs": [
        {
          "output_type": "stream",
          "name": "stdout",
          "text": [
            "('a', 'b', 'c', 'd', 'e', 'f', 'g', 'h', 'i', 'j', 'k', 'l', 'm', 'n', 'o', 'p', 'q', 'r', 's', 't', 'u', 'v', 'w', 'x', 'y', 'z')\n"
          ]
        }
      ]
    },
    {
      "cell_type": "code",
      "source": [
        "# 1. 13th letter\n"
      ],
      "metadata": {
        "id": "JGaw5g7ED2fY"
      },
      "execution_count": null,
      "outputs": []
    },
    {
      "cell_type": "code",
      "source": [
        "# 2. 7th to 11th\n"
      ],
      "metadata": {
        "id": "ajHLm9-oEXC4"
      },
      "execution_count": null,
      "outputs": []
    },
    {
      "cell_type": "code",
      "source": [
        "# 3. middle letter\n"
      ],
      "metadata": {
        "id": "oeNYDdo4Ed3G"
      },
      "execution_count": null,
      "outputs": []
    },
    {
      "cell_type": "code",
      "source": [
        "# 4. dog\n"
      ],
      "metadata": {
        "id": "ROSzt-H6EyA_"
      },
      "execution_count": null,
      "outputs": []
    },
    {
      "cell_type": "markdown",
      "source": [
        "### Solution"
      ],
      "metadata": {
        "id": "7qPsfd0NFuCS"
      }
    },
    {
      "cell_type": "code",
      "source": [
        "# Solution\n",
        "print(alphabet[12])"
      ],
      "metadata": {
        "id": "Ppr8Q6xgFdhd",
        "colab": {
          "base_uri": "https://localhost:8080/"
        },
        "outputId": "e953d0cd-15f7-4cbe-9a39-92c94d5b5e23"
      },
      "execution_count": null,
      "outputs": [
        {
          "output_type": "stream",
          "name": "stdout",
          "text": [
            "m\n"
          ]
        }
      ]
    },
    {
      "cell_type": "code",
      "source": [
        "# Solution\n",
        "print(alphabet[7:11+1])"
      ],
      "metadata": {
        "id": "gvkvshxLFgvi",
        "colab": {
          "base_uri": "https://localhost:8080/"
        },
        "outputId": "57cf7e12-db30-4145-80a1-e958b333bfac"
      },
      "execution_count": null,
      "outputs": [
        {
          "output_type": "stream",
          "name": "stdout",
          "text": [
            "('h', 'i', 'j', 'k', 'l')\n"
          ]
        }
      ]
    },
    {
      "cell_type": "code",
      "source": [
        "# Solution\n",
        "num_letters = len(alphabet)\n",
        "print(num_letters)\n",
        "print(alphabet[int(num_letters/2)])"
      ],
      "metadata": {
        "id": "LyuTIcDuFjYs",
        "colab": {
          "base_uri": "https://localhost:8080/"
        },
        "outputId": "a0e01f33-391f-4d0b-dfa5-b5df6be3dad0"
      },
      "execution_count": null,
      "outputs": [
        {
          "output_type": "stream",
          "name": "stdout",
          "text": [
            "26\n",
            "n\n"
          ]
        }
      ]
    },
    {
      "cell_type": "code",
      "source": [
        "# Solution\n",
        "print(alphabet[3], alphabet[14], alphabet[6])"
      ],
      "metadata": {
        "id": "6NkFScWPFl-B",
        "colab": {
          "base_uri": "https://localhost:8080/"
        },
        "outputId": "dd63ccce-ffa4-4e46-f893-ca3791fe821d"
      },
      "execution_count": null,
      "outputs": [
        {
          "output_type": "stream",
          "name": "stdout",
          "text": [
            "d o g\n"
          ]
        }
      ]
    },
    {
      "cell_type": "markdown",
      "source": [
        "\n",
        "### Lists\n",
        "Lists are flexible structures since items can be of any type (eg. int, float, string, list, etc). Unlike tuples, lists *are* mutable so we can add or remove items from them."
      ],
      "metadata": {
        "id": "LKntrmh_dpIg"
      }
    },
    {
      "cell_type": "code",
      "source": [
        "z = [x,y]                       # a list - square brackets"
      ],
      "metadata": {
        "id": "SYW_eK9IibTo"
      },
      "execution_count": null,
      "outputs": []
    },
    {
      "cell_type": "code",
      "source": [
        "z"
      ],
      "metadata": {
        "colab": {
          "base_uri": "https://localhost:8080/"
        },
        "id": "ua0NfwKT5ElJ",
        "outputId": "aaa7cd69-7c65-492a-e226-89c3e9877637"
      },
      "execution_count": null,
      "outputs": [
        {
          "output_type": "execute_result",
          "data": {
            "text/plain": [
              "[12, 6]"
            ]
          },
          "metadata": {},
          "execution_count": 33
        }
      ]
    },
    {
      "cell_type": "code",
      "source": [
        "# indexing works the same way!\n",
        "z[0]"
      ],
      "metadata": {
        "colab": {
          "base_uri": "https://localhost:8080/"
        },
        "id": "1g23szbjifWu",
        "outputId": "7daa9251-7a81-4cb9-f573-566c432e904b"
      },
      "execution_count": null,
      "outputs": [
        {
          "output_type": "execute_result",
          "data": {
            "text/plain": [
              "12"
            ]
          },
          "metadata": {},
          "execution_count": 34
        }
      ]
    },
    {
      "cell_type": "code",
      "source": [
        "# negative indexing\n",
        "z[-1]"
      ],
      "metadata": {
        "colab": {
          "base_uri": "https://localhost:8080/"
        },
        "id": "sH5C4zPQihJI",
        "outputId": "27f1d10b-1c6b-4b75-8592-e960b2e92b7c"
      },
      "execution_count": null,
      "outputs": [
        {
          "output_type": "execute_result",
          "data": {
            "text/plain": [
              "6"
            ]
          },
          "metadata": {},
          "execution_count": 35
        }
      ]
    },
    {
      "cell_type": "code",
      "source": [
        "# since they are mutable we can change values\n",
        "z[-1] = 'a'\n",
        "z"
      ],
      "metadata": {
        "colab": {
          "base_uri": "https://localhost:8080/"
        },
        "id": "Cs-peS69FVU6",
        "outputId": "6da50d9c-16e1-4222-abcd-9235cbe4a3e3"
      },
      "execution_count": null,
      "outputs": [
        {
          "output_type": "execute_result",
          "data": {
            "text/plain": [
              "[12, 'a']"
            ]
          },
          "metadata": {},
          "execution_count": 36
        }
      ]
    },
    {
      "cell_type": "markdown",
      "source": [
        "### Exercise 3\n",
        "\n",
        "Someone made a typo when spelling 'dog'. Fix the following lists to the correct spelling."
      ],
      "metadata": {
        "id": "vcrYHvH-Hax3"
      }
    },
    {
      "cell_type": "code",
      "source": [
        "dog_1 = ['d', 'o', 'h']"
      ],
      "metadata": {
        "id": "AXt5Yp4xFbNE"
      },
      "execution_count": null,
      "outputs": []
    },
    {
      "cell_type": "code",
      "source": [
        "# correct spelling\n"
      ],
      "metadata": {
        "id": "sVZAJBawHouv"
      },
      "execution_count": null,
      "outputs": []
    },
    {
      "cell_type": "code",
      "source": [
        "dog_2 = ['d', 'g', 'o']"
      ],
      "metadata": {
        "id": "jMNga07WH4RV"
      },
      "execution_count": null,
      "outputs": []
    },
    {
      "cell_type": "code",
      "source": [
        "# correct spelling"
      ],
      "metadata": {
        "id": "OLduVb-NH7mv"
      },
      "execution_count": null,
      "outputs": []
    },
    {
      "cell_type": "markdown",
      "source": [
        "### Solution"
      ],
      "metadata": {
        "id": "9qgA6CbpHrNc"
      }
    },
    {
      "cell_type": "code",
      "source": [
        "# correct spelling - Solution\n",
        "dog_1[-1] = 'g'\n",
        "print(dog_1)"
      ],
      "metadata": {
        "colab": {
          "base_uri": "https://localhost:8080/"
        },
        "id": "R53FlJJ2HsXO",
        "outputId": "be1ce393-5fd1-484c-972d-26c759247266"
      },
      "execution_count": null,
      "outputs": [
        {
          "output_type": "stream",
          "name": "stdout",
          "text": [
            "['d', 'o', 'g']\n"
          ]
        }
      ]
    },
    {
      "cell_type": "code",
      "source": [
        "# correct spelling - Solution\n",
        "dog_2 = [dog_2[0], dog_2[2], dog_2[1]]\n",
        "print(dog_2)"
      ],
      "metadata": {
        "colab": {
          "base_uri": "https://localhost:8080/"
        },
        "id": "9HYs0ouSIAIm",
        "outputId": "8f0d1421-c164-40da-ec53-811e94eea319"
      },
      "execution_count": null,
      "outputs": [
        {
          "output_type": "stream",
          "name": "stdout",
          "text": [
            "['d', 'o', 'g']\n"
          ]
        }
      ]
    },
    {
      "cell_type": "markdown",
      "source": [
        "### Dictionaries\n",
        "Dictionaries are a data structure that is used to hold key-value pairs. This is helpful as we can assign specific names to the keys that are descriptive of the value they are associated to. Dictionaries are defined within a pair \\{ \\} as shown below."
      ],
      "metadata": {
        "id": "KPo3ezvRb8Wm"
      }
    },
    {
      "cell_type": "code",
      "source": [
        "# define a dictionary\n",
        "epi_case = {'name': 'John Smith',\n",
        "            'infected_date': '2024-01-01',\n",
        "            'recovery_date': '2024-01-03',\n",
        "            'age': 42}\n",
        "\n",
        "print(epi_case)"
      ],
      "metadata": {
        "colab": {
          "base_uri": "https://localhost:8080/"
        },
        "id": "W9Z2iyT0cPyP",
        "outputId": "c12b46c5-b0d3-4d18-ffd7-dd3a48e0c65e"
      },
      "execution_count": null,
      "outputs": [
        {
          "output_type": "stream",
          "name": "stdout",
          "text": [
            "{'name': 'John Smith', 'infected_date': '2024-01-01', 'recovery_date': '2024-01-03', 'age': 42}\n"
          ]
        }
      ]
    },
    {
      "cell_type": "code",
      "source": [
        "# accessing elements of a dictionary\n",
        "\n",
        "# option 1: using the key\n",
        "epi_case['infected_date']"
      ],
      "metadata": {
        "colab": {
          "base_uri": "https://localhost:8080/",
          "height": 35
        },
        "id": "ObrgrqAUcydr",
        "outputId": "b85aca3b-1587-4d76-a651-089c36f2e1a1"
      },
      "execution_count": null,
      "outputs": [
        {
          "output_type": "execute_result",
          "data": {
            "text/plain": [
              "'2024-01-01'"
            ],
            "application/vnd.google.colaboratory.intrinsic+json": {
              "type": "string"
            }
          },
          "metadata": {},
          "execution_count": 44
        }
      ]
    },
    {
      "cell_type": "markdown",
      "source": [
        "In Python, methods are function associated with an object that allow users to interact and/or modify the data within the object. Dictionaries have several methods available which can be found in the [python documentation](https://www.w3schools.com/python/python_dictionaries.asp)."
      ],
      "metadata": {
        "id": "Hgj_Ai1ed9I2"
      }
    },
    {
      "cell_type": "code",
      "source": [
        "# option 2: using the get method\n",
        "epi_case.get('infected_date')"
      ],
      "metadata": {
        "colab": {
          "base_uri": "https://localhost:8080/",
          "height": 35
        },
        "id": "v4VxGiZQdK2O",
        "outputId": "ef7ae334-8478-4d72-f551-c52f1d7032b1"
      },
      "execution_count": null,
      "outputs": [
        {
          "output_type": "execute_result",
          "data": {
            "text/plain": [
              "'2024-01-01'"
            ],
            "application/vnd.google.colaboratory.intrinsic+json": {
              "type": "string"
            }
          },
          "metadata": {},
          "execution_count": 45
        }
      ]
    },
    {
      "cell_type": "code",
      "source": [
        "epi_case.keys()"
      ],
      "metadata": {
        "colab": {
          "base_uri": "https://localhost:8080/"
        },
        "id": "1gtjszixeZZQ",
        "outputId": "cdf34b9a-ad00-43e7-cecd-00001088c6c5"
      },
      "execution_count": null,
      "outputs": [
        {
          "output_type": "execute_result",
          "data": {
            "text/plain": [
              "dict_keys(['name', 'infected_date', 'recovery_date', 'age'])"
            ]
          },
          "metadata": {},
          "execution_count": 46
        }
      ]
    },
    {
      "cell_type": "code",
      "source": [
        "epi_case.values()"
      ],
      "metadata": {
        "colab": {
          "base_uri": "https://localhost:8080/"
        },
        "id": "ZPjc3tySebLw",
        "outputId": "fb41c986-6d9c-4d43-f382-2c1da07b6944"
      },
      "execution_count": null,
      "outputs": [
        {
          "output_type": "execute_result",
          "data": {
            "text/plain": [
              "dict_values(['John Smith', '2024-01-01', '2024-01-03', 42])"
            ]
          },
          "metadata": {},
          "execution_count": 47
        }
      ]
    },
    {
      "cell_type": "markdown",
      "source": [
        "### Combining data structures\n",
        "\n",
        "Epidemics are commonly represented as a vector of the number of units in each model state. Suppose we are working with a SIR model; for a given time $t$, the state of the population can be represented by a tuple of coutns in each of the S, I, R states (S,I,R)"
      ],
      "metadata": {
        "id": "0VixSTzv6NHH"
      }
    },
    {
      "cell_type": "code",
      "source": [
        "# state counts for an SIR model\n",
        "state0 = (9,1,0)"
      ],
      "metadata": {
        "id": "us1cCfNe6qSZ"
      },
      "execution_count": null,
      "outputs": []
    },
    {
      "cell_type": "code",
      "source": [
        "state1 = (7,2,1)"
      ],
      "metadata": {
        "id": "XjCJihMs6xDq"
      },
      "execution_count": null,
      "outputs": []
    },
    {
      "cell_type": "code",
      "source": [
        "state2 = (5,3,2)"
      ],
      "metadata": {
        "id": "akL0B0OjocVH"
      },
      "execution_count": null,
      "outputs": []
    },
    {
      "cell_type": "markdown",
      "source": [
        "We can combine these states in a few ways. The easiest is to create a list of these tuples."
      ],
      "metadata": {
        "id": "WutedFA062Qt"
      }
    },
    {
      "cell_type": "code",
      "source": [
        "state_seq = [state0]"
      ],
      "metadata": {
        "id": "6ofzzMMP60xB"
      },
      "execution_count": null,
      "outputs": []
    },
    {
      "cell_type": "code",
      "source": [
        "state_seq.append(state1)            # list method"
      ],
      "metadata": {
        "id": "R24dWtoD7Vjm"
      },
      "execution_count": null,
      "outputs": []
    },
    {
      "cell_type": "code",
      "source": [
        "state_seq"
      ],
      "metadata": {
        "colab": {
          "base_uri": "https://localhost:8080/"
        },
        "id": "gu9MWz837Mrp",
        "outputId": "6ca8c13b-6328-4296-9174-61166748a022"
      },
      "execution_count": null,
      "outputs": [
        {
          "output_type": "execute_result",
          "data": {
            "text/plain": [
              "[(9, 1, 0), (7, 2, 1)]"
            ]
          },
          "metadata": {},
          "execution_count": 53
        }
      ]
    },
    {
      "cell_type": "code",
      "source": [
        "state_seq = [state_seq,state2]      # overwrite the variable in memory"
      ],
      "metadata": {
        "id": "-ROqZWHcogp1"
      },
      "execution_count": null,
      "outputs": []
    },
    {
      "cell_type": "code",
      "source": [
        "state_seq"
      ],
      "metadata": {
        "colab": {
          "base_uri": "https://localhost:8080/"
        },
        "id": "j7JCmzc4owSF",
        "outputId": "ae77ec93-e3f3-407b-d483-25b4d0635a66"
      },
      "execution_count": null,
      "outputs": [
        {
          "output_type": "execute_result",
          "data": {
            "text/plain": [
              "[[(9, 1, 0), (7, 2, 1)], (5, 3, 2)]"
            ]
          },
          "metadata": {},
          "execution_count": 55
        }
      ]
    },
    {
      "cell_type": "code",
      "source": [
        "# unpack the list\n",
        "state_seq = [state0]\n",
        "state_seq.append(state1)\n",
        "state_seq = [*state_seq,state2]\n",
        "state_seq"
      ],
      "metadata": {
        "colab": {
          "base_uri": "https://localhost:8080/"
        },
        "id": "dYXzIDZBJN7l",
        "outputId": "6feb7693-8264-4bb6-bc0e-6d15930e8c4a"
      },
      "execution_count": null,
      "outputs": [
        {
          "output_type": "execute_result",
          "data": {
            "text/plain": [
              "[(9, 1, 0), (7, 2, 1), (5, 3, 2)]"
            ]
          },
          "metadata": {},
          "execution_count": 56
        }
      ]
    },
    {
      "cell_type": "code",
      "source": [
        "# can add lists together\n",
        "state_seq + state_seq"
      ],
      "metadata": {
        "colab": {
          "base_uri": "https://localhost:8080/"
        },
        "id": "YG7nnwMyselg",
        "outputId": "8e4bb2ef-956e-4e65-a970-004b8d8edd7d"
      },
      "execution_count": null,
      "outputs": [
        {
          "output_type": "execute_result",
          "data": {
            "text/plain": [
              "[(9, 1, 0), (7, 2, 1), (5, 3, 2), (9, 1, 0), (7, 2, 1), (5, 3, 2)]"
            ]
          },
          "metadata": {},
          "execution_count": 57
        }
      ]
    },
    {
      "cell_type": "markdown",
      "source": [
        "Combining data with dict"
      ],
      "metadata": {
        "id": "RheLMok4sORj"
      }
    },
    {
      "cell_type": "code",
      "source": [
        "# define 2 dictionary\n",
        "epi_case1 = {'name': 'John Smith',\n",
        "            'infected_date': '2024-01-01',\n",
        "            'recovery_date': '2024-01-03',\n",
        "            'age': 42}\n",
        "\n",
        "extra_data1 = {'hospitalize': True,\n",
        "               'vacinated': False,\n",
        "               'height': 175}\n",
        "\n",
        "epi_case2 = {'name': 'Jane Smith',\n",
        "            'infected_date': '2024-01-02',\n",
        "            'recovery_date': '2024-01-05',\n",
        "            'age': 42}"
      ],
      "metadata": {
        "id": "nAa90_rcsMy8"
      },
      "execution_count": null,
      "outputs": []
    },
    {
      "cell_type": "code",
      "source": [
        "# only works when there are NO overlapping keys\n",
        "john_details = {**epi_case1, **extra_data1}\n",
        "john_details"
      ],
      "metadata": {
        "colab": {
          "base_uri": "https://localhost:8080/"
        },
        "id": "nkRdv1_478up",
        "outputId": "cd50cd7a-8204-4d9f-d3e8-22244822cbd5"
      },
      "execution_count": null,
      "outputs": [
        {
          "output_type": "execute_result",
          "data": {
            "text/plain": [
              "{'name': 'John Smith',\n",
              " 'infected_date': '2024-01-01',\n",
              " 'recovery_date': '2024-01-03',\n",
              " 'age': 42,\n",
              " 'hospitalize': True,\n",
              " 'vacinated': False,\n",
              " 'height': 175}"
            ]
          },
          "metadata": {},
          "execution_count": 59
        }
      ]
    },
    {
      "cell_type": "markdown",
      "source": [
        "If we want to add the entries for each key together, we can write our own function... See Exercise 5"
      ],
      "metadata": {
        "id": "qSoKk36K8-dH"
      }
    },
    {
      "cell_type": "markdown",
      "source": [
        "## Functions\n",
        "\n",
        "Users can define functions in Python like with other languages. They are what we would call a first class object because you can assign them to variables, store them in data structures, pass them as arguments to other functions, and even return them as values from other functions."
      ],
      "metadata": {
        "id": "AxqREM2GjBS9"
      }
    },
    {
      "cell_type": "code",
      "source": [
        "def add_7(number):\n",
        "    new_number = number + 7\n",
        "    return new_number"
      ],
      "metadata": {
        "id": "9O4aujJnjRyp"
      },
      "execution_count": null,
      "outputs": []
    },
    {
      "cell_type": "code",
      "source": [
        "add_7(3)"
      ],
      "metadata": {
        "colab": {
          "base_uri": "https://localhost:8080/"
        },
        "id": "V_yXoxxJkI8n",
        "outputId": "86601c19-a9c9-4986-9e3c-05725e0c994a"
      },
      "execution_count": null,
      "outputs": [
        {
          "output_type": "execute_result",
          "data": {
            "text/plain": [
              "10"
            ]
          },
          "metadata": {},
          "execution_count": 61
        }
      ]
    },
    {
      "cell_type": "code",
      "source": [
        "def add_7(number):\n",
        "    return number + 7"
      ],
      "metadata": {
        "id": "w4YR6Bp4j3UM"
      },
      "execution_count": null,
      "outputs": []
    },
    {
      "cell_type": "code",
      "source": [
        "add_7(x)"
      ],
      "metadata": {
        "colab": {
          "base_uri": "https://localhost:8080/"
        },
        "id": "guZMWlJXkLDg",
        "outputId": "9b3c31d6-4270-4815-b22c-fb58b2dd611f"
      },
      "execution_count": null,
      "outputs": [
        {
          "output_type": "execute_result",
          "data": {
            "text/plain": [
              "19"
            ]
          },
          "metadata": {},
          "execution_count": 63
        }
      ]
    },
    {
      "cell_type": "code",
      "source": [
        "# inline functions known as lambda expressions\n",
        "inline_add_7 = lambda x: x + 7"
      ],
      "metadata": {
        "id": "ogOoguFmj7wi"
      },
      "execution_count": null,
      "outputs": []
    },
    {
      "cell_type": "code",
      "source": [
        "inline_add_7(x)"
      ],
      "metadata": {
        "colab": {
          "base_uri": "https://localhost:8080/"
        },
        "id": "N4k5fq5Zj_UJ",
        "outputId": "2da5d911-bfe0-4a9d-e9a7-828736fa3ad3"
      },
      "execution_count": null,
      "outputs": [
        {
          "output_type": "execute_result",
          "data": {
            "text/plain": [
              "19"
            ]
          },
          "metadata": {},
          "execution_count": 65
        }
      ]
    },
    {
      "cell_type": "markdown",
      "source": [
        "To illustrate how we can pass functions as arguments, lets try to implement a two step process.\n",
        "\n",
        "### Exercise 4\n",
        "Write a function which takes in a number as an argument, adds 7 to it, and multiply it by 2. Note that function can take more than one argument and each argument can be of a differnt type.\n",
        "\n",
        "In other words, code the following math formula:\n",
        "\n",
        "$$ f(x) = 2(x+7)$$"
      ],
      "metadata": {
        "id": "slHBpY2Rkfx2"
      }
    },
    {
      "cell_type": "markdown",
      "source": [
        "### Solution"
      ],
      "metadata": {
        "id": "SdEOg3c8NyZx"
      }
    },
    {
      "cell_type": "code",
      "source": [
        "# Solution 1\n",
        "def two_step_process(number):\n",
        "    step1 = number + 7\n",
        "    return 2 * step1"
      ],
      "metadata": {
        "id": "o8-OSWQpkXG8"
      },
      "execution_count": null,
      "outputs": []
    },
    {
      "cell_type": "code",
      "source": [
        "two_step_process(x)"
      ],
      "metadata": {
        "colab": {
          "base_uri": "https://localhost:8080/"
        },
        "id": "sPdqVE0blT_K",
        "outputId": "ba6311f9-5b16-41d3-b919-e14e072c507c"
      },
      "execution_count": null,
      "outputs": [
        {
          "output_type": "execute_result",
          "data": {
            "text/plain": [
              "38"
            ]
          },
          "metadata": {},
          "execution_count": 67
        }
      ]
    },
    {
      "cell_type": "code",
      "source": [
        "# Solution 2: allow step 1 to be an input to the process\n",
        "def two_step_process(step1_fn, number):\n",
        "    return 2 * step1_fn(number)"
      ],
      "metadata": {
        "id": "6kfaoXfok5Jl"
      },
      "execution_count": null,
      "outputs": []
    },
    {
      "cell_type": "code",
      "source": [
        "two_step_process(step1_fn = add_7, number = x)"
      ],
      "metadata": {
        "colab": {
          "base_uri": "https://localhost:8080/"
        },
        "id": "WyvXKuh0lQuM",
        "outputId": "1ba869ad-aee1-4cb1-be3e-5d0897345dc4"
      },
      "execution_count": null,
      "outputs": [
        {
          "output_type": "execute_result",
          "data": {
            "text/plain": [
              "38"
            ]
          },
          "metadata": {},
          "execution_count": 69
        }
      ]
    },
    {
      "cell_type": "markdown",
      "source": [
        "Equivalent to\n",
        "\n",
        "\\begin{align*}\n",
        "g(x) &= x + 7 \\\\\n",
        "h(x) &= 2x \\\\\n",
        "f(x) &= h(g(x))\n",
        "\\end{align*}"
      ],
      "metadata": {
        "id": "bRIT5HguNbmd"
      }
    },
    {
      "cell_type": "code",
      "source": [
        "# generalizing the add_7 function\n",
        "def add_n(num_to_add):\n",
        "    def fn (number):\n",
        "        return number + num_to_add\n",
        "    return fn"
      ],
      "metadata": {
        "id": "BR0FfzvLapMG"
      },
      "execution_count": null,
      "outputs": []
    },
    {
      "cell_type": "code",
      "source": [
        "add_7 = add_n(7)\n",
        "type(add_7)"
      ],
      "metadata": {
        "colab": {
          "base_uri": "https://localhost:8080/"
        },
        "id": "WzVUFpEZbF6T",
        "outputId": "1c08acc1-17b9-4230-ee71-d134a3290547"
      },
      "execution_count": null,
      "outputs": [
        {
          "output_type": "execute_result",
          "data": {
            "text/plain": [
              "function"
            ]
          },
          "metadata": {},
          "execution_count": 71
        }
      ]
    },
    {
      "cell_type": "code",
      "source": [
        "2*add_7(x)"
      ],
      "metadata": {
        "colab": {
          "base_uri": "https://localhost:8080/"
        },
        "id": "fdRIH052bOmW",
        "outputId": "b4e991e6-84a1-4eb4-a945-e3b8239cd4d9"
      },
      "execution_count": null,
      "outputs": [
        {
          "output_type": "execute_result",
          "data": {
            "text/plain": [
              "38"
            ]
          },
          "metadata": {},
          "execution_count": 72
        }
      ]
    },
    {
      "cell_type": "markdown",
      "source": [
        "## Printing with f-strings"
      ],
      "metadata": {
        "id": "xfNJRH8eiQCy"
      }
    },
    {
      "cell_type": "code",
      "source": [
        "# block on printing with f-strings\n",
        "print(f'z values are {z}')\n",
        "print(f'First z value rounded to 3 decimal places is {z[0]:.3f}')"
      ],
      "metadata": {
        "id": "rCy6v-0viWVo",
        "colab": {
          "base_uri": "https://localhost:8080/"
        },
        "outputId": "0efe12fc-4f4c-4512-985b-0d37c0b581a0"
      },
      "execution_count": null,
      "outputs": [
        {
          "output_type": "stream",
          "name": "stdout",
          "text": [
            "z values are [12, 'a']\n",
            "First z value rounded to 3 decimal places is 12.000\n"
          ]
        }
      ]
    },
    {
      "cell_type": "markdown",
      "source": [
        "Conditional statements"
      ],
      "metadata": {
        "id": "4iJQAf0QiMEI"
      }
    },
    {
      "cell_type": "code",
      "source": [
        "# block on conditional states\n",
        "x == 2, x < 1, x >= 1"
      ],
      "metadata": {
        "id": "y8ZlqR68iOeC",
        "colab": {
          "base_uri": "https://localhost:8080/"
        },
        "outputId": "cb80a8cd-9c33-4ee6-e171-bcbbce3d741b"
      },
      "execution_count": null,
      "outputs": [
        {
          "output_type": "execute_result",
          "data": {
            "text/plain": [
              "(False, False, True)"
            ]
          },
          "metadata": {},
          "execution_count": 74
        }
      ]
    },
    {
      "cell_type": "code",
      "source": [
        "# in line if statements\n",
        "print(f'z values are {z}') if x != 1/24 else print(f\"z values are not hourly values\")"
      ],
      "metadata": {
        "colab": {
          "base_uri": "https://localhost:8080/"
        },
        "id": "OAbvcgKzEb4Q",
        "outputId": "423ea75e-5947-492e-bc0a-f18daff3b5d9"
      },
      "execution_count": null,
      "outputs": [
        {
          "output_type": "stream",
          "name": "stdout",
          "text": [
            "z values are [12, 'a']\n"
          ]
        }
      ]
    },
    {
      "cell_type": "markdown",
      "source": [
        "## Iterating\n",
        "\n",
        "This section goes over different loops in python. TO DO"
      ],
      "metadata": {
        "id": "5fLkKNqlqGwx"
      }
    },
    {
      "cell_type": "code",
      "source": [
        "for ii in range(5):\n",
        "    print(f'Iteration #{ii}')"
      ],
      "metadata": {
        "colab": {
          "base_uri": "https://localhost:8080/"
        },
        "id": "abwf3aqcqMgY",
        "outputId": "c956b7d7-6d46-4a7f-a118-d23bb3685d06"
      },
      "execution_count": null,
      "outputs": [
        {
          "output_type": "stream",
          "name": "stdout",
          "text": [
            "Iteration #0\n",
            "Iteration #1\n",
            "Iteration #2\n",
            "Iteration #3\n",
            "Iteration #4\n"
          ]
        }
      ]
    },
    {
      "cell_type": "code",
      "source": [
        "ii = 0\n",
        "num_steps = 5\n",
        "\n",
        "while ii < num_steps:\n",
        "    print(f'Iteration #{ii}')\n",
        "    ii+=1"
      ],
      "metadata": {
        "colab": {
          "base_uri": "https://localhost:8080/"
        },
        "id": "vEwwAJo6qW2Y",
        "outputId": "bf7a0f1b-800f-40bb-9637-c02101ad1156"
      },
      "execution_count": null,
      "outputs": [
        {
          "output_type": "stream",
          "name": "stdout",
          "text": [
            "Iteration #0\n",
            "Iteration #1\n",
            "Iteration #2\n",
            "Iteration #3\n",
            "Iteration #4\n"
          ]
        }
      ]
    },
    {
      "cell_type": "code",
      "source": [
        "for key,values in epi_case.items():\n",
        "    print(f'Key: {key} | Value: {values}')"
      ],
      "metadata": {
        "colab": {
          "base_uri": "https://localhost:8080/"
        },
        "id": "eRIAaamjqc-t",
        "outputId": "e9943305-d140-4c92-d3fc-6af5c43ae969"
      },
      "execution_count": null,
      "outputs": [
        {
          "output_type": "stream",
          "name": "stdout",
          "text": [
            "Key: name | Value: John Smith\n",
            "Key: infected_date | Value: 2024-01-01\n",
            "Key: recovery_date | Value: 2024-01-03\n",
            "Key: age | Value: 42\n"
          ]
        }
      ]
    },
    {
      "cell_type": "markdown",
      "source": [
        "### Exercise 5\n",
        "\n",
        "Write a function to add the values of two dictionaries with the same keys."
      ],
      "metadata": {
        "id": "ckDyh0RlN1js"
      }
    },
    {
      "cell_type": "code",
      "source": [
        "def combine_dictionary_values(dict1, dict2):\n",
        "    # your code here\n",
        "    return None"
      ],
      "metadata": {
        "id": "ApeiSCclN_-6"
      },
      "execution_count": null,
      "outputs": []
    },
    {
      "cell_type": "markdown",
      "source": [
        "### Solution"
      ],
      "metadata": {
        "id": "ZqSGf9C0OE3Z"
      }
    },
    {
      "cell_type": "code",
      "source": [
        "def combine_dictionary_values(dict1, dict2):\n",
        "    merged_case = {}\n",
        "\n",
        "    for key in dict1.keys():\n",
        "        merged_case[key] = (dict1[key], dict2[key])\n",
        "    return merged_case\n",
        "\n",
        "combine_dictionary_values(epi_case1, epi_case2)"
      ],
      "metadata": {
        "colab": {
          "base_uri": "https://localhost:8080/"
        },
        "id": "rhwlVgOTOPfI",
        "outputId": "286ffbd5-e0f6-47a0-e417-7c22d820f98f"
      },
      "execution_count": null,
      "outputs": [
        {
          "output_type": "execute_result",
          "data": {
            "text/plain": [
              "{'name': ('John Smith', 'Jane Smith'),\n",
              " 'infected_date': ('2024-01-01', '2024-01-02'),\n",
              " 'recovery_date': ('2024-01-03', '2024-01-05'),\n",
              " 'age': (42, 42)}"
            ]
          },
          "metadata": {},
          "execution_count": 80
        }
      ]
    },
    {
      "cell_type": "markdown",
      "source": [
        "# Pep8 conventions\n",
        "\n",
        "PEP 8 is the style guide for Python code. It provides conventions to help maintain readability and consistency across Python codebases. Here are a few highlights..."
      ],
      "metadata": {
        "id": "5AkA4Q_ePjWI"
      }
    },
    {
      "cell_type": "markdown",
      "source": [
        "##### Indentation and max line lengths\n",
        "\n",
        "- Python code is indented with 4 spaces per indentation level\n",
        "- Each line should be at most 80 characters long for readibility.\n"
      ],
      "metadata": {
        "id": "TVmRpQ4iehzw"
      }
    },
    {
      "cell_type": "code",
      "source": [
        "# Recall this line, we can see that it goes beyond the 80 character limit ---->\n",
        "print(f'z values are {z}') if x != 1/24 else print(f\"z values are not hourly values\")"
      ],
      "metadata": {
        "id": "KojxAkL8PicC",
        "colab": {
          "base_uri": "https://localhost:8080/"
        },
        "outputId": "dd92b86d-d99a-4afd-f674-81d296e31b61"
      },
      "execution_count": null,
      "outputs": [
        {
          "output_type": "stream",
          "name": "stdout",
          "text": [
            "z values are [12, 'a']\n"
          ]
        }
      ]
    },
    {
      "cell_type": "markdown",
      "source": [
        "#### Use of blank lines\n",
        "\n",
        "- surround top-level function with two blank lines"
      ],
      "metadata": {
        "id": "LsMmds3KgarN"
      }
    },
    {
      "cell_type": "code",
      "source": [
        "def combine_dictionary_values(dict1, dict2):\n",
        "    merged_case = {}\n",
        "\n",
        "    for key in dict1.keys():\n",
        "        merged_case[key] = (dict1[key], dict2[key])\n",
        "    return merged_case\n",
        "\n",
        "\n",
        "def my_other_function():\n",
        "    return 42"
      ],
      "metadata": {
        "id": "gHjtWT_ygZ3r"
      },
      "execution_count": null,
      "outputs": []
    },
    {
      "cell_type": "markdown",
      "source": [
        "#### Imports\n",
        "\n",
        "Imports should usually be on separate lines and placed at the top of the file.\n",
        "\n",
        "Group imports in the following order:\n",
        "- Standard library imports.\n",
        "- Related third-party imports.\n",
        "- Local application/library-specific imports."
      ],
      "metadata": {
        "id": "M6n7nGmahQqB"
      }
    },
    {
      "cell_type": "code",
      "source": [
        "import numpy as np\n",
        "import pandas as pd\n",
        "import matplotlib.pyplot as plt\n",
        "\n",
        "from collections import namedtuple\n",
        "from typing import NamedTuple\n",
        "from scipy.optimize import minimize\n",
        "\n",
        "# import my_library as Alins_library"
      ],
      "metadata": {
        "id": "J875ittHhhOe"
      },
      "execution_count": null,
      "outputs": []
    },
    {
      "cell_type": "markdown",
      "source": [
        "\n",
        "#### Naming conventions\n",
        "- Function and variable names should be written in lowercase_with_underscores.\n",
        "- Class names and user defined types should use CapitalizedWords (CamelCase).\n",
        "- Constants should be written in UPPERCASE_WITH_UNDERSCORES."
      ],
      "metadata": {
        "id": "tM1PNqePh3zb"
      }
    },
    {
      "cell_type": "code",
      "source": [
        "EpiCase = namedtuple('EpiCase', ['Name', 'Infected', 'Vacinated'])"
      ],
      "metadata": {
        "id": "6P7wDQdrh3Jj"
      },
      "execution_count": null,
      "outputs": []
    },
    {
      "cell_type": "code",
      "source": [
        "EpiCase('John Doe', True, True)"
      ],
      "metadata": {
        "colab": {
          "base_uri": "https://localhost:8080/"
        },
        "id": "sS9Asgm_ioPT",
        "outputId": "e5101768-1661-422c-9953-5913c26a450a"
      },
      "execution_count": null,
      "outputs": [
        {
          "output_type": "execute_result",
          "data": {
            "text/plain": [
              "EpiCase(Name='John Doe', Infected=True, Vacinated=True)"
            ]
          },
          "metadata": {},
          "execution_count": 89
        }
      ]
    },
    {
      "cell_type": "markdown",
      "source": [
        "#### Comments\n",
        "- Use comments to explain the why, not the what\n",
        "- Block comments should generally be complete sentences.\n",
        "- Inline comments should be sparing and separated by at least two spaces from the statement.\n",
        "\n",
        "#### Docstrings\n",
        "- Use docstrings to document all functions and methods\n",
        "- docstring should describe the function’s effect as a command, e.g., \"Return the square of n.\""
      ],
      "metadata": {
        "id": "4FzBa0fYkKoQ"
      }
    },
    {
      "cell_type": "code",
      "source": [
        "# define combine dictionaries with same keys\n",
        "def combine_dictionary_values(dict1, dict2):\n",
        "    '''\n",
        "    Combine two the values of dictionaries with the same keys\n",
        "\n",
        "    Args:\n",
        "        dict1: first dictionary\n",
        "        dict2: second dictionary\n",
        "\n",
        "    Return:\n",
        "        Instance of dict() with merged values for each key\n",
        "    '''\n",
        "    merged_case = {}        # empty dictionary\n",
        "\n",
        "    for key in dict1.keys():\n",
        "        # create a list to combine the values for each key\n",
        "        merged_case[key] = (dict1[key], dict2[key])\n",
        "    return merged_case"
      ],
      "metadata": {
        "id": "ljWPwdPnkZ8z"
      },
      "execution_count": null,
      "outputs": []
    },
    {
      "cell_type": "code",
      "source": [],
      "metadata": {
        "id": "2lGNleYAlL4N"
      },
      "execution_count": null,
      "outputs": []
    }
  ]
}