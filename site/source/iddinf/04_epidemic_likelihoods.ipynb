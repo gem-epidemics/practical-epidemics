{
  "nbformat": 4,
  "nbformat_minor": 0,
  "metadata": {
    "colab": {
      "provenance": []
    },
    "kernelspec": {
      "name": "python3",
      "display_name": "Python 3"
    },
    "language_info": {
      "name": "python"
    }
  },
  "cells": [
    {
      "cell_type": "markdown",
      "source": [
        "# 4. Epidemic likelihoods 1 - theory and derivations\n",
        "\n",
        "[![Open In Colab](https://colab.research.google.com/assets/colab-badge.svg)](https://colab.research.google.com/github/gem-epidemics/practical-epidemics/blob/master/site/source/iddinf/04_epidemic_likelihoods.ipynb)\n",
        "\n",
        "**Date**: Tuesday Sept 10, 2024\n",
        "\n",
        "In this session, we expand on the previous material by looking at likelihood functions for epidemic models.\n",
        "\n",
        "## Learning outcomes\n",
        "- Mathematical specification of likelihood functions for (continuous and discrete time) epidemic models\n",
        "- Time slicing likelihood formulation\n",
        "- Iterative implemenation of evaluation\n",
        "- Maximum likelihood parameter estimation for simulated data\n"
      ],
      "metadata": {
        "id": "VT6jlACNkEW9"
      }
    },
    {
      "cell_type": "markdown",
      "source": [
        "---\n",
        "## Theory\n",
        "\n",
        "Epidemic models belong to a broader class of models called *state transition* models where units are categorized into a finite set of model states. These models aim to describe the progression of an underlying epidemic process. State transition models are used in other research areas as well such as queuing theory, clinical trails history, and reliability engineering.\n",
        "\n",
        "Epidemic processes are naturally counting processes since the main object of interest is the number of units that are in each model state. Mathematically, these types of processes are known as *Poisson processes*. We define a Poisson process over a fixed time period $[0, t_{max})$ during which we are counting the number of events that occur. There are several important properties about these processes that help with formulating the likelihood.\n",
        "\n",
        "1. **Independence** The number of events that occur in disjoint intervals of time are independent. For example, if we partition the time period into $[0, \\frac{t_{max} }{ 2 }) \\cup [\\frac{t_{max} }{ 2 }, t_{max})$, the number of events occurring in each subset is independent of the other.\n",
        "2. **Exponential wait times** The waiting time between consecutive events in a Poisson process follows an exponential distribution. This means the waiting time until the next event is memoryless, and the likelihood of an event occurring soon after the previous event is the same as if we had just started observing.\n",
        "3. **Stationarity** The probability of an event occuring in a time interval depends only on the length of the time interval. In other words, we assume that the event rate $\\lambda$ is constant over a time interval.\n",
        "\n",
        "The stationarity condition might initially seem strong, it does help distinguish between two types of Poisson processes. The first is a time *homogeneous process* where the event rate $\\lambda$ is constant over time. The second is a time *inhomogeneous process* where the event rate $λ(t)$ varies over time. We make this clear by indicating $\\lambda(t)$ a function of time (and not a constant).\n",
        "\n",
        "Epidemic models such as the SIR model are great examples of a time inhomogeneous Poisson process. The event rates often depend on the number of units in each state of the model (eg. frequency or density dependent transmission rate functions). This means that as units transition between states, the event rates will change accordingly making this an inhomogeneous process.\n"
      ],
      "metadata": {
        "id": "TQ59dNOCbG6G"
      }
    },
    {
      "cell_type": "markdown",
      "source": [
        "\n",
        "### Likelihood function of the SIR model\n",
        "Suppose we define a Susceptible-Infected-Removed model graphically as shown below."
      ],
      "metadata": {
        "id": "EGahjFH7bKUf"
      }
    },
    {
      "cell_type": "code",
      "source": [
        "# @title\n",
        "!apt update\n",
        "!apt install imagemagick\n",
        "!apt install pdf2svg\n",
        "!apt install texlive texlive-latex-extra\n",
        "!apt install amsmath\n",
        "\n",
        "!pip install git+https://github.com/mkrphys/ipython-tikzmagic.git"
      ],
      "metadata": {
        "colab": {
          "base_uri": "https://localhost:8080/"
        },
        "id": "cvzm8x-06zU_",
        "outputId": "7bfb3aee-77d6-4b06-80f7-97100ab06bb0",
        "cellView": "form"
      },
      "execution_count": null,
      "outputs": [
        {
          "output_type": "stream",
          "name": "stdout",
          "text": [
            "Get:1 http://security.ubuntu.com/ubuntu jammy-security InRelease [129 kB]\n",
            "Hit:2 http://archive.ubuntu.com/ubuntu jammy InRelease\n",
            "Get:3 http://archive.ubuntu.com/ubuntu jammy-updates InRelease [128 kB]\n",
            "Hit:4 http://archive.ubuntu.com/ubuntu jammy-backports InRelease\n",
            "Get:5 https://cloud.r-project.org/bin/linux/ubuntu jammy-cran40/ InRelease [3,626 B]\n",
            "Get:6 https://developer.download.nvidia.com/compute/cuda/repos/ubuntu2204/x86_64  InRelease [1,581 B]\n",
            "Ign:7 https://r2u.stat.illinois.edu/ubuntu jammy InRelease\n",
            "Get:8 https://r2u.stat.illinois.edu/ubuntu jammy Release [5,713 B]\n",
            "Get:9 https://r2u.stat.illinois.edu/ubuntu jammy Release.gpg [793 B]\n",
            "Get:10 https://ppa.launchpadcontent.net/deadsnakes/ppa/ubuntu jammy InRelease [18.1 kB]\n",
            "Hit:11 https://ppa.launchpadcontent.net/graphics-drivers/ppa/ubuntu jammy InRelease\n",
            "Hit:12 https://ppa.launchpadcontent.net/ubuntugis/ppa/ubuntu jammy InRelease\n",
            "Get:13 http://archive.ubuntu.com/ubuntu jammy-updates/main amd64 Packages [2,499 kB]\n",
            "Get:14 http://archive.ubuntu.com/ubuntu jammy-updates/universe amd64 Packages [1,438 kB]\n",
            "Get:15 http://security.ubuntu.com/ubuntu jammy-security/universe amd64 Packages [1,149 kB]\n",
            "Get:16 http://security.ubuntu.com/ubuntu jammy-security/main amd64 Packages [2,224 kB]\n",
            "Get:17 https://developer.download.nvidia.com/compute/cuda/repos/ubuntu2204/x86_64  Packages [976 kB]\n",
            "Get:18 https://r2u.stat.illinois.edu/ubuntu jammy/main all Packages [8,288 kB]\n",
            "Get:19 https://ppa.launchpadcontent.net/deadsnakes/ppa/ubuntu jammy/main amd64 Packages [28.6 kB]\n",
            "Get:20 https://r2u.stat.illinois.edu/ubuntu jammy/main amd64 Packages [2,570 kB]\n",
            "Fetched 19.5 MB in 6s (3,379 kB/s)\n",
            "Reading package lists... Done\n",
            "Building dependency tree... Done\n",
            "Reading state information... Done\n",
            "56 packages can be upgraded. Run 'apt list --upgradable' to see them.\n",
            "\u001b[1;33mW: \u001b[0mSkipping acquire of configured file 'main/source/Sources' as repository 'https://r2u.stat.illinois.edu/ubuntu jammy InRelease' does not seem to provide it (sources.list entry misspelt?)\u001b[0m\n",
            "Reading package lists... Done\n",
            "Building dependency tree... Done\n",
            "Reading state information... Done\n",
            "The following additional packages will be installed:\n",
            "  fonts-droid-fallback fonts-noto-mono fonts-urw-base35 ghostscript gsfonts imagemagick-6-common\n",
            "  imagemagick-6.q16 libdjvulibre-text libdjvulibre21 libfftw3-double3 libgs9 libgs9-common libidn12\n",
            "  libijs-0.35 libjbig2dec0 libjxr-tools libjxr0 liblqr-1-0 libmagickcore-6.q16-6\n",
            "  libmagickcore-6.q16-6-extra libmagickwand-6.q16-6 libnetpbm10 libwmflite-0.2-7 netpbm\n",
            "  poppler-data\n",
            "Suggested packages:\n",
            "  fonts-noto fonts-freefont-otf | fonts-freefont-ttf fonts-texgyre ghostscript-x imagemagick-doc\n",
            "  autotrace cups-bsd | lpr | lprng enscript gimp gnuplot grads hp2xx html2ps libwmf-bin mplayer\n",
            "  povray radiance sane-utils texlive-base-bin transfig ufraw-batch libfftw3-bin libfftw3-dev\n",
            "  inkscape poppler-utils fonts-japanese-mincho | fonts-ipafont-mincho fonts-japanese-gothic\n",
            "  | fonts-ipafont-gothic fonts-arphic-ukai fonts-arphic-uming fonts-nanum\n",
            "The following NEW packages will be installed:\n",
            "  fonts-droid-fallback fonts-noto-mono fonts-urw-base35 ghostscript gsfonts imagemagick\n",
            "  imagemagick-6-common imagemagick-6.q16 libdjvulibre-text libdjvulibre21 libfftw3-double3 libgs9\n",
            "  libgs9-common libidn12 libijs-0.35 libjbig2dec0 libjxr-tools libjxr0 liblqr-1-0\n",
            "  libmagickcore-6.q16-6 libmagickcore-6.q16-6-extra libmagickwand-6.q16-6 libnetpbm10\n",
            "  libwmflite-0.2-7 netpbm poppler-data\n",
            "0 upgraded, 26 newly installed, 0 to remove and 56 not upgraded.\n",
            "Need to get 25.1 MB of archives.\n",
            "After this operation, 87.9 MB of additional disk space will be used.\n",
            "Get:1 http://archive.ubuntu.com/ubuntu jammy/main amd64 fonts-droid-fallback all 1:6.0.1r16-1.1build1 [1,805 kB]\n",
            "Get:2 http://archive.ubuntu.com/ubuntu jammy/main amd64 libfftw3-double3 amd64 3.3.8-2ubuntu8 [770 kB]\n",
            "Get:3 http://archive.ubuntu.com/ubuntu jammy/universe amd64 liblqr-1-0 amd64 0.4.2-2.1 [27.7 kB]\n",
            "Get:4 http://archive.ubuntu.com/ubuntu jammy-updates/universe amd64 imagemagick-6-common all 8:6.9.11.60+dfsg-1.3ubuntu0.22.04.5 [64.3 kB]\n",
            "Get:5 http://archive.ubuntu.com/ubuntu jammy-updates/universe amd64 libmagickcore-6.q16-6 amd64 8:6.9.11.60+dfsg-1.3ubuntu0.22.04.5 [1,795 kB]\n",
            "Get:6 http://archive.ubuntu.com/ubuntu jammy-updates/universe amd64 libmagickwand-6.q16-6 amd64 8:6.9.11.60+dfsg-1.3ubuntu0.22.04.5 [328 kB]\n",
            "Get:7 http://archive.ubuntu.com/ubuntu jammy/main amd64 poppler-data all 0.4.11-1 [2,171 kB]\n",
            "Get:8 http://archive.ubuntu.com/ubuntu jammy/main amd64 fonts-noto-mono all 20201225-1build1 [397 kB]\n",
            "Get:9 http://archive.ubuntu.com/ubuntu jammy/main amd64 fonts-urw-base35 all 20200910-1 [6,367 kB]\n",
            "Get:10 http://archive.ubuntu.com/ubuntu jammy-updates/main amd64 libgs9-common all 9.55.0~dfsg1-0ubuntu5.9 [752 kB]\n",
            "Get:11 http://archive.ubuntu.com/ubuntu jammy-updates/main amd64 libidn12 amd64 1.38-4ubuntu1 [60.0 kB]\n",
            "Get:12 http://archive.ubuntu.com/ubuntu jammy/main amd64 libijs-0.35 amd64 0.35-15build2 [16.5 kB]\n",
            "Get:13 http://archive.ubuntu.com/ubuntu jammy/main amd64 libjbig2dec0 amd64 0.19-3build2 [64.7 kB]\n",
            "Get:14 http://archive.ubuntu.com/ubuntu jammy-updates/main amd64 libgs9 amd64 9.55.0~dfsg1-0ubuntu5.9 [5,033 kB]\n",
            "Get:15 http://archive.ubuntu.com/ubuntu jammy-updates/main amd64 ghostscript amd64 9.55.0~dfsg1-0ubuntu5.9 [49.5 kB]\n",
            "Get:16 http://archive.ubuntu.com/ubuntu jammy/universe amd64 gsfonts all 1:8.11+urwcyr1.0.7~pre44-4.5 [3,120 kB]\n",
            "Get:17 http://archive.ubuntu.com/ubuntu jammy-updates/universe amd64 imagemagick-6.q16 amd64 8:6.9.11.60+dfsg-1.3ubuntu0.22.04.5 [224 kB]\n",
            "Get:18 http://archive.ubuntu.com/ubuntu jammy-updates/universe amd64 imagemagick amd64 8:6.9.11.60+dfsg-1.3ubuntu0.22.04.5 [14.6 kB]\n",
            "Get:19 http://archive.ubuntu.com/ubuntu jammy/main amd64 libdjvulibre-text all 3.5.28-2build2 [50.9 kB]\n",
            "Get:20 http://archive.ubuntu.com/ubuntu jammy/main amd64 libdjvulibre21 amd64 3.5.28-2build2 [624 kB]\n",
            "Get:21 http://archive.ubuntu.com/ubuntu jammy/universe amd64 libjxr0 amd64 1.2~git20170615.f752187-5 [174 kB]\n",
            "Get:22 http://archive.ubuntu.com/ubuntu jammy/universe amd64 libjxr-tools amd64 1.2~git20170615.f752187-5 [16.0 kB]\n",
            "Get:23 http://archive.ubuntu.com/ubuntu jammy/main amd64 libwmflite-0.2-7 amd64 0.2.12-5ubuntu1 [68.9 kB]\n",
            "Get:24 http://archive.ubuntu.com/ubuntu jammy-updates/universe amd64 libmagickcore-6.q16-6-extra amd64 8:6.9.11.60+dfsg-1.3ubuntu0.22.04.5 [70.1 kB]\n",
            "Get:25 http://archive.ubuntu.com/ubuntu jammy/universe amd64 libnetpbm10 amd64 2:10.0-15.4 [59.1 kB]\n",
            "Get:26 http://archive.ubuntu.com/ubuntu jammy/universe amd64 netpbm amd64 2:10.0-15.4 [1,007 kB]\n",
            "Fetched 25.1 MB in 1s (24.8 MB/s)\n",
            "Selecting previously unselected package fonts-droid-fallback.\n",
            "(Reading database ... 123597 files and directories currently installed.)\n",
            "Preparing to unpack .../00-fonts-droid-fallback_1%3a6.0.1r16-1.1build1_all.deb ...\n",
            "Unpacking fonts-droid-fallback (1:6.0.1r16-1.1build1) ...\n",
            "Selecting previously unselected package libfftw3-double3:amd64.\n",
            "Preparing to unpack .../01-libfftw3-double3_3.3.8-2ubuntu8_amd64.deb ...\n",
            "Unpacking libfftw3-double3:amd64 (3.3.8-2ubuntu8) ...\n",
            "Selecting previously unselected package liblqr-1-0:amd64.\n",
            "Preparing to unpack .../02-liblqr-1-0_0.4.2-2.1_amd64.deb ...\n",
            "Unpacking liblqr-1-0:amd64 (0.4.2-2.1) ...\n",
            "Selecting previously unselected package imagemagick-6-common.\n",
            "Preparing to unpack .../03-imagemagick-6-common_8%3a6.9.11.60+dfsg-1.3ubuntu0.22.04.5_all.deb ...\n",
            "Unpacking imagemagick-6-common (8:6.9.11.60+dfsg-1.3ubuntu0.22.04.5) ...\n",
            "Selecting previously unselected package libmagickcore-6.q16-6:amd64.\n",
            "Preparing to unpack .../04-libmagickcore-6.q16-6_8%3a6.9.11.60+dfsg-1.3ubuntu0.22.04.5_amd64.deb ...\n",
            "Unpacking libmagickcore-6.q16-6:amd64 (8:6.9.11.60+dfsg-1.3ubuntu0.22.04.5) ...\n",
            "Selecting previously unselected package libmagickwand-6.q16-6:amd64.\n",
            "Preparing to unpack .../05-libmagickwand-6.q16-6_8%3a6.9.11.60+dfsg-1.3ubuntu0.22.04.5_amd64.deb ...\n",
            "Unpacking libmagickwand-6.q16-6:amd64 (8:6.9.11.60+dfsg-1.3ubuntu0.22.04.5) ...\n",
            "Selecting previously unselected package poppler-data.\n",
            "Preparing to unpack .../06-poppler-data_0.4.11-1_all.deb ...\n",
            "Unpacking poppler-data (0.4.11-1) ...\n",
            "Selecting previously unselected package fonts-noto-mono.\n",
            "Preparing to unpack .../07-fonts-noto-mono_20201225-1build1_all.deb ...\n",
            "Unpacking fonts-noto-mono (20201225-1build1) ...\n",
            "Selecting previously unselected package fonts-urw-base35.\n",
            "Preparing to unpack .../08-fonts-urw-base35_20200910-1_all.deb ...\n",
            "Unpacking fonts-urw-base35 (20200910-1) ...\n",
            "Selecting previously unselected package libgs9-common.\n",
            "Preparing to unpack .../09-libgs9-common_9.55.0~dfsg1-0ubuntu5.9_all.deb ...\n",
            "Unpacking libgs9-common (9.55.0~dfsg1-0ubuntu5.9) ...\n",
            "Selecting previously unselected package libidn12:amd64.\n",
            "Preparing to unpack .../10-libidn12_1.38-4ubuntu1_amd64.deb ...\n",
            "Unpacking libidn12:amd64 (1.38-4ubuntu1) ...\n",
            "Selecting previously unselected package libijs-0.35:amd64.\n",
            "Preparing to unpack .../11-libijs-0.35_0.35-15build2_amd64.deb ...\n",
            "Unpacking libijs-0.35:amd64 (0.35-15build2) ...\n",
            "Selecting previously unselected package libjbig2dec0:amd64.\n",
            "Preparing to unpack .../12-libjbig2dec0_0.19-3build2_amd64.deb ...\n",
            "Unpacking libjbig2dec0:amd64 (0.19-3build2) ...\n",
            "Selecting previously unselected package libgs9:amd64.\n",
            "Preparing to unpack .../13-libgs9_9.55.0~dfsg1-0ubuntu5.9_amd64.deb ...\n",
            "Unpacking libgs9:amd64 (9.55.0~dfsg1-0ubuntu5.9) ...\n",
            "Selecting previously unselected package ghostscript.\n",
            "Preparing to unpack .../14-ghostscript_9.55.0~dfsg1-0ubuntu5.9_amd64.deb ...\n",
            "Unpacking ghostscript (9.55.0~dfsg1-0ubuntu5.9) ...\n",
            "Selecting previously unselected package gsfonts.\n",
            "Preparing to unpack .../15-gsfonts_1%3a8.11+urwcyr1.0.7~pre44-4.5_all.deb ...\n",
            "Unpacking gsfonts (1:8.11+urwcyr1.0.7~pre44-4.5) ...\n",
            "Selecting previously unselected package imagemagick-6.q16.\n",
            "Preparing to unpack .../16-imagemagick-6.q16_8%3a6.9.11.60+dfsg-1.3ubuntu0.22.04.5_amd64.deb ...\n",
            "Unpacking imagemagick-6.q16 (8:6.9.11.60+dfsg-1.3ubuntu0.22.04.5) ...\n",
            "Selecting previously unselected package imagemagick.\n",
            "Preparing to unpack .../17-imagemagick_8%3a6.9.11.60+dfsg-1.3ubuntu0.22.04.5_amd64.deb ...\n",
            "Unpacking imagemagick (8:6.9.11.60+dfsg-1.3ubuntu0.22.04.5) ...\n",
            "Selecting previously unselected package libdjvulibre-text.\n",
            "Preparing to unpack .../18-libdjvulibre-text_3.5.28-2build2_all.deb ...\n",
            "Unpacking libdjvulibre-text (3.5.28-2build2) ...\n",
            "Selecting previously unselected package libdjvulibre21:amd64.\n",
            "Preparing to unpack .../19-libdjvulibre21_3.5.28-2build2_amd64.deb ...\n",
            "Unpacking libdjvulibre21:amd64 (3.5.28-2build2) ...\n",
            "Selecting previously unselected package libjxr0:amd64.\n",
            "Preparing to unpack .../20-libjxr0_1.2~git20170615.f752187-5_amd64.deb ...\n",
            "Unpacking libjxr0:amd64 (1.2~git20170615.f752187-5) ...\n",
            "Selecting previously unselected package libjxr-tools.\n",
            "Preparing to unpack .../21-libjxr-tools_1.2~git20170615.f752187-5_amd64.deb ...\n",
            "Unpacking libjxr-tools (1.2~git20170615.f752187-5) ...\n",
            "Selecting previously unselected package libwmflite-0.2-7:amd64.\n",
            "Preparing to unpack .../22-libwmflite-0.2-7_0.2.12-5ubuntu1_amd64.deb ...\n",
            "Unpacking libwmflite-0.2-7:amd64 (0.2.12-5ubuntu1) ...\n",
            "Selecting previously unselected package libmagickcore-6.q16-6-extra:amd64.\n",
            "Preparing to unpack .../23-libmagickcore-6.q16-6-extra_8%3a6.9.11.60+dfsg-1.3ubuntu0.22.04.5_amd64.deb ...\n",
            "Unpacking libmagickcore-6.q16-6-extra:amd64 (8:6.9.11.60+dfsg-1.3ubuntu0.22.04.5) ...\n",
            "Selecting previously unselected package libnetpbm10.\n",
            "Preparing to unpack .../24-libnetpbm10_2%3a10.0-15.4_amd64.deb ...\n",
            "Unpacking libnetpbm10 (2:10.0-15.4) ...\n",
            "Selecting previously unselected package netpbm.\n",
            "Preparing to unpack .../25-netpbm_2%3a10.0-15.4_amd64.deb ...\n",
            "Unpacking netpbm (2:10.0-15.4) ...\n",
            "Setting up imagemagick-6-common (8:6.9.11.60+dfsg-1.3ubuntu0.22.04.5) ...\n",
            "Setting up fonts-noto-mono (20201225-1build1) ...\n",
            "Setting up libwmflite-0.2-7:amd64 (0.2.12-5ubuntu1) ...\n",
            "Setting up libijs-0.35:amd64 (0.35-15build2) ...\n",
            "Setting up libjxr0:amd64 (1.2~git20170615.f752187-5) ...\n",
            "Setting up libnetpbm10 (2:10.0-15.4) ...\n",
            "Setting up fonts-urw-base35 (20200910-1) ...\n",
            "Setting up poppler-data (0.4.11-1) ...\n",
            "Setting up libjbig2dec0:amd64 (0.19-3build2) ...\n",
            "Setting up gsfonts (1:8.11+urwcyr1.0.7~pre44-4.5) ...\n",
            "Setting up libidn12:amd64 (1.38-4ubuntu1) ...\n",
            "Setting up netpbm (2:10.0-15.4) ...\n",
            "Setting up libfftw3-double3:amd64 (3.3.8-2ubuntu8) ...\n",
            "Setting up liblqr-1-0:amd64 (0.4.2-2.1) ...\n",
            "Setting up fonts-droid-fallback (1:6.0.1r16-1.1build1) ...\n",
            "Setting up libdjvulibre-text (3.5.28-2build2) ...\n",
            "Setting up libgs9-common (9.55.0~dfsg1-0ubuntu5.9) ...\n",
            "Setting up libjxr-tools (1.2~git20170615.f752187-5) ...\n",
            "Setting up libgs9:amd64 (9.55.0~dfsg1-0ubuntu5.9) ...\n",
            "Setting up libdjvulibre21:amd64 (3.5.28-2build2) ...\n",
            "Setting up ghostscript (9.55.0~dfsg1-0ubuntu5.9) ...\n",
            "Setting up libmagickcore-6.q16-6:amd64 (8:6.9.11.60+dfsg-1.3ubuntu0.22.04.5) ...\n",
            "Setting up libmagickwand-6.q16-6:amd64 (8:6.9.11.60+dfsg-1.3ubuntu0.22.04.5) ...\n",
            "Setting up libmagickcore-6.q16-6-extra:amd64 (8:6.9.11.60+dfsg-1.3ubuntu0.22.04.5) ...\n",
            "Setting up imagemagick-6.q16 (8:6.9.11.60+dfsg-1.3ubuntu0.22.04.5) ...\n",
            "update-alternatives: using /usr/bin/compare-im6.q16 to provide /usr/bin/compare (compare) in auto mode\n",
            "update-alternatives: using /usr/bin/compare-im6.q16 to provide /usr/bin/compare-im6 (compare-im6) in auto mode\n",
            "update-alternatives: using /usr/bin/animate-im6.q16 to provide /usr/bin/animate (animate) in auto mode\n",
            "update-alternatives: using /usr/bin/animate-im6.q16 to provide /usr/bin/animate-im6 (animate-im6) in auto mode\n",
            "update-alternatives: using /usr/bin/convert-im6.q16 to provide /usr/bin/convert (convert) in auto mode\n",
            "update-alternatives: using /usr/bin/convert-im6.q16 to provide /usr/bin/convert-im6 (convert-im6) in auto mode\n",
            "update-alternatives: using /usr/bin/composite-im6.q16 to provide /usr/bin/composite (composite) in auto mode\n",
            "update-alternatives: using /usr/bin/composite-im6.q16 to provide /usr/bin/composite-im6 (composite-im6) in auto mode\n",
            "update-alternatives: using /usr/bin/conjure-im6.q16 to provide /usr/bin/conjure (conjure) in auto mode\n",
            "update-alternatives: using /usr/bin/conjure-im6.q16 to provide /usr/bin/conjure-im6 (conjure-im6) in auto mode\n",
            "update-alternatives: using /usr/bin/import-im6.q16 to provide /usr/bin/import (import) in auto mode\n",
            "update-alternatives: using /usr/bin/import-im6.q16 to provide /usr/bin/import-im6 (import-im6) in auto mode\n",
            "update-alternatives: using /usr/bin/identify-im6.q16 to provide /usr/bin/identify (identify) in auto mode\n",
            "update-alternatives: using /usr/bin/identify-im6.q16 to provide /usr/bin/identify-im6 (identify-im6) in auto mode\n",
            "update-alternatives: using /usr/bin/stream-im6.q16 to provide /usr/bin/stream (stream) in auto mode\n",
            "update-alternatives: using /usr/bin/stream-im6.q16 to provide /usr/bin/stream-im6 (stream-im6) in auto mode\n",
            "update-alternatives: using /usr/bin/display-im6.q16 to provide /usr/bin/display (display) in auto mode\n",
            "update-alternatives: using /usr/bin/display-im6.q16 to provide /usr/bin/display-im6 (display-im6) in auto mode\n",
            "update-alternatives: using /usr/bin/montage-im6.q16 to provide /usr/bin/montage (montage) in auto mode\n",
            "update-alternatives: using /usr/bin/montage-im6.q16 to provide /usr/bin/montage-im6 (montage-im6) in auto mode\n",
            "update-alternatives: using /usr/bin/mogrify-im6.q16 to provide /usr/bin/mogrify (mogrify) in auto mode\n",
            "update-alternatives: using /usr/bin/mogrify-im6.q16 to provide /usr/bin/mogrify-im6 (mogrify-im6) in auto mode\n",
            "Setting up imagemagick (8:6.9.11.60+dfsg-1.3ubuntu0.22.04.5) ...\n",
            "Processing triggers for hicolor-icon-theme (0.17-2) ...\n",
            "Processing triggers for libc-bin (2.35-0ubuntu3.4) ...\n",
            "/sbin/ldconfig.real: /usr/local/lib/libur_loader.so.0 is not a symbolic link\n",
            "\n",
            "/sbin/ldconfig.real: /usr/local/lib/libtbbbind_2_5.so.3 is not a symbolic link\n",
            "\n",
            "/sbin/ldconfig.real: /usr/local/lib/libur_adapter_level_zero.so.0 is not a symbolic link\n",
            "\n",
            "/sbin/ldconfig.real: /usr/local/lib/libtbbmalloc_proxy.so.2 is not a symbolic link\n",
            "\n",
            "/sbin/ldconfig.real: /usr/local/lib/libtbbmalloc.so.2 is not a symbolic link\n",
            "\n",
            "/sbin/ldconfig.real: /usr/local/lib/libur_adapter_opencl.so.0 is not a symbolic link\n",
            "\n",
            "/sbin/ldconfig.real: /usr/local/lib/libtbbbind_2_0.so.3 is not a symbolic link\n",
            "\n",
            "/sbin/ldconfig.real: /usr/local/lib/libtbb.so.12 is not a symbolic link\n",
            "\n",
            "/sbin/ldconfig.real: /usr/local/lib/libtbbbind.so.3 is not a symbolic link\n",
            "\n",
            "Processing triggers for man-db (2.10.2-1) ...\n",
            "Processing triggers for fontconfig (2.13.1-4.2ubuntu5) ...\n",
            "Reading package lists... Done\n",
            "Building dependency tree... Done\n",
            "Reading state information... Done\n",
            "The following additional packages will be installed:\n",
            "  libpoppler-glib8\n",
            "The following NEW packages will be installed:\n",
            "  libpoppler-glib8 pdf2svg\n",
            "0 upgraded, 2 newly installed, 0 to remove and 56 not upgraded.\n",
            "Need to get 140 kB of archives.\n",
            "After this operation, 514 kB of additional disk space will be used.\n",
            "Get:1 http://archive.ubuntu.com/ubuntu jammy-updates/main amd64 libpoppler-glib8 amd64 22.02.0-2ubuntu0.5 [134 kB]\n",
            "Get:2 http://archive.ubuntu.com/ubuntu jammy/universe amd64 pdf2svg amd64 0.2.3-2 [6,888 B]\n",
            "Fetched 140 kB in 1s (192 kB/s)\n",
            "Selecting previously unselected package libpoppler-glib8:amd64.\n",
            "(Reading database ... 125739 files and directories currently installed.)\n",
            "Preparing to unpack .../libpoppler-glib8_22.02.0-2ubuntu0.5_amd64.deb ...\n",
            "Unpacking libpoppler-glib8:amd64 (22.02.0-2ubuntu0.5) ...\n",
            "Selecting previously unselected package pdf2svg.\n",
            "Preparing to unpack .../pdf2svg_0.2.3-2_amd64.deb ...\n",
            "Unpacking pdf2svg (0.2.3-2) ...\n",
            "Setting up libpoppler-glib8:amd64 (22.02.0-2ubuntu0.5) ...\n",
            "Setting up pdf2svg (0.2.3-2) ...\n",
            "Processing triggers for man-db (2.10.2-1) ...\n",
            "Processing triggers for libc-bin (2.35-0ubuntu3.4) ...\n",
            "/sbin/ldconfig.real: /usr/local/lib/libur_loader.so.0 is not a symbolic link\n",
            "\n",
            "/sbin/ldconfig.real: /usr/local/lib/libtbbbind_2_5.so.3 is not a symbolic link\n",
            "\n",
            "/sbin/ldconfig.real: /usr/local/lib/libur_adapter_level_zero.so.0 is not a symbolic link\n",
            "\n",
            "/sbin/ldconfig.real: /usr/local/lib/libtbbmalloc_proxy.so.2 is not a symbolic link\n",
            "\n",
            "/sbin/ldconfig.real: /usr/local/lib/libtbbmalloc.so.2 is not a symbolic link\n",
            "\n",
            "/sbin/ldconfig.real: /usr/local/lib/libur_adapter_opencl.so.0 is not a symbolic link\n",
            "\n",
            "/sbin/ldconfig.real: /usr/local/lib/libtbbbind_2_0.so.3 is not a symbolic link\n",
            "\n",
            "/sbin/ldconfig.real: /usr/local/lib/libtbb.so.12 is not a symbolic link\n",
            "\n",
            "/sbin/ldconfig.real: /usr/local/lib/libtbbbind.so.3 is not a symbolic link\n",
            "\n",
            "Reading package lists... Done\n",
            "Building dependency tree... Done\n",
            "Reading state information... Done\n",
            "The following additional packages will be installed:\n",
            "  dvisvgm fonts-lato fonts-lmodern fonts-texgyre libapache-pom-java libcommons-logging-java\n",
            "  libcommons-parent-java libfontbox-java libfontenc1 libkpathsea6 libpdfbox-java libptexenc1\n",
            "  libruby3.0 libsynctex2 libteckit0 libtexlua53 libtexluajit2 libwoff1 libzzip-0-13 lmodern\n",
            "  preview-latex-style rake ruby ruby-net-telnet ruby-rubygems ruby-webrick ruby-xmlrpc ruby3.0\n",
            "  rubygems-integration t1utils tex-common tex-gyre texlive-base texlive-binaries\n",
            "  texlive-fonts-recommended texlive-latex-base texlive-latex-recommended texlive-pictures\n",
            "  texlive-plain-generic tipa xfonts-encodings xfonts-utils\n",
            "Suggested packages:\n",
            "  libavalon-framework-java libcommons-logging-java-doc libexcalibur-logkit-java liblog4j1.2-java ri\n",
            "  ruby-dev bundler debhelper perl-tk xpdf | pdf-viewer xzdec texlive-fonts-recommended-doc\n",
            "  texlive-latex-base-doc python3-pygments icc-profiles libfile-which-perl\n",
            "  libspreadsheet-parseexcel-perl texlive-latex-extra-doc texlive-latex-recommended-doc\n",
            "  texlive-luatex texlive-pstricks dot2tex prerex texlive-pictures-doc vprerex default-jre-headless\n",
            "  tipa-doc\n",
            "The following NEW packages will be installed:\n",
            "  dvisvgm fonts-lato fonts-lmodern fonts-texgyre libapache-pom-java libcommons-logging-java\n",
            "  libcommons-parent-java libfontbox-java libfontenc1 libkpathsea6 libpdfbox-java libptexenc1\n",
            "  libruby3.0 libsynctex2 libteckit0 libtexlua53 libtexluajit2 libwoff1 libzzip-0-13 lmodern\n",
            "  preview-latex-style rake ruby ruby-net-telnet ruby-rubygems ruby-webrick ruby-xmlrpc ruby3.0\n",
            "  rubygems-integration t1utils tex-common tex-gyre texlive texlive-base texlive-binaries\n",
            "  texlive-fonts-recommended texlive-latex-base texlive-latex-extra texlive-latex-recommended\n",
            "  texlive-pictures texlive-plain-generic tipa xfonts-encodings xfonts-utils\n",
            "0 upgraded, 44 newly installed, 0 to remove and 56 not upgraded.\n",
            "Need to get 152 MB of archives.\n",
            "After this operation, 490 MB of additional disk space will be used.\n",
            "Get:1 http://archive.ubuntu.com/ubuntu jammy/main amd64 fonts-lato all 2.0-2.1 [2,696 kB]\n",
            "Get:2 http://archive.ubuntu.com/ubuntu jammy/universe amd64 tex-common all 6.17 [33.7 kB]\n",
            "Get:3 http://archive.ubuntu.com/ubuntu jammy-updates/main amd64 libkpathsea6 amd64 2021.20210626.59705-1ubuntu0.2 [60.4 kB]\n",
            "Get:4 http://archive.ubuntu.com/ubuntu jammy/main amd64 libwoff1 amd64 1.0.2-1build4 [45.2 kB]\n",
            "Get:5 http://archive.ubuntu.com/ubuntu jammy/universe amd64 dvisvgm amd64 2.13.1-1 [1,221 kB]\n",
            "Get:6 http://archive.ubuntu.com/ubuntu jammy/universe amd64 fonts-lmodern all 2.004.5-6.1 [4,532 kB]\n",
            "Get:7 http://archive.ubuntu.com/ubuntu jammy/universe amd64 fonts-texgyre all 20180621-3.1 [10.2 MB]\n",
            "Get:8 http://archive.ubuntu.com/ubuntu jammy/universe amd64 libapache-pom-java all 18-1 [4,720 B]\n",
            "Get:9 http://archive.ubuntu.com/ubuntu jammy/universe amd64 libcommons-parent-java all 43-1 [10.8 kB]\n",
            "Get:10 http://archive.ubuntu.com/ubuntu jammy/universe amd64 libcommons-logging-java all 1.2-2 [60.3 kB]\n",
            "Get:11 http://archive.ubuntu.com/ubuntu jammy/main amd64 libfontenc1 amd64 1:1.1.4-1build3 [14.7 kB]\n",
            "Get:12 http://archive.ubuntu.com/ubuntu jammy-updates/main amd64 libptexenc1 amd64 2021.20210626.59705-1ubuntu0.2 [39.1 kB]\n",
            "Get:13 http://archive.ubuntu.com/ubuntu jammy/main amd64 rubygems-integration all 1.18 [5,336 B]\n",
            "Get:14 http://archive.ubuntu.com/ubuntu jammy-updates/main amd64 ruby3.0 amd64 3.0.2-7ubuntu2.7 [50.1 kB]\n",
            "Get:15 http://archive.ubuntu.com/ubuntu jammy/main amd64 ruby-rubygems all 3.3.5-2 [228 kB]\n",
            "Get:16 http://archive.ubuntu.com/ubuntu jammy/main amd64 ruby amd64 1:3.0~exp1 [5,100 B]\n",
            "Get:17 http://archive.ubuntu.com/ubuntu jammy/main amd64 rake all 13.0.6-2 [61.7 kB]\n",
            "Get:18 http://archive.ubuntu.com/ubuntu jammy/main amd64 ruby-net-telnet all 0.1.1-2 [12.6 kB]\n",
            "Get:19 http://archive.ubuntu.com/ubuntu jammy/universe amd64 ruby-webrick all 1.7.0-3 [51.8 kB]\n",
            "Get:20 http://archive.ubuntu.com/ubuntu jammy-updates/main amd64 ruby-xmlrpc all 0.3.2-1ubuntu0.1 [24.9 kB]\n",
            "Get:21 http://archive.ubuntu.com/ubuntu jammy-updates/main amd64 libruby3.0 amd64 3.0.2-7ubuntu2.7 [5,113 kB]\n",
            "Get:22 http://archive.ubuntu.com/ubuntu jammy-updates/main amd64 libsynctex2 amd64 2021.20210626.59705-1ubuntu0.2 [55.6 kB]\n",
            "Get:23 http://archive.ubuntu.com/ubuntu jammy/universe amd64 libteckit0 amd64 2.5.11+ds1-1 [421 kB]\n",
            "Get:24 http://archive.ubuntu.com/ubuntu jammy-updates/main amd64 libtexlua53 amd64 2021.20210626.59705-1ubuntu0.2 [120 kB]\n",
            "Get:25 http://archive.ubuntu.com/ubuntu jammy-updates/main amd64 libtexluajit2 amd64 2021.20210626.59705-1ubuntu0.2 [267 kB]\n",
            "Get:26 http://archive.ubuntu.com/ubuntu jammy/universe amd64 libzzip-0-13 amd64 0.13.72+dfsg.1-1.1 [27.0 kB]\n",
            "Get:27 http://archive.ubuntu.com/ubuntu jammy/main amd64 xfonts-encodings all 1:1.0.5-0ubuntu2 [578 kB]\n",
            "Get:28 http://archive.ubuntu.com/ubuntu jammy/main amd64 xfonts-utils amd64 1:7.7+6build2 [94.6 kB]\n",
            "Get:29 http://archive.ubuntu.com/ubuntu jammy/universe amd64 lmodern all 2.004.5-6.1 [9,471 kB]\n",
            "Get:30 http://archive.ubuntu.com/ubuntu jammy/universe amd64 preview-latex-style all 12.2-1ubuntu1 [185 kB]\n",
            "Get:31 http://archive.ubuntu.com/ubuntu jammy/main amd64 t1utils amd64 1.41-4build2 [61.3 kB]\n",
            "Get:32 http://archive.ubuntu.com/ubuntu jammy/universe amd64 tex-gyre all 20180621-3.1 [6,209 kB]\n",
            "Get:33 http://archive.ubuntu.com/ubuntu jammy-updates/universe amd64 texlive-binaries amd64 2021.20210626.59705-1ubuntu0.2 [9,860 kB]\n",
            "Get:34 http://archive.ubuntu.com/ubuntu jammy/universe amd64 texlive-base all 2021.20220204-1 [21.0 MB]\n",
            "Get:35 http://archive.ubuntu.com/ubuntu jammy/universe amd64 texlive-fonts-recommended all 2021.20220204-1 [4,972 kB]\n",
            "Get:36 http://archive.ubuntu.com/ubuntu jammy/universe amd64 texlive-latex-base all 2021.20220204-1 [1,128 kB]\n",
            "Get:37 http://archive.ubuntu.com/ubuntu jammy/universe amd64 texlive-latex-recommended all 2021.20220204-1 [14.4 MB]\n",
            "Get:38 http://archive.ubuntu.com/ubuntu jammy/universe amd64 texlive all 2021.20220204-1 [14.3 kB]\n",
            "Get:39 http://archive.ubuntu.com/ubuntu jammy/universe amd64 libfontbox-java all 1:1.8.16-2 [207 kB]\n",
            "Get:40 http://archive.ubuntu.com/ubuntu jammy/universe amd64 libpdfbox-java all 1:1.8.16-2 [5,199 kB]\n",
            "Get:41 http://archive.ubuntu.com/ubuntu jammy/universe amd64 texlive-pictures all 2021.20220204-1 [8,720 kB]\n",
            "Get:42 http://archive.ubuntu.com/ubuntu jammy/universe amd64 texlive-latex-extra all 2021.20220204-1 [13.9 MB]\n",
            "Get:43 http://archive.ubuntu.com/ubuntu jammy/universe amd64 texlive-plain-generic all 2021.20220204-1 [27.5 MB]\n",
            "Get:44 http://archive.ubuntu.com/ubuntu jammy/universe amd64 tipa all 2:1.3-21 [2,967 kB]\n",
            "Fetched 152 MB in 6s (25.6 MB/s)\n",
            "Extracting templates from packages: 100%\n",
            "Preconfiguring packages ...\n",
            "Selecting previously unselected package fonts-lato.\n",
            "(Reading database ... 125749 files and directories currently installed.)\n",
            "Preparing to unpack .../00-fonts-lato_2.0-2.1_all.deb ...\n",
            "Unpacking fonts-lato (2.0-2.1) ...\n",
            "Selecting previously unselected package tex-common.\n",
            "Preparing to unpack .../01-tex-common_6.17_all.deb ...\n",
            "Unpacking tex-common (6.17) ...\n",
            "Selecting previously unselected package libkpathsea6:amd64.\n",
            "Preparing to unpack .../02-libkpathsea6_2021.20210626.59705-1ubuntu0.2_amd64.deb ...\n",
            "Unpacking libkpathsea6:amd64 (2021.20210626.59705-1ubuntu0.2) ...\n",
            "Selecting previously unselected package libwoff1:amd64.\n",
            "Preparing to unpack .../03-libwoff1_1.0.2-1build4_amd64.deb ...\n",
            "Unpacking libwoff1:amd64 (1.0.2-1build4) ...\n",
            "Selecting previously unselected package dvisvgm.\n",
            "Preparing to unpack .../04-dvisvgm_2.13.1-1_amd64.deb ...\n",
            "Unpacking dvisvgm (2.13.1-1) ...\n",
            "Selecting previously unselected package fonts-lmodern.\n",
            "Preparing to unpack .../05-fonts-lmodern_2.004.5-6.1_all.deb ...\n",
            "Unpacking fonts-lmodern (2.004.5-6.1) ...\n",
            "Selecting previously unselected package fonts-texgyre.\n",
            "Preparing to unpack .../06-fonts-texgyre_20180621-3.1_all.deb ...\n",
            "Unpacking fonts-texgyre (20180621-3.1) ...\n",
            "Selecting previously unselected package libapache-pom-java.\n",
            "Preparing to unpack .../07-libapache-pom-java_18-1_all.deb ...\n",
            "Unpacking libapache-pom-java (18-1) ...\n",
            "Selecting previously unselected package libcommons-parent-java.\n",
            "Preparing to unpack .../08-libcommons-parent-java_43-1_all.deb ...\n",
            "Unpacking libcommons-parent-java (43-1) ...\n",
            "Selecting previously unselected package libcommons-logging-java.\n",
            "Preparing to unpack .../09-libcommons-logging-java_1.2-2_all.deb ...\n",
            "Unpacking libcommons-logging-java (1.2-2) ...\n",
            "Selecting previously unselected package libfontenc1:amd64.\n",
            "Preparing to unpack .../10-libfontenc1_1%3a1.1.4-1build3_amd64.deb ...\n",
            "Unpacking libfontenc1:amd64 (1:1.1.4-1build3) ...\n",
            "Selecting previously unselected package libptexenc1:amd64.\n",
            "Preparing to unpack .../11-libptexenc1_2021.20210626.59705-1ubuntu0.2_amd64.deb ...\n",
            "Unpacking libptexenc1:amd64 (2021.20210626.59705-1ubuntu0.2) ...\n",
            "Selecting previously unselected package rubygems-integration.\n",
            "Preparing to unpack .../12-rubygems-integration_1.18_all.deb ...\n",
            "Unpacking rubygems-integration (1.18) ...\n",
            "Selecting previously unselected package ruby3.0.\n",
            "Preparing to unpack .../13-ruby3.0_3.0.2-7ubuntu2.7_amd64.deb ...\n",
            "Unpacking ruby3.0 (3.0.2-7ubuntu2.7) ...\n",
            "Selecting previously unselected package ruby-rubygems.\n",
            "Preparing to unpack .../14-ruby-rubygems_3.3.5-2_all.deb ...\n",
            "Unpacking ruby-rubygems (3.3.5-2) ...\n",
            "Selecting previously unselected package ruby.\n",
            "Preparing to unpack .../15-ruby_1%3a3.0~exp1_amd64.deb ...\n",
            "Unpacking ruby (1:3.0~exp1) ...\n",
            "Selecting previously unselected package rake.\n",
            "Preparing to unpack .../16-rake_13.0.6-2_all.deb ...\n",
            "Unpacking rake (13.0.6-2) ...\n",
            "Selecting previously unselected package ruby-net-telnet.\n",
            "Preparing to unpack .../17-ruby-net-telnet_0.1.1-2_all.deb ...\n",
            "Unpacking ruby-net-telnet (0.1.1-2) ...\n",
            "Selecting previously unselected package ruby-webrick.\n",
            "Preparing to unpack .../18-ruby-webrick_1.7.0-3_all.deb ...\n",
            "Unpacking ruby-webrick (1.7.0-3) ...\n",
            "Selecting previously unselected package ruby-xmlrpc.\n",
            "Preparing to unpack .../19-ruby-xmlrpc_0.3.2-1ubuntu0.1_all.deb ...\n",
            "Unpacking ruby-xmlrpc (0.3.2-1ubuntu0.1) ...\n",
            "Selecting previously unselected package libruby3.0:amd64.\n",
            "Preparing to unpack .../20-libruby3.0_3.0.2-7ubuntu2.7_amd64.deb ...\n",
            "Unpacking libruby3.0:amd64 (3.0.2-7ubuntu2.7) ...\n",
            "Selecting previously unselected package libsynctex2:amd64.\n",
            "Preparing to unpack .../21-libsynctex2_2021.20210626.59705-1ubuntu0.2_amd64.deb ...\n",
            "Unpacking libsynctex2:amd64 (2021.20210626.59705-1ubuntu0.2) ...\n",
            "Selecting previously unselected package libteckit0:amd64.\n",
            "Preparing to unpack .../22-libteckit0_2.5.11+ds1-1_amd64.deb ...\n",
            "Unpacking libteckit0:amd64 (2.5.11+ds1-1) ...\n",
            "Selecting previously unselected package libtexlua53:amd64.\n",
            "Preparing to unpack .../23-libtexlua53_2021.20210626.59705-1ubuntu0.2_amd64.deb ...\n",
            "Unpacking libtexlua53:amd64 (2021.20210626.59705-1ubuntu0.2) ...\n",
            "Selecting previously unselected package libtexluajit2:amd64.\n",
            "Preparing to unpack .../24-libtexluajit2_2021.20210626.59705-1ubuntu0.2_amd64.deb ...\n",
            "Unpacking libtexluajit2:amd64 (2021.20210626.59705-1ubuntu0.2) ...\n",
            "Selecting previously unselected package libzzip-0-13:amd64.\n",
            "Preparing to unpack .../25-libzzip-0-13_0.13.72+dfsg.1-1.1_amd64.deb ...\n",
            "Unpacking libzzip-0-13:amd64 (0.13.72+dfsg.1-1.1) ...\n",
            "Selecting previously unselected package xfonts-encodings.\n",
            "Preparing to unpack .../26-xfonts-encodings_1%3a1.0.5-0ubuntu2_all.deb ...\n",
            "Unpacking xfonts-encodings (1:1.0.5-0ubuntu2) ...\n",
            "Selecting previously unselected package xfonts-utils.\n",
            "Preparing to unpack .../27-xfonts-utils_1%3a7.7+6build2_amd64.deb ...\n",
            "Unpacking xfonts-utils (1:7.7+6build2) ...\n",
            "Selecting previously unselected package lmodern.\n",
            "Preparing to unpack .../28-lmodern_2.004.5-6.1_all.deb ...\n",
            "Unpacking lmodern (2.004.5-6.1) ...\n",
            "Selecting previously unselected package preview-latex-style.\n",
            "Preparing to unpack .../29-preview-latex-style_12.2-1ubuntu1_all.deb ...\n",
            "Unpacking preview-latex-style (12.2-1ubuntu1) ...\n",
            "Selecting previously unselected package t1utils.\n",
            "Preparing to unpack .../30-t1utils_1.41-4build2_amd64.deb ...\n",
            "Unpacking t1utils (1.41-4build2) ...\n",
            "Selecting previously unselected package tex-gyre.\n",
            "Preparing to unpack .../31-tex-gyre_20180621-3.1_all.deb ...\n",
            "Unpacking tex-gyre (20180621-3.1) ...\n",
            "Selecting previously unselected package texlive-binaries.\n",
            "Preparing to unpack .../32-texlive-binaries_2021.20210626.59705-1ubuntu0.2_amd64.deb ...\n",
            "Unpacking texlive-binaries (2021.20210626.59705-1ubuntu0.2) ...\n",
            "Selecting previously unselected package texlive-base.\n",
            "Preparing to unpack .../33-texlive-base_2021.20220204-1_all.deb ...\n",
            "Unpacking texlive-base (2021.20220204-1) ...\n",
            "Selecting previously unselected package texlive-fonts-recommended.\n",
            "Preparing to unpack .../34-texlive-fonts-recommended_2021.20220204-1_all.deb ...\n",
            "Unpacking texlive-fonts-recommended (2021.20220204-1) ...\n",
            "Selecting previously unselected package texlive-latex-base.\n",
            "Preparing to unpack .../35-texlive-latex-base_2021.20220204-1_all.deb ...\n",
            "Unpacking texlive-latex-base (2021.20220204-1) ...\n",
            "Selecting previously unselected package texlive-latex-recommended.\n",
            "Preparing to unpack .../36-texlive-latex-recommended_2021.20220204-1_all.deb ...\n",
            "Unpacking texlive-latex-recommended (2021.20220204-1) ...\n",
            "Selecting previously unselected package texlive.\n",
            "Preparing to unpack .../37-texlive_2021.20220204-1_all.deb ...\n",
            "Unpacking texlive (2021.20220204-1) ...\n",
            "Selecting previously unselected package libfontbox-java.\n",
            "Preparing to unpack .../38-libfontbox-java_1%3a1.8.16-2_all.deb ...\n",
            "Unpacking libfontbox-java (1:1.8.16-2) ...\n",
            "Selecting previously unselected package libpdfbox-java.\n",
            "Preparing to unpack .../39-libpdfbox-java_1%3a1.8.16-2_all.deb ...\n",
            "Unpacking libpdfbox-java (1:1.8.16-2) ...\n",
            "Selecting previously unselected package texlive-pictures.\n",
            "Preparing to unpack .../40-texlive-pictures_2021.20220204-1_all.deb ...\n",
            "Unpacking texlive-pictures (2021.20220204-1) ...\n",
            "Selecting previously unselected package texlive-latex-extra.\n",
            "Preparing to unpack .../41-texlive-latex-extra_2021.20220204-1_all.deb ...\n",
            "Unpacking texlive-latex-extra (2021.20220204-1) ...\n",
            "Selecting previously unselected package texlive-plain-generic.\n",
            "Preparing to unpack .../42-texlive-plain-generic_2021.20220204-1_all.deb ...\n",
            "Unpacking texlive-plain-generic (2021.20220204-1) ...\n",
            "Selecting previously unselected package tipa.\n",
            "Preparing to unpack .../43-tipa_2%3a1.3-21_all.deb ...\n",
            "Unpacking tipa (2:1.3-21) ...\n",
            "Setting up fonts-lato (2.0-2.1) ...\n",
            "Setting up libwoff1:amd64 (1.0.2-1build4) ...\n",
            "Setting up libtexlua53:amd64 (2021.20210626.59705-1ubuntu0.2) ...\n",
            "Setting up libtexluajit2:amd64 (2021.20210626.59705-1ubuntu0.2) ...\n",
            "Setting up libfontbox-java (1:1.8.16-2) ...\n",
            "Setting up rubygems-integration (1.18) ...\n",
            "Setting up libzzip-0-13:amd64 (0.13.72+dfsg.1-1.1) ...\n",
            "Setting up tex-common (6.17) ...\n",
            "update-language: texlive-base not installed and configured, doing nothing!\n",
            "Setting up libfontenc1:amd64 (1:1.1.4-1build3) ...\n",
            "Setting up libteckit0:amd64 (2.5.11+ds1-1) ...\n",
            "Setting up libapache-pom-java (18-1) ...\n",
            "Setting up ruby-net-telnet (0.1.1-2) ...\n",
            "Setting up xfonts-encodings (1:1.0.5-0ubuntu2) ...\n",
            "Setting up t1utils (1.41-4build2) ...\n",
            "Setting up fonts-texgyre (20180621-3.1) ...\n",
            "Setting up libkpathsea6:amd64 (2021.20210626.59705-1ubuntu0.2) ...\n",
            "Setting up ruby-webrick (1.7.0-3) ...\n",
            "Setting up fonts-lmodern (2.004.5-6.1) ...\n",
            "Setting up ruby-xmlrpc (0.3.2-1ubuntu0.1) ...\n",
            "Setting up libsynctex2:amd64 (2021.20210626.59705-1ubuntu0.2) ...\n",
            "Setting up libpdfbox-java (1:1.8.16-2) ...\n",
            "Setting up preview-latex-style (12.2-1ubuntu1) ...\n",
            "Setting up libcommons-parent-java (43-1) ...\n",
            "Setting up dvisvgm (2.13.1-1) ...\n",
            "Setting up libcommons-logging-java (1.2-2) ...\n",
            "Setting up xfonts-utils (1:7.7+6build2) ...\n",
            "Setting up libptexenc1:amd64 (2021.20210626.59705-1ubuntu0.2) ...\n",
            "Setting up texlive-binaries (2021.20210626.59705-1ubuntu0.2) ...\n",
            "update-alternatives: using /usr/bin/xdvi-xaw to provide /usr/bin/xdvi.bin (xdvi.bin) in auto mode\n",
            "update-alternatives: using /usr/bin/bibtex.original to provide /usr/bin/bibtex (bibtex) in auto mode\n",
            "Setting up lmodern (2.004.5-6.1) ...\n",
            "Setting up texlive-base (2021.20220204-1) ...\n",
            "/usr/bin/ucfr\n",
            "/usr/bin/ucfr\n",
            "/usr/bin/ucfr\n",
            "/usr/bin/ucfr\n",
            "mktexlsr: Updating /var/lib/texmf/ls-R-TEXLIVEDIST... \n",
            "mktexlsr: Updating /var/lib/texmf/ls-R-TEXMFMAIN... \n",
            "mktexlsr: Updating /var/lib/texmf/ls-R... \n",
            "mktexlsr: Done.\n",
            "tl-paper: setting paper size for dvips to a4: /var/lib/texmf/dvips/config/config-paper.ps\n",
            "tl-paper: setting paper size for dvipdfmx to a4: /var/lib/texmf/dvipdfmx/dvipdfmx-paper.cfg\n",
            "tl-paper: setting paper size for xdvi to a4: /var/lib/texmf/xdvi/XDvi-paper\n",
            "tl-paper: setting paper size for pdftex to a4: /var/lib/texmf/tex/generic/tex-ini-files/pdftexconfig.tex\n",
            "Setting up tex-gyre (20180621-3.1) ...\n",
            "Setting up texlive-plain-generic (2021.20220204-1) ...\n",
            "Setting up texlive-latex-base (2021.20220204-1) ...\n",
            "Setting up texlive-latex-recommended (2021.20220204-1) ...\n",
            "Setting up texlive-pictures (2021.20220204-1) ...\n",
            "Setting up texlive-fonts-recommended (2021.20220204-1) ...\n",
            "Setting up tipa (2:1.3-21) ...\n",
            "Setting up texlive (2021.20220204-1) ...\n",
            "Setting up texlive-latex-extra (2021.20220204-1) ...\n",
            "Setting up libruby3.0:amd64 (3.0.2-7ubuntu2.7) ...\n",
            "Setting up ruby3.0 (3.0.2-7ubuntu2.7) ...\n",
            "Setting up ruby (1:3.0~exp1) ...\n",
            "Setting up rake (13.0.6-2) ...\n",
            "Setting up ruby-rubygems (3.3.5-2) ...\n",
            "Processing triggers for man-db (2.10.2-1) ...\n",
            "Processing triggers for fontconfig (2.13.1-4.2ubuntu5) ...\n",
            "Processing triggers for libc-bin (2.35-0ubuntu3.4) ...\n",
            "/sbin/ldconfig.real: /usr/local/lib/libur_loader.so.0 is not a symbolic link\n",
            "\n",
            "/sbin/ldconfig.real: /usr/local/lib/libtbbbind_2_5.so.3 is not a symbolic link\n",
            "\n",
            "/sbin/ldconfig.real: /usr/local/lib/libur_adapter_level_zero.so.0 is not a symbolic link\n",
            "\n",
            "/sbin/ldconfig.real: /usr/local/lib/libtbbmalloc_proxy.so.2 is not a symbolic link\n",
            "\n",
            "/sbin/ldconfig.real: /usr/local/lib/libtbbmalloc.so.2 is not a symbolic link\n",
            "\n",
            "/sbin/ldconfig.real: /usr/local/lib/libur_adapter_opencl.so.0 is not a symbolic link\n",
            "\n",
            "/sbin/ldconfig.real: /usr/local/lib/libtbbbind_2_0.so.3 is not a symbolic link\n",
            "\n",
            "/sbin/ldconfig.real: /usr/local/lib/libtbb.so.12 is not a symbolic link\n",
            "\n",
            "/sbin/ldconfig.real: /usr/local/lib/libtbbbind.so.3 is not a symbolic link\n",
            "\n",
            "Processing triggers for tex-common (6.17) ...\n",
            "Running updmap-sys. This may take some time... done.\n",
            "Running mktexlsr /var/lib/texmf ... done.\n",
            "Building format(s) --all.\n",
            "\tThis may take some time... done.\n",
            "Reading package lists... Done\n",
            "Building dependency tree... Done\n",
            "Reading state information... Done\n",
            "\u001b[1;31mE: \u001b[0mUnable to locate package amsmath\u001b[0m\n",
            "Collecting git+https://github.com/mkrphys/ipython-tikzmagic.git\n",
            "  Cloning https://github.com/mkrphys/ipython-tikzmagic.git to /tmp/pip-req-build-78q1n1v3\n",
            "  Running command git clone --filter=blob:none --quiet https://github.com/mkrphys/ipython-tikzmagic.git /tmp/pip-req-build-78q1n1v3\n",
            "  Resolved https://github.com/mkrphys/ipython-tikzmagic.git to commit f9357cc86ea5848947f3d189ee736031bb64890d\n",
            "  Preparing metadata (setup.py) ... \u001b[?25l\u001b[?25hdone\n",
            "Requirement already satisfied: ipython in /usr/local/lib/python3.10/dist-packages (from ipython-tikzmagic==0.1.1) (7.34.0)\n",
            "Requirement already satisfied: setuptools>=18.5 in /usr/local/lib/python3.10/dist-packages (from ipython->ipython-tikzmagic==0.1.1) (71.0.4)\n",
            "Collecting jedi>=0.16 (from ipython->ipython-tikzmagic==0.1.1)\n",
            "  Using cached jedi-0.19.1-py2.py3-none-any.whl.metadata (22 kB)\n",
            "Requirement already satisfied: decorator in /usr/local/lib/python3.10/dist-packages (from ipython->ipython-tikzmagic==0.1.1) (4.4.2)\n",
            "Requirement already satisfied: pickleshare in /usr/local/lib/python3.10/dist-packages (from ipython->ipython-tikzmagic==0.1.1) (0.7.5)\n",
            "Requirement already satisfied: traitlets>=4.2 in /usr/local/lib/python3.10/dist-packages (from ipython->ipython-tikzmagic==0.1.1) (5.7.1)\n",
            "Requirement already satisfied: prompt-toolkit!=3.0.0,!=3.0.1,<3.1.0,>=2.0.0 in /usr/local/lib/python3.10/dist-packages (from ipython->ipython-tikzmagic==0.1.1) (3.0.47)\n",
            "Requirement already satisfied: pygments in /usr/local/lib/python3.10/dist-packages (from ipython->ipython-tikzmagic==0.1.1) (2.16.1)\n",
            "Requirement already satisfied: backcall in /usr/local/lib/python3.10/dist-packages (from ipython->ipython-tikzmagic==0.1.1) (0.2.0)\n",
            "Requirement already satisfied: matplotlib-inline in /usr/local/lib/python3.10/dist-packages (from ipython->ipython-tikzmagic==0.1.1) (0.1.7)\n",
            "Requirement already satisfied: pexpect>4.3 in /usr/local/lib/python3.10/dist-packages (from ipython->ipython-tikzmagic==0.1.1) (4.9.0)\n",
            "Requirement already satisfied: parso<0.9.0,>=0.8.3 in /usr/local/lib/python3.10/dist-packages (from jedi>=0.16->ipython->ipython-tikzmagic==0.1.1) (0.8.4)\n",
            "Requirement already satisfied: ptyprocess>=0.5 in /usr/local/lib/python3.10/dist-packages (from pexpect>4.3->ipython->ipython-tikzmagic==0.1.1) (0.7.0)\n",
            "Requirement already satisfied: wcwidth in /usr/local/lib/python3.10/dist-packages (from prompt-toolkit!=3.0.0,!=3.0.1,<3.1.0,>=2.0.0->ipython->ipython-tikzmagic==0.1.1) (0.2.13)\n",
            "Using cached jedi-0.19.1-py2.py3-none-any.whl (1.6 MB)\n",
            "Building wheels for collected packages: ipython-tikzmagic\n",
            "  Building wheel for ipython-tikzmagic (setup.py) ... \u001b[?25l\u001b[?25hdone\n",
            "  Created wheel for ipython-tikzmagic: filename=ipython_tikzmagic-0.1.1-py3-none-any.whl size=6335 sha256=71f0c3bde1b1532befa189decec4089df619d5832fcd74dad43df7edd09f2aa2\n",
            "  Stored in directory: /tmp/pip-ephem-wheel-cache-62mtkqhm/wheels/86/40/21/133c50e55b72b33098e93f65b9286b75cac0d5529ef2e84e9a\n",
            "Successfully built ipython-tikzmagic\n",
            "Installing collected packages: jedi, ipython-tikzmagic\n",
            "Successfully installed ipython-tikzmagic-0.1.1 jedi-0.19.1\n"
          ]
        }
      ]
    },
    {
      "cell_type": "code",
      "source": [
        "# @title\n",
        "%load_ext tikzmagic"
      ],
      "metadata": {
        "id": "bB5vPNqX7cBL",
        "cellView": "form"
      },
      "execution_count": null,
      "outputs": []
    },
    {
      "cell_type": "code",
      "source": [
        "# @title\n",
        "%%tikz -S test_output.tikz -f svg\n",
        "\\filldraw[fill=green!20!white, draw=black] (0,0) rectangle node{\\Large S} (2,2) ;\n",
        "\n",
        "\\draw[thick,->] (2.5,1) -- node[anchor = south]{$\\lambda^{SI}(t, X_t)$} (4.5, 1) ;\n",
        "\n",
        "\\filldraw[fill=red!20!white, draw=black] (5,0) rectangle node{\\Large I}(7,2);\n",
        "\n",
        "\\draw[thick,->] (7.5,1) -- node[anchor = south]{$\\lambda^{IR}(t, X_t)$} (9.5, 1) ;\n",
        "\n",
        "\\filldraw[fill=blue!20!white, draw=black] (10,0) rectangle node{\\Large R} (12,2);"
      ],
      "metadata": {
        "colab": {
          "base_uri": "https://localhost:8080/",
          "height": 261
        },
        "id": "f_qjsiQX7mQX",
        "outputId": "2df76c07-37c7-4ee1-94ab-b5e1c65da152",
        "cellView": "form"
      },
      "execution_count": null,
      "outputs": [
        {
          "output_type": "display_data",
          "data": {
            "image/svg+xml": "<svg xmlns=\"http://www.w3.org/2000/svg\" xmlns:xlink=\"http://www.w3.org/1999/xlink\" width=\"400px\" height=\"240px\" viewBox=\"0 0 340.556 57.091\" version=\"1.1\">\n<defs>\n<g>\n<symbol overflow=\"visible\" id=\"glyph0-0\">\n<path style=\"stroke:none;\" d=\"\"/>\n</symbol>\n<symbol overflow=\"visible\" id=\"glyph0-1\">\n<path style=\"stroke:none;\" d=\"M 2.984375 -5.984375 C 2.25 -6.171875 1.609375 -6.890625 1.609375 -7.796875 C 1.609375 -8.8125 2.40625 -9.703125 3.53125 -9.703125 C 5.875 -9.703125 6.203125 -7.390625 6.28125 -6.765625 C 6.3125 -6.59375 6.3125 -6.546875 6.453125 -6.546875 C 6.609375 -6.546875 6.609375 -6.609375 6.609375 -6.875 L 6.609375 -9.765625 C 6.609375 -10.03125 6.609375 -10.09375 6.46875 -10.09375 C 6.421875 -10.09375 6.375 -10.09375 6.265625 -9.90625 L 5.796875 -9.03125 C 5.109375 -9.921875 4.15625 -10.09375 3.53125 -10.09375 C 1.9375 -10.09375 0.78125 -8.828125 0.78125 -7.359375 C 0.78125 -6.671875 1.015625 -6.03125 1.546875 -5.46875 C 2.046875 -4.90625 2.546875 -4.78125 3.578125 -4.515625 C 4.078125 -4.40625 4.859375 -4.203125 5.0625 -4.109375 C 5.734375 -3.78125 6.1875 -3.015625 6.1875 -2.203125 C 6.1875 -1.140625 5.421875 -0.109375 4.234375 -0.109375 C 3.578125 -0.109375 2.703125 -0.265625 2 -0.890625 C 1.15625 -1.640625 1.109375 -2.671875 1.09375 -3.140625 C 1.078125 -3.25 0.96875 -3.25 0.9375 -3.25 C 0.78125 -3.25 0.78125 -3.1875 0.78125 -2.921875 L 0.78125 -0.03125 C 0.78125 0.234375 0.78125 0.296875 0.921875 0.296875 C 1 0.296875 1.015625 0.265625 1.125 0.09375 C 1.171875 -0.015625 1.484375 -0.546875 1.59375 -0.765625 C 2.109375 -0.1875 3.015625 0.296875 4.25 0.296875 C 5.859375 0.296875 7.015625 -1.0625 7.015625 -2.640625 C 7.015625 -3.515625 6.6875 -4.15625 6.296875 -4.640625 C 5.765625 -5.28125 5.125 -5.4375 4.5625 -5.578125 Z M 2.984375 -5.984375 \"/>\n</symbol>\n<symbol overflow=\"visible\" id=\"glyph0-2\">\n<path style=\"stroke:none;\" d=\"M 3.109375 -8.703125 C 3.109375 -9.234375 3.15625 -9.375 4.234375 -9.375 L 4.546875 -9.375 L 4.546875 -9.796875 C 4.203125 -9.765625 2.96875 -9.765625 2.53125 -9.765625 C 2.109375 -9.765625 0.859375 -9.765625 0.515625 -9.796875 L 0.515625 -9.375 L 0.828125 -9.375 C 1.90625 -9.375 1.953125 -9.234375 1.953125 -8.703125 L 1.953125 -1.09375 C 1.953125 -0.5625 1.90625 -0.421875 0.828125 -0.421875 L 0.515625 -0.421875 L 0.515625 0 C 0.859375 -0.03125 2.09375 -0.03125 2.53125 -0.03125 C 2.953125 -0.03125 4.203125 -0.03125 4.546875 0 L 4.546875 -0.421875 L 4.234375 -0.421875 C 3.15625 -0.421875 3.109375 -0.5625 3.109375 -1.09375 Z M 3.109375 -8.703125 \"/>\n</symbol>\n<symbol overflow=\"visible\" id=\"glyph0-3\">\n<path style=\"stroke:none;\" d=\"M 6.046875 -4.875 C 7.46875 -5.203125 8.578125 -6.109375 8.578125 -7.21875 C 8.578125 -8.609375 6.953125 -9.796875 4.890625 -9.796875 L 0.609375 -9.796875 L 0.609375 -9.375 L 0.890625 -9.375 C 1.921875 -9.375 1.96875 -9.234375 1.96875 -8.703125 L 1.96875 -1.09375 C 1.96875 -0.5625 1.921875 -0.421875 0.890625 -0.421875 L 0.609375 -0.421875 L 0.609375 0 C 0.9375 -0.03125 2.109375 -0.03125 2.53125 -0.03125 C 2.9375 -0.03125 4.125 -0.03125 4.453125 0 L 4.453125 -0.421875 L 4.171875 -0.421875 C 3.140625 -0.421875 3.09375 -0.5625 3.09375 -1.09375 L 3.09375 -4.765625 L 4.765625 -4.765625 C 5.328125 -4.765625 5.859375 -4.609375 6.234375 -4.203125 C 6.734375 -3.65625 6.734375 -3.359375 6.734375 -2.359375 C 6.734375 -1.234375 6.734375 -0.859375 7.359375 -0.25 C 7.578125 -0.03125 8.171875 0.296875 8.984375 0.296875 C 10.09375 0.296875 10.28125 -0.953125 10.28125 -1.25 C 10.28125 -1.328125 10.28125 -1.46875 10.125 -1.46875 C 9.984375 -1.46875 9.984375 -1.375 9.96875 -1.234375 C 9.890625 -0.375 9.484375 0.015625 9.015625 0.015625 C 8.359375 0.015625 8.21875 -0.65625 8.109375 -1.421875 C 8.09375 -1.515625 8 -2.140625 7.953125 -2.5 C 7.859375 -3.21875 7.796875 -3.671875 7.375 -4.109375 C 7.21875 -4.28125 6.84375 -4.65625 6.046875 -4.875 Z M 4.703125 -5.046875 L 3.09375 -5.046875 L 3.09375 -8.8125 C 3.09375 -9.140625 3.09375 -9.3125 3.40625 -9.359375 C 3.53125 -9.375 3.953125 -9.375 4.25 -9.375 C 5.40625 -9.375 7.25 -9.375 7.25 -7.21875 C 7.25 -5.96875 6.5625 -5.046875 4.703125 -5.046875 Z M 4.703125 -5.046875 \"/>\n</symbol>\n<symbol overflow=\"visible\" id=\"glyph1-0\">\n<path style=\"stroke:none;\" d=\"\"/>\n</symbol>\n<symbol overflow=\"visible\" id=\"glyph1-1\">\n<path style=\"stroke:none;\" d=\"M 3.5625 -2.90625 C 3.96875 -1.859375 4.453125 -0.34375 4.609375 -0.109375 C 4.765625 0.109375 4.859375 0.109375 5.140625 0.109375 L 5.359375 0.109375 C 5.453125 0.09375 5.46875 0.046875 5.46875 0.015625 C 5.46875 -0.015625 5.4375 -0.046875 5.40625 -0.078125 C 5.3125 -0.1875 5.25 -0.34375 5.1875 -0.53125 L 3.15625 -6.203125 C 2.9375 -6.78125 2.40625 -6.921875 1.9375 -6.921875 C 1.890625 -6.921875 1.75 -6.921875 1.75 -6.8125 C 1.75 -6.734375 1.828125 -6.703125 1.84375 -6.703125 C 2.171875 -6.65625 2.25 -6.59375 2.5 -5.90625 L 3.453125 -3.203125 L 0.703125 -0.46875 C 0.59375 -0.34375 0.53125 -0.296875 0.53125 -0.15625 C 0.53125 0.015625 0.671875 0.125 0.828125 0.125 C 0.984375 0.125 1.078125 0.015625 1.15625 -0.078125 Z M 3.5625 -2.90625 \"/>\n</symbol>\n<symbol overflow=\"visible\" id=\"glyph1-2\">\n<path style=\"stroke:none;\" d=\"M 2.046875 -3.984375 L 2.984375 -3.984375 C 3.1875 -3.984375 3.296875 -3.984375 3.296875 -4.1875 C 3.296875 -4.296875 3.1875 -4.296875 3.015625 -4.296875 L 2.140625 -4.296875 C 2.5 -5.71875 2.546875 -5.90625 2.546875 -5.96875 C 2.546875 -6.140625 2.421875 -6.234375 2.25 -6.234375 C 2.21875 -6.234375 1.9375 -6.234375 1.859375 -5.875 L 1.46875 -4.296875 L 0.53125 -4.296875 C 0.328125 -4.296875 0.234375 -4.296875 0.234375 -4.109375 C 0.234375 -3.984375 0.3125 -3.984375 0.515625 -3.984375 L 1.390625 -3.984375 C 0.671875 -1.15625 0.625 -0.984375 0.625 -0.8125 C 0.625 -0.265625 1 0.109375 1.546875 0.109375 C 2.5625 0.109375 3.125 -1.34375 3.125 -1.421875 C 3.125 -1.53125 3.046875 -1.53125 3.015625 -1.53125 C 2.921875 -1.53125 2.90625 -1.5 2.859375 -1.390625 C 2.4375 -0.34375 1.90625 -0.109375 1.5625 -0.109375 C 1.359375 -0.109375 1.25 -0.234375 1.25 -0.5625 C 1.25 -0.8125 1.28125 -0.875 1.3125 -1.046875 Z M 2.046875 -3.984375 \"/>\n</symbol>\n<symbol overflow=\"visible\" id=\"glyph1-3\">\n<path style=\"stroke:none;\" d=\"M 2.03125 -0.015625 C 2.03125 -0.671875 1.78125 -1.0625 1.390625 -1.0625 C 1.0625 -1.0625 0.859375 -0.8125 0.859375 -0.53125 C 0.859375 -0.265625 1.0625 0 1.390625 0 C 1.5 0 1.640625 -0.046875 1.734375 -0.125 C 1.765625 -0.15625 1.78125 -0.15625 1.78125 -0.15625 C 1.796875 -0.15625 1.796875 -0.15625 1.796875 -0.015625 C 1.796875 0.734375 1.453125 1.328125 1.125 1.65625 C 1.015625 1.765625 1.015625 1.78125 1.015625 1.8125 C 1.015625 1.890625 1.0625 1.921875 1.109375 1.921875 C 1.21875 1.921875 2.03125 1.15625 2.03125 -0.015625 Z M 2.03125 -0.015625 \"/>\n</symbol>\n<symbol overflow=\"visible\" id=\"glyph1-4\">\n<path style=\"stroke:none;\" d=\"M 4.828125 -4.09375 L 4 -6.078125 C 3.96875 -6.15625 3.953125 -6.203125 3.953125 -6.203125 C 3.953125 -6.265625 4.109375 -6.453125 4.53125 -6.5 C 4.640625 -6.515625 4.734375 -6.515625 4.734375 -6.6875 C 4.734375 -6.8125 4.609375 -6.8125 4.578125 -6.8125 C 4.171875 -6.8125 3.75 -6.78125 3.328125 -6.78125 C 3.078125 -6.78125 2.46875 -6.8125 2.21875 -6.8125 C 2.15625 -6.8125 2.03125 -6.8125 2.03125 -6.609375 C 2.03125 -6.5 2.140625 -6.5 2.265625 -6.5 C 2.859375 -6.5 2.921875 -6.40625 3.015625 -6.1875 L 4.1875 -3.40625 L 2.078125 -1.140625 L 1.953125 -1.03125 C 1.46875 -0.5 1 -0.34375 0.484375 -0.3125 C 0.359375 -0.296875 0.265625 -0.296875 0.265625 -0.109375 C 0.265625 -0.09375 0.265625 0 0.40625 0 C 0.703125 0 1.03125 -0.03125 1.328125 -0.03125 C 1.703125 -0.03125 2.09375 0 2.453125 0 C 2.515625 0 2.625 0 2.625 -0.203125 C 2.625 -0.296875 2.53125 -0.3125 2.515625 -0.3125 C 2.421875 -0.3125 2.109375 -0.34375 2.109375 -0.625 C 2.109375 -0.78125 2.265625 -0.9375 2.375 -1.0625 L 3.40625 -2.140625 L 4.296875 -3.125 L 5.296875 -0.734375 C 5.34375 -0.625 5.359375 -0.625 5.359375 -0.59375 C 5.359375 -0.515625 5.15625 -0.34375 4.78125 -0.3125 C 4.671875 -0.296875 4.578125 -0.296875 4.578125 -0.125 C 4.578125 0 4.6875 0 4.71875 0 C 5 0 5.703125 -0.03125 5.984375 -0.03125 C 6.234375 -0.03125 6.84375 0 7.09375 0 C 7.15625 0 7.28125 0 7.28125 -0.1875 C 7.28125 -0.3125 7.171875 -0.3125 7.09375 -0.3125 C 6.4375 -0.3125 6.40625 -0.34375 6.234375 -0.75 C 5.859375 -1.671875 5.1875 -3.234375 4.953125 -3.828125 C 5.625 -4.53125 6.671875 -5.71875 7 -5.984375 C 7.28125 -6.234375 7.671875 -6.46875 8.265625 -6.5 C 8.390625 -6.515625 8.484375 -6.515625 8.484375 -6.703125 C 8.484375 -6.703125 8.484375 -6.8125 8.359375 -6.8125 C 8.0625 -6.8125 7.71875 -6.78125 7.421875 -6.78125 C 7.046875 -6.78125 6.671875 -6.8125 6.3125 -6.8125 C 6.25 -6.8125 6.125 -6.8125 6.125 -6.609375 C 6.125 -6.546875 6.171875 -6.515625 6.234375 -6.5 C 6.328125 -6.484375 6.640625 -6.46875 6.640625 -6.1875 C 6.640625 -6.046875 6.53125 -5.921875 6.453125 -5.828125 Z M 4.828125 -4.09375 \"/>\n</symbol>\n<symbol overflow=\"visible\" id=\"glyph2-0\">\n<path style=\"stroke:none;\" d=\"\"/>\n</symbol>\n<symbol overflow=\"visible\" id=\"glyph2-1\">\n<path style=\"stroke:none;\" d=\"M 4.953125 -4.8125 C 4.953125 -4.84375 4.921875 -4.90625 4.859375 -4.90625 C 4.8125 -4.90625 4.8125 -4.890625 4.71875 -4.796875 L 4.375 -4.40625 C 4.109375 -4.78125 3.671875 -4.90625 3.25 -4.90625 C 2.265625 -4.90625 1.390625 -4.109375 1.390625 -3.296875 C 1.390625 -3.203125 1.421875 -2.921875 1.625 -2.65625 C 1.859375 -2.390625 2.125 -2.328125 2.59375 -2.203125 C 2.734375 -2.171875 3.078125 -2.09375 3.1875 -2.0625 C 3.40625 -2.015625 3.828125 -1.859375 3.828125 -1.34375 C 3.828125 -0.78125 3.234375 -0.109375 2.453125 -0.109375 C 1.828125 -0.109375 1.09375 -0.328125 1.09375 -1.09375 C 1.09375 -1.171875 1.109375 -1.328125 1.140625 -1.453125 C 1.140625 -1.484375 1.140625 -1.484375 1.140625 -1.484375 C 1.140625 -1.578125 1.0625 -1.578125 1.03125 -1.578125 C 0.9375 -1.578125 0.921875 -1.5625 0.90625 -1.4375 L 0.546875 -0.046875 C 0.53125 -0.015625 0.515625 0.015625 0.515625 0.0625 C 0.515625 0.09375 0.546875 0.140625 0.625 0.140625 C 0.65625 0.140625 0.671875 0.125 0.765625 0.046875 C 0.84375 -0.046875 1.015625 -0.265625 1.09375 -0.34375 C 1.46875 0.0625 2 0.140625 2.421875 0.140625 C 3.484375 0.140625 4.328125 -0.765625 4.328125 -1.59375 C 4.328125 -1.890625 4.203125 -2.171875 4.046875 -2.328125 C 3.8125 -2.578125 3.703125 -2.609375 2.796875 -2.828125 C 2.65625 -2.859375 2.421875 -2.90625 2.359375 -2.9375 C 2.1875 -3 1.890625 -3.171875 1.890625 -3.5625 C 1.890625 -4.125 2.515625 -4.671875 3.234375 -4.671875 C 4 -4.671875 4.359375 -4.25 4.359375 -3.59375 C 4.359375 -3.5 4.328125 -3.34375 4.328125 -3.28125 C 4.328125 -3.171875 4.40625 -3.171875 4.453125 -3.171875 C 4.546875 -3.171875 4.5625 -3.21875 4.578125 -3.328125 Z M 4.953125 -4.8125 \"/>\n</symbol>\n<symbol overflow=\"visible\" id=\"glyph2-2\">\n<path style=\"stroke:none;\" d=\"M 2.875 -4.203125 C 2.9375 -4.453125 2.953125 -4.515625 3.484375 -4.515625 C 3.65625 -4.515625 3.734375 -4.515625 3.734375 -4.65625 C 3.734375 -4.71875 3.6875 -4.765625 3.625 -4.765625 C 3.484375 -4.765625 3.296875 -4.734375 3.15625 -4.734375 C 3 -4.734375 2.84375 -4.734375 2.6875 -4.734375 C 2.6875 -4.734375 2.203125 -4.734375 2.203125 -4.734375 C 2.046875 -4.734375 1.875 -4.765625 1.71875 -4.765625 C 1.671875 -4.765625 1.578125 -4.765625 1.578125 -4.609375 C 1.578125 -4.515625 1.65625 -4.515625 1.8125 -4.515625 C 1.8125 -4.515625 1.953125 -4.515625 2.0625 -4.5 C 2.203125 -4.484375 2.265625 -4.46875 2.265625 -4.390625 C 2.265625 -4.359375 2.25 -4.3125 2.234375 -4.25 L 1.296875 -0.546875 C 1.25 -0.328125 1.21875 -0.25 0.703125 -0.25 C 0.515625 -0.25 0.453125 -0.25 0.453125 -0.09375 C 0.453125 -0.09375 0.453125 0 0.5625 0 C 0.765625 0 1.296875 -0.03125 1.5 -0.03125 L 1.984375 -0.015625 C 2.125 -0.015625 2.3125 0 2.453125 0 C 2.5 0 2.609375 0 2.609375 -0.15625 C 2.609375 -0.25 2.515625 -0.25 2.390625 -0.25 C 2.375 -0.25 2.21875 -0.25 2.078125 -0.265625 C 1.921875 -0.28125 1.921875 -0.3125 1.921875 -0.375 C 1.921875 -0.375 1.921875 -0.421875 1.953125 -0.515625 Z M 2.875 -4.203125 \"/>\n</symbol>\n<symbol overflow=\"visible\" id=\"glyph2-3\">\n<path style=\"stroke:none;\" d=\"M 1.71875 -2.75 L 2.421875 -2.75 C 2.5625 -2.75 2.640625 -2.75 2.640625 -2.90625 C 2.640625 -3 2.5625 -3 2.4375 -3 L 1.78125 -3 L 2.03125 -4.03125 C 2.046875 -4.0625 2.0625 -4.109375 2.0625 -4.125 C 2.0625 -4.265625 1.953125 -4.359375 1.8125 -4.359375 C 1.640625 -4.359375 1.546875 -4.234375 1.484375 -4.0625 C 1.4375 -3.875 1.53125 -4.21875 1.21875 -3 L 0.515625 -3 C 0.390625 -3 0.296875 -3 0.296875 -2.84375 C 0.296875 -2.75 0.375 -2.75 0.5 -2.75 L 1.15625 -2.75 L 0.75 -1.109375 C 0.703125 -0.9375 0.640625 -0.6875 0.640625 -0.59375 C 0.640625 -0.1875 1 0.0625 1.390625 0.0625 C 2.171875 0.0625 2.609375 -0.90625 2.609375 -1 C 2.609375 -1.09375 2.515625 -1.09375 2.5 -1.09375 C 2.40625 -1.09375 2.40625 -1.078125 2.34375 -0.953125 C 2.15625 -0.515625 1.796875 -0.125 1.421875 -0.125 C 1.265625 -0.125 1.171875 -0.21875 1.171875 -0.46875 C 1.171875 -0.53125 1.203125 -0.6875 1.21875 -0.75 Z M 1.71875 -2.75 \"/>\n</symbol>\n<symbol overflow=\"visible\" id=\"glyph2-4\">\n<path style=\"stroke:none;\" d=\"M 2.875 -4.265625 C 2.921875 -4.46875 2.9375 -4.484375 3.09375 -4.515625 L 3.546875 -4.515625 C 4.1875 -4.515625 4.984375 -4.515625 4.984375 -3.796875 C 4.984375 -3.5 4.859375 -3.0625 4.53125 -2.8125 C 4.25 -2.59375 3.8125 -2.484375 3.328125 -2.484375 L 2.4375 -2.484375 Z M 4.140625 -2.375 C 4.96875 -2.5625 5.703125 -3.0625 5.703125 -3.6875 C 5.703125 -4.28125 5 -4.765625 3.984375 -4.765625 L 1.84375 -4.765625 C 1.71875 -4.765625 1.625 -4.765625 1.625 -4.609375 C 1.625 -4.515625 1.703125 -4.515625 1.84375 -4.515625 C 1.859375 -4.515625 1.984375 -4.515625 2.109375 -4.5 C 2.265625 -4.484375 2.265625 -4.46875 2.265625 -4.390625 C 2.265625 -4.390625 2.265625 -4.34375 2.25 -4.25 L 1.3125 -0.546875 C 1.265625 -0.3125 1.25 -0.25 0.703125 -0.25 C 0.578125 -0.25 0.5 -0.25 0.5 -0.109375 C 0.5 -0.03125 0.546875 0 0.609375 0 C 0.734375 0 0.90625 -0.015625 1.03125 -0.015625 C 1.171875 -0.015625 1.375 -0.03125 1.5 -0.03125 C 1.640625 -0.03125 1.796875 -0.015625 1.9375 -0.015625 C 2.09375 -0.015625 2.265625 0 2.40625 0 C 2.453125 0 2.5625 0 2.5625 -0.140625 C 2.5625 -0.25 2.484375 -0.25 2.328125 -0.25 C 2.21875 -0.25 2.1875 -0.25 2.0625 -0.265625 C 1.90625 -0.28125 1.90625 -0.296875 1.90625 -0.375 C 1.90625 -0.375 1.90625 -0.421875 1.9375 -0.515625 L 2.375 -2.28125 L 3.328125 -2.28125 C 3.921875 -2.28125 4.1875 -1.984375 4.1875 -1.65625 C 4.1875 -1.5625 4.125 -1.328125 4.078125 -1.171875 C 4 -0.84375 3.96875 -0.75 3.96875 -0.625 C 3.96875 -0.078125 4.484375 0.140625 5 0.140625 C 5.640625 0.140625 5.921875 -0.546875 5.921875 -0.671875 C 5.921875 -0.6875 5.90625 -0.765625 5.796875 -0.765625 C 5.703125 -0.765625 5.6875 -0.71875 5.671875 -0.640625 C 5.578125 -0.34375 5.3125 -0.0625 5.03125 -0.0625 C 4.84375 -0.0625 4.703125 -0.125 4.703125 -0.515625 C 4.703125 -0.6875 4.75 -1.046875 4.78125 -1.234375 C 4.8125 -1.421875 4.8125 -1.484375 4.8125 -1.5625 C 4.8125 -1.640625 4.8125 -1.875 4.609375 -2.078125 C 4.484375 -2.21875 4.296875 -2.3125 4.140625 -2.375 Z M 4.140625 -2.375 \"/>\n</symbol>\n<symbol overflow=\"visible\" id=\"glyph3-0\">\n<path style=\"stroke:none;\" d=\"\"/>\n</symbol>\n<symbol overflow=\"visible\" id=\"glyph3-1\">\n<path style=\"stroke:none;\" d=\"M 3.296875 2.390625 C 3.296875 2.359375 3.296875 2.34375 3.125 2.171875 C 1.890625 0.921875 1.5625 -0.96875 1.5625 -2.5 C 1.5625 -4.234375 1.9375 -5.96875 3.171875 -7.203125 C 3.296875 -7.328125 3.296875 -7.34375 3.296875 -7.375 C 3.296875 -7.453125 3.265625 -7.484375 3.203125 -7.484375 C 3.09375 -7.484375 2.203125 -6.796875 1.609375 -5.53125 C 1.109375 -4.4375 0.984375 -3.328125 0.984375 -2.5 C 0.984375 -1.71875 1.09375 -0.515625 1.640625 0.625 C 2.25 1.84375 3.09375 2.5 3.203125 2.5 C 3.265625 2.5 3.296875 2.46875 3.296875 2.390625 Z M 3.296875 2.390625 \"/>\n</symbol>\n<symbol overflow=\"visible\" id=\"glyph3-2\">\n<path style=\"stroke:none;\" d=\"M 2.875 -2.5 C 2.875 -3.265625 2.765625 -4.46875 2.21875 -5.609375 C 1.625 -6.828125 0.765625 -7.484375 0.671875 -7.484375 C 0.609375 -7.484375 0.5625 -7.4375 0.5625 -7.375 C 0.5625 -7.34375 0.5625 -7.328125 0.75 -7.140625 C 1.734375 -6.15625 2.296875 -4.578125 2.296875 -2.5 C 2.296875 -0.78125 1.9375 0.96875 0.703125 2.21875 C 0.5625 2.34375 0.5625 2.359375 0.5625 2.390625 C 0.5625 2.453125 0.609375 2.5 0.671875 2.5 C 0.765625 2.5 1.671875 1.8125 2.25 0.546875 C 2.765625 -0.546875 2.875 -1.65625 2.875 -2.5 Z M 2.875 -2.5 \"/>\n</symbol>\n</g>\n<clipPath id=\"clip1\">\n  <path d=\"M 0 0 L 58 0 L 58 57.089844 L 0 57.089844 Z M 0 0 \"/>\n</clipPath>\n<clipPath id=\"clip2\">\n  <path d=\"M 141 0 L 199 0 L 199 57.089844 L 141 57.089844 Z M 141 0 \"/>\n</clipPath>\n<clipPath id=\"clip3\">\n  <path d=\"M 283 0 L 340.554688 0 L 340.554688 57 L 283 57 Z M 283 0 \"/>\n</clipPath>\n<clipPath id=\"clip4\">\n  <path d=\"M 283 0 L 340.554688 0 L 340.554688 57.089844 L 283 57.089844 Z M 283 0 \"/>\n</clipPath>\n</defs>\n<g id=\"surface1\">\n<path style=\" stroke:none;fill-rule:nonzero;fill:rgb(79.998779%,100%,79.998779%);fill-opacity:1;\" d=\"M 0.199219 56.890625 L 0.199219 0.199219 L 56.894531 0.199219 L 56.894531 56.890625 Z M 0.199219 56.890625 \"/>\n<g clip-path=\"url(#clip1)\" clip-rule=\"nonzero\">\n<path style=\"fill:none;stroke-width:0.3985;stroke-linecap:butt;stroke-linejoin:miter;stroke:rgb(0%,0%,0%);stroke-opacity:1;stroke-miterlimit:10;\" d=\"M 0.00021875 0.001375 L 0.00021875 56.692781 L 56.695531 56.692781 L 56.695531 0.001375 Z M 0.00021875 0.001375 \" transform=\"matrix(1,0,0,-1,0.199,56.892)\"/>\n</g>\n<g style=\"fill:rgb(0%,0%,0%);fill-opacity:1;\">\n  <use xlink:href=\"#glyph0-1\" x=\"24.644\" y=\"33.447\"/>\n</g>\n<path style=\"fill:none;stroke-width:0.79701;stroke-linecap:butt;stroke-linejoin:miter;stroke:rgb(0%,0%,0%);stroke-opacity:1;stroke-miterlimit:10;\" d=\"M 70.867406 28.345125 L 126.851781 28.345125 \" transform=\"matrix(1,0,0,-1,0.199,56.892)\"/>\n<path style=\"fill:none;stroke-width:0.6376;stroke-linecap:round;stroke-linejoin:round;stroke:rgb(0%,0%,0%);stroke-opacity:1;stroke-miterlimit:10;\" d=\"M -1.55227 2.072544 C -1.423364 1.2952 -0.00148875 0.131138 0.389136 -0.001675 C -0.00148875 -0.130581 -1.423364 -1.294644 -1.55227 -2.071987 \" transform=\"matrix(1,0,0,-1,127.05227,28.5452)\"/>\n<g style=\"fill:rgb(0%,0%,0%);fill-opacity:1;\">\n  <use xlink:href=\"#glyph1-1\" x=\"77.816\" y=\"22.336\"/>\n</g>\n<g style=\"fill:rgb(0%,0%,0%);fill-opacity:1;\">\n  <use xlink:href=\"#glyph2-1\" x=\"83.628\" y=\"18.72\"/>\n</g>\n<g style=\"fill:rgb(0%,0%,0%);fill-opacity:1;\">\n  <use xlink:href=\"#glyph2-2\" x=\"88.90368\" y=\"18.72\"/>\n</g>\n<g style=\"fill:rgb(0%,0%,0%);fill-opacity:1;\">\n  <use xlink:href=\"#glyph3-1\" x=\"93.472\" y=\"22.336\"/>\n</g>\n<g style=\"fill:rgb(0%,0%,0%);fill-opacity:1;\">\n  <use xlink:href=\"#glyph1-2\" x=\"97.346\" y=\"22.336\"/>\n  <use xlink:href=\"#glyph1-3\" x=\"100.943495\" y=\"22.336\"/>\n</g>\n<g style=\"fill:rgb(0%,0%,0%);fill-opacity:1;\">\n  <use xlink:href=\"#glyph1-4\" x=\"105.374859\" y=\"22.336\"/>\n</g>\n<g style=\"fill:rgb(0%,0%,0%);fill-opacity:1;\">\n  <use xlink:href=\"#glyph2-3\" x=\"113.626\" y=\"23.83\"/>\n</g>\n<g style=\"fill:rgb(0%,0%,0%);fill-opacity:1;\">\n  <use xlink:href=\"#glyph3-2\" x=\"117.133\" y=\"22.336\"/>\n</g>\n<path style=\" stroke:none;fill-rule:nonzero;fill:rgb(100%,79.998779%,79.998779%);fill-opacity:1;\" d=\"M 141.933594 56.890625 L 141.933594 0.199219 L 198.625 0.199219 L 198.625 56.890625 Z M 141.933594 56.890625 \"/>\n<g clip-path=\"url(#clip2)\" clip-rule=\"nonzero\">\n<path style=\"fill:none;stroke-width:0.3985;stroke-linecap:butt;stroke-linejoin:miter;stroke:rgb(0%,0%,0%);stroke-opacity:1;stroke-miterlimit:10;\" d=\"M 141.734594 0.001375 L 141.734594 56.692781 L 198.426 56.692781 L 198.426 0.001375 Z M 141.734594 0.001375 \" transform=\"matrix(1,0,0,-1,0.199,56.892)\"/>\n</g>\n<g style=\"fill:rgb(0%,0%,0%);fill-opacity:1;\">\n  <use xlink:href=\"#glyph0-2\" x=\"167.744\" y=\"33.447\"/>\n</g>\n<path style=\"fill:none;stroke-width:0.79701;stroke-linecap:butt;stroke-linejoin:miter;stroke:rgb(0%,0%,0%);stroke-opacity:1;stroke-miterlimit:10;\" d=\"M 212.601781 28.345125 L 268.586156 28.345125 \" transform=\"matrix(1,0,0,-1,0.199,56.892)\"/>\n<path style=\"fill:none;stroke-width:0.6376;stroke-linecap:round;stroke-linejoin:round;stroke:rgb(0%,0%,0%);stroke-opacity:1;stroke-miterlimit:10;\" d=\"M -1.555841 2.072544 C -1.423029 1.2952 -0.00115375 0.131138 0.389471 -0.001675 C -0.00115375 -0.130581 -1.423029 -1.294644 -1.555841 -2.071987 \" transform=\"matrix(1,0,0,-1,268.78631,28.5452)\"/>\n<g style=\"fill:rgb(0%,0%,0%);fill-opacity:1;\">\n  <use xlink:href=\"#glyph1-1\" x=\"219.166\" y=\"22.336\"/>\n</g>\n<g style=\"fill:rgb(0%,0%,0%);fill-opacity:1;\">\n  <use xlink:href=\"#glyph2-2\" x=\"224.978\" y=\"18.72\"/>\n</g>\n<g style=\"fill:rgb(0%,0%,0%);fill-opacity:1;\">\n  <use xlink:href=\"#glyph2-4\" x=\"229.052791\" y=\"18.72\"/>\n</g>\n<g style=\"fill:rgb(0%,0%,0%);fill-opacity:1;\">\n  <use xlink:href=\"#glyph3-1\" x=\"235.586\" y=\"22.336\"/>\n</g>\n<g style=\"fill:rgb(0%,0%,0%);fill-opacity:1;\">\n  <use xlink:href=\"#glyph1-2\" x=\"239.461\" y=\"22.336\"/>\n  <use xlink:href=\"#glyph1-3\" x=\"243.058495\" y=\"22.336\"/>\n</g>\n<g style=\"fill:rgb(0%,0%,0%);fill-opacity:1;\">\n  <use xlink:href=\"#glyph1-4\" x=\"247.489859\" y=\"22.336\"/>\n</g>\n<g style=\"fill:rgb(0%,0%,0%);fill-opacity:1;\">\n  <use xlink:href=\"#glyph2-3\" x=\"255.74\" y=\"23.83\"/>\n</g>\n<g style=\"fill:rgb(0%,0%,0%);fill-opacity:1;\">\n  <use xlink:href=\"#glyph3-2\" x=\"259.247\" y=\"22.336\"/>\n</g>\n<g clip-path=\"url(#clip3)\" clip-rule=\"nonzero\">\n<path style=\" stroke:none;fill-rule:nonzero;fill:rgb(79.998779%,79.998779%,100%);fill-opacity:1;\" d=\"M 283.667969 56.890625 L 283.667969 0.199219 L 340.359375 0.199219 L 340.359375 56.890625 Z M 283.667969 56.890625 \"/>\n</g>\n<g clip-path=\"url(#clip4)\" clip-rule=\"nonzero\">\n<path style=\"fill:none;stroke-width:0.3985;stroke-linecap:butt;stroke-linejoin:miter;stroke:rgb(0%,0%,0%);stroke-opacity:1;stroke-miterlimit:10;\" d=\"M 283.468969 0.001375 L 283.468969 56.692781 L 340.160375 56.692781 L 340.160375 0.001375 Z M 283.468969 0.001375 \" transform=\"matrix(1,0,0,-1,0.199,56.892)\"/>\n</g>\n<g style=\"fill:rgb(0%,0%,0%);fill-opacity:1;\">\n  <use xlink:href=\"#glyph0-3\" x=\"306.841\" y=\"33.447\"/>\n</g>\n</g>\n</svg>"
          },
          "metadata": {
            "isolated": "true"
          }
        }
      ]
    },
    {
      "cell_type": "markdown",
      "source": [
        "In this model, there are two transition events that can occur.\n",
        "\n",
        "1. $S → I$ - infection event\n",
        "2. $I → R$ - removal event\n",
        "\n",
        "Each of these is itself a time inhomogeneous Poisson process which makes the SIR model a time inhomogeneous Poisson process (the sum of Poisson processes is itself a Poisson process - proof can be done with moment generating function but not important for this course). To write out the likelihood function, we take advantage of the independence property and exponentially distributed wait times property.\n",
        "\n",
        "Suppose that observations (or data) are over a time period $[0 ,t_{max})$ as before. We can partition this period into smaller (left closed-right open) intervals such that each interval contains *only* 1 event. Set the length of each interval as $\\delta t_i= t_{s+1}- t_s$ and then\n",
        "\\begin{equation}\n",
        "[0 ,t_{max}) = \\bigcup_{s \\in = 0,\\ldots, max-1} [t_s, t_{s+1})\n",
        "\\end{equation}\n",
        "Recall that in each time interval, the wait time until the next event is exponentially distributed with a constant rate. For SIR model, we define the infection rate as $\\lambda^{SI}(t)$ and the removal rate as $\\lambda^{IR}(t)$. Let $z^{SI}, z^{IR}$ be the number of infection and removal events respectively since time $t=0$. Then, for any time interval, the probability of observing each event is\n",
        "\\begin{align}\n",
        "\\delta_{t_s}^{SI}&\\sim \\mbox{Exponential}(\\lambda^{SI}(t_s)) \\\\\n",
        "\\delta_{t_s}^{IR}&\\sim \\mbox{Exponential}(\\lambda^{IR}(t_s)) \\\\\n",
        "\\Rightarrow P(z^{SI}_{t_s + \\delta t_s} - z^{SI}_{t_s} = 1 | z^{SI}_{t_s}) &= 1 -  e^{-\\lambda^{SI}(t_s)\\delta_{t_s}} \\\\\n",
        "\\Rightarrow P(z^{IR}_{t_s + \\delta t_s} - z^{IR}_{t_s} = 1 | z^{IR}_{t_s}) &= 1 -  e^{-\\lambda^{IR}(t_s)\\delta_{t_s}}\n",
        "\\end{align}\n",
        "In contrast, the probability that an event did *not* occur in that time window can be evaluated with the accompanying survival function.\n",
        "\\begin{align}\n",
        "P(z^{SI}_{t_s + \\delta t_s} - z^{SI}_{t_s} = 0) &= e^{-\\lambda^{SI}(t_s)\\delta t_s} \\\\\n",
        "P(z^{IR}_{t_s + \\delta t_s} - z^{IR}_{t_s} = 0) &= e^{-\\lambda^{IR}(t_s)\\delta t_s}\n",
        "\\end{align}\n",
        "Therefore, the likelihood that an infection event occured in a time interval is\n",
        "\\begin{align}\n",
        "P(S \\rightarrow I, \\delta t_s| H_t) &= \\lambda^{SI}(t_s) e^{-\\lambda^{SI}(t_i) \\delta t_s} e^{-\\lambda^{IR}(t_i) \\delta t_s} \\\\\n",
        "&= \\lambda^{SI}(t_s) e^{ - \\left(\\lambda^{SI}(t_i)+\\lambda^{IR}(t_s)\\right)\\delta t_s}\n",
        "\\end{align}\n",
        "Similarly for the likeihood of a removal event\n",
        "\\begin{align}\n",
        "P(I \\rightarrow R, \\delta t_s| H_t) &= \\lambda^{IR}(t_s) e^{-\\lambda^{IR}(t_s) \\delta t_s} e^{-\\lambda^{SI}(t_s) \\delta t_s} \\\\\n",
        "&= \\lambda^{IR}(t_s) e^{ -\\left(\\lambda^{SI}(t_s)+\\lambda^{IR}(t_s)\\right) \\delta t_s}\n",
        "\\end{align}\n",
        "Since each time interval is independent of the other, we can get the likelihood of the entire process by taking the product over all time intervals\n",
        "\\begin{equation}\n",
        "L(X|H) = \\prod_{s=0}^{max - 1} \\lambda(t_s) e^{ -\\left(\\lambda^{SI}(t_s)+\\lambda^{IR}(t_s)\\right) \\delta t_s}\n",
        "\\end{equation}\n",
        "\\begin{equation}\n",
        "l(X|H) = \\sum_{s=0}^{max - 1} \\log\\lambda(t_s) - \\sum_{s=0}^{max - 1}\\left(\\lambda^{SI}(t_s)+\\lambda^{IR}(t_s)\\right) \\delta t_s\n",
        "\\end{equation}\n",
        "For convenience, we drop the superscript on the event occurred (the $\\lambda (t)$ which is not part of the expontential because it is clear that it indicates the rate of the transition event that occurred."
      ],
      "metadata": {
        "id": "-XiPuD02IhZ8"
      }
    },
    {
      "cell_type": "markdown",
      "source": [
        "## Practice"
      ],
      "metadata": {
        "id": "xZK8U_pNrCiq"
      }
    },
    {
      "cell_type": "markdown",
      "source": [
        "### Exercise 1\n",
        "Consider the data generated by SIR model with following transition rates.\n",
        "\n",
        "\\begin{equation}\n",
        "\\left\\{\\begin{array}{lr}\n",
        "        \\lambda^{SI} (t) = 0.005 S(t)I(t) & \\mbox{infectious pressure in system}\\\\\n",
        "        \\lambda^{IR}_i (t) = 0.02 I(t) & \\mbox{removal pressure in system} \\\\\n",
        "        0 & \\text{o.w.}\n",
        "        \\end{array}\\right.\n",
        "\\end{equation}"
      ],
      "metadata": {
        "id": "2Y1Lvv3naeZa"
      }
    },
    {
      "cell_type": "code",
      "source": [
        "import numpy as np\n",
        "import pandas as pd\n",
        "import matplotlib.pyplot as plt\n",
        "import seaborn as sns\n",
        "\n",
        "sns.set_theme()"
      ],
      "metadata": {
        "id": "hj0-S5Vce-xX"
      },
      "execution_count": null,
      "outputs": []
    },
    {
      "cell_type": "code",
      "source": [
        "unit_id = np.arange(0,3)\n",
        "infection_times = np.array([0.0, 4., 2.])\n",
        "removal_times = np.array([3., 6., 8.])\n",
        "\n",
        "ex1_data = pd.DataFrame({'unit_id': unit_id,\n",
        "                        'infection_time': infection_times,\n",
        "                        'removal_time': removal_times}\n",
        "                        )\n",
        "ex1_data"
      ],
      "metadata": {
        "id": "0-jJvh6hfN6a",
        "colab": {
          "base_uri": "https://localhost:8080/",
          "height": 143
        },
        "outputId": "bcb934a6-00f2-4b35-ce57-d9ef82530c66"
      },
      "execution_count": null,
      "outputs": [
        {
          "output_type": "execute_result",
          "data": {
            "text/plain": [
              "   unit_id  infection_time  removal_time\n",
              "0        0             0.0           3.0\n",
              "1        1             4.0           6.0\n",
              "2        2             2.0           8.0"
            ],
            "text/html": [
              "\n",
              "  <div id=\"df-e459a243-00ca-44c6-8a69-2f620cfbdf76\" class=\"colab-df-container\">\n",
              "    <div>\n",
              "<style scoped>\n",
              "    .dataframe tbody tr th:only-of-type {\n",
              "        vertical-align: middle;\n",
              "    }\n",
              "\n",
              "    .dataframe tbody tr th {\n",
              "        vertical-align: top;\n",
              "    }\n",
              "\n",
              "    .dataframe thead th {\n",
              "        text-align: right;\n",
              "    }\n",
              "</style>\n",
              "<table border=\"1\" class=\"dataframe\">\n",
              "  <thead>\n",
              "    <tr style=\"text-align: right;\">\n",
              "      <th></th>\n",
              "      <th>unit_id</th>\n",
              "      <th>infection_time</th>\n",
              "      <th>removal_time</th>\n",
              "    </tr>\n",
              "  </thead>\n",
              "  <tbody>\n",
              "    <tr>\n",
              "      <th>0</th>\n",
              "      <td>0</td>\n",
              "      <td>0.0</td>\n",
              "      <td>3.0</td>\n",
              "    </tr>\n",
              "    <tr>\n",
              "      <th>1</th>\n",
              "      <td>1</td>\n",
              "      <td>4.0</td>\n",
              "      <td>6.0</td>\n",
              "    </tr>\n",
              "    <tr>\n",
              "      <th>2</th>\n",
              "      <td>2</td>\n",
              "      <td>2.0</td>\n",
              "      <td>8.0</td>\n",
              "    </tr>\n",
              "  </tbody>\n",
              "</table>\n",
              "</div>\n",
              "    <div class=\"colab-df-buttons\">\n",
              "\n",
              "  <div class=\"colab-df-container\">\n",
              "    <button class=\"colab-df-convert\" onclick=\"convertToInteractive('df-e459a243-00ca-44c6-8a69-2f620cfbdf76')\"\n",
              "            title=\"Convert this dataframe to an interactive table.\"\n",
              "            style=\"display:none;\">\n",
              "\n",
              "  <svg xmlns=\"http://www.w3.org/2000/svg\" height=\"24px\" viewBox=\"0 -960 960 960\">\n",
              "    <path d=\"M120-120v-720h720v720H120Zm60-500h600v-160H180v160Zm220 220h160v-160H400v160Zm0 220h160v-160H400v160ZM180-400h160v-160H180v160Zm440 0h160v-160H620v160ZM180-180h160v-160H180v160Zm440 0h160v-160H620v160Z\"/>\n",
              "  </svg>\n",
              "    </button>\n",
              "\n",
              "  <style>\n",
              "    .colab-df-container {\n",
              "      display:flex;\n",
              "      gap: 12px;\n",
              "    }\n",
              "\n",
              "    .colab-df-convert {\n",
              "      background-color: #E8F0FE;\n",
              "      border: none;\n",
              "      border-radius: 50%;\n",
              "      cursor: pointer;\n",
              "      display: none;\n",
              "      fill: #1967D2;\n",
              "      height: 32px;\n",
              "      padding: 0 0 0 0;\n",
              "      width: 32px;\n",
              "    }\n",
              "\n",
              "    .colab-df-convert:hover {\n",
              "      background-color: #E2EBFA;\n",
              "      box-shadow: 0px 1px 2px rgba(60, 64, 67, 0.3), 0px 1px 3px 1px rgba(60, 64, 67, 0.15);\n",
              "      fill: #174EA6;\n",
              "    }\n",
              "\n",
              "    .colab-df-buttons div {\n",
              "      margin-bottom: 4px;\n",
              "    }\n",
              "\n",
              "    [theme=dark] .colab-df-convert {\n",
              "      background-color: #3B4455;\n",
              "      fill: #D2E3FC;\n",
              "    }\n",
              "\n",
              "    [theme=dark] .colab-df-convert:hover {\n",
              "      background-color: #434B5C;\n",
              "      box-shadow: 0px 1px 3px 1px rgba(0, 0, 0, 0.15);\n",
              "      filter: drop-shadow(0px 1px 2px rgba(0, 0, 0, 0.3));\n",
              "      fill: #FFFFFF;\n",
              "    }\n",
              "  </style>\n",
              "\n",
              "    <script>\n",
              "      const buttonEl =\n",
              "        document.querySelector('#df-e459a243-00ca-44c6-8a69-2f620cfbdf76 button.colab-df-convert');\n",
              "      buttonEl.style.display =\n",
              "        google.colab.kernel.accessAllowed ? 'block' : 'none';\n",
              "\n",
              "      async function convertToInteractive(key) {\n",
              "        const element = document.querySelector('#df-e459a243-00ca-44c6-8a69-2f620cfbdf76');\n",
              "        const dataTable =\n",
              "          await google.colab.kernel.invokeFunction('convertToInteractive',\n",
              "                                                    [key], {});\n",
              "        if (!dataTable) return;\n",
              "\n",
              "        const docLinkHtml = 'Like what you see? Visit the ' +\n",
              "          '<a target=\"_blank\" href=https://colab.research.google.com/notebooks/data_table.ipynb>data table notebook</a>'\n",
              "          + ' to learn more about interactive tables.';\n",
              "        element.innerHTML = '';\n",
              "        dataTable['output_type'] = 'display_data';\n",
              "        await google.colab.output.renderOutput(dataTable, element);\n",
              "        const docLink = document.createElement('div');\n",
              "        docLink.innerHTML = docLinkHtml;\n",
              "        element.appendChild(docLink);\n",
              "      }\n",
              "    </script>\n",
              "  </div>\n",
              "\n",
              "\n",
              "<div id=\"df-28a78ffc-e1a5-4a30-90e8-e0923ba6938e\">\n",
              "  <button class=\"colab-df-quickchart\" onclick=\"quickchart('df-28a78ffc-e1a5-4a30-90e8-e0923ba6938e')\"\n",
              "            title=\"Suggest charts\"\n",
              "            style=\"display:none;\">\n",
              "\n",
              "<svg xmlns=\"http://www.w3.org/2000/svg\" height=\"24px\"viewBox=\"0 0 24 24\"\n",
              "     width=\"24px\">\n",
              "    <g>\n",
              "        <path d=\"M19 3H5c-1.1 0-2 .9-2 2v14c0 1.1.9 2 2 2h14c1.1 0 2-.9 2-2V5c0-1.1-.9-2-2-2zM9 17H7v-7h2v7zm4 0h-2V7h2v10zm4 0h-2v-4h2v4z\"/>\n",
              "    </g>\n",
              "</svg>\n",
              "  </button>\n",
              "\n",
              "<style>\n",
              "  .colab-df-quickchart {\n",
              "      --bg-color: #E8F0FE;\n",
              "      --fill-color: #1967D2;\n",
              "      --hover-bg-color: #E2EBFA;\n",
              "      --hover-fill-color: #174EA6;\n",
              "      --disabled-fill-color: #AAA;\n",
              "      --disabled-bg-color: #DDD;\n",
              "  }\n",
              "\n",
              "  [theme=dark] .colab-df-quickchart {\n",
              "      --bg-color: #3B4455;\n",
              "      --fill-color: #D2E3FC;\n",
              "      --hover-bg-color: #434B5C;\n",
              "      --hover-fill-color: #FFFFFF;\n",
              "      --disabled-bg-color: #3B4455;\n",
              "      --disabled-fill-color: #666;\n",
              "  }\n",
              "\n",
              "  .colab-df-quickchart {\n",
              "    background-color: var(--bg-color);\n",
              "    border: none;\n",
              "    border-radius: 50%;\n",
              "    cursor: pointer;\n",
              "    display: none;\n",
              "    fill: var(--fill-color);\n",
              "    height: 32px;\n",
              "    padding: 0;\n",
              "    width: 32px;\n",
              "  }\n",
              "\n",
              "  .colab-df-quickchart:hover {\n",
              "    background-color: var(--hover-bg-color);\n",
              "    box-shadow: 0 1px 2px rgba(60, 64, 67, 0.3), 0 1px 3px 1px rgba(60, 64, 67, 0.15);\n",
              "    fill: var(--button-hover-fill-color);\n",
              "  }\n",
              "\n",
              "  .colab-df-quickchart-complete:disabled,\n",
              "  .colab-df-quickchart-complete:disabled:hover {\n",
              "    background-color: var(--disabled-bg-color);\n",
              "    fill: var(--disabled-fill-color);\n",
              "    box-shadow: none;\n",
              "  }\n",
              "\n",
              "  .colab-df-spinner {\n",
              "    border: 2px solid var(--fill-color);\n",
              "    border-color: transparent;\n",
              "    border-bottom-color: var(--fill-color);\n",
              "    animation:\n",
              "      spin 1s steps(1) infinite;\n",
              "  }\n",
              "\n",
              "  @keyframes spin {\n",
              "    0% {\n",
              "      border-color: transparent;\n",
              "      border-bottom-color: var(--fill-color);\n",
              "      border-left-color: var(--fill-color);\n",
              "    }\n",
              "    20% {\n",
              "      border-color: transparent;\n",
              "      border-left-color: var(--fill-color);\n",
              "      border-top-color: var(--fill-color);\n",
              "    }\n",
              "    30% {\n",
              "      border-color: transparent;\n",
              "      border-left-color: var(--fill-color);\n",
              "      border-top-color: var(--fill-color);\n",
              "      border-right-color: var(--fill-color);\n",
              "    }\n",
              "    40% {\n",
              "      border-color: transparent;\n",
              "      border-right-color: var(--fill-color);\n",
              "      border-top-color: var(--fill-color);\n",
              "    }\n",
              "    60% {\n",
              "      border-color: transparent;\n",
              "      border-right-color: var(--fill-color);\n",
              "    }\n",
              "    80% {\n",
              "      border-color: transparent;\n",
              "      border-right-color: var(--fill-color);\n",
              "      border-bottom-color: var(--fill-color);\n",
              "    }\n",
              "    90% {\n",
              "      border-color: transparent;\n",
              "      border-bottom-color: var(--fill-color);\n",
              "    }\n",
              "  }\n",
              "</style>\n",
              "\n",
              "  <script>\n",
              "    async function quickchart(key) {\n",
              "      const quickchartButtonEl =\n",
              "        document.querySelector('#' + key + ' button');\n",
              "      quickchartButtonEl.disabled = true;  // To prevent multiple clicks.\n",
              "      quickchartButtonEl.classList.add('colab-df-spinner');\n",
              "      try {\n",
              "        const charts = await google.colab.kernel.invokeFunction(\n",
              "            'suggestCharts', [key], {});\n",
              "      } catch (error) {\n",
              "        console.error('Error during call to suggestCharts:', error);\n",
              "      }\n",
              "      quickchartButtonEl.classList.remove('colab-df-spinner');\n",
              "      quickchartButtonEl.classList.add('colab-df-quickchart-complete');\n",
              "    }\n",
              "    (() => {\n",
              "      let quickchartButtonEl =\n",
              "        document.querySelector('#df-28a78ffc-e1a5-4a30-90e8-e0923ba6938e button');\n",
              "      quickchartButtonEl.style.display =\n",
              "        google.colab.kernel.accessAllowed ? 'block' : 'none';\n",
              "    })();\n",
              "  </script>\n",
              "</div>\n",
              "\n",
              "  <div id=\"id_7059da05-0f36-4688-999a-c10f5183206e\">\n",
              "    <style>\n",
              "      .colab-df-generate {\n",
              "        background-color: #E8F0FE;\n",
              "        border: none;\n",
              "        border-radius: 50%;\n",
              "        cursor: pointer;\n",
              "        display: none;\n",
              "        fill: #1967D2;\n",
              "        height: 32px;\n",
              "        padding: 0 0 0 0;\n",
              "        width: 32px;\n",
              "      }\n",
              "\n",
              "      .colab-df-generate:hover {\n",
              "        background-color: #E2EBFA;\n",
              "        box-shadow: 0px 1px 2px rgba(60, 64, 67, 0.3), 0px 1px 3px 1px rgba(60, 64, 67, 0.15);\n",
              "        fill: #174EA6;\n",
              "      }\n",
              "\n",
              "      [theme=dark] .colab-df-generate {\n",
              "        background-color: #3B4455;\n",
              "        fill: #D2E3FC;\n",
              "      }\n",
              "\n",
              "      [theme=dark] .colab-df-generate:hover {\n",
              "        background-color: #434B5C;\n",
              "        box-shadow: 0px 1px 3px 1px rgba(0, 0, 0, 0.15);\n",
              "        filter: drop-shadow(0px 1px 2px rgba(0, 0, 0, 0.3));\n",
              "        fill: #FFFFFF;\n",
              "      }\n",
              "    </style>\n",
              "    <button class=\"colab-df-generate\" onclick=\"generateWithVariable('ex1_data')\"\n",
              "            title=\"Generate code using this dataframe.\"\n",
              "            style=\"display:none;\">\n",
              "\n",
              "  <svg xmlns=\"http://www.w3.org/2000/svg\" height=\"24px\"viewBox=\"0 0 24 24\"\n",
              "       width=\"24px\">\n",
              "    <path d=\"M7,19H8.4L18.45,9,17,7.55,7,17.6ZM5,21V16.75L18.45,3.32a2,2,0,0,1,2.83,0l1.4,1.43a1.91,1.91,0,0,1,.58,1.4,1.91,1.91,0,0,1-.58,1.4L9.25,21ZM18.45,9,17,7.55Zm-12,3A5.31,5.31,0,0,0,4.9,8.1,5.31,5.31,0,0,0,1,6.5,5.31,5.31,0,0,0,4.9,4.9,5.31,5.31,0,0,0,6.5,1,5.31,5.31,0,0,0,8.1,4.9,5.31,5.31,0,0,0,12,6.5,5.46,5.46,0,0,0,6.5,12Z\"/>\n",
              "  </svg>\n",
              "    </button>\n",
              "    <script>\n",
              "      (() => {\n",
              "      const buttonEl =\n",
              "        document.querySelector('#id_7059da05-0f36-4688-999a-c10f5183206e button.colab-df-generate');\n",
              "      buttonEl.style.display =\n",
              "        google.colab.kernel.accessAllowed ? 'block' : 'none';\n",
              "\n",
              "      buttonEl.onclick = () => {\n",
              "        google.colab.notebook.generateWithVariable('ex1_data');\n",
              "      }\n",
              "      })();\n",
              "    </script>\n",
              "  </div>\n",
              "\n",
              "    </div>\n",
              "  </div>\n"
            ],
            "application/vnd.google.colaboratory.intrinsic+json": {
              "type": "dataframe",
              "variable_name": "ex1_data",
              "summary": "{\n  \"name\": \"ex1_data\",\n  \"rows\": 3,\n  \"fields\": [\n    {\n      \"column\": \"unit_id\",\n      \"properties\": {\n        \"dtype\": \"number\",\n        \"std\": 1,\n        \"min\": 0,\n        \"max\": 2,\n        \"num_unique_values\": 3,\n        \"samples\": [\n          0,\n          1,\n          2\n        ],\n        \"semantic_type\": \"\",\n        \"description\": \"\"\n      }\n    },\n    {\n      \"column\": \"infection_time\",\n      \"properties\": {\n        \"dtype\": \"number\",\n        \"std\": 2.0,\n        \"min\": 0.0,\n        \"max\": 4.0,\n        \"num_unique_values\": 3,\n        \"samples\": [\n          0.0,\n          4.0,\n          2.0\n        ],\n        \"semantic_type\": \"\",\n        \"description\": \"\"\n      }\n    },\n    {\n      \"column\": \"removal_time\",\n      \"properties\": {\n        \"dtype\": \"number\",\n        \"std\": 2.516611478423583,\n        \"min\": 3.0,\n        \"max\": 8.0,\n        \"num_unique_values\": 3,\n        \"samples\": [\n          3.0,\n          6.0,\n          8.0\n        ],\n        \"semantic_type\": \"\",\n        \"description\": \"\"\n      }\n    }\n  ]\n}"
            }
          },
          "metadata": {},
          "execution_count": 5
        }
      ]
    },
    {
      "cell_type": "code",
      "source": [
        "# convert to array for plotting\n",
        "ex1_data = np.array(ex1_data)"
      ],
      "metadata": {
        "id": "AkIemDWvf5rB"
      },
      "execution_count": null,
      "outputs": []
    },
    {
      "cell_type": "code",
      "source": [
        "# @title\n",
        "from matplotlib.lines import Line2D\n",
        "from matplotlib.patches import Patch\n",
        "\n",
        "pop_size = 3\n",
        "\n",
        "fig = plt.figure(figsize=(4, 4))\n",
        "ax = fig.add_subplot()\n",
        "\n",
        "ax.scatter(ex1_data[:,1], ex1_data[:,0], color='red', s=25)\n",
        "ax.scatter(ex1_data[:,2], ex1_data[:,0], color='green', s=25)\n",
        "\n",
        "plt.yticks(np.arange(pop_size))\n",
        "\n",
        "# plot susceptible period\n",
        "for ii in range(pop_size):\n",
        "    x = [0, ex1_data[ii,1]]\n",
        "    y = [ii, ii]\n",
        "    ax.plot(x,y,'b-',alpha=1, linewidth=3, label = 'Sus')\n",
        "\n",
        "# plot infective period\n",
        "for ii in range(pop_size):\n",
        "    x = [ex1_data[ii,1], ex1_data[ii,2]]\n",
        "    y = [ii, ii]\n",
        "    ax.plot(x,y,'r-',alpha=1, linewidth=3, label = 'Inf')\n",
        "    #ax.text(x, y, f\" {ii}\", color='red')\n",
        "\n",
        "# plot removed period\n",
        "for ii in range(pop_size):\n",
        "    x = [ex1_data[ii,2], np.max(ex1_data[:,2])]\n",
        "    y = [ii, ii]\n",
        "    ax.plot(x,y,'g-',alpha=1, linewidth=3, label = 'Rem')\n",
        "    #ax.text(x, y, f\" {ii}\", color='red')\n",
        "\n",
        "legend_elements = [Line2D([0], [0], color='b', lw=3, label='Sus'),\n",
        "                   Line2D([0], [0], color='r', lw=3, label='Inf'),\n",
        "                   Line2D([0], [0], color='g', lw=3, label='Rem'),\n",
        "                   ]\n",
        "\n",
        "# plot horizontal dashed lines at each event\n",
        "for ii in range(pop_size):\n",
        "    plt.axvline(x=ex1_data[ii,1], linestyle = 'dotted', color = 'red', alpha = 0.7)\n",
        "    plt.axvline(x=ex1_data[ii,2], linestyle = 'dotted', color = 'green', alpha = 0.7)\n",
        "\n",
        "plt.xlabel('Time')\n",
        "plt.ylabel('Event')\n",
        "plt.title(f'{pop_size} unit epidemic progression')\n",
        "\n",
        "plt.legend(handles=legend_elements, loc='right', bbox_to_anchor=(1.4, .5),\n",
        "          ncol=1, fancybox=True, shadow=True)\n",
        "ax.plot()"
      ],
      "metadata": {
        "colab": {
          "base_uri": "https://localhost:8080/",
          "height": 436
        },
        "id": "sKjbWx3ogzfo",
        "outputId": "dea62761-97f8-488f-c12c-1cc2aa9ea2d2"
      },
      "execution_count": null,
      "outputs": [
        {
          "output_type": "execute_result",
          "data": {
            "text/plain": [
              "[]"
            ]
          },
          "metadata": {},
          "execution_count": 7
        },
        {
          "output_type": "display_data",
          "data": {
            "text/plain": [
              "<Figure size 400x400 with 1 Axes>"
            ],
            "image/png": "[encoded data removed]"
          },
          "metadata": {}
        }
      ]
    },
    {
      "cell_type": "markdown",
      "source": [
        "__Question__\n",
        "\n",
        "Compute the log-likelihood of the first event (i.e. unit 2 undergoing an infection event) occuring after the first time-slice.\n"
      ],
      "metadata": {
        "id": "YNSvhH2xlQiC"
      }
    },
    {
      "cell_type": "markdown",
      "source": [
        "\n",
        "### Solution:\n",
        "At $t=0$, there is 1 infected unit and 2 susceptible units. We can then compute the transition rates for each of unit."
      ],
      "metadata": {
        "id": "C2s2axN6oI2Y"
      }
    },
    {
      "cell_type": "code",
      "source": [
        "# constants\n",
        "beta = 0.005\n",
        "gamma = 0.02\n",
        "\n",
        "S_0 = 2\n",
        "I_0 = 1\n",
        "R_0 = 0\n",
        "\n",
        "def transition_rate_fn(S,I,R):\n",
        "    # si rate\n",
        "    si_rate = beta*S*I\n",
        "    # ir rate\n",
        "    ir_rate = gamma*I\n",
        "    return si_rate, ir_rate\n",
        "\n",
        "# transition rates\n",
        "transition_rates = transition_rate_fn(S_0, I_0, R_0)\n",
        "\n",
        "# time delta\n",
        "delta_t = 2. - 0"
      ],
      "metadata": {
        "id": "Mq1mHD79oGvN"
      },
      "execution_count": null,
      "outputs": []
    },
    {
      "cell_type": "code",
      "source": [
        "delta_t"
      ],
      "metadata": {
        "colab": {
          "base_uri": "https://localhost:8080/"
        },
        "id": "rfcnZJ13kY8w",
        "outputId": "170e7ec5-e186-456b-cb63-abdcc08b38fe"
      },
      "execution_count": null,
      "outputs": [
        {
          "output_type": "execute_result",
          "data": {
            "text/plain": [
              "2.0"
            ]
          },
          "metadata": {},
          "execution_count": 10
        }
      ]
    },
    {
      "cell_type": "code",
      "source": [
        "# likelihood follows from L(X|D) formula\n",
        "print(f\"L(X|D) = {transition_rates[0]*np.exp(- np.sum(transition_rates))* int(delta_t)}\" )\n",
        "print(f\"log L(X|D) = {np.log(transition_rates[0]*np.exp(- np.sum(transition_rates))*delta_t)}\")"
      ],
      "metadata": {
        "colab": {
          "base_uri": "https://localhost:8080/"
        },
        "id": "n_aQC8wlpZUp",
        "outputId": "50d73190-d64e-4d43-e69c-5ccaa1909014"
      },
      "execution_count": null,
      "outputs": [
        {
          "output_type": "stream",
          "name": "stdout",
          "text": [
            "L(X|D) = 0.019408910670970163\n",
            "log L(X|D) = -3.942023005428146\n"
          ]
        }
      ]
    },
    {
      "cell_type": "markdown",
      "source": [
        "### Exercise 2\n",
        "\n",
        "Compute the log-likelihood of the whole process."
      ],
      "metadata": {
        "id": "_j7H3vbnxkZG"
      }
    },
    {
      "cell_type": "markdown",
      "source": [
        "### Solution\n",
        "\n",
        "One way to do this is to create a dataframe with all of the values we need. Lets break up the problem into some smaller steps\n",
        "\n",
        "1. Check the likelihood formula to see what values we need\n",
        "2. Create a dataframe with the raw data\n",
        "3. Compute the transition rates for each time step\n",
        "4. Identify the event which occurs\n",
        "5. Compute the likelihood\n",
        "6. Evaluate the likelihood and log-likelihood"
      ],
      "metadata": {
        "id": "O7eCj73hxr-2"
      }
    },
    {
      "cell_type": "code",
      "source": [
        "# create a data frame of the counts at each time step\n",
        "time_steps = np.sort(\n",
        "    np.concatenate(\n",
        "        [infection_times, removal_times]\n",
        "        )\n",
        "    )\n",
        "num_S = np.array([2,1,1,0,0,0])\n",
        "num_I = np.array([1,2,1,2,1,0])\n",
        "num_R = np.array([0,0,1,1,2,3])\n"
      ],
      "metadata": {
        "id": "AChw9u-ui6lH"
      },
      "execution_count": null,
      "outputs": []
    },
    {
      "cell_type": "code",
      "source": [
        "# need total counts for the transition rates so create a dataframe\n",
        "epidemic_data = pd.DataFrame(np.stack([time_steps, num_S, num_I,  num_R], axis = -1),\n",
        "                             columns=['time', 'S', 'I', 'R'])\n",
        "\n",
        "epidemic_data"
      ],
      "metadata": {
        "id": "d2YtGCnzjiII"
      },
      "execution_count": null,
      "outputs": []
    },
    {
      "cell_type": "code",
      "source": [
        "# add which event happened\n",
        "# convention: 0 - infection, 1 - removal, 2 - null/non event\n",
        "epidemic_data['event_type'] = np.array([0,0,1,1,1,2])\n",
        "epidemic_data"
      ],
      "metadata": {
        "id": "5uta86MVG3Tj"
      },
      "execution_count": null,
      "outputs": []
    },
    {
      "cell_type": "code",
      "source": [
        "# compute rates for each event as a new column\n",
        "\n",
        "def transition_rates(row):\n",
        "    # infection event\n",
        "    if row.event_type == 0:\n",
        "        return beta * row.S * row.I\n",
        "    # removal event\n",
        "    elif row.event_type == 1:\n",
        "        return gamma * row.I\n",
        "    # otherwise\n",
        "    else:\n",
        "        return 0\n",
        "\n",
        "epidemic_data = epidemic_data.assign(\n",
        "    # compute all event rates\n",
        "    si_rate = beta * epidemic_data.S * epidemic_data.I,\n",
        "    ir_rate = gamma * epidemic_data.I,\n",
        "    # apply the transiton_rates fn to each row\n",
        "    event_occured_rate = lambda df: df.apply(transition_rates, axis=1)\n",
        "    )\n",
        "\n",
        "epidemic_data"
      ],
      "metadata": {
        "id": "mfoxh3poEzF1"
      },
      "execution_count": null,
      "outputs": []
    },
    {
      "cell_type": "code",
      "source": [
        "# compute time deltas\n",
        "epidemic_data['time_delta'] = -epidemic_data.time.diff(-1)\n",
        "epidemic_data"
      ],
      "metadata": {
        "id": "H1fPqbIXH-ZE"
      },
      "execution_count": null,
      "outputs": []
    },
    {
      "cell_type": "code",
      "source": [
        "# Compute the likelihoods - use lambda function\n",
        "def likelihood(row):\n",
        "    return row.event_occured_rate * np.exp(-(row.si_rate + row.ir_rate) * row.time_delta)\n",
        "\n",
        "epidemic_data['lik_t'] = epidemic_data.apply(likelihood, axis=1)\n",
        "\n",
        "epidemic_data"
      ],
      "metadata": {
        "id": "Jm_Os3d2Iqe1"
      },
      "execution_count": null,
      "outputs": []
    },
    {
      "cell_type": "code",
      "source": [
        "print(f\"L(X|D) = {epidemic_data.lik_t[:-1].prod()}\")\n",
        "print(f\"log L(X|D) = {np.log(epidemic_data.lik_t[:-1].prod())}\")"
      ],
      "metadata": {
        "id": "ixM8ijTPMj-H"
      },
      "execution_count": null,
      "outputs": []
    },
    {
      "cell_type": "markdown",
      "source": [
        "### Generalizing the formula\n",
        "State transition models can become complex quickly with the introduction of new states or different population structures. The fomula above can easily be generalized to account for such changes. Let $\\lambda_{j}^{qr}(t_i)$ be the rate of transitioning from compartment $q$ to $r$ at time $t_i$ for subgroup $j$. The probabilities of observing, or not observing, a $qr$ event are\n",
        "\n",
        "\\begin{align}\n",
        "\\delta_{t_s}^{qr} &\\sim \\mbox{Exponential} (\\lambda_j^{qr}(t_s)) \\\\\n",
        "P(z^{qr}_{t_s + \\delta_{t_s}^{qr}} - z^{qr}_{t_s} = 1| \\delta_{t_s}^{qr}) &= 1 - e^{-\\lambda_j^{qr}(t_s) \\delta_{t_s}^{qr}} \\\\\n",
        "P(z^{qr}_{t_s + \\delta_{t_s}^{qr}} - z^{qr}_{t_s} = 0| \\delta_{t_s}^{qr}) &= e^{-\\lambda_j^{qr}(t_s)\\delta_{t_s}^{qr}} \\\\\n",
        "\\Rightarrow L(X|H) &= \\prod_{s=0}^{max - 1} \\left[\\lambda_j^{qr}(t_s) \\exp(-\\lambda_j^{qr}(t_s)  \\delta_{t_s}^{qr}) \\right]^{\\mathbb{I}_{t_s}^{qr}} \\left[ \\exp(-\\lambda_j^{qr}(t_s)  \\delta_{t_s}^{qr})  \\right]^{1- \\mathbb{I}_{t_s}^{qr}}\n",
        "\\end{align}\n",
        "\n",
        "Where $\\mathbb{I}_{t_s}^{qr}$ is the indicator function of a $qr$ event for group $i$ in interval $t_s$.\n",
        "\n",
        "It is worth noting that this example _is_ a continuous time model. In practice, we often prefer to aggregate events into set time intervals (eg. 1 day, 1 week, etc)."
      ],
      "metadata": {
        "id": "R3dhEyk4acAS"
      }
    },
    {
      "cell_type": "markdown",
      "source": [
        "\n",
        "## Aggregating events\n",
        "\n",
        "Another way to partition the observation period of an epidemic is into blocks of fixed lengths. In doing so, every unit in the population undergoes an Bernoulli experiment in each time period to see if they undergo an event or they \"survive\" the period. This was briefly covered in Lloyd's [epidemic refresher](https://colab.research.google.com/drive/1Rkvyte_adPODcAC3GUmr2iOQ-BHp2BNf#scrollTo=9NxUbKB5V6V9) notebook.\n",
        "\n",
        "Recall that for the SIR model with transition events $S\\rightarrow I$ and $I \\rightarrow R$ we get the following probabilites of surviving a time interval $\\delta t_i$\n",
        "\\begin{align*}\n",
        "p^{SI}_{t_s}&=1-e^{-\\lambda^{SI}(t_s)\\delta t_s} \\\\\n",
        "p^{IR}_{t_s}&=1-e^{-\\lambda^{IR}(t_s)\\delta t_s}\n",
        "\\end{align*}\n",
        "Since there are $S$-many susceptible units and $I$-many infected units, we are taking the sum of $S$ and $I$ many Bernoulli experiments which follows a binomial distribution. This is known as the **chain binomial model**.\n",
        "\n",
        "\\begin{align*}\n",
        "z_{t_s}^{SI} &\\sim \\mbox{Binomial}(S_{t_s}, p^{SI}_{t_s}) \\\\\n",
        "z_{t_s}^{IR} &\\sim \\mbox{Binomial}(I_{t_s}, p^{IR}_{t_s})\n",
        "\\end{align*}\n",
        "\n",
        "Here, we have two coinciding binomial random variables in the same time period which are independent of each other. The likelihood function for this model is then\n",
        "\\begin{equation}\n",
        "L(X|H) = \\prod_{s = 0}^{max - 1} {S_{t_s} \\choose k} \\left(p^{SI}_{t_s} \\right)^k \\left(1-p^{SI}_{t_s} \\right)^{S_{t_s}-k} \\cdot {I_{t_s} \\choose j} \\left(p^{IR}_{t_s} \\right)^j \\left(1-p^{IR}_{t_s} \\right)^{I_{t_s}-j}\n",
        "\\end{equation}\n",
        "\n",
        "\\begin{equation}\n",
        "l(X|H) \\propto \\sum_{s = 0}^{max - 1}\\left( k \\log p^{SI}_{t_s} + (S_{t_s}-k)\\log(1-p^{SI}_{t_s}) + j \\log p^{IR}_{t_s} + (I_{t_s}-j)\\log(1-p^{IR}_{t_s}) \\right)\n",
        "\\end{equation}"
      ],
      "metadata": {
        "id": "VuQZTorixpnr"
      }
    },
    {
      "cell_type": "markdown",
      "source": [
        "# 5. Epidemic likelihoods 2 - Chain binomial models\n"
      ],
      "metadata": {
        "id": "PcIgdxB381eh"
      }
    },
    {
      "cell_type": "markdown",
      "source": [
        "### Exercise 3\n",
        "\n",
        "Consider the following epidemic and accompanying data."
      ],
      "metadata": {
        "id": "iAPrkjuKThmP"
      }
    },
    {
      "cell_type": "code",
      "source": [
        "from warnings import warn\n",
        "\n",
        "try:\n",
        "    import google.colab\n",
        "    !pip install -Uq git+https://gitlab.com/gem-epidemics/gemlib.git@1cdf9b3589af73080e1cd86a94dc6a80697b6d4b\n",
        "except:\n",
        "    warn(\"Not running in Colab, make sure `gemlib` is installed locally\")"
      ],
      "metadata": {
        "id": "Cg4xoJpu85qB"
      },
      "execution_count": null,
      "outputs": []
    },
    {
      "cell_type": "code",
      "source": [
        "import gemlib\n",
        "assert gemlib.__version__ == \"0.9.5\"\n",
        "from gemlib.distributions import DiscreteTimeStateTransitionModel\n",
        "\n",
        "import tensorflow as tf\n",
        "import tensorflow_probability as tfp\n",
        "tfd = tfp.distributions\n",
        "\n",
        "DTYPE = np.float64"
      ],
      "metadata": {
        "id": "vj4IzCUoUEaz"
      },
      "execution_count": null,
      "outputs": []
    },
    {
      "cell_type": "code",
      "source": [
        "incidence_matrix = np.array(\n",
        "    [ #  SI  IR\n",
        "        [-1,  0],  # S\n",
        "        [ 1, -1],  # I\n",
        "        [ 0,  1],  # R\n",
        "    ],\n",
        "    dtype=DTYPE\n",
        "    )\n"
      ],
      "metadata": {
        "id": "DQ640N4oUk8G"
      },
      "execution_count": null,
      "outputs": []
    },
    {
      "cell_type": "code",
      "source": [
        "popsize = 1000\n",
        "\n",
        "initial_state = np.array([[999, 1, 0],]).astype(DTYPE)"
      ],
      "metadata": {
        "id": "Wc1_n5yrU7gH"
      },
      "execution_count": null,
      "outputs": []
    },
    {
      "cell_type": "code",
      "source": [
        "def transition_rates(t, state):\n",
        "    beta = DTYPE(0.3)\n",
        "    gamma = DTYPE(0.1)\n",
        "    epsilon = DTYPE(1e-9)\n",
        "\n",
        "    si_rate = beta * state[:, 1] / tf.reduce_sum(state) + epsilon\n",
        "\n",
        "    ir_rate = tf.fill((state.shape[0],), gamma)\n",
        "\n",
        "    return si_rate, ir_rate"
      ],
      "metadata": {
        "id": "juvAWstgUn85"
      },
      "execution_count": null,
      "outputs": []
    },
    {
      "cell_type": "code",
      "source": [
        "# use gemlib to generate a larger dataset\n",
        "sir = DiscreteTimeStateTransitionModel(transition_rate_fn=transition_rates,\n",
        "                                       incidence_matrix=incidence_matrix,\n",
        "                                       initial_state=initial_state,\n",
        "                                       initial_step=0,\n",
        "                                       time_delta=1.0,\n",
        "                                       num_steps=100)"
      ],
      "metadata": {
        "id": "eRyybvQxU3F-"
      },
      "execution_count": null,
      "outputs": []
    },
    {
      "cell_type": "code",
      "source": [
        "sir_sim = sir.sample(seed=[0, 0])"
      ],
      "metadata": {
        "id": "srXrIghaVMpa"
      },
      "execution_count": null,
      "outputs": []
    },
    {
      "cell_type": "code",
      "source": [
        "plt.figure(figsize=(10, 6))\n",
        "sir_sim_state = sir.compute_state(sir_sim)\n",
        "plt.plot(np.sum(sir_sim_state, axis=1), label=[\"S\", \"I\", \"R\"])\n",
        "plt.xlabel(\"Timestep\")\n",
        "plt.ylabel(\"Population\")\n",
        "_ = plt.legend()\n"
      ],
      "metadata": {
        "id": "Ejn6fdn3WtFS"
      },
      "execution_count": null,
      "outputs": []
    },
    {
      "cell_type": "code",
      "source": [
        "epidemic_data = pd.DataFrame(tf.squeeze(sir_sim_state),columns=[\"S\", \"I\", \"R\"])\n",
        "epidemic_data"
      ],
      "metadata": {
        "id": "hSPkYunKWxZC"
      },
      "execution_count": null,
      "outputs": []
    },
    {
      "cell_type": "markdown",
      "source": [
        "### Solution"
      ],
      "metadata": {
        "id": "xlu7nLmNrdxW"
      }
    },
    {
      "cell_type": "code",
      "source": [
        "# add the number of SI and IR transitions. This is easy because they\n",
        "# comes as an output of the simulation. Otherwise this can be computed\n",
        "# num_si = epidemic_data.S.diff(-1), num_si = epidemic_data.R.diff(1)\n",
        "num_transitions = np.sum(sir_sim, axis = -2)\n",
        "\n",
        "epidemic_data['num_si'] = num_transitions[:,0]\n",
        "epidemic_data['num_ir'] = num_transitions[:,1]\n",
        "\n",
        "# look at a random middle section of the data\n",
        "epidemic_data.iloc[28:35,:]"
      ],
      "metadata": {
        "id": "OPoVp8S3XUMj"
      },
      "execution_count": null,
      "outputs": []
    },
    {
      "cell_type": "code",
      "source": [
        "# WANT to compute the probability of transition P^{qr}\n",
        "\n",
        "# need to compute transition rates first\n",
        "si_rate, ir_rate = tf.map_fn(\n",
        "    fn = lambda x: transition_rates(x[0],x[1]),\n",
        "    elems = (np.arange(0,100), sir.compute_state(sir_sim)),\n",
        "    dtype=(DTYPE, DTYPE)\n",
        ")"
      ],
      "metadata": {
        "id": "dAMuQZ8CG3Wf"
      },
      "execution_count": null,
      "outputs": []
    },
    {
      "cell_type": "code",
      "source": [
        "# examine output\n",
        "si_rate[0:10], ir_rate[10:20]"
      ],
      "metadata": {
        "id": "svPEn2-KHnLO"
      },
      "execution_count": null,
      "outputs": []
    },
    {
      "cell_type": "code",
      "source": [
        "# add to our dataframe\n",
        "epidemic_data['si_rate'] = si_rate\n",
        "epidemic_data['ir_rate'] = ir_rate\n",
        "\n",
        "epidemic_data"
      ],
      "metadata": {
        "id": "fnp0tNU3IoKO"
      },
      "execution_count": null,
      "outputs": []
    },
    {
      "cell_type": "code",
      "source": [
        "# compute transition probability\n",
        "epidemic_data['si_prob'] = 1 - np.exp(-si_rate)\n",
        "epidemic_data['ir_prob'] = 1 - np.exp(-ir_rate)\n",
        "\n",
        "epidemic_data"
      ],
      "metadata": {
        "id": "5oa2L9L8Izfn"
      },
      "execution_count": null,
      "outputs": []
    },
    {
      "cell_type": "markdown",
      "source": [
        "Let's take stock of what we have:\n",
        "\n",
        "1. Number of units in each state\n",
        "2. Transition probability for each time step and state\n",
        "\n",
        "This is all you need to compute the log-likelihood of a binomial random variable!"
      ],
      "metadata": {
        "id": "lDWm76KpJI5u"
      }
    },
    {
      "cell_type": "code",
      "source": [
        "def log_lik_t_si(row):\n",
        "    return row.num_si * np.log(row.si_prob) + (row.S - row.num_si) * np.log(1 - row.si_prob)\n",
        "\n",
        "def log_lik_t_ir(row):\n",
        "    return row.num_ir * np.log(row.ir_prob) + (row.I - row.num_ir) * np.log(1 - row.ir_prob)\n",
        "\n",
        "def log_lik_t(row):\n",
        "    return log_lik_t_si(row) + log_lik_t_ir(row)"
      ],
      "metadata": {
        "id": "JRCTXWm-JHK7"
      },
      "execution_count": null,
      "outputs": []
    },
    {
      "cell_type": "code",
      "source": [
        "epidemic_data['log_lik_t'] = epidemic_data.apply(log_lik_t, axis=1)"
      ],
      "metadata": {
        "id": "7OYuZDm5lm_g"
      },
      "execution_count": null,
      "outputs": []
    },
    {
      "cell_type": "code",
      "source": [
        "print(f\"log L(X|D) = {np.sum(epidemic_data.log_lik_t[:-1])}\")"
      ],
      "metadata": {
        "id": "4dl-572wmXZ1"
      },
      "execution_count": null,
      "outputs": []
    },
    {
      "cell_type": "markdown",
      "source": [
        "## Creating a parameterized likelihood function\n",
        "\n",
        "Performing operations in a dataframe turns out to be restrictive. The goal of model fitting is to estimate parameters based on data and so we want to be able to feed our likelihood _function_ into an optimizer (like in [INSERT LINK](the previous Likelihood I session). We saw how to use the `scipiy.optimize` function earlier so let's work with that same function.\n",
        "\n",
        "`optimize` needs a function which it can use to evaluate different parameter values and find the minima for. This implies that we want our likelihood function to have the model parameters as inputs. It should look something like this\n",
        "\n",
        "> `log_likelihood_fn(theta) `\n",
        ">> 42.00\n",
        "\n",
        "We will once again focus on the SIR chain binomial model. Aggregating events over the fixed time period means that our model parameters are now part of $p^{SI}_{t_s},p^{IR}_{t_s}$. Recall the formula for the transition probabilities:\n",
        "\\begin{align*}\n",
        "p^{SI}_{t_s}&=1-e^{-\\lambda^{SI}(t_s)\\delta t_s} \\\\\n",
        "p^{IR}_{t_s}&=1-e^{-\\lambda^{IR}(t_s)\\delta t_s}\n",
        "\\end{align*}\n",
        "The model parameters are in the _transition rate function_ and thus _related_ to the transition probabilities through these formulas. With this in mind, let's now implement the log-likelihood function for this model.\n",
        "\n",
        ":::{dropdown} SIR Chain binomial likelihood formula\n",
        "\n",
        "$$\n",
        "l(X|H) \\propto \\sum_{s = 0}^{max - 1}\\left( k \\log p^{SI}_{t_s} + (S_{t_s}-k)\\log(1-p^{SI}_{t_s}) + j \\log p^{IR}_{t_s} + (I_{t_s}-j)\\log(1-p^{IR}_{t_s}) \\right)\n",
        "$$\n",
        "\n",
        ":::"
      ],
      "metadata": {
        "id": "48Hd7XaVHVOv"
      }
    },
    {
      "cell_type": "code",
      "source": [
        "# raw data again\n",
        "epi_df = pd.DataFrame(tf.squeeze(sir_sim_state),columns=[\"S\", \"I\", \"R\"])\n",
        "epi_df"
      ],
      "metadata": {
        "id": "AcuY4Ylhanrf"
      },
      "execution_count": null,
      "outputs": []
    },
    {
      "cell_type": "markdown",
      "source": [
        "We are going to use the a closure to create this function. More on why soon..."
      ],
      "metadata": {
        "id": "HANxv_sTm40x"
      }
    },
    {
      "cell_type": "code",
      "source": [
        "def make_sir_chain_binom_loglik(epidemic_dataframe):\n",
        "    # data processing steps - convert to array\n",
        "    epi_array = np.array(epidemic_dataframe)\n",
        "\n",
        "    # compute change in states\n",
        "    num_si = np.squeeze(sir_sim[:,:,0])\n",
        "\n",
        "    num_ir = np.squeeze(sir_sim[:,:,1])\n",
        "\n",
        "    def sir_chain_binom_loglik(theta):\n",
        "        epsilon = DTYPE(1e-9)               # hardcoded constant\n",
        "\n",
        "        beta, gamma = theta\n",
        "\n",
        "        # compute transition rates based on model parameters\n",
        "        si_rate = beta * epi_array[:, 1] / np.sum(epi_array, axis = -1) + epsilon\n",
        "        ir_rate = np.ones_like(si_rate) * gamma\n",
        "\n",
        "        # compute transition probabilities based on transition rates\n",
        "        p_si = 1 - np.exp(-si_rate)\n",
        "        p_ir = 1 - np.exp(-ir_rate)\n",
        "\n",
        "\n",
        "        # compute log-lik\n",
        "        log_lik_si = num_si * np.log(p_si) + (epi_array[:, 0] - num_si)*np.log(1 - p_si)\n",
        "        log_lik_ir = num_ir * np.log(p_ir) + (epi_array[:, 1] - num_ir)*np.log(1 - p_ir)\n",
        "\n",
        "        log_lik = log_lik_si + log_lik_ir\n",
        "\n",
        "        return log_lik\n",
        "\n",
        "    return sir_chain_binom_loglik"
      ],
      "metadata": {
        "collapsed": true,
        "id": "decA0nKQH4b-"
      },
      "execution_count": null,
      "outputs": []
    },
    {
      "cell_type": "markdown",
      "source": [
        "Mathematically, likelihood functions are functions of the parameters of the model. This is why you will see them written as $L(\\theta | X)$ where $X$ is the data. We are _conditioning_ on the data. Using the closure pattern here allows us to condition our likelihood on the data - fixing those values but allowing the model parameters to change."
      ],
      "metadata": {
        "id": "QvLWo8tqAZWc"
      }
    },
    {
      "cell_type": "code",
      "source": [
        "# returns the function equivalent to the mathematical form L(theta|D)\n",
        "sir_chain_binom_loglik_fn = make_sir_chain_binom_loglik(epi_df)"
      ],
      "metadata": {
        "id": "bGsJ5UceAYuv"
      },
      "execution_count": null,
      "outputs": []
    },
    {
      "cell_type": "code",
      "source": [
        "# compute the likelihood for some parameters values\n",
        "print(f\"log-liklihood = {np.sum(sir_chain_binom_loglik_fn([0.3, 0.1]))}\")"
      ],
      "metadata": {
        "id": "ADzs-75P7_ir"
      },
      "execution_count": null,
      "outputs": []
    },
    {
      "cell_type": "markdown",
      "source": [
        "### Sanity check!\n",
        "\n",
        "Are the two methods the same?"
      ],
      "metadata": {
        "id": "zoTvrjlgCHo1"
      }
    },
    {
      "cell_type": "code",
      "source": [
        "# same as before? No output if it does pass\n",
        "np.testing.assert_almost_equal(\n",
        "    actual = np.array(epidemic_data.log_lik_t),\n",
        "    desired = sir_chain_binom_loglik_fn([0.3, 0.1]),\n",
        ")"
      ],
      "metadata": {
        "id": "Limb_-u83jp1"
      },
      "execution_count": null,
      "outputs": []
    },
    {
      "cell_type": "code",
      "source": [
        "pd.DataFrame({'function_method':sir_chain_binom_loglik_fn([0.3, 0.1]),\n",
        "              'dataframe_method':np.array(epidemic_data.log_lik_t)})"
      ],
      "metadata": {
        "id": "vj_Y4_e88IY_"
      },
      "execution_count": null,
      "outputs": []
    },
    {
      "cell_type": "code",
      "source": [
        "# Plotting\n",
        "plt.figure(figsize=(10, 6))\n",
        "plt.plot(np.array(epidemic_data.log_lik_t), label='DataFrame approach', marker='o')\n",
        "plt.plot(sir_chain_binom_loglik_fn((np.float64(0.3), np.float64(0.1))), label='Function approach', marker='x')\n",
        "\n",
        "# Adding titles and labels\n",
        "plt.title('Log-likelihood of SIR chain binomial model')\n",
        "plt.xlabel('Time Step')\n",
        "plt.ylabel('Value')\n",
        "plt.legend()\n",
        "\n",
        "# Show plot\n",
        "plt.grid(True)\n",
        "plt.show()"
      ],
      "metadata": {
        "id": "RgVdhfVW-VZy"
      },
      "execution_count": null,
      "outputs": []
    },
    {
      "cell_type": "markdown",
      "source": [
        "__Note__: numerical errors can arise. The values are close but not quite identical"
      ],
      "metadata": {
        "id": "MakyYWZcCULO"
      }
    },
    {
      "cell_type": "markdown",
      "source": [
        "### Exercise 3\n",
        "\n",
        "Compute the MLE of the the likelihood function."
      ],
      "metadata": {
        "id": "TKYjdCgICeis"
      }
    },
    {
      "cell_type": "markdown",
      "source": [
        "### Solution"
      ],
      "metadata": {
        "id": "5fmqg1qnHtK_"
      }
    },
    {
      "cell_type": "code",
      "source": [
        "# import optimizer\n",
        "from scipy.optimize import minimize"
      ],
      "metadata": {
        "id": "SxgUOFPiCdy1"
      },
      "execution_count": null,
      "outputs": []
    },
    {
      "cell_type": "code",
      "source": [
        "ll_fn = lambda x: -np.sum(sir_chain_binom_loglik_fn(x))"
      ],
      "metadata": {
        "id": "ZUg9do3OETAD"
      },
      "execution_count": null,
      "outputs": []
    },
    {
      "cell_type": "code",
      "source": [
        "ll_fn([.3, 0.1])"
      ],
      "metadata": {
        "id": "g2D5sKggEZqc"
      },
      "execution_count": null,
      "outputs": []
    },
    {
      "cell_type": "code",
      "source": [
        "# initial values on the log scale\n",
        "initial_parameters = np.array([0.1, 0.1], dtype=np.float32)\n",
        "\n",
        "opt = minimize(\n",
        "    ll_fn,\n",
        "    initial_parameters,\n",
        "    method=\"L-BFGS-B\",\n",
        "    jac=\"3-point\",\n",
        "    options={\"finite_diff_rel_step\": None},\n",
        ")\n"
      ],
      "metadata": {
        "id": "xsuN4us_EKfo"
      },
      "execution_count": null,
      "outputs": []
    },
    {
      "cell_type": "code",
      "source": [
        "opt"
      ],
      "metadata": {
        "id": "kuUUG8J6F8rU"
      },
      "execution_count": null,
      "outputs": []
    },
    {
      "cell_type": "code",
      "source": [
        "print(f\"True values:      beta = {np.round(0.3,5)},   gamma = {np.round(0.1,5)}\")\n",
        "print(f\"Estimated values: beta = {np.round(opt.x[0],5)}, gamma = {np.round(opt.x[1],5)}\")"
      ],
      "metadata": {
        "id": "gB6IUH0fEOaN"
      },
      "execution_count": null,
      "outputs": []
    },
    {
      "cell_type": "code",
      "source": [
        "std_errors = np.sqrt(np.diagonal(opt.hess_inv.todense()))\n",
        "lower_ci = (opt.x - 1.96 * std_errors)  # 95% CI\n",
        "upper_ci = (opt.x + 1.96 * std_errors)"
      ],
      "metadata": {
        "id": "4g0XDD8WGGuc"
      },
      "execution_count": null,
      "outputs": []
    },
    {
      "cell_type": "code",
      "source": [
        "print(f\"Beta 95% CI:  lower = {np.round(lower_ci[0],5)}, upper = {np.round(upper_ci[0],5)}\")\n",
        "print(f\"Gamma 95% CI: lower = {np.round(lower_ci[1],5)}, upper = {np.round(upper_ci[1],5)}\")"
      ],
      "metadata": {
        "id": "bvKpRRWiFOCH"
      },
      "execution_count": null,
      "outputs": []
    }
  ]
}