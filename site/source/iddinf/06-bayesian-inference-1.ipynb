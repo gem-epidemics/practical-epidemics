{
 "cells": [
  {
   "cell_type": "code",
   "execution_count": 1,
   "metadata": {
    "id": "jlaOMVUDzEkU"
   },
   "outputs": [],
   "source": [
    "import matplotlib.pyplot as plt\n",
    "import numpy as np\n",
    "import scipy as sp\n",
    "\n",
    "%matplotlib inline"
   ]
  },
  {
   "cell_type": "markdown",
   "metadata": {
    "id": "BOQYV0ZQzN_R"
   },
   "source": [
    "# Bayesian Inference 1 -- the principles\n",
    "\n",
    "[![Open In Colab](https://colab.research.google.com/assets/colab-badge.svg)](https://colab.research.google.com/github/gem-epidemics/practical-epidemics/blob/master/site/source/iddinf/06-bayesian-inference-1.ipynb)\n",
    "\n",
    "## Learning outcomes\n",
    "\n",
    "1. Understand the fundamentals of Bayes' Theorem and how we can use it for inferential purposes;\n",
    "2. Be able to solve a simple discrete Bayesian problem;\n",
    "3. Understand the concept of a conditional posterior distribution;\n",
    "4. Be able to code a simple Gibbs Sampler in Python.\n",
    "\n",
    "## References\n",
    "\n",
    "1. Bayes, Thomas & Price, Richard (1763). \"An Essay towards solving a Problem in the Doctrine of Chance. By the late Rev. Mr. Bayes, communicated by Mr. Price, in a letter to John Canton, A.M.F.R.S.\" Philosophical Transactions of the Royal Society of London. 53: 370–418. [doi:10.1098/rstl.1763.0053](https://doi.org/10.1098/rstl.1763.0053).\n",
    "\n",
    "2. Gelman _et al._ Bayesian Data Analysis, Third Edition.  CRC Press. 2014."
   ]
  },
  {
   "cell_type": "markdown",
   "metadata": {
    "id": "gGoB9wcbPrTk"
   },
   "source": [
    "## Introduction\n",
    "Did you cross a street this morning?  If so, how did you do it?  Did you walk straight out into the traffic, or did you look right, left, and right again?  What did you expect to happen, and what was your experience crossing the street?\n",
    "\n",
    "Our everyday lives are a learning process, where we continually refine our _a priori_ beliefs about how the world works according to our experiences.  If you successfully crossed the street, and felt safe doing it, then you'll be more likely to continue to regard crossing the street as safe.  If you nearly got run over by a bus, you might think twice about the safety of crossing the street tomorrow morning.\n",
    "\n",
    "Bayes' Theorem is attributed to the Reverend Thomas Bayes, who was working on how to invert conditional probability.  For example, suppose we wish to verify that a coin is unweighted.  We might have\n",
    "\n",
    "$$\n",
    "X \\sim \\mbox{Bernoulli}(p)\n",
    "$$\n",
    "\n",
    "with event space $X \\in \\{H, T\\}$ for heads and tails respectively.  We can write\n",
    "\n",
    "$$\n",
    "Pr(X = \\mbox{Head} | \\theta ) = \\theta\n",
    "$$\n",
    "\n",
    "and\n",
    "\n",
    "$$\n",
    "Pr(X = \\mbox{Tail} | \\theta) = 1 - \\theta\n",
    "$$\n",
    "\n",
    "### Question\n",
    "\n",
    "If we know $Pr(X | \\theta)$, is it possible to know $Pr(\\theta | X)$?  i.e. can we work out the _a posteriori_ probability distribution of $\\theta$ given that we have observed some outcome $X$?\n",
    "\n",
    "### Answer\n",
    "\n",
    "Thomas Bayes discovered that this is indeed possible, using a formula now known as _Bayes' Theorem_:\n",
    "\n",
    "$$\n",
    "\\color{red}{Pr(\\theta | X)} = \\frac{Pr(X | \\theta)\\color{blue}{Pr(\\theta)}}{\\color{green}{Pr(X)}}.\n",
    "$$\n",
    "\n",
    "In Bayesian statistics, we recognise the following quantities:\n",
    "\n",
    "<dl>\n",
    "<dt>Likelihood</dt>\n",
    "<dd>The probability of observing data $X$ given a probability model (i.e. probability law) $Pr(X|\\theta)$.</dd>\n",
    "\n",
    "<dt><font color=\"blue\">Prior distribution</font></dt>\n",
    "<dd>The <i>a priori</i> probability distribution $Pr(\\theta)$ of parameter $\\theta$ <i>before</i> having observed data $X$.</dd>\n",
    "\n",
    "<dt><font color=\"green\">Model evidence (or marginal likelihood)</font></dt>\n",
    "<dd>The probability of observing the data \"averaged out\" over all values of the\n",
    "parameter.</dd>\n",
    "\n",
    "<dt><font color=\"red\">Posterior distribution</font></dt>\n",
    "<dd>The probability distribution $Pr(\\theta | X)$ having observed the data $X$ <i>a posteriori</i>.</dd>\n",
    "\n",
    "</dl>\n",
    "\n",
    "### Model evidence\n",
    "\n",
    "The model evidence\n",
    "\n",
    "$$\n",
    "Pr(X) = \\int_{\\Theta} Pr(X | \\theta) Pr(\\theta) d\\theta\n",
    "$$\n",
    "if $\\theta$ is continuous, or\n",
    "\n",
    "$$\n",
    "Pr(X) = \\sum_{\\Theta} Pr(X | \\theta) Pr(\\theta)\n",
    "$$\n",
    "\n",
    "if $\\theta$ is discrete, is a vexing quantity!  We can think of it as the \"normalising constant\" that ensures the posterior distribution $P(\\theta | X)$ sums up to 1 over all values of the parameter $\\theta$ in order to satisfy the axioms of probability.  \n",
    "\n",
    "It is this integral (or sum) that often makes life difficult in Bayesian statistics, requiring the use of complex algorithms such as MCMC or SMC.\n",
    "\n",
    "## Example\n",
    "\n",
    "In diagnostic testing, we often know the sensitivity and specificity of a test, which is essentially the probability of a test outcome _given_ the disease status of the patient.  i.e.\n",
    "\n",
    "$$\n",
    "\\mbox{Sensitivity}:\\;\\; Se = Pr(T^+ | D^+)\n",
    "$$\n",
    "\n",
    "and\n",
    "\n",
    "$$\n",
    "\\mbox{Specificity}:\\;\\; Sp = Pr(T^- | D^-).\n",
    "$$\n",
    "\n",
    "However, if we are a clinician, we really want to know the disease status of a patient _given_ the test result, i.e. $Pr(D | T)$, where\n",
    "\n",
    "$$\n",
    "\\mbox{Positive predictive value}:\\;\\; PPV = Pr(D^+ | T^+)\n",
    "$$\n",
    "\n",
    "and\n",
    "\n",
    "$$\n",
    "\\mbox{Negative predictive value}:\\;\\; NPV = Pr(D^- | T^-)\n",
    "$$\n",
    "\n",
    "How can we work out the predictive values given the sensitivity and specificity?\n",
    "\n",
    "Bayes' Theorem tells us that\n",
    "\n",
    "$$\n",
    "Pr(D | T) = \\frac{Pr(T | D)Pr(D)}{\\sum_{D}Pr(T|D)Pr(D)dD}.\n",
    "$$\n",
    "\n",
    "where the prior distribution $Pr(D)$, the probability that the patient has the disease before observing the test result, is essentially the true prevalence of the disease in the population (modulo random sampling assumptions, etc).\n",
    "\n",
    "__Conclusion__: Bayes' Theorem shows us that the predictive values of a diagnostic test are _inextricably_ linked to both the test characteristics _and_ the prevalence of disease in the population.\n"
   ]
  },
  {
   "cell_type": "markdown",
   "metadata": {
    "id": "qEahGDbQJ3XI"
   },
   "source": [
    "### Exercise 1"
   ]
  },
  {
   "cell_type": "markdown",
   "metadata": {
    "id": "8GOSkUsYAlAc"
   },
   "source": [
    "A diagnostic test has 80% sensitivity and 99% specificity.  Given a disease prevalence of 0.5%, compute the probability that a patient selected at random and who tests positive has the disease."
   ]
  },
  {
   "cell_type": "markdown",
   "metadata": {
    "id": "NJcwRqxKKYS9"
   },
   "source": [
    "### Exercise 2"
   ]
  },
  {
   "cell_type": "markdown",
   "metadata": {
    "id": "GgLfEIKWKbQi"
   },
   "source": [
    "For the same diagnostic test, compute the probability that a patient _does not_ have the disease given they test negative."
   ]
  },
  {
   "cell_type": "markdown",
   "metadata": {
    "id": "HFam7geaKlxG",
    "jp-MarkdownHeadingCollapsed": true,
    "tags": []
   },
   "source": [
    "#### Solutions"
   ]
  },
  {
   "cell_type": "markdown",
   "metadata": {
    "id": "06snkoipKnwf",
    "tags": [
     "hide-cell"
    ]
   },
   "source": [
    "__Exercise 1__\n",
    "\n",
    "Let sensitivity $Se = 0.8$, specificity $Sp = 0.99$, and prevalence $p = 0.005$.\n",
    " Then, From Bayes' Theorem,\n",
    "\n",
    "$$\n",
    "\\begin{align}\n",
    "Pr(D^+ | T^+) & = \\frac{Pr(T^+ | D^+) Pr(D^+)}{Pr(T^+ | D^+)Pr(D^+) + Pr(T^+ | D^-)Pr(D^-)} \\\\\n",
    "& = \\frac{Se \\times p}{Se \\times p + (1 - Sp)(1-p)} \\\\\n",
    "& = \\frac{0.8 \\times 0.005}{0.8 \\times 0.005 + (1 - 0.99)(1 - 0.005)} \\\\\n",
    "& = 0.287\n",
    "\\end{align}\n",
    "$$\n",
    "\n",
    "__Exercise 2__\n",
    "\n",
    "Again, from Bayes' Theorem\n",
    "\n",
    "$$\n",
    "\\begin{align}\n",
    "Pr(D^- | T^-) & = \\frac{Pr(T^- | D^-) Pr(D^-)}{Pr(T^- | D^-)Pr(D^-) + Pr(T^- | D^+)Pr(D^+)} \\\\\n",
    "& = \\frac{Sp(1 - p)}{Sp(1-p) + (1-Se)p} \\\\\n",
    "& = \\frac{0.99 (1 - 0.005)}{0.99(1-0.005) + (1 - 0.8)0.005} \\\\\n",
    "& = 0.999\n",
    "\\end{align}\n",
    "$$"
   ]
  },
  {
   "cell_type": "markdown",
   "metadata": {
    "id": "boHf9c1fOltc"
   },
   "source": [
    "## Priors, Likelihoods, and Posteriors\n",
    "\n",
    "We've studied likelihoods in the previous two sessions, but how do we sensibly choose a prior distribution?\n",
    "\n",
    "Prior distributions should encode our _honest_ belief about a parameter of interest in advance of observing the data, bearing in mind the following:\n",
    "\n",
    "1. The _support_ of the prior distribution should match the expected values that a parameter in the likelihood could take.  For example, $p \\sim \\mbox{Beta}(a, b),\\; 0 \\leq p \\leq 1$ would work for a probability parameter $p$, and $\\gamma \\sim \\mbox{Gamma}(\\nu, \\lambda),\\; \\gamma > 0$ would work well for the transmission parameters in an epidemic model.\n",
    "\n",
    "2. We should be _honest_ about our beliefs about a parameter.  For example, do we _really_ believe that a probability parameter could take the value 0 (e.g. heads are impossible) or 1 (e.g. tails are impossible)?\n",
    "\n",
    "### Example\n",
    "\n",
    "Suppose we are interested in estimating the probability that a coin comes up heads.  We have a likelihood\n",
    "\n",
    "\\begin{align}\n",
    "Pr(H | p) & = p \\\\\n",
    "Pr(Y | p) & = (1 - p)\n",
    "\\end{align}\n",
    "\n",
    "Since $0 \\leq p \\leq 1$, a Beta distribution might be a sensible prior distribution to use.  For example"
   ]
  },
  {
   "cell_type": "code",
   "execution_count": 2,
   "metadata": {
    "colab": {
     "base_uri": "https://localhost:8080/",
     "height": 490
    },
    "id": "CvNBZy-gS6ca",
    "outputId": "6d0d8b3d-f7d2-4790-afca-303e97581de3"
   },
   "outputs": [
    {
     "data": {
      "text/plain": [
       "Text(0.5, 1.0, 'Beta distribution for a=2, b=2')"
      ]
     },
     "execution_count": 2,
     "metadata": {},
     "output_type": "execute_result"
    },
    {
     "data": {
      "image/png": "[encoded data removed]",
      "text/plain": [
       "<Figure size 640x480 with 1 Axes>"
      ]
     },
     "metadata": {},
     "output_type": "display_data"
    }
   ],
   "source": [
    "p = np.linspace(0, 1, 200)\n",
    "y = sp.stats.beta.pdf(p, a=0.1, b=0.1)\n",
    "\n",
    "plt.plot(p, y)\n",
    "plt.xlabel(\"p\")\n",
    "plt.ylabel(\"f_p(p)\")\n",
    "plt.title(\"Beta distribution for a=2, b=2\")"
   ]
  },
  {
   "cell_type": "markdown",
   "metadata": {
    "id": "zSJAESlgTiJV"
   },
   "source": [
    "### Exercise 3\n",
    "\n",
    "Plot Beta distributions for $(a,b) = (1, 1), (0.1, 0.1), (0.1, 2), (1, 0.1)$ and any other values you wish to explore such that $a,b > 0$.  How can you adjust the parameters of this distribution to encode different beliefs about the parameter of interest?\n",
    "\n",
    "Does $(a, b) = (1,1)$ make sense as a prior?  What is it equivalent to?"
   ]
  },
  {
   "cell_type": "markdown",
   "metadata": {
    "id": "1zTkK8OHV7PW"
   },
   "source": [
    "### The posterior distribution\n",
    "\n",
    "For the sake of clarity, we will refer to the posterior distribution as $\\pi(p | X)$, the likelihood function as $L(X | p)$, and our prior distribution as $f(p)$.  \n",
    "\n",
    "Suppose we observe the sequence of coin tosses $\\{H, T, H, H, T\\}$.  Let's choose a head to represent \"success\", and combine our $n=5$ Bernoulli coin tosses into a Binomial random variable.  This gives us a likelihood\n",
    "\n",
    "$$\n",
    "L(x | p) \\propto {n \\choose x} p^{x}(1-p)^{n-x}\n",
    "$$\n",
    "\n",
    "with the prior distribution\n",
    "\n",
    "$$\n",
    "f_(p) = \\frac{\\Gamma(a + b)}{\\Gamma(a)\\Gamma(b)} p^{a-1}(1-p)^{b-1}\n",
    "$$\n",
    "\n",
    "Our posterior distribution is then given by substituting the prior and likelihood into Bayes' Theorem\n",
    "\n",
    "$$\n",
    "L(x | p) = \\frac{{n \\choose x} p^{x}(1-p)^{n-x} \\cdot \\frac{\\Gamma(a + b)}{\\Gamma(a)\\Gamma(b)} p^{a-1}(1-p)^{b-1}}{\\int_0^1 {n \\choose x} p^{x}(1-p)^{n-x} \\cdot \\frac{\\Gamma(a + b)}{\\Gamma(a)\\Gamma(b)} p^{a-1}(1-p)^{b-1} dp}\n",
    "$$\n",
    "\n",
    "Ugh!  That's _horrendous_!  Fortunately, someone has done the maths for us, such that we know the distribution of $p$:\n",
    "\n",
    "$$\n",
    "p | x \\sim \\mbox{Beta}(a + x, b + n - x)\n",
    "$$\n",
    "\n",
    "a Beta distribution with parameters $a^\\prime = a + x$ and $b^\\prime = b + n - x$.\n",
    "\n",
    "Let's draw a graph of the prior (with $a=2, \\; b=2$), likelihood, and posterior distributions superimposed..."
   ]
  },
  {
   "cell_type": "code",
   "execution_count": 3,
   "metadata": {
    "colab": {
     "base_uri": "https://localhost:8080/",
     "height": 449
    },
    "id": "m62hKsDSY5P-",
    "outputId": "efd8a0b2-119e-4069-e1d5-99b76ddd11ec"
   },
   "outputs": [
    {
     "data": {
      "image/png": "[encoded data removed]",
      "text/plain": [
       "<Figure size 640x480 with 1 Axes>"
      ]
     },
     "metadata": {},
     "output_type": "display_data"
    }
   ],
   "source": [
    "p = np.linspace(0, 1, 200)\n",
    "\n",
    "prior = sp.stats.beta.pdf(p, a=2, b=2)\n",
    "likelihood = sp.stats.binom.pmf(k=3, n=5, p=p)\n",
    "posterior = sp.stats.beta.pdf(p, a=2 + 3, b=2 + 5 - 3)\n",
    "\n",
    "plt.plot(p, prior, label=\"Prior\")\n",
    "plt.plot(p, likelihood, label=\"Likelihood\")\n",
    "plt.plot(p, posterior, label=\"Posterior\")\n",
    "\n",
    "plt.legend()\n",
    "plt.xlabel(\"p\")\n",
    "_ = plt.ylabel(\"Density\")"
   ]
  },
  {
   "cell_type": "markdown",
   "metadata": {
    "id": "bP_BDVDYZ1Gt"
   },
   "source": [
    "1. We can see that the posterior distribution has moved away from the prior distribution, and is narrower with a higher maximum.  This indicates that we have learned something from the data over and above our _a priori_ belief about $p$.\n",
    "\n",
    "2. From Maximum Likelihood Estimation, we would have concluded $\\hat{p} = 3/5 = 0.6$, but the Maximum A-Posteriori (MAP) estimate is slightly less than 0.6.  This represents a compromise between the mode of the prior (0.5) and the (data-only) MLE.  "
   ]
  },
  {
   "cell_type": "markdown",
   "metadata": {
    "id": "rbR6URX2a7Fd"
   },
   "source": [
    "### Exercise 4\n",
    "\n",
    "1.  Plot the graph above for different values of the prior parameters $a$ and $b$.  What do you notice about the posterior in relation to your likelihood?\n",
    "\n",
    "2.  Reset $a=b=2$, and instead vary the number of coin tosses and number of heads (i.e. \"successes\") achieved.  What do you notice about how the posterior behaves in relation to the prior?"
   ]
  },
  {
   "cell_type": "markdown",
   "metadata": {
    "id": "vgx5a3cTPKIM"
   },
   "source": [
    "## Prior conjugacy\n",
    "\n",
    "You may be wondering how we concluded that our posterior distribution in the coin tossing experiment above was Beta-distributed.  It turns out that for a Binomial likelihood with Beta prior, we know that the posterior distribution is _also_ Beta-distributed!  \n",
    "\n",
    "Let's go back to the horrible expression for the posterior above\n",
    "\n",
    "$$\n",
    "\\pi(p | x) = \\frac{{n \\choose x} p^{x}(1-p)^{n-x} \\cdot \\frac{\\Gamma(a + b)}{\\Gamma(a)\\Gamma(b)} p^{a-1}(1-p)^{b-1}}{\\int_0^1 {n \\choose x} p^{x}(1-p)^{n-x} \\cdot \\frac{\\Gamma(a + b)}{\\Gamma(a)\\Gamma(b)} p^{a-1}(1-p)^{b-1} dp}\n",
    "$$\n",
    "\n",
    "Is this expression really that bad?  First of all, remember that the bottom of the fraction is really just $f(x)$\n",
    "\n",
    "$$\n",
    "\\pi(p | x) = \\frac{{n \\choose x} p^{x}(1-p)^{n-x} \\cdot \\frac{\\Gamma(a + b)}{\\Gamma(a)\\Gamma(b)} p^{a-1}(1-p)^{b-1}}{f(x)}\n",
    "$$\n",
    "\n",
    "and that any multiplicative term _not_ involving $p$ just serves to stretch the posterior in the y-direction, leaving the position of the mode and the relative heights between points on the posterior curve intact.  Thus, we can write\n",
    "\n",
    "$$\n",
    "\\pi(p | x) \\propto p^{x}(1-p)^{n-x} \\cdot p^{a-1}(1-p)^{b-1}\n",
    "$$\n",
    "\n",
    "and collecting terms together\n",
    "\n",
    "$$\n",
    "\\pi(p | x) \\propto p^{a + x -1}(1-p)^{b + n - x -1}\n",
    "$$\n",
    "\n",
    "which we can recognise as an un-normalised Beta distribution such that\n",
    "\n",
    "$$\n",
    "\\pi(p | x) = \\frac{\\Gamma(a^\\prime + b^\\prime)}{\\Gamma(a^\\prime)\\Gamma(b^\\prime)} p^{a^\\prime - 1} (1 - p)^{b^\\prime - 1}\n",
    "$$\n",
    "\n",
    "for $a^\\prime = a + x$ and $b^\\prime = b + n - x$.\n",
    "\n",
    "It turns out that there are a bunch of prior/likelihood combinations that have the conjugacy property, and a useful reference table is the [Wikipedia page on Conjugate priors](https://wikipedia.org/wiki/Conjugate_prior).\n"
   ]
  },
  {
   "cell_type": "markdown",
   "metadata": {
    "id": "MPrtbXnHPNKW"
   },
   "source": [
    "## Posteriors with more than one parameter\n",
    "\n",
    "What happens when we have a likelihood function that takes more than one parameter?  For example, suppose we have Normally-distributed observations, such that\n",
    "\n",
    "$$\n",
    "y_i \\overset{iid}{\\sim} \\mbox{Normal}(\\mu, \\sigma^2).\n",
    "$$\n",
    "\n",
    "As previously, we can construct a likelihood function as a product over Normal pdf terms since our data is independent:\n",
    "\n",
    "$$\n",
    "L(\\mathbf{y} | \\mu, \\sigma) \\propto \\prod_{i=1}^{n} \\frac{1}{\\sqrt{2\\pi}\\sigma}e^{-\\frac{(x - \\mu)^2}{2\\sigma^2}}\n",
    "$$\n",
    "\n",
    "If we assume that our priors are independent, the _joint_ posterior for this model is simply\n",
    "\n",
    "$$\n",
    "\\pi(\\mu, \\sigma | \\mathbf{y}) = \\frac{L(\\mathbf{y} | \\mu, \\sigma)f_\\mu(\\mu)f_\\sigma(\\sigma)}{f(\\mathbf{y})}\n",
    "$$\n",
    "\n",
    "i.e. a product of the likelihood and _both_ independent prior distributions.\n",
    "\n",
    "### Conditional posteriors\n",
    "\n",
    "So how do we actually go about computing $\\pi(\\mu, \\sigma | \\mathbf{y})$?  Remember that from the point of view of $\\mu$ and $\\sigma$, $f(\\mathbf{y})$ is just a multiplicative constant.  We can write\n",
    "\n",
    "\\begin{align}\n",
    "\\pi(\\mu, \\sigma | \\mathbf{y}) & \\propto L(\\mathbf{y} | \\mu, \\sigma) f_\\mu(\\mu) f_\\sigma(\\sigma).\n",
    "\\end{align}\n",
    "\n",
    "What priors should we choose? It turns out that if we choose a Normal prior for the mean $\\mu$, and a Gamma prior for the _inverse_ of the variance $\\sigma^2$, we can exploit conjugate priors.  Letting the _precision_ $\\tau = 1/\\sigma^2$, let's write our model down in the Bayesian way\n",
    "\n",
    "\\begin{align}\n",
    "\\mu & \\sim \\mbox{Normal}(\\mu_0, 1/\\tau_0) \\\\\n",
    "\\tau & \\sim \\mbox{Gamma}(\\nu, \\lambda) \\\\\n",
    "y_i & \\overset{iid}{\\sim} \\mbox{Normal}(\\mu, 1/\\tau)\n",
    "\\end{align}\n",
    "\n",
    "Since these priors are conjugate with respect to the likelihood (see [Wikipedia table](https://en.wikipedia.org/wiki/Conjugate_prior#When_likelihood_function_is_a_continuous_distribution)), we know that\n",
    "\n",
    "$$\n",
    "\\mu | \\tau, \\mathbf{y} \\sim \\mbox{Normal}\\left(\\frac{\\tau_0\\mu_0 + \\tau \\sum_{i=1}^{n} y_i}{\\tau_0 + n\\tau}, (\\tau_0 + n\\tau)^{-1}\\right)\n",
    "$$\n",
    "\n",
    "and\n",
    "\n",
    "$$\n",
    "\\tau | \\mu, \\mathbf{y} \\sim \\mbox{Gamma}\\left(\\nu + \\frac{n}{2}, \\lambda + \\frac{\\sum_{i=1}^{n}(y_i - \\mu)^2}{2}\\right).\n",
    "$$\n",
    "\n",
    "__N.B.__ In this example, we are using the _rate_ parameterisation of the Gamma distribution!  Numpy/Scipy uses the _scale_ parameterisation, where _rate_ = 1/_scale_.  \n",
    "\n",
    "The _conditional posterior distribution_ of a variable $x$ conditional on any other variable(s) $z$ has distribution function $f(x | z)$, and is just the posterior distribution of $x$ considering all other variables $z$ known.\n",
    "\n",
    "### The Gibbs sampler\n",
    "\n",
    "The problem with the posterior distributions for $\\mu$ and $\\tau$ above, is that they are _conditional_ on each other!   That means we cannot readily draw curves representing the probability distribution functions.  To do so, we'd need to \"average out\" the distribution for $\\mu$ over $\\tau$, and $\\tau$ over $\\mu$.\n",
    "\n",
    "A solution to this problem is to use a Markov-chain Monte Carlo algorithm known as the Gibbs Sampler.  Here, we alternately sample from the _conditional posterior distributions_ $\\mu | \\tau, \\mathbf{y}$ and $\\tau | \\mu, \\mathbf{y}$ according to:\n",
    "\n",
    "0. Let $k=1$, and pick initial values for $\\mu^{(k)}$ and $\\tau^{(k)}$ consistent with the support of the respective conditional posterior distributions.\n",
    "1. Draw $$\\mu^{(k+1)} \\sim \\mbox{Normal}\\left(\\frac{\\tau_0\\mu_0 + \\tau^{(k)} \\sum_{i=1}^{n} y_i}{\\tau_0 + n\\tau}, (\\tau_0 + n\\tau)^{-1}\\right)$$\n",
    "2. Draw $$\\tau^{(k+1)} \\sim \\mbox{Gamma}\\left(\\nu + \\frac{n}{2}, \\lambda + \\frac{\\sum_{i=1}^{n}(y_i - \\mu^{(k+1)})^2}{2}\\right)$$\n",
    "3. Set $k \\leftarrow k + 1$\n",
    "4. Goto 1 until $k = K$\n",
    "5. Plot histograms of $\\mu^{(1,\\dots,K)}$ and $\\tau^{(1,\\dots,K)}$ to estimate the _marginal_ posterior distribution functions of each parameter.\n",
    "\n",
    "__Remarks__:\n",
    "\n",
    "1. Notice that in step 1 we draw $\\mu^{(k+1)} | \\tau^{(k)}$ but in step 2 we draw $\\tau^{(k+1)} | \\mu^{(k+1)}$.  That means that each variable is drawn from its conditional posterior distribution given the _previously_ drawn value of the other variable.\n",
    "\n",
    "2. How big should $K$ be?  Essentially, we need enough draws of each variable to achieve a reasonably smooth histogram, and such that the Monte Carlo error in the estimation of the posterior is minimised.\n"
   ]
  },
  {
   "cell_type": "markdown",
   "metadata": {
    "id": "q2GLRXZ_-c3Y"
   },
   "source": [
    "### Exercise 5\n",
    "\n",
    "Suppose we choose prior distributions\n",
    "\n",
    "\\begin{align}\n",
    "\\mu & \\sim \\mbox{Normal}(0.4, 10) \\\\\n",
    "\\tau & \\sim \\mbox{Gamma}(0.1, 0.1)\n",
    "\\end{align}\n",
    "\n",
    "and data-generating model\n",
    "\n",
    "$$\n",
    "y_i \\sim \\mbox{Normal}(\\mu, 1/\\tau).\n",
    "$$\n",
    "\n",
    "For data $y = [0.3, 0.2, 0.8, 0.5, 0.4, 0.4, 0.6]$, implement a Gibbs Sampler using `sp.stats.normal.pdf` and `sp.stats.gamma.pdf` to estimate the marginal posterior distributions $\\pi(\\mu | \\mathbf{y})$ and $\\pi(\\tau | y)$."
   ]
  },
  {
   "cell_type": "markdown",
   "metadata": {
    "id": "nuHQv1BC_g_h",
    "jp-MarkdownHeadingCollapsed": true,
    "tags": []
   },
   "source": [
    "#### Solution"
   ]
  },
  {
   "cell_type": "code",
   "execution_count": 4,
   "metadata": {
    "colab": {
     "base_uri": "https://localhost:8080/",
     "height": 445
    },
    "id": "O6Z5L-EK_idW",
    "outputId": "37d14630-ba0d-4ed6-ab4b-b2cf51a468eb"
   },
   "outputs": [
    {
     "data": {
      "image/png": "[encoded data removed]",
      "text/plain": [
       "<Figure size 1500x500 with 2 Axes>"
      ]
     },
     "metadata": {},
     "output_type": "display_data"
    }
   ],
   "source": [
    "# Data\n",
    "y = [0.3,0.2,0.8,0.5,0.4,0.4,0.6]\n",
    "\n",
    "# Conditional posterior samplers\n",
    "def make_mu_given_tau(y, mu0, tau0):\n",
    "    def mu_given_tau(tau):\n",
    "        mean = (tau0 * mu0 + tau * sum(y)) / (tau0 + len(y) * tau)\n",
    "        prec = tau0 + len(y) * tau\n",
    "\n",
    "        return sp.stats.norm.rvs(loc=mean, scale=np.sqrt(1/prec))\n",
    "\n",
    "    return mu_given_tau\n",
    "\n",
    "def make_tau_given_mu(y, nu, lam):\n",
    "    def tau_given_mu(mu):\n",
    "        shape = nu + len(y)/2\n",
    "        rate = lam + sum((y - mu)**2)/2\n",
    "\n",
    "        return sp.stats.gamma.rvs(a=shape, scale=1/rate)\n",
    "\n",
    "    return tau_given_mu\n",
    "\n",
    "def gibbs_samples(num_samples, y, mu=0.1, tau=0.1):\n",
    "    \"\"\"Sample from the posterior of a Normal data model with Normal and Gamma priors\"\"\"\n",
    "\n",
    "    # Posteriors\n",
    "    mu_given_tau = make_mu_given_tau(y, 0.4, 0.1)\n",
    "    tau_given_mu = make_tau_given_mu(y, 2.0, 2.0)\n",
    "\n",
    "    # lists to save samples\n",
    "    post_mu = [mu]\n",
    "    post_tau = [tau]\n",
    "\n",
    "    for k in range(num_samples):\n",
    "        mu = mu_given_tau(tau)\n",
    "        tau = tau_given_mu(mu)\n",
    "        post_mu.append(mu)\n",
    "        post_tau.append(tau)\n",
    "\n",
    "    return np.stack(post_mu), np.stack(post_tau)\n",
    "\n",
    "\n",
    "post_mu, post_tau = gibbs_samples(5000, y)\n",
    "\n",
    "fig, ax = plt.subplots(1, 2, figsize=[15, 5])\n",
    "ax[0].hist(post_mu)\n",
    "_ = ax[1].hist(post_tau)"
   ]
  },
  {
   "cell_type": "markdown",
   "metadata": {
    "id": "DnZtmqGtFKdu"
   },
   "source": [
    "## Motivation for epidemics\n",
    "\n",
    "1. __Lack of data__: At the beginning of an epidemic, we don't have much data so priors can help us to still make meaningful predictions;\n",
    "\n",
    "2. __Prediction__: Because our inference is a probability distribution, Bayesian statistics gives a natural way to predict whilst folding in _parameter uncertainty_;\n",
    "\n",
    "3. __Censored data__: In practice, we don't observe transition events or epidemic compartments.  Bayesian statistical methods, e.g. Markov chain Monte Carlo (MCMC), Sequential Monte Carlo (SMC), and Approximate Bayesian Computation (ABC), give us the computational machinery to deal with this by treating censored data as parameters to be estimated!  "
   ]
  },
  {
   "cell_type": "markdown",
   "metadata": {
    "id": "DnZtmqGtFKdu"
   },
   "source": [
    "## Conclusion\n",
    "\n",
    "In this notebook we have learned:\n",
    "\n",
    "1. That Bayes' Theorem can be used to reverse conditioning between random variables in a probability model.\n",
    "\n",
    "2. That the posterior density function is proportional to the prior time the likelihood.\n",
    "\n",
    "3. That careful choice of priors is required for Bayesian models to make sense.\n",
    "\n",
    "4. Broadly how to write down Bayesian models as lists of random variables and distributions.\n",
    "\n",
    "5. Why conjugate priors are important, and how to make inference on the parameter of a uni-dimensional model.\n",
    "\n",
    "6. How to construct a Gibbs Sampler to sampler from the joint posterior distribution of a two-parameter model using conjugate priors."
   ]
  }
 ],
 "metadata": {
  "colab": {
   "provenance": [],
   "toc_visible": true
  },
  "kernelspec": {
   "display_name": "Python 3 (ipykernel)",
   "language": "python",
   "name": "python3"
  },
  "language_info": {
   "codemirror_mode": {
    "name": "ipython",
    "version": 3
   },
   "file_extension": ".py",
   "mimetype": "text/x-python",
   "name": "python",
   "nbconvert_exporter": "python",
   "pygments_lexer": "ipython3",
   "version": "3.10.12"
  }
 },
 "nbformat": 4,
 "nbformat_minor": 4
}
