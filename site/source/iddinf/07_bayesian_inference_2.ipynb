{
  "nbformat": 4,
  "nbformat_minor": 0,
  "metadata": {
    "colab": {
      "provenance": [],
      "toc_visible": true
    },
    "kernelspec": {
      "name": "python3",
      "display_name": "Python 3"
    },
    "language_info": {
      "name": "python"
    }
  },
  "cells": [
    {
      "cell_type": "markdown",
      "source": [
        "# 7. Bayesian inference 2 - encapsulating models\n",
        "\n",
        "[![Open In Colab](https://colab.research.google.com/assets/colab-badge.svg)](https://colab.research.google.com/github/gem-epidemics/practical-epidemics/blob/master/site/source/iddinf/07_bayesian_inference_2.ipynb)\n",
        "\n",
        "__Date__: Wednesday, Sept 11, 2024\n",
        "\n",
        "## Learning outcomes\n",
        "- defining complex Bayesian models\n",
        "- connection between Bayesian models and directed acyclic graphs\n",
        "- encapsulating Bayesian models with a `tfd.JointDistributionCoroutine`\n"
      ],
      "metadata": {
        "id": "iCUBLCGRzWBX"
      }
    },
    {
      "cell_type": "markdown",
      "source": [
        "## Bayesian models\n",
        "\n",
        "In the previous session, we looked at several aspects of Bayesian inference including probability distributions of data, key mathematical considerations of distribution choices, and stimating parameters based on data. We now want to bring this all together within the context of epidemic models by encapsulating these aspects of our models so we can use more complex inference schemes.\n",
        "\n",
        "Bayesian inference is a broad term that refers to the formulation and computation of the conditional probability $p(\\theta | x) \\propto p(\\theta) p(X|\\theta)$. The collection of prior distributions $p(\\theta)$ along with the likelihood function $p(X|\\theta)$ is what we refer to as our __Bayesian model__. In the [epidemic likelihoods](https://colab.research.google.com/drive/1fUAT9ALNNYJHQeMPxLUjgLB3US_Z8rb6) session, the likelihood function was defined using the $L(\\theta| X)$ notation (a function of the model parameters). These two are used interchangeably in the literature (which can be somewhat confusing).\n",
        "\n",
        "We want to develop a Bayesian workflow that can be followed and repeated when doing any modelling exercise. This typically includes three steps\n",
        "1. model building\n",
        "2. inference\n",
        "3. model checking/improvement\n",
        "This section will focus on the first step of this process - model building."
      ],
      "metadata": {
        "id": "YNtFM3XhmKuO"
      }
    },
    {
      "cell_type": "markdown",
      "source": [
        "A big advantage of a Bayesian modelling approach is the clear flow of information which links model parameters to the data generating process. In order to build a Bayesian model, it is best to think about _how_ the observed data Y was generate from a process (and our goal is to  make a model which represents the process). With epidemics, the data we often see are case counts which can be modelled with a Poisson process as shown earlier. This can be represented with a Directed Acyclic Graph (DAG) which is a collection of verticies and edges that are directed from one vertex to another, but never form a closed loop. We use use them to represent the connections and dependencies in Bayesian models. Take the example of the chain binomial SIR model we used in the [epidemic likelihoods](https://colab.research.google.com/drive/1fUAT9ALNNYJHQeMPxLUjgLB3US_Z8rb6) session. The DAG for that model can be written as"
      ],
      "metadata": {
        "id": "kVoeFtzUsILV"
      }
    },
    {
      "cell_type": "code",
      "source": [
        "# @title\n",
        "!apt update\n",
        "!apt install imagemagick\n",
        "!apt install pdf2svg\n",
        "!apt install texlive texlive-latex-extra\n",
        "!apt install amsmath\n",
        "\n",
        "!pip install git+https://github.com/mkrphys/ipython-tikzmagic.git"
      ],
      "metadata": {
        "id": "-9RZB0j-wesw"
      },
      "execution_count": null,
      "outputs": []
    },
    {
      "cell_type": "code",
      "source": [
        "# @title\n",
        "%load_ext tikzmagic"
      ],
      "metadata": {
        "id": "jNSjECLnwuwG"
      },
      "execution_count": null,
      "outputs": []
    },
    {
      "cell_type": "code",
      "source": [
        "%%tikz -S test_output.tikz -f svg\n",
        "\n",
        "% priors\n",
        "\\draw [line width=1.5pt ] (2, 15) circle (1.25cm)  node {\\huge $\\beta$};\n",
        "\\draw [line width=1.5pt ] (8, 15) circle (1.25cm) node {\\huge $\\gamma$} ;\n",
        "\n",
        "% model\n",
        "\\draw [line width=1.5pt ] (5,9) ellipse (3.7cm and 2.cm) node {\\huge *StateTransitionModel};\n",
        "\n",
        "% data\n",
        "\\draw [line width=1.5pt ] (5,2) circle (1.25cm) node {\\huge Y} ;\n",
        "\n",
        "% lines\n",
        "\\draw [line width=1pt, ->] (2.5, 13.5) -- (4, 11.5);\n",
        "\\draw [line width=1pt, ->] (7.5, 13.5) -- (6, 11.5);\n",
        "\\draw [line width=1pt, ->] (5, 6.8) -- (5, 3.5);"
      ],
      "metadata": {
        "colab": {
          "base_uri": "https://localhost:8080/",
          "height": 261
        },
        "id": "xIsv6mvJsGQE",
        "outputId": "e2932c17-2538-4c82-9266-98a6130b75a6"
      },
      "execution_count": null,
      "outputs": [
        {
          "output_type": "display_data",
          "data": {
            "image/svg+xml": "<svg xmlns=\"http://www.w3.org/2000/svg\" xmlns:xlink=\"http://www.w3.org/1999/xlink\" width=\"400px\" height=\"240px\" viewBox=\"0 0 242.439 440.864\" version=\"1.1\">\n<defs>\n<g>\n<symbol overflow=\"visible\" id=\"glyph0-0\">\n<path style=\"stroke:none;\" d=\"\"/>\n</symbol>\n<symbol overflow=\"visible\" id=\"glyph0-1\">\n<path style=\"stroke:none;\" d=\"M 11.6875 -12.015625 C 11.6875 -13.265625 10.640625 -14.5625 8.765625 -14.5625 C 6.09375 -14.5625 4.40625 -11.296875 3.859375 -9.15625 L 0.59375 3.796875 C 0.5625 3.96875 0.6875 4 0.78125 4 C 0.921875 4 1.03125 3.984375 1.046875 3.890625 L 2.5 -1.90625 C 2.703125 -0.75 3.84375 0.203125 5.0625 0.203125 C 8.015625 0.203125 10.796875 -2.109375 10.796875 -5.1875 C 10.796875 -5.96875 10.625 -6.75 10.1875 -7.421875 C 9.9375 -7.8125 9.625 -8.09375 9.296875 -8.34375 C 10.78125 -9.125 11.6875 -10.390625 11.6875 -12.015625 Z M 8.09375 -8.359375 C 7.765625 -8.234375 7.4375 -8.203125 7.046875 -8.203125 C 6.75 -8.203125 6.484375 -8.1875 6.109375 -8.296875 C 6.328125 -8.453125 6.625 -8.484375 7.0625 -8.484375 C 7.4375 -8.484375 7.8125 -8.453125 8.09375 -8.359375 Z M 10.625 -12.203125 C 10.625 -11.078125 10.0625 -9.421875 8.71875 -8.65625 C 8.328125 -8.796875 7.78125 -8.90625 7.328125 -8.90625 C 6.90625 -8.90625 5.65625 -8.9375 5.65625 -8.28125 C 5.65625 -7.71875 6.796875 -7.78125 7.140625 -7.78125 C 7.6875 -7.78125 8.15625 -7.90625 8.65625 -8.0625 C 9.3125 -7.515625 9.609375 -6.8125 9.609375 -5.78125 C 9.609375 -4.578125 9.28125 -3.609375 8.875 -2.734375 C 8.203125 -1.203125 6.59375 -0.203125 5.171875 -0.203125 C 3.65625 -0.203125 2.875 -1.40625 2.875 -2.8125 C 2.875 -3 2.875 -3.265625 2.953125 -3.578125 L 4.296875 -9 C 4.984375 -11.71875 6.71875 -14.15625 8.71875 -14.15625 C 10.203125 -14.15625 10.625 -13.109375 10.625 -12.203125 Z M 10.625 -12.203125 \"/>\n</symbol>\n<symbol overflow=\"visible\" id=\"glyph0-2\">\n<path style=\"stroke:none;\" d=\"M 7.8125 -2.515625 C 7.765625 -3.53125 7.71875 -5.125 6.9375 -6.984375 C 6.53125 -8.015625 5.828125 -9.109375 4.3125 -9.109375 C 1.78125 -9.109375 0.390625 -5.859375 0.390625 -5.328125 C 0.390625 -5.140625 0.53125 -5.140625 0.59375 -5.140625 C 0.78125 -5.140625 0.78125 -5.1875 0.890625 -5.453125 C 1.328125 -6.734375 2.640625 -7.75 4.0625 -7.75 C 6.9375 -7.75 7.359375 -4.546875 7.359375 -2.5 C 7.359375 -1.203125 7.203125 -0.765625 7.078125 -0.34375 C 6.6875 0.921875 6.015625 3.484375 6.015625 4.0625 C 6.015625 4.234375 6.078125 4.421875 6.234375 4.421875 C 6.546875 4.421875 6.734375 3.734375 6.96875 2.90625 C 7.453125 1.09375 7.578125 0.1875 7.6875 -0.640625 C 7.75 -1.140625 8.921875 -4.546875 10.5625 -7.78125 C 10.703125 -8.125 10.984375 -8.671875 10.984375 -8.734375 C 10.984375 -8.765625 10.96875 -8.90625 10.78125 -8.90625 C 10.734375 -8.90625 10.640625 -8.90625 10.59375 -8.8125 C 10.5625 -8.78125 9.828125 -7.375 9.21875 -5.96875 C 8.90625 -5.265625 8.484375 -4.34375 7.8125 -2.515625 Z M 7.8125 -2.515625 \"/>\n</symbol>\n<symbol overflow=\"visible\" id=\"glyph1-0\">\n<path style=\"stroke:none;\" d=\"\"/>\n</symbol>\n<symbol overflow=\"visible\" id=\"glyph1-1\">\n<path style=\"stroke:none;\" d=\"M 4.890625 -10.71875 L 7.5 -8.796875 C 7.71875 -8.609375 7.765625 -8.609375 7.875 -8.609375 C 8.15625 -8.609375 8.296875 -8.859375 8.296875 -9.046875 C 8.296875 -9.28125 8.1875 -9.359375 7.953125 -9.484375 L 5.046875 -11.03125 L 7.953125 -12.59375 C 8.203125 -12.75 8.296875 -12.78125 8.296875 -13.015625 C 8.296875 -13.453125 7.875 -13.453125 7.75 -13.453125 L 4.890625 -11.34375 L 5.171875 -15.0625 C 5.125 -15.3125 4.953125 -15.46875 4.734375 -15.46875 C 4.484375 -15.46875 4.3125 -15.265625 4.3125 -15.078125 L 4.5625 -11.34375 L 1.96875 -13.265625 C 1.734375 -13.453125 1.6875 -13.453125 1.59375 -13.453125 C 1.296875 -13.453125 1.15625 -13.203125 1.15625 -13.015625 C 1.15625 -12.78125 1.28125 -12.703125 1.515625 -12.578125 L 4.421875 -11.03125 L 1.515625 -9.453125 C 1.265625 -9.3125 1.15625 -9.28125 1.15625 -9.046875 C 1.15625 -8.609375 1.59375 -8.609375 1.71875 -8.609375 L 4.5625 -10.71875 L 4.296875 -6.984375 C 4.3125 -6.796875 4.46875 -6.59375 4.734375 -6.59375 C 4.984375 -6.59375 5.140625 -6.78125 5.140625 -7 L 5.125 -7.3125 Z M 4.890625 -10.71875 \"/>\n</symbol>\n<symbol overflow=\"visible\" id=\"glyph1-2\">\n<path style=\"stroke:none;\" d=\"M 9.046875 -14.03125 C 9.046875 -14.390625 9.03125 -14.421875 8.90625 -14.421875 C 8.78125 -14.421875 8.734375 -14.328125 8.65625 -14.15625 L 8.03125 -12.78125 C 7.25 -13.921875 6.046875 -14.4375 4.75 -14.4375 C 2.640625 -14.4375 0.953125 -12.765625 0.953125 -10.65625 C 0.953125 -10.015625 1.09375 -9.109375 1.796875 -8.234375 C 2.5625 -7.296875 3.28125 -7.125 4.9375 -6.6875 C 5.5625 -6.53125 6.59375 -6.265625 6.796875 -6.171875 C 7.96875 -5.6875 8.59375 -4.4375 8.59375 -3.28125 C 8.59375 -1.796875 7.546875 -0.203125 5.75 -0.203125 C 3.53125 -0.203125 1.46875 -1.453125 1.328125 -4.34375 C 1.296875 -4.671875 1.28125 -4.6875 1.140625 -4.6875 C 0.96875 -4.6875 0.953125 -4.671875 0.953125 -4.25 L 0.953125 -0.078125 C 0.953125 0.296875 0.96875 0.3125 1.09375 0.3125 C 1.234375 0.3125 1.28125 0.203125 1.5625 -0.4375 C 1.59375 -0.5 1.59375 -0.53125 1.984375 -1.328125 C 3.015625 0.046875 4.75 0.328125 5.75 0.328125 C 8 0.328125 9.578125 -1.546875 9.578125 -3.734375 C 9.578125 -4.8125 9.1875 -5.640625 8.96875 -6.015625 C 8.09375 -7.328125 7.171875 -7.578125 6.171875 -7.828125 C 6.03125 -7.890625 5.984375 -7.890625 4.828125 -8.1875 C 3.71875 -8.46875 3.25 -8.609375 2.734375 -9.171875 C 2.140625 -9.8125 1.9375 -10.46875 1.9375 -11.140625 C 1.9375 -12.46875 3.015625 -13.9375 4.765625 -13.9375 C 6.96875 -13.9375 8.328125 -12.390625 8.640625 -9.8125 C 8.703125 -9.4375 8.71875 -9.421875 8.859375 -9.421875 C 9.046875 -9.421875 9.046875 -9.484375 9.046875 -9.828125 Z M 9.046875 -14.03125 \"/>\n</symbol>\n<symbol overflow=\"visible\" id=\"glyph1-3\">\n<path style=\"stroke:none;\" d=\"M 3.125 -8.34375 L 6.015625 -8.34375 L 6.015625 -8.875 L 3.125 -8.875 L 3.125 -12.703125 L 2.75 -12.703125 C 2.703125 -10.578125 1.984375 -8.71875 0.234375 -8.671875 L 0.234375 -8.34375 L 2.03125 -8.34375 L 2.03125 -2.546875 C 2.03125 -2.140625 2.03125 0.171875 4.421875 0.171875 C 5.640625 0.171875 6.34375 -1.03125 6.34375 -2.5625 L 6.34375 -3.734375 L 5.96875 -3.734375 L 5.96875 -2.578125 C 5.96875 -1.15625 5.40625 -0.203125 4.546875 -0.203125 C 3.953125 -0.203125 3.125 -0.625 3.125 -2.5 Z M 3.125 -8.34375 \"/>\n</symbol>\n<symbol overflow=\"visible\" id=\"glyph1-4\">\n<path style=\"stroke:none;\" d=\"M 7.4375 -5.34375 C 7.4375 -6.71875 7.4375 -7.4375 6.5625 -8.234375 C 5.796875 -8.921875 4.921875 -9.125 4.21875 -9.125 C 2.578125 -9.125 1.40625 -7.84375 1.40625 -6.484375 C 1.40625 -5.71875 2.03125 -5.6875 2.140625 -5.6875 C 2.421875 -5.6875 2.890625 -5.84375 2.890625 -6.421875 C 2.890625 -6.9375 2.5 -7.171875 2.140625 -7.171875 C 2.0625 -7.171875 1.96875 -7.140625 1.90625 -7.125 C 2.328125 -8.421875 3.453125 -8.796875 4.171875 -8.796875 C 5.203125 -8.796875 6.34375 -7.890625 6.34375 -6.15625 L 6.34375 -5.25 C 5.125 -5.203125 3.65625 -5.046875 2.5 -4.421875 C 1.203125 -3.703125 0.828125 -2.671875 0.828125 -1.875 C 0.828125 -0.296875 2.6875 0.171875 3.78125 0.171875 C 4.921875 0.171875 5.96875 -0.46875 6.421875 -1.65625 C 6.46875 -0.75 7.046875 0.078125 7.953125 0.078125 C 8.390625 0.078125 9.484375 -0.203125 9.484375 -1.84375 L 9.484375 -3 L 9.109375 -3 L 9.109375 -1.8125 C 9.109375 -0.5625 8.546875 -0.390625 8.28125 -0.390625 C 7.4375 -0.390625 7.4375 -1.46875 7.4375 -2.375 Z M 6.34375 -2.875 C 6.34375 -1.078125 5.0625 -0.171875 3.921875 -0.171875 C 2.890625 -0.171875 2.09375 -0.921875 2.09375 -1.875 C 2.09375 -2.5 2.359375 -3.59375 3.546875 -4.25 C 4.546875 -4.8125 5.6875 -4.890625 6.34375 -4.9375 Z M 6.34375 -2.875 \"/>\n</symbol>\n<symbol overflow=\"visible\" id=\"glyph1-5\">\n<path style=\"stroke:none;\" d=\"M 7.875 -4.859375 C 7.953125 -4.9375 7.953125 -4.984375 7.953125 -5.1875 C 7.953125 -7.296875 6.84375 -9.125 4.484375 -9.125 C 2.296875 -9.125 0.5625 -7.046875 0.5625 -4.5 C 0.5625 -1.8125 2.515625 0.171875 4.703125 0.171875 C 7.015625 0.171875 7.9375 -2.03125 7.9375 -2.453125 C 7.9375 -2.609375 7.8125 -2.609375 7.765625 -2.609375 C 7.625 -2.609375 7.59375 -2.5625 7.515625 -2.3125 C 7.0625 -0.90625 5.921875 -0.203125 4.859375 -0.203125 C 3.96875 -0.203125 3.078125 -0.703125 2.515625 -1.609375 C 1.875 -2.671875 1.875 -3.890625 1.875 -4.859375 Z M 1.90625 -5.171875 C 2.046875 -8.140625 3.640625 -8.796875 4.46875 -8.796875 C 5.859375 -8.796875 6.8125 -7.484375 6.84375 -5.171875 Z M 1.90625 -5.171875 \"/>\n</symbol>\n<symbol overflow=\"visible\" id=\"glyph1-6\">\n<path style=\"stroke:none;\" d=\"M 12.84375 -14.046875 L 0.921875 -14.046875 L 0.578125 -9.484375 L 0.953125 -9.484375 C 1.21875 -12.90625 1.515625 -13.515625 4.6875 -13.515625 C 5.0625 -13.515625 5.65625 -13.515625 5.828125 -13.484375 C 6.21875 -13.421875 6.21875 -13.171875 6.21875 -12.703125 L 6.21875 -1.515625 C 6.21875 -0.765625 6.15625 -0.53125 4.4375 -0.53125 L 3.859375 -0.53125 L 3.859375 0 C 4.859375 -0.015625 5.890625 -0.046875 6.90625 -0.046875 C 7.90625 -0.046875 8.9375 -0.015625 9.9375 0 L 9.9375 -0.53125 L 9.359375 -0.53125 C 7.640625 -0.53125 7.578125 -0.765625 7.578125 -1.515625 L 7.578125 -12.703125 C 7.578125 -13.15625 7.578125 -13.40625 7.953125 -13.484375 C 8.125 -13.515625 8.71875 -13.515625 9.09375 -13.515625 C 12.25 -13.515625 12.5625 -12.90625 12.828125 -9.484375 L 13.203125 -9.484375 Z M 12.84375 -14.046875 \"/>\n</symbol>\n<symbol overflow=\"visible\" id=\"glyph1-7\">\n<path style=\"stroke:none;\" d=\"M 3.09375 -4.875 C 3.09375 -6.859375 3.953125 -8.71875 5.5 -8.71875 C 5.640625 -8.71875 5.78125 -8.703125 5.921875 -8.640625 C 5.921875 -8.640625 5.46875 -8.484375 5.46875 -7.953125 C 5.46875 -7.453125 5.859375 -7.25 6.171875 -7.25 C 6.421875 -7.25 6.875 -7.390625 6.875 -7.96875 C 6.875 -8.640625 6.21875 -9.046875 5.515625 -9.046875 C 3.953125 -9.046875 3.265625 -7.515625 3.0625 -6.796875 L 3.03125 -6.796875 L 3.03125 -9.046875 L 0.640625 -8.8125 L 0.640625 -8.28125 C 1.859375 -8.28125 2.046875 -8.15625 2.046875 -7.171875 L 2.046875 -1.421875 C 2.046875 -0.640625 1.96875 -0.53125 0.640625 -0.53125 L 0.640625 0 C 1.140625 -0.046875 2.09375 -0.046875 2.625 -0.046875 C 3.21875 -0.046875 4.28125 -0.046875 4.828125 0 L 4.828125 -0.53125 C 3.34375 -0.53125 3.09375 -0.53125 3.09375 -1.46875 Z M 3.09375 -4.875 \"/>\n</symbol>\n<symbol overflow=\"visible\" id=\"glyph1-8\">\n<path style=\"stroke:none;\" d=\"M 8.578125 -6.28125 C 8.578125 -7.328125 8.359375 -9.046875 5.921875 -9.046875 C 4.296875 -9.046875 3.453125 -7.78125 3.140625 -6.96875 L 3.125 -6.96875 L 3.125 -9.046875 L 0.6875 -8.8125 L 0.6875 -8.28125 C 1.90625 -8.28125 2.09375 -8.15625 2.09375 -7.171875 L 2.09375 -1.421875 C 2.09375 -0.640625 2 -0.53125 0.6875 -0.53125 L 0.6875 0 C 1.171875 -0.046875 2.09375 -0.046875 2.625 -0.046875 C 3.15625 -0.046875 4.09375 -0.046875 4.578125 0 L 4.578125 -0.53125 C 3.265625 -0.53125 3.1875 -0.625 3.1875 -1.421875 L 3.1875 -5.390625 C 3.1875 -7.296875 4.34375 -8.71875 5.78125 -8.71875 C 7.3125 -8.71875 7.484375 -7.359375 7.484375 -6.359375 L 7.484375 -1.421875 C 7.484375 -0.640625 7.390625 -0.53125 6.078125 -0.53125 L 6.078125 0 C 6.5625 -0.046875 7.484375 -0.046875 8.015625 -0.046875 C 8.546875 -0.046875 9.484375 -0.046875 9.984375 0 L 9.984375 -0.53125 C 8.65625 -0.53125 8.578125 -0.625 8.578125 -1.421875 Z M 8.578125 -6.28125 \"/>\n</symbol>\n<symbol overflow=\"visible\" id=\"glyph1-9\">\n<path style=\"stroke:none;\" d=\"M 6.375 -8.71875 C 6.375 -9.09375 6.359375 -9.109375 6.234375 -9.109375 C 6.15625 -9.109375 6.140625 -9.09375 5.890625 -8.78125 C 5.828125 -8.703125 5.640625 -8.484375 5.578125 -8.40625 C 4.921875 -9.109375 3.984375 -9.125 3.640625 -9.125 C 1.34375 -9.125 0.515625 -7.9375 0.515625 -6.734375 C 0.515625 -4.875 2.625 -4.4375 3.21875 -4.3125 C 4.53125 -4.046875 4.984375 -3.96875 5.40625 -3.59375 C 5.6875 -3.34375 6.140625 -2.890625 6.140625 -2.140625 C 6.140625 -1.28125 5.640625 -0.171875 3.734375 -0.171875 C 1.9375 -0.171875 1.296875 -1.53125 0.921875 -3.34375 C 0.875 -3.640625 0.875 -3.65625 0.703125 -3.65625 C 0.53125 -3.65625 0.515625 -3.640625 0.515625 -3.21875 L 0.515625 -0.25 C 0.515625 0.125 0.53125 0.140625 0.65625 0.140625 C 0.765625 0.140625 0.78125 0.125 0.890625 -0.046875 C 1.015625 -0.234375 1.328125 -0.71875 1.453125 -0.921875 C 1.859375 -0.375 2.578125 0.171875 3.734375 0.171875 C 5.78125 0.171875 6.875 -0.953125 6.875 -2.5625 C 6.875 -3.609375 6.328125 -4.171875 6.046875 -4.421875 C 5.4375 -5.0625 4.703125 -5.203125 3.84375 -5.375 C 2.703125 -5.625 1.265625 -5.90625 1.265625 -7.171875 C 1.265625 -7.703125 1.546875 -8.84375 3.640625 -8.84375 C 5.84375 -8.84375 5.96875 -6.78125 6.015625 -6.109375 C 6.03125 -6.015625 6.140625 -5.984375 6.203125 -5.984375 C 6.375 -5.984375 6.375 -6.046875 6.375 -6.40625 Z M 6.375 -8.71875 \"/>\n</symbol>\n<symbol overflow=\"visible\" id=\"glyph1-10\">\n<path style=\"stroke:none;\" d=\"M 3.203125 -12.71875 C 3.203125 -13.171875 2.828125 -13.578125 2.359375 -13.578125 C 1.90625 -13.578125 1.515625 -13.203125 1.515625 -12.71875 C 1.515625 -12.265625 1.875 -11.875 2.359375 -11.875 C 2.8125 -11.875 3.203125 -12.25 3.203125 -12.71875 Z M 0.78125 -8.8125 L 0.78125 -8.28125 C 1.9375 -8.28125 2.109375 -8.15625 2.109375 -7.171875 L 2.109375 -1.421875 C 2.109375 -0.640625 2.03125 -0.53125 0.703125 -0.53125 L 0.703125 0 C 1.203125 -0.046875 2.09375 -0.046875 2.609375 -0.046875 C 3.09375 -0.046875 3.953125 -0.046875 4.421875 0 L 4.421875 -0.53125 C 3.203125 -0.53125 3.15625 -0.65625 3.15625 -1.40625 L 3.15625 -9.046875 Z M 0.78125 -8.8125 \"/>\n</symbol>\n<symbol overflow=\"visible\" id=\"glyph1-11\">\n<path style=\"stroke:none;\" d=\"M 8.90625 -4.421875 C 8.90625 -7.0625 6.984375 -9.125 4.734375 -9.125 C 2.484375 -9.125 0.5625 -7.0625 0.5625 -4.421875 C 0.5625 -1.8125 2.484375 0.171875 4.734375 0.171875 C 6.984375 0.171875 8.90625 -1.8125 8.90625 -4.421875 Z M 4.734375 -0.203125 C 3.765625 -0.203125 2.9375 -0.78125 2.453125 -1.59375 C 1.9375 -2.515625 1.875 -3.671875 1.875 -4.578125 C 1.875 -5.453125 1.921875 -6.53125 2.453125 -7.453125 C 2.875 -8.140625 3.671875 -8.796875 4.734375 -8.796875 C 5.65625 -8.796875 6.4375 -8.28125 6.9375 -7.5625 C 7.578125 -6.59375 7.578125 -5.21875 7.578125 -4.578125 C 7.578125 -3.78125 7.546875 -2.546875 6.984375 -1.546875 C 6.40625 -0.59375 5.515625 -0.203125 4.734375 -0.203125 Z M 4.734375 -0.203125 \"/>\n</symbol>\n<symbol overflow=\"visible\" id=\"glyph1-12\">\n<path style=\"stroke:none;\" d=\"M 4.3125 -13.78125 C 4.1875 -14.09375 4.171875 -14.109375 3.734375 -14.109375 L 1.09375 -14.109375 L 1.09375 -13.578125 C 2.515625 -13.578125 2.75 -13.578125 2.75 -12.640625 L 2.75 -2.03125 C 2.75 -1.515625 2.75 -0.53125 1.09375 -0.53125 L 1.09375 0 C 1.5625 -0.046875 2.4375 -0.046875 2.953125 -0.046875 C 3.46875 -0.046875 4.34375 -0.046875 4.8125 0 L 4.8125 -0.53125 C 3.15625 -0.53125 3.15625 -1.515625 3.15625 -2.03125 L 3.15625 -13.484375 L 3.1875 -13.484375 L 8.03125 -0.328125 C 8.125 -0.125 8.15625 0 8.328125 0 C 8.484375 0 8.53125 -0.125 8.609375 -0.328125 L 13.515625 -13.59375 L 13.53125 -13.59375 L 13.53125 -1.46875 C 13.53125 -0.53125 13.296875 -0.53125 11.875 -0.53125 L 11.875 0 C 12.4375 -0.046875 13.546875 -0.046875 14.15625 -0.046875 C 14.75 -0.046875 15.890625 -0.046875 16.4375 0 L 16.4375 -0.53125 C 15.015625 -0.53125 14.796875 -0.53125 14.796875 -1.46875 L 14.796875 -12.640625 C 14.796875 -13.578125 15.015625 -13.578125 16.4375 -13.578125 L 16.4375 -14.109375 L 13.8125 -14.109375 C 13.390625 -14.109375 13.359375 -14.09375 13.234375 -13.78125 L 8.78125 -1.671875 Z M 4.3125 -13.78125 \"/>\n</symbol>\n<symbol overflow=\"visible\" id=\"glyph1-13\">\n<path style=\"stroke:none;\" d=\"M 6.03125 -14.109375 L 6.03125 -13.578125 C 7.25 -13.578125 7.4375 -13.453125 7.4375 -12.453125 L 7.4375 -7.625 C 7.359375 -7.71875 6.5 -9.046875 4.828125 -9.046875 C 2.734375 -9.046875 0.6875 -7.171875 0.6875 -4.4375 C 0.6875 -1.734375 2.609375 0.171875 4.625 0.171875 C 6.375 0.171875 7.296875 -1.203125 7.390625 -1.34375 L 7.390625 0.171875 L 9.890625 0 L 9.890625 -0.53125 C 8.671875 -0.53125 8.484375 -0.65625 8.484375 -1.65625 L 8.484375 -14.328125 Z M 7.390625 -2.484375 C 7.390625 -1.859375 7.015625 -1.296875 6.546875 -0.890625 C 5.84375 -0.265625 5.140625 -0.171875 4.75 -0.171875 C 4.15625 -0.171875 2 -0.46875 2 -4.421875 C 2 -8.46875 4.40625 -8.71875 4.9375 -8.71875 C 5.890625 -8.71875 6.65625 -8.1875 7.125 -7.4375 C 7.390625 -7 7.390625 -6.9375 7.390625 -6.5625 Z M 7.390625 -2.484375 \"/>\n</symbol>\n<symbol overflow=\"visible\" id=\"glyph1-14\">\n<path style=\"stroke:none;\" d=\"M 3.15625 -14.328125 L 0.703125 -14.109375 L 0.703125 -13.578125 C 1.921875 -13.578125 2.109375 -13.453125 2.109375 -12.453125 L 2.109375 -1.421875 C 2.109375 -0.640625 2.03125 -0.53125 0.703125 -0.53125 L 0.703125 0 C 1.203125 -0.046875 2.109375 -0.046875 2.625 -0.046875 C 3.15625 -0.046875 4.0625 -0.046875 4.5625 0 L 4.5625 -0.53125 C 3.25 -0.53125 3.15625 -0.625 3.15625 -1.421875 Z M 3.15625 -14.328125 \"/>\n</symbol>\n<symbol overflow=\"visible\" id=\"glyph1-15\">\n<path style=\"stroke:none;\" d=\"M 11.953125 -12.265625 C 12.765625 -13.546875 13.875 -13.578125 14.25 -13.578125 L 14.25 -14.109375 C 13.78125 -14.0625 13.234375 -14.0625 12.71875 -14.0625 C 12.203125 -14.0625 11.375 -14.0625 10.890625 -14.109375 L 10.890625 -13.578125 C 11.40625 -13.546875 11.671875 -13.28125 11.671875 -12.890625 C 11.671875 -12.640625 11.5625 -12.46875 11.40625 -12.203125 L 7.6875 -6.234375 L 3.609375 -12.75 C 3.46875 -13 3.453125 -13.015625 3.453125 -13.15625 C 3.453125 -13.578125 4.171875 -13.578125 4.46875 -13.578125 L 4.46875 -14.109375 C 3.796875 -14.0625 2.78125 -14.0625 2.109375 -14.0625 C 1.5625 -14.0625 0.53125 -14.0625 0.046875 -14.109375 L 0.046875 -13.578125 C 1.21875 -13.578125 1.546875 -13.515625 1.921875 -12.90625 L 6.484375 -5.640625 L 6.484375 -1.46875 C 6.484375 -0.53125 6.265625 -0.53125 4.828125 -0.53125 L 4.828125 0 C 5.4375 -0.046875 6.5 -0.046875 7.140625 -0.046875 C 7.78125 -0.046875 8.875 -0.046875 9.484375 0 L 9.484375 -0.53125 C 8 -0.53125 7.8125 -0.53125 7.8125 -1.546875 L 7.8125 -5.640625 Z M 11.953125 -12.265625 \"/>\n</symbol>\n</g>\n<clipPath id=\"clip1\">\n  <path d=\"M 149 0 L 242.4375 0 L 242.4375 93 L 149 93 Z M 149 0 \"/>\n</clipPath>\n<clipPath id=\"clip2\">\n  <path d=\"M 0 128 L 242.4375 128 L 242.4375 285 L 0 285 Z M 0 128 \"/>\n</clipPath>\n<clipPath id=\"clip3\">\n  <path d=\"M 64 348 L 178 348 L 178 440.863281 L 64 440.863281 Z M 64 348 \"/>\n</clipPath>\n</defs>\n<g id=\"surface1\">\n<path style=\"fill:none;stroke-width:1.49442;stroke-linecap:butt;stroke-linejoin:miter;stroke:rgb(0%,0%,0%);stroke-opacity:1;stroke-miterlimit:10;\" d=\"M 92.126281 425.201219 C 92.126281 444.771531 76.263 460.634813 56.692688 460.634813 C 37.122375 460.634813 21.259094 444.771531 21.259094 425.201219 C 21.259094 405.630906 37.122375 389.767625 56.692688 389.767625 C 76.263 389.767625 92.126281 405.630906 92.126281 425.201219 Z M 92.126281 425.201219 \" transform=\"matrix(1,0,0,-1,-20.513,461.377)\"/>\n<g style=\"fill:rgb(0%,0%,0%);fill-opacity:1;\">\n  <use xlink:href=\"#glyph0-1\" x=\"29.897\" y=\"41.346\"/>\n</g>\n<g clip-path=\"url(#clip1)\" clip-rule=\"nonzero\">\n<path style=\"fill:none;stroke-width:1.49442;stroke-linecap:butt;stroke-linejoin:miter;stroke:rgb(0%,0%,0%);stroke-opacity:1;stroke-miterlimit:10;\" d=\"M 262.208312 425.201219 C 262.208312 444.771531 246.345031 460.634813 226.774719 460.634813 C 207.204406 460.634813 191.341125 444.771531 191.341125 425.201219 C 191.341125 405.630906 207.204406 389.767625 226.774719 389.767625 C 246.345031 389.767625 262.208312 405.630906 262.208312 425.201219 Z M 262.208312 425.201219 \" transform=\"matrix(1,0,0,-1,-20.513,461.377)\"/>\n</g>\n<g style=\"fill:rgb(0%,0%,0%);fill-opacity:1;\">\n  <use xlink:href=\"#glyph0-2\" x=\"200.45\" y=\"38.619\"/>\n</g>\n<g clip-path=\"url(#clip2)\" clip-rule=\"nonzero\">\n<path style=\"fill:none;stroke-width:1.49442;stroke-linecap:butt;stroke-linejoin:miter;stroke:rgb(0%,0%,0%);stroke-opacity:1;stroke-miterlimit:10;\" d=\"M 246.618469 255.123094 C 246.618469 286.431688 199.661438 311.8145 141.735656 311.8145 C 83.809875 311.8145 36.848938 286.431688 36.848938 255.123094 C 36.848938 223.810594 83.809875 198.427781 141.735656 198.427781 C 199.661438 198.427781 246.618469 223.810594 246.618469 255.123094 Z M 246.618469 255.123094 \" transform=\"matrix(1,0,0,-1,-20.513,461.377)\"/>\n</g>\n<g style=\"fill:rgb(0%,0%,0%);fill-opacity:1;\">\n  <use xlink:href=\"#glyph1-1\" x=\"26.797\" y=\"213.998\"/>\n  <use xlink:href=\"#glyph1-2\" x=\"36.272822\" y=\"213.998\"/>\n  <use xlink:href=\"#glyph1-3\" x=\"46.829294\" y=\"213.998\"/>\n  <use xlink:href=\"#glyph1-4\" x=\"54.145885\" y=\"213.998\"/>\n  <use xlink:href=\"#glyph1-3\" x=\"63.621707\" y=\"213.998\"/>\n  <use xlink:href=\"#glyph1-5\" x=\"70.938299\" y=\"213.998\"/>\n  <use xlink:href=\"#glyph1-6\" x=\"79.335539\" y=\"213.998\"/>\n</g>\n<g style=\"fill:rgb(0%,0%,0%);fill-opacity:1;\">\n  <use xlink:href=\"#glyph1-7\" x=\"91.518149\" y=\"213.998\"/>\n  <use xlink:href=\"#glyph1-4\" x=\"98.83474\" y=\"213.998\"/>\n  <use xlink:href=\"#glyph1-8\" x=\"108.310563\" y=\"213.998\"/>\n  <use xlink:href=\"#glyph1-9\" x=\"118.867034\" y=\"213.998\"/>\n  <use xlink:href=\"#glyph1-10\" x=\"126.293136\" y=\"213.998\"/>\n  <use xlink:href=\"#glyph1-3\" x=\"131.450496\" y=\"213.998\"/>\n  <use xlink:href=\"#glyph1-10\" x=\"138.767088\" y=\"213.998\"/>\n  <use xlink:href=\"#glyph1-11\" x=\"143.924448\" y=\"213.998\"/>\n  <use xlink:href=\"#glyph1-8\" x=\"153.40027\" y=\"213.998\"/>\n  <use xlink:href=\"#glyph1-12\" x=\"163.956741\" y=\"213.998\"/>\n  <use xlink:href=\"#glyph1-11\" x=\"181.519866\" y=\"213.998\"/>\n</g>\n<g style=\"fill:rgb(0%,0%,0%);fill-opacity:1;\">\n  <use xlink:href=\"#glyph1-13\" x=\"191.532914\" y=\"213.998\"/>\n  <use xlink:href=\"#glyph1-5\" x=\"202.089385\" y=\"213.998\"/>\n  <use xlink:href=\"#glyph1-14\" x=\"210.486625\" y=\"213.998\"/>\n</g>\n<g clip-path=\"url(#clip3)\" clip-rule=\"nonzero\">\n<path style=\"fill:none;stroke-width:1.49442;stroke-linecap:butt;stroke-linejoin:miter;stroke:rgb(0%,0%,0%);stroke-opacity:1;stroke-miterlimit:10;\" d=\"M 177.16925 56.693406 C 177.16925 76.263719 161.302063 92.127 141.735656 92.127 C 122.165344 92.127 106.302063 76.263719 106.302063 56.693406 C 106.302063 37.123094 122.165344 21.259813 141.735656 21.259813 C 161.302063 21.259813 177.16925 37.123094 177.16925 56.693406 Z M 177.16925 56.693406 \" transform=\"matrix(1,0,0,-1,-20.513,461.377)\"/>\n</g>\n<g style=\"fill:rgb(0%,0%,0%);fill-opacity:1;\">\n  <use xlink:href=\"#glyph1-15\" x=\"114.057\" y=\"411.742\"/>\n</g>\n<path style=\"fill:none;stroke-width:0.99628;stroke-linecap:butt;stroke-linejoin:miter;stroke:rgb(0%,0%,0%);stroke-opacity:1;stroke-miterlimit:10;\" d=\"M 70.868469 382.681688 L 112.888 326.654344 \" transform=\"matrix(1,0,0,-1,-20.513,461.377)\"/>\n<path style=\"fill:none;stroke-width:0.79701;stroke-linecap:round;stroke-linejoin:round;stroke:rgb(0%,0%,0%);stroke-opacity:1;stroke-miterlimit:10;\" d=\"M -1.734112 2.311278 C -1.588022 1.444845 0.00107499 0.145571 0.43468 0.00103118 C -0.00205301 -0.145063 -1.588051 -1.445867 -1.734939 -2.312298 \" transform=\"matrix(0.59999,0.79997,0.79997,-0.59999,92.37509,134.7232)\"/>\n<path style=\"fill:none;stroke-width:0.99628;stroke-linecap:butt;stroke-linejoin:miter;stroke:rgb(0%,0%,0%);stroke-opacity:1;stroke-miterlimit:10;\" d=\"M 212.602844 382.681688 L 170.579406 326.654344 \" transform=\"matrix(1,0,0,-1,-20.513,461.377)\"/>\n<path style=\"fill:none;stroke-width:0.79701;stroke-linecap:round;stroke-linejoin:round;stroke:rgb(0%,0%,0%);stroke-opacity:1;stroke-miterlimit:10;\" d=\"M -1.734535 2.311759 C -1.587647 1.445328 -0.00164874 0.144524 0.432741 0.00155487 C -0.000864596 -0.142985 -1.587618 -1.445384 -1.733707 -2.311817 \" transform=\"matrix(-0.59999,0.79997,0.79997,0.59999,150.06699,134.7232)\"/>\n<path style=\"fill:none;stroke-width:0.99628;stroke-linecap:butt;stroke-linejoin:miter;stroke:rgb(0%,0%,0%);stroke-opacity:1;stroke-miterlimit:10;\" d=\"M 141.735656 192.759813 L 141.735656 100.044969 \" transform=\"matrix(1,0,0,-1,-20.513,461.377)\"/>\n<path style=\"fill:none;stroke-width:0.79701;stroke-linecap:round;stroke-linejoin:round;stroke:rgb(0%,0%,0%);stroke-opacity:1;stroke-miterlimit:10;\" d=\"M -1.733624 2.31021 C -1.589092 1.443023 0.00075125 0.146148 0.434345 0.00161625 C 0.00075125 -0.142915 -1.589092 -1.443696 -1.733624 -2.310884 \" transform=\"matrix(0,1,1,0,121.22104,361.33128)\"/>\n</g>\n</svg>"
          },
          "metadata": {
            "isolated": "true"
          }
        }
      ]
    },
    {
      "cell_type": "markdown",
      "source": [
        "The top two nodes are the priors on the model parameters, $\\beta,\n",
        "\\gamma$, the middle node is the model itself (can use any of the `*StateTransitionModel` types within `gemlib`), and the output of the DAG is the observed data $Y$.\n",
        "\n",
        "We can wrap this DAG up in a function which we can turn into a JointDistributionCoroutine. The rest of this session will be implemented using Tensorflow as opposed to Numpy (with the exceptions of defining constants).  "
      ],
      "metadata": {
        "id": "M6SrBDpu0pMF"
      }
    },
    {
      "cell_type": "code",
      "source": [
        "from warnings import warn\n",
        "\n",
        "try:\n",
        "    import google.colab\n",
        "    !pip install gemlib\n",
        "except:\n",
        "    warn(\"Not running in Colab, make sure `gemlib` is installed locally\")"
      ],
      "metadata": {
        "id": "wGAKz8jrln6C",
        "colab": {
          "base_uri": "https://localhost:8080/"
        },
        "outputId": "9bee50ac-e720-4830-ffe1-1d72442013d2"
      },
      "execution_count": null,
      "outputs": [
        {
          "output_type": "stream",
          "name": "stdout",
          "text": [
            "Collecting gemlib\n",
            "  Downloading gemlib-0.11.1-py3-none-any.whl.metadata (1.6 kB)\n",
            "Collecting scipy<2.0.0,>=1.14.0 (from gemlib)\n",
            "  Downloading scipy-1.14.1-cp310-cp310-manylinux_2_17_x86_64.manylinux2014_x86_64.whl.metadata (60 kB)\n",
            "\u001b[2K     \u001b[90m━━━━━━━━━━━━━━━━━━━━━━━━━━━━━━━━━━━━━━━━\u001b[0m \u001b[32m60.8/60.8 kB\u001b[0m \u001b[31m764.3 kB/s\u001b[0m eta \u001b[36m0:00:00\u001b[0m\n",
            "\u001b[?25hRequirement already satisfied: tensorflow<3.0.0,>=2.17.0 in /usr/local/lib/python3.10/dist-packages (from gemlib) (2.17.0)\n",
            "Requirement already satisfied: tensorflow-probability<0.25.0,>=0.24.0 in /usr/local/lib/python3.10/dist-packages (from gemlib) (0.24.0)\n",
            "Requirement already satisfied: tf-keras<3.0.0,>=2.17.0 in /usr/local/lib/python3.10/dist-packages (from gemlib) (2.17.0)\n",
            "Requirement already satisfied: numpy<2.3,>=1.23.5 in /usr/local/lib/python3.10/dist-packages (from scipy<2.0.0,>=1.14.0->gemlib) (1.26.4)\n",
            "Requirement already satisfied: absl-py>=1.0.0 in /usr/local/lib/python3.10/dist-packages (from tensorflow<3.0.0,>=2.17.0->gemlib) (1.4.0)\n",
            "Requirement already satisfied: astunparse>=1.6.0 in /usr/local/lib/python3.10/dist-packages (from tensorflow<3.0.0,>=2.17.0->gemlib) (1.6.3)\n",
            "Requirement already satisfied: flatbuffers>=24.3.25 in /usr/local/lib/python3.10/dist-packages (from tensorflow<3.0.0,>=2.17.0->gemlib) (24.3.25)\n",
            "Requirement already satisfied: gast!=0.5.0,!=0.5.1,!=0.5.2,>=0.2.1 in /usr/local/lib/python3.10/dist-packages (from tensorflow<3.0.0,>=2.17.0->gemlib) (0.6.0)\n",
            "Requirement already satisfied: google-pasta>=0.1.1 in /usr/local/lib/python3.10/dist-packages (from tensorflow<3.0.0,>=2.17.0->gemlib) (0.2.0)\n",
            "Requirement already satisfied: h5py>=3.10.0 in /usr/local/lib/python3.10/dist-packages (from tensorflow<3.0.0,>=2.17.0->gemlib) (3.11.0)\n",
            "Requirement already satisfied: libclang>=13.0.0 in /usr/local/lib/python3.10/dist-packages (from tensorflow<3.0.0,>=2.17.0->gemlib) (18.1.1)\n",
            "Requirement already satisfied: ml-dtypes<0.5.0,>=0.3.1 in /usr/local/lib/python3.10/dist-packages (from tensorflow<3.0.0,>=2.17.0->gemlib) (0.4.0)\n",
            "Requirement already satisfied: opt-einsum>=2.3.2 in /usr/local/lib/python3.10/dist-packages (from tensorflow<3.0.0,>=2.17.0->gemlib) (3.3.0)\n",
            "Requirement already satisfied: packaging in /usr/local/lib/python3.10/dist-packages (from tensorflow<3.0.0,>=2.17.0->gemlib) (24.1)\n",
            "Requirement already satisfied: protobuf!=4.21.0,!=4.21.1,!=4.21.2,!=4.21.3,!=4.21.4,!=4.21.5,<5.0.0dev,>=3.20.3 in /usr/local/lib/python3.10/dist-packages (from tensorflow<3.0.0,>=2.17.0->gemlib) (3.20.3)\n",
            "Requirement already satisfied: requests<3,>=2.21.0 in /usr/local/lib/python3.10/dist-packages (from tensorflow<3.0.0,>=2.17.0->gemlib) (2.32.3)\n",
            "Requirement already satisfied: setuptools in /usr/local/lib/python3.10/dist-packages (from tensorflow<3.0.0,>=2.17.0->gemlib) (71.0.4)\n",
            "Requirement already satisfied: six>=1.12.0 in /usr/local/lib/python3.10/dist-packages (from tensorflow<3.0.0,>=2.17.0->gemlib) (1.16.0)\n",
            "Requirement already satisfied: termcolor>=1.1.0 in /usr/local/lib/python3.10/dist-packages (from tensorflow<3.0.0,>=2.17.0->gemlib) (2.4.0)\n",
            "Requirement already satisfied: typing-extensions>=3.6.6 in /usr/local/lib/python3.10/dist-packages (from tensorflow<3.0.0,>=2.17.0->gemlib) (4.12.2)\n",
            "Requirement already satisfied: wrapt>=1.11.0 in /usr/local/lib/python3.10/dist-packages (from tensorflow<3.0.0,>=2.17.0->gemlib) (1.16.0)\n",
            "Requirement already satisfied: grpcio<2.0,>=1.24.3 in /usr/local/lib/python3.10/dist-packages (from tensorflow<3.0.0,>=2.17.0->gemlib) (1.64.1)\n",
            "Requirement already satisfied: tensorboard<2.18,>=2.17 in /usr/local/lib/python3.10/dist-packages (from tensorflow<3.0.0,>=2.17.0->gemlib) (2.17.0)\n",
            "Requirement already satisfied: keras>=3.2.0 in /usr/local/lib/python3.10/dist-packages (from tensorflow<3.0.0,>=2.17.0->gemlib) (3.4.1)\n",
            "Requirement already satisfied: tensorflow-io-gcs-filesystem>=0.23.1 in /usr/local/lib/python3.10/dist-packages (from tensorflow<3.0.0,>=2.17.0->gemlib) (0.37.1)\n",
            "Requirement already satisfied: decorator in /usr/local/lib/python3.10/dist-packages (from tensorflow-probability<0.25.0,>=0.24.0->gemlib) (4.4.2)\n",
            "Requirement already satisfied: cloudpickle>=1.3 in /usr/local/lib/python3.10/dist-packages (from tensorflow-probability<0.25.0,>=0.24.0->gemlib) (2.2.1)\n",
            "Requirement already satisfied: dm-tree in /usr/local/lib/python3.10/dist-packages (from tensorflow-probability<0.25.0,>=0.24.0->gemlib) (0.1.8)\n",
            "Requirement already satisfied: wheel<1.0,>=0.23.0 in /usr/local/lib/python3.10/dist-packages (from astunparse>=1.6.0->tensorflow<3.0.0,>=2.17.0->gemlib) (0.44.0)\n",
            "Requirement already satisfied: rich in /usr/local/lib/python3.10/dist-packages (from keras>=3.2.0->tensorflow<3.0.0,>=2.17.0->gemlib) (13.8.0)\n",
            "Requirement already satisfied: namex in /usr/local/lib/python3.10/dist-packages (from keras>=3.2.0->tensorflow<3.0.0,>=2.17.0->gemlib) (0.0.8)\n",
            "Requirement already satisfied: optree in /usr/local/lib/python3.10/dist-packages (from keras>=3.2.0->tensorflow<3.0.0,>=2.17.0->gemlib) (0.12.1)\n",
            "Requirement already satisfied: charset-normalizer<4,>=2 in /usr/local/lib/python3.10/dist-packages (from requests<3,>=2.21.0->tensorflow<3.0.0,>=2.17.0->gemlib) (3.3.2)\n",
            "Requirement already satisfied: idna<4,>=2.5 in /usr/local/lib/python3.10/dist-packages (from requests<3,>=2.21.0->tensorflow<3.0.0,>=2.17.0->gemlib) (3.8)\n",
            "Requirement already satisfied: urllib3<3,>=1.21.1 in /usr/local/lib/python3.10/dist-packages (from requests<3,>=2.21.0->tensorflow<3.0.0,>=2.17.0->gemlib) (2.0.7)\n",
            "Requirement already satisfied: certifi>=2017.4.17 in /usr/local/lib/python3.10/dist-packages (from requests<3,>=2.21.0->tensorflow<3.0.0,>=2.17.0->gemlib) (2024.8.30)\n",
            "Requirement already satisfied: markdown>=2.6.8 in /usr/local/lib/python3.10/dist-packages (from tensorboard<2.18,>=2.17->tensorflow<3.0.0,>=2.17.0->gemlib) (3.7)\n",
            "Requirement already satisfied: tensorboard-data-server<0.8.0,>=0.7.0 in /usr/local/lib/python3.10/dist-packages (from tensorboard<2.18,>=2.17->tensorflow<3.0.0,>=2.17.0->gemlib) (0.7.2)\n",
            "Requirement already satisfied: werkzeug>=1.0.1 in /usr/local/lib/python3.10/dist-packages (from tensorboard<2.18,>=2.17->tensorflow<3.0.0,>=2.17.0->gemlib) (3.0.4)\n",
            "Requirement already satisfied: MarkupSafe>=2.1.1 in /usr/local/lib/python3.10/dist-packages (from werkzeug>=1.0.1->tensorboard<2.18,>=2.17->tensorflow<3.0.0,>=2.17.0->gemlib) (2.1.5)\n",
            "Requirement already satisfied: markdown-it-py>=2.2.0 in /usr/local/lib/python3.10/dist-packages (from rich->keras>=3.2.0->tensorflow<3.0.0,>=2.17.0->gemlib) (3.0.0)\n",
            "Requirement already satisfied: pygments<3.0.0,>=2.13.0 in /usr/local/lib/python3.10/dist-packages (from rich->keras>=3.2.0->tensorflow<3.0.0,>=2.17.0->gemlib) (2.16.1)\n",
            "Requirement already satisfied: mdurl~=0.1 in /usr/local/lib/python3.10/dist-packages (from markdown-it-py>=2.2.0->rich->keras>=3.2.0->tensorflow<3.0.0,>=2.17.0->gemlib) (0.1.2)\n",
            "Downloading gemlib-0.11.1-py3-none-any.whl (131 kB)\n",
            "\u001b[2K   \u001b[90m━━━━━━━━━━━━━━━━━━━━━━━━━━━━━━━━━━━━━━━━\u001b[0m \u001b[32m131.6/131.6 kB\u001b[0m \u001b[31m947.9 kB/s\u001b[0m eta \u001b[36m0:00:00\u001b[0m\n",
            "\u001b[?25hDownloading scipy-1.14.1-cp310-cp310-manylinux_2_17_x86_64.manylinux2014_x86_64.whl (41.2 MB)\n",
            "\u001b[2K   \u001b[90m━━━━━━━━━━━━━━━━━━━━━━━━━━━━━━━━━━━━━━━━\u001b[0m \u001b[32m41.2/41.2 MB\u001b[0m \u001b[31m17.4 MB/s\u001b[0m eta \u001b[36m0:00:00\u001b[0m\n",
            "\u001b[?25hInstalling collected packages: scipy, gemlib\n",
            "  Attempting uninstall: scipy\n",
            "    Found existing installation: scipy 1.13.1\n",
            "    Uninstalling scipy-1.13.1:\n",
            "      Successfully uninstalled scipy-1.13.1\n",
            "\u001b[31mERROR: pip's dependency resolver does not currently take into account all the packages that are installed. This behaviour is the source of the following dependency conflicts.\n",
            "gensim 4.3.3 requires scipy<1.14.0,>=1.7.0, but you have scipy 1.14.1 which is incompatible.\u001b[0m\u001b[31m\n",
            "\u001b[0mSuccessfully installed gemlib-0.11.1 scipy-1.14.1\n"
          ]
        }
      ]
    },
    {
      "cell_type": "code",
      "source": [
        "import numpy as np\n",
        "import matplotlib.pyplot as plt\n",
        "import seaborn as sns\n",
        "\n",
        "import tensorflow as tf\n",
        "import tensorflow_probability as tfp\n",
        "\n",
        "\n",
        "import gemlib\n",
        "from gemlib.distributions import DiscreteTimeStateTransitionModel\n",
        "\n",
        "tfd = tfp.distributions\n",
        "sns.set()\n",
        "\n",
        "DTYPE = tf.float32"
      ],
      "metadata": {
        "id": "5K0k1kov4fxu"
      },
      "execution_count": null,
      "outputs": []
    },
    {
      "cell_type": "markdown",
      "source": [
        "## `tfd.JointDistributionCoroutine`\n",
        "\n",
        "In TensorFlow Probability (TFP), `JointDistributionCoroutine` is a flexible way to define complex probabilistic models such as our epidemic models. It allows us to create a joint distribution that lets you specify how the different random variables in your model are related _and_ their distributions. The advantage is that it acts as a container for the priors and likelihood. The law of total conditional probability which we saw in the previous sessions means log-probabilities of the entire model can be calculated automatically by the library..\n",
        "\n",
        "__Key Concepts__\n",
        "\n",
        "- _Joint distributions_ : a joint distribution represents a probability distribution over multiple random variables. In this case, `JointDistributionCoroutine` enables you to model such distributions using coroutines. Tensorflow `JointDistribution`s act as an implementation of the chain rule of probability.\n",
        "- _Coroutines_ : a coroutine is a function that can yield values, which allows it to be paused and resumed. `JointDistributionCoroutine` leverages this to allow for realizations of the process to be sampled from the prior level, all the way up to the data generating model in a step-by-step fashion.\n",
        "\n",
        "__How It Works__\n",
        "\n",
        "When defining a `JointDistributionCoroutine`, we are creating a generator function that yields the distributions of the model's random variables. The yield statements define the distribution of each variable, and can depend on previously defined variables (hence the chain rule of probability). This approach is useful when the dependencies between the random variables are complex\n",
        "\n",
        "Here is a simple example using a Normal distribution.\n"
      ],
      "metadata": {
        "id": "Gpk48-YF2cwg"
      }
    },
    {
      "cell_type": "code",
      "source": [
        "def model():\n",
        "    # Define the prior for a mean\n",
        "    x = yield tfd.Normal(loc=0., scale=1., name='prior_mean')\n",
        "\n",
        "    sigma = tf.constant(2., DTYPE)\n",
        "\n",
        "    # Define another variable whose distribution depends on the previous variable\n",
        "    y = yield tfd.Normal(loc=x, scale=sigma, name='y')\n",
        "\n",
        "joint = tfd.JointDistributionCoroutine(model)"
      ],
      "metadata": {
        "id": "1QP-37Sk1_Mq"
      },
      "execution_count": null,
      "outputs": []
    },
    {
      "cell_type": "markdown",
      "source": [
        "### Exercise 1\n",
        "\n",
        "Write (mathematically) the `model` equations defined above.\n",
        "\n",
        "__Hint:__ it is a hierarchical model. No code required."
      ],
      "metadata": {
        "id": "jr3yjxq8rI0e"
      }
    },
    {
      "cell_type": "markdown",
      "source": [
        "### Solution\n"
      ],
      "metadata": {
        "id": "dtRgWVvBrSvP"
      }
    },
    {
      "cell_type": "markdown",
      "source": [
        "\n",
        "Unlike typical Bayesian heirarchical models, `JointDistributionCoroutine`s are written bottom up.\n",
        "\n",
        "_Computationally_\n",
        "\\begin{align}\n",
        "x &\\sim N(0,1) \\\\\n",
        "\\sigma &= 2 \\\\\n",
        "y &\\sim N(x, \\sigma)\n",
        "\\end{align}\n",
        "\n",
        "_Mathematically_\n",
        "\\begin{align}\n",
        "y &\\sim N(x, \\sigma) \\\\\n",
        "x &\\sim N(0,1) \\\\\n",
        "\\sigma &= 2\n",
        "\\end{align}\n",
        "\n",
        "With this structure, its easy to see how this can be extended to more complex examples."
      ],
      "metadata": {
        "id": "np7OIInRzBUE"
      }
    },
    {
      "cell_type": "markdown",
      "source": [
        "## Using the Distribution\n",
        "\n",
        "The big advantage of wrapping a model in this way is that we can get the log-probability of the model and sample from the model using only 1 object."
      ],
      "metadata": {
        "id": "-j5fShAjskdi"
      }
    },
    {
      "cell_type": "code",
      "source": [
        "# simulate the full model\n",
        "joint.sample(seed = [1400,2000])"
      ],
      "metadata": {
        "colab": {
          "base_uri": "https://localhost:8080/"
        },
        "id": "yOiLZTcW7QIk",
        "outputId": "f9bc631d-0e4a-4cdc-cd9b-f5fe0c5850d3"
      },
      "execution_count": null,
      "outputs": [
        {
          "output_type": "execute_result",
          "data": {
            "text/plain": [
              "StructTuple(\n",
              "  prior_mean=<tf.Tensor: shape=(), dtype=float32, numpy=-0.57661337>,\n",
              "  y=<tf.Tensor: shape=(), dtype=float32, numpy=-0.53324795>\n",
              ")"
            ]
          },
          "metadata": {},
          "execution_count": 4
        }
      ]
    },
    {
      "cell_type": "code",
      "source": [
        "# log-prob of a full sample\n",
        "joint.log_prob(joint.sample(seed = [1400,2000]))"
      ],
      "metadata": {
        "colab": {
          "base_uri": "https://localhost:8080/"
        },
        "id": "XFWzzGQOs7O7",
        "outputId": "f2aa4200-6209-4b56-905f-a4baf0c82c83"
      },
      "execution_count": null,
      "outputs": [
        {
          "output_type": "execute_result",
          "data": {
            "text/plain": [
              "<tf.Tensor: shape=(), dtype=float32, numpy=-2.6975007>"
            ]
          },
          "metadata": {},
          "execution_count": 5
        }
      ]
    },
    {
      "cell_type": "markdown",
      "source": [
        "What about more than 1 sample at a time? You may have noticed that if you try to draw more than 1 sample from `joint` there is an error. This happens because of underlying shape matching that Tensorflow does so that the library can perform automatic vectorization under the hood. To help the library in doing this, we can specify our model parameters as \"roots\" of the process."
      ],
      "metadata": {
        "id": "CDPKN03g-me5"
      }
    },
    {
      "cell_type": "code",
      "source": [
        "Root = tfd.JointDistributionCoroutine.Root"
      ],
      "metadata": {
        "id": "hvT64zPn-C6y"
      },
      "execution_count": null,
      "outputs": []
    },
    {
      "cell_type": "code",
      "source": [
        "def model():\n",
        "    # Define the prior for a mean\n",
        "    x = yield Root(tfd.Normal(loc=0., scale=1., name='prior_mean'))\n",
        "\n",
        "    sigma = tf.constant(2., DTYPE)\n",
        "\n",
        "    # Define another variable whose distribution depends on the previous variable\n",
        "    y = yield tfd.Normal(loc=x, scale=sigma, name='y')\n",
        "\n",
        "joint = tfd.JointDistributionCoroutine(model)"
      ],
      "metadata": {
        "id": "TbNBakly-ifL"
      },
      "execution_count": null,
      "outputs": []
    },
    {
      "cell_type": "code",
      "source": [
        "joint.sample(10)"
      ],
      "metadata": {
        "colab": {
          "base_uri": "https://localhost:8080/"
        },
        "id": "JsliWx4N-ezD",
        "outputId": "6997eb51-055c-4b39-982c-fdbef5cbe882"
      },
      "execution_count": null,
      "outputs": [
        {
          "output_type": "execute_result",
          "data": {
            "text/plain": [
              "StructTuple(\n",
              "  prior_mean=<tf.Tensor: shape=(10,), dtype=float32, numpy=\n",
              "    array([-0.70670503, -1.2847158 , -1.0214878 ,  0.6846757 , -0.40034804,\n",
              "           -0.09518702, -0.5109385 , -0.65681934,  0.15588532, -0.44213277],\n",
              "          dtype=float32)>,\n",
              "  y=<tf.Tensor: shape=(10,), dtype=float32, numpy=\n",
              "    array([-4.33926   ,  2.2398062 ,  1.214856  ,  4.4924593 , -1.8010638 ,\n",
              "            4.584976  , -0.24017268, -0.6215038 ,  3.2665422 ,  2.0059862 ],\n",
              "          dtype=float32)>\n",
              ")"
            ]
          },
          "metadata": {},
          "execution_count": 8
        }
      ]
    },
    {
      "cell_type": "markdown",
      "source": [
        "This now takes 10 samples from the root of the distribution _and_ the accompanying 10 realizations of the process $Y$."
      ],
      "metadata": {
        "id": "4KBOqnZFt1-S"
      }
    },
    {
      "cell_type": "code",
      "source": [
        "# set a seed to control the randomness\n",
        "joint.sample(seed = [1400,2000])"
      ],
      "metadata": {
        "colab": {
          "base_uri": "https://localhost:8080/"
        },
        "id": "6ZkmIupO_V0W",
        "outputId": "9decf212-4a83-403f-d413-86c78e79e8d4"
      },
      "execution_count": null,
      "outputs": [
        {
          "output_type": "execute_result",
          "data": {
            "text/plain": [
              "StructTuple(\n",
              "  prior_mean=<tf.Tensor: shape=(), dtype=float32, numpy=-0.57661337>,\n",
              "  y=<tf.Tensor: shape=(), dtype=float32, numpy=-0.53324795>\n",
              ")"
            ]
          },
          "metadata": {},
          "execution_count": 9
        }
      ]
    },
    {
      "cell_type": "markdown",
      "source": [
        "### Exercise 2\n",
        "\n",
        "Specify a prior on sigma in the model above and create a histogram of 100 samples of $Y$."
      ],
      "metadata": {
        "id": "aop3MVq9OPBC"
      }
    },
    {
      "cell_type": "markdown",
      "source": [
        "### Solution\n",
        "\n",
        "We start by writing the model and changing the constant value of $\\sigma$ to a \"Root\" distribution."
      ],
      "metadata": {
        "id": "bzmcb339k2Qk"
      }
    },
    {
      "cell_type": "code",
      "source": [
        "def model_sigma_prior():\n",
        "    # Define the prior for a mean\n",
        "    x = yield Root(tfd.Normal(loc=0.,\n",
        "                              scale=1.,\n",
        "                              name='prior_mean'))\n",
        "\n",
        "    # Change here!\n",
        "    sigma = yield Root(tfd.Gamma(concentration = 0.5,\n",
        "                                 rate=4.,\n",
        "                                 name = 'scale_prior'))\n",
        "\n",
        "    # Define another variable whose distribution depends on the previous variable\n",
        "    y = yield tfd.Normal(loc=x, scale=sigma, name='y')\n",
        "\n",
        "joint_sigma_prior = tfd.JointDistributionCoroutine(model_sigma_prior)"
      ],
      "metadata": {
        "id": "GxEAe97xOYty"
      },
      "execution_count": null,
      "outputs": []
    },
    {
      "cell_type": "code",
      "source": [
        "# Sample 100 realizations of the process\n",
        "# 1 realization = tuple of [x, sigma, y] as sampled from\n",
        "# model_sigma_prior in that order\n",
        "joint_sigma_prior.sample(100)"
      ],
      "metadata": {
        "colab": {
          "base_uri": "https://localhost:8080/"
        },
        "collapsed": true,
        "id": "iKkPl104O78v",
        "outputId": "3cb649d3-208f-4fe3-ef59-84f3b0e4ffd0"
      },
      "execution_count": null,
      "outputs": [
        {
          "output_type": "execute_result",
          "data": {
            "text/plain": [
              "StructTuple(\n",
              "  prior_mean=<tf.Tensor: shape=(100,), dtype=float32, numpy=\n",
              "    array([-0.9551072 , -0.10122427,  1.2294688 , -1.9954122 ,  0.5470924 ,\n",
              "           -1.3876865 ,  0.67780125, -1.8434027 ,  0.830301  ,  0.35935163,\n",
              "           -0.8001057 ,  0.47814107,  0.46240357, -0.8730347 , -0.94857633,\n",
              "           -1.0841489 ,  1.5837051 , -0.16613734, -0.30622277,  0.93848115,\n",
              "            0.87091   ,  0.06237912, -0.58966804,  0.8580771 , -1.0701789 ,\n",
              "           -1.2843343 , -0.4309639 , -0.6384684 , -0.73687387,  0.81129986,\n",
              "           -0.5983567 ,  0.5730538 , -1.0946702 , -0.3280778 ,  1.4605002 ,\n",
              "           -0.14814802, -0.41553184,  1.4812213 , -1.4207405 , -0.591879  ,\n",
              "           -0.03091043, -1.9021264 ,  0.13790208,  0.03995872, -1.104647  ,\n",
              "           -0.85874224, -0.01774452, -0.9013453 ,  0.4298454 ,  0.23432447,\n",
              "            2.450226  ,  1.2524738 ,  0.01148694, -1.7087393 ,  0.39822307,\n",
              "           -0.15875672, -0.0060252 ,  0.23245104, -0.2372093 ,  1.0138267 ,\n",
              "            1.4014523 , -0.10412151,  1.3137584 ,  0.34737635,  0.19881144,\n",
              "           -1.3798156 ,  0.80347556, -1.0533614 ,  0.705988  , -0.7917511 ,\n",
              "            0.5060173 , -0.6832432 ,  0.4110402 ,  0.00630362, -0.7786104 ,\n",
              "            1.2340914 , -0.35979247, -0.6232032 , -0.05858009, -1.119976  ,\n",
              "           -1.1898663 , -1.1969731 , -0.6332901 , -0.46411908, -1.1815214 ,\n",
              "            0.73405534, -1.3500957 , -1.6015602 , -0.9746086 ,  0.33781683,\n",
              "           -0.85255986,  0.20868671, -0.78549725,  0.89544284, -0.07711422,\n",
              "            0.5108633 ,  0.84709674, -0.32164097, -0.2591276 , -0.29150614],\n",
              "          dtype=float32)>,\n",
              "  scale_prior=<tf.Tensor: shape=(100,), dtype=float32, numpy=\n",
              "    array([4.14288118e-02, 2.85121262e-01, 7.17554241e-02, 2.09492952e-01,\n",
              "           1.06511399e-01, 9.22951475e-03, 2.84663634e-03, 5.51281823e-03,\n",
              "           3.75729680e-01, 3.49295177e-02, 5.84678687e-02, 1.10225081e-02,\n",
              "           3.65668628e-03, 1.84809254e-03, 4.37752623e-03, 5.31880818e-02,\n",
              "           7.16037303e-02, 5.43104932e-02, 5.52355254e-04, 1.19061671e-01,\n",
              "           1.40020713e-01, 4.34578806e-02, 4.93746810e-02, 5.73300349e-05,\n",
              "           4.56737936e-01, 1.51753753e-01, 1.11824282e-01, 5.74501455e-02,\n",
              "           1.63757458e-01, 3.32500748e-02, 5.71746156e-02, 7.66334590e-04,\n",
              "           2.35345230e-01, 8.53728354e-01, 3.38304155e-02, 1.32667154e-01,\n",
              "           1.16143279e-01, 3.56074601e-01, 3.95123214e-01, 3.51345370e-04,\n",
              "           4.36257385e-03, 1.19417869e-02, 1.23270391e-03, 7.99204427e-05,\n",
              "           5.59202023e-02, 1.73389225e-03, 7.25965772e-04, 1.04931153e-01,\n",
              "           3.80667418e-01, 9.19618607e-02, 7.74665251e-02, 2.86156386e-02,\n",
              "           1.72480255e-01, 4.71025566e-03, 4.22204379e-03, 9.93974581e-02,\n",
              "           7.42595643e-02, 4.40518046e-03, 4.00232989e-03, 4.53825481e-02,\n",
              "           3.23417336e-02, 3.85131426e-02, 4.11714287e-03, 8.71545598e-02,\n",
              "           2.40710452e-01, 3.26477602e-04, 2.87641495e-01, 3.42717371e-03,\n",
              "           6.54246062e-02, 6.69291185e-05, 2.47768417e-01, 1.92854226e-01,\n",
              "           8.51301849e-03, 4.40043323e-02, 1.95247736e-02, 8.09228877e-05,\n",
              "           5.17145954e-02, 4.90264036e-03, 1.28488883e-01, 6.34232908e-02,\n",
              "           7.63567537e-02, 9.27046835e-02, 7.04643190e-01, 3.82658839e-02,\n",
              "           1.07133053e-01, 7.37078264e-02, 8.97524369e-05, 1.55330107e-01,\n",
              "           3.03801268e-01, 1.93721533e-01, 1.37785943e-02, 1.07337482e-01,\n",
              "           8.72681022e-01, 5.55918179e-02, 1.20827824e-01, 1.16165327e-02,\n",
              "           8.09973478e-02, 2.55905598e-01, 4.72197756e-02, 4.64073241e-01],\n",
              "          dtype=float32)>,\n",
              "  y=<tf.Tensor: shape=(100,), dtype=float32, numpy=\n",
              "    array([-0.9107315 , -0.22162503,  1.1651131 , -1.8649428 ,  0.46826342,\n",
              "           -1.3897398 ,  0.6771595 , -1.8441671 ,  1.2267895 ,  0.34076157,\n",
              "           -0.84919757,  0.4866282 ,  0.46028593, -0.87229097, -0.9561948 ,\n",
              "           -1.0685527 ,  1.486779  , -0.25515404, -0.3060366 ,  0.9417001 ,\n",
              "            1.0616022 ,  0.01803146, -0.58490515,  0.85808533, -1.2646966 ,\n",
              "           -0.94948936, -0.37334192, -0.64395535, -0.3945093 ,  0.79352564,\n",
              "           -0.54084104,  0.57413507, -1.4312261 , -1.8999008 ,  1.4301951 ,\n",
              "           -0.19331202, -0.29969716,  1.3392612 , -1.6685911 , -0.5917946 ,\n",
              "           -0.02020884, -1.9169661 ,  0.1379429 ,  0.03997137, -1.0774918 ,\n",
              "           -0.8600526 , -0.01760992, -0.6669796 ,  0.24063854,  0.47363052,\n",
              "            2.473535  ,  1.2164261 , -0.18236265, -1.7096503 ,  0.40187505,\n",
              "           -0.26540253,  0.01357263,  0.22584696, -0.23945862,  1.0897849 ,\n",
              "            1.379067  , -0.15365884,  1.308351  ,  0.32250276, -0.18405005,\n",
              "           -1.3800321 ,  0.6122083 , -1.0432729 ,  0.68815213, -0.791663  ,\n",
              "            0.34912238, -0.50516385,  0.41582823,  0.0302027 , -0.8152518 ,\n",
              "            1.2341123 , -0.30894312, -0.624811  ,  0.03780138, -0.9842322 ,\n",
              "           -1.060011  , -1.1364801 , -1.4203248 , -0.5026331 , -1.1471546 ,\n",
              "            0.70584804, -1.3499072 , -1.481682  , -1.0888612 ,  0.34744805,\n",
              "           -0.86680853,  0.16161212,  1.7491255 ,  0.8895808 , -0.19564658,\n",
              "            0.4834305 ,  0.93412507, -0.04281035, -0.28186622, -0.20728207],\n",
              "          dtype=float32)>\n",
              ")"
            ]
          },
          "metadata": {},
          "execution_count": 39
        }
      ]
    },
    {
      "cell_type": "code",
      "source": [
        "# plot the histogram\n",
        "joint_realizations = joint_sigma_prior.sample(100)"
      ],
      "metadata": {
        "id": "WEoieHB5lh0M"
      },
      "execution_count": null,
      "outputs": []
    },
    {
      "cell_type": "code",
      "source": [
        "joint_realizations.y            # can access by name or index"
      ],
      "metadata": {
        "colab": {
          "base_uri": "https://localhost:8080/"
        },
        "id": "DW9MMKYvlpY_",
        "outputId": "1a71b7b8-fa5f-4494-f560-a88f5d178910"
      },
      "execution_count": null,
      "outputs": [
        {
          "output_type": "execute_result",
          "data": {
            "text/plain": [
              "<tf.Tensor: shape=(100,), dtype=float32, numpy=\n",
              "array([-1.6145159 , -1.5571012 ,  0.35415703,  0.09121737,  0.6258109 ,\n",
              "       -0.28487128,  0.33133358,  0.05918488, -0.04337955, -0.44753057,\n",
              "       -0.33698452, -2.1689749 , -2.560175  ,  0.92912036, -0.5126354 ,\n",
              "        1.0483452 ,  0.86895484,  0.48659152, -1.1666516 , -0.31876743,\n",
              "       -1.1955886 , -1.5721037 ,  1.588495  ,  0.20821443, -1.2983066 ,\n",
              "       -0.10127602,  0.29793277, -1.478941  , -1.1370432 ,  0.6307083 ,\n",
              "       -0.22037172, -0.34818605,  0.47726765, -0.625561  ,  0.48827583,\n",
              "       -0.68831605, -0.3400755 ,  0.42631912,  0.43361092,  2.221074  ,\n",
              "       -0.23744841,  0.16906661,  0.96824956, -0.90737116, -0.14986311,\n",
              "       -0.7869214 ,  0.3305405 , -0.9993202 ,  0.9202349 ,  0.8238548 ,\n",
              "        0.7656449 , -1.2000307 , -0.94423604,  0.21671   ,  1.1070442 ,\n",
              "       -1.0908668 , -0.78636014,  0.33064163,  0.15598108,  0.29931998,\n",
              "       -1.6509953 , -1.1506859 , -1.3023723 ,  0.5288177 ,  0.9708018 ,\n",
              "        1.4843557 , -0.589876  , -1.5274496 ,  1.9274262 , -0.6764238 ,\n",
              "        0.41482127,  0.39746973, -1.6386704 ,  0.16827777,  1.8094424 ,\n",
              "       -0.8397964 , -0.02214539,  0.13081785,  0.4591586 , -1.0395627 ,\n",
              "        0.2652039 ,  0.33844995, -0.5387999 ,  0.01850365, -1.934976  ,\n",
              "       -0.85399693, -0.9427962 , -0.25279573, -1.1934897 ,  1.8377757 ,\n",
              "       -0.04590131,  1.040712  , -0.08077953, -0.88196015,  2.3978293 ,\n",
              "       -2.0902288 , -1.3337166 , -1.2257735 ,  1.0887029 ,  1.2074251 ],\n",
              "      dtype=float32)>"
            ]
          },
          "metadata": {},
          "execution_count": 46
        }
      ]
    },
    {
      "cell_type": "code",
      "source": [
        "# histogram\n",
        "plt.hist(joint_realizations.y,\n",
        "         bins=15,\n",
        "         alpha = 0.7,\n",
        "         edgecolor='black')  # Adjust 'bins' as needed\n",
        "plt.xlabel('Value')\n",
        "plt.ylabel('Frequency')\n",
        "plt.title('Histogram of Values')"
      ],
      "metadata": {
        "colab": {
          "base_uri": "https://localhost:8080/",
          "height": 498
        },
        "id": "C9-opjaplybr",
        "outputId": "96e23c22-6212-4f7e-94f2-7a86c49f4590"
      },
      "execution_count": null,
      "outputs": [
        {
          "output_type": "execute_result",
          "data": {
            "text/plain": [
              "Text(0.5, 1.0, 'Histogram of Values')"
            ]
          },
          "metadata": {},
          "execution_count": 52
        },
        {
          "output_type": "display_data",
          "data": {
            "text/plain": [
              "<Figure size 640x480 with 1 Axes>"
            ],
            "image/png": "[encoded data removed]"
          },
          "metadata": {}
        }
      ]
    },
    {
      "cell_type": "markdown",
      "source": [
        "### Sampling with fixed components\n",
        "\n",
        "What about 10 samples from the same value of a prior? Remember that we are using the chain rule of probability so we need a way to _fix_ the value of the prior parameters. This can be done using a partial evaluation of the model function where we yield _only_ 1 value of the priors, then call the subsequent yields 10 times. Tensorflow allows us to do this using a method called `experimental_pin`."
      ],
      "metadata": {
        "id": "cLHHUsrd_FfV"
      }
    },
    {
      "cell_type": "code",
      "source": [
        "# simulate a value from our prior distribution of x\n",
        "joint.sample(seed = [1400,2000]).prior_mean\n"
      ],
      "metadata": {
        "colab": {
          "base_uri": "https://localhost:8080/"
        },
        "id": "8eEo8-DymylG",
        "outputId": "d190688f-febf-4aa2-a84e-cf29618933af"
      },
      "execution_count": null,
      "outputs": [
        {
          "output_type": "execute_result",
          "data": {
            "text/plain": [
              "<tf.Tensor: shape=(), dtype=float32, numpy=-0.57661337>"
            ]
          },
          "metadata": {},
          "execution_count": 54
        }
      ]
    },
    {
      "cell_type": "code",
      "source": [
        "# \"pin\" or condition the model on the prior simulation realization above\n",
        "conditioned_model = joint.experimental_pin(\n",
        "    prior_mean = joint.sample(seed = [1400,2000]).prior_mean\n",
        ")"
      ],
      "metadata": {
        "id": "l9pCmKRt_Jvk"
      },
      "execution_count": null,
      "outputs": []
    },
    {
      "cell_type": "code",
      "source": [
        "conditioned_model"
      ],
      "metadata": {
        "colab": {
          "base_uri": "https://localhost:8080/"
        },
        "id": "C4svMHBGvDHO",
        "outputId": "3474b4e3-0d49-4893-810e-93b9b4a8803d"
      },
      "execution_count": null,
      "outputs": [
        {
          "output_type": "execute_result",
          "data": {
            "text/plain": [
              "<tfp.distributions.JointDistributionPinned 'PinnedJointDistributionCoroutine' batch_shape=StructTuple(\n",
              "  y=[]\n",
              ") event_shape=StructTuple(\n",
              "  y=[]\n",
              ") dtype=StructTuple(\n",
              "  y=float32\n",
              ")>"
            ]
          },
          "metadata": {},
          "execution_count": 11
        }
      ]
    },
    {
      "cell_type": "code",
      "source": [
        "# sample the model\n",
        "conditioned_model.sample_unpinned()"
      ],
      "metadata": {
        "colab": {
          "base_uri": "https://localhost:8080/"
        },
        "id": "xcD1ivgHvE_A",
        "outputId": "740e1c01-5ec0-4f98-e0b9-ea6b050806f0"
      },
      "execution_count": null,
      "outputs": [
        {
          "output_type": "execute_result",
          "data": {
            "text/plain": [
              "StructTuple(\n",
              "  y=<tf.Tensor: shape=(), dtype=float32, numpy=0.7540533>\n",
              ")"
            ]
          },
          "metadata": {},
          "execution_count": 12
        }
      ]
    },
    {
      "cell_type": "markdown",
      "source": [
        "The `.sample_unpinned` method of the `tfp.distributions.JointDistributionPinned` object behaves the __same__ way as the `.sample` method of a `tfp.distributions.Distribution` object. The unpinned is a confusing name unfortunately, but there is a good reason for it. When a value in the distribution is \"pinned\", we are conditioning the remainder of the distribution it.\n",
        "\n",
        "$$\n",
        "\\mbox{Set } x = 0.5 \\Rightarrow y|x \\sim N(0.5, \\sigma)\n",
        "$$\n",
        "\n",
        "The program traces through the code in the original model and when it comes to the `x` value it checks if there is a specific value to set `x` to _OR_ if there is not, it generates one by sampling the distribution on the right side of the `yield` statement."
      ],
      "metadata": {
        "id": "zwhO7u0UnB8j"
      }
    },
    {
      "cell_type": "markdown",
      "source": [
        "### Batched sampling"
      ],
      "metadata": {
        "id": "J0ohBR2foJ5Y"
      }
    },
    {
      "cell_type": "code",
      "source": [
        "# multiple samples - stem from the same start\n",
        "prior_mean_sim = joint.sample(seed = [1400,2000]).prior_mean\n",
        "\n",
        "conditioned_model_batched = joint.experimental_pin(\n",
        "    prior_mean = tf.fill(dims = [10],\n",
        "                         value = prior_mean_sim)\n",
        ")\n",
        "\n",
        "# To do: make a plot overlaying 3 different prior means"
      ],
      "metadata": {
        "id": "rtjTIHUrzzo-"
      },
      "execution_count": null,
      "outputs": []
    },
    {
      "cell_type": "code",
      "source": [
        "conditioned_model_batched.sample_unpinned()"
      ],
      "metadata": {
        "colab": {
          "base_uri": "https://localhost:8080/"
        },
        "id": "dK0KFUMT0_IN",
        "outputId": "ec68c022-f5ba-4dc5-e443-dc28c1c61377"
      },
      "execution_count": null,
      "outputs": [
        {
          "output_type": "execute_result",
          "data": {
            "text/plain": [
              "StructTuple(\n",
              "  y=<tf.Tensor: shape=(10,), dtype=float32, numpy=\n",
              "    array([ 1.9969168 ,  2.5153127 , -2.495037  , -3.4956398 , -2.9207215 ,\n",
              "            0.53875023, -2.1790884 , -1.6320052 ,  0.7276158 ,  0.4485634 ],\n",
              "          dtype=float32)>\n",
              ")"
            ]
          },
          "metadata": {},
          "execution_count": 14
        }
      ]
    },
    {
      "cell_type": "markdown",
      "source": [
        "### Exercise 3\n",
        "\n",
        "Create a historgram which overlays samples from the following 3 conditional dsitributions of $y$.\n",
        "\n",
        "1. $x = 0.5 \\Rightarrow y|x \\sim N(0.5, \\sigma) $\n",
        "2. $x = 2.5 \\Rightarrow y|x \\sim N(2.5, \\sigma)$\n",
        "3. $\\sigma = 0.1 \\Rightarrow y|x \\sim N(x, 0.1)$"
      ],
      "metadata": {
        "id": "mXabffcxoO2m"
      }
    },
    {
      "cell_type": "markdown",
      "source": [
        "### Solution"
      ],
      "metadata": {
        "id": "ehZtA5GYonDR"
      }
    },
    {
      "cell_type": "code",
      "source": [
        "# sample 1\n",
        "\n",
        "y_cond_x1 = joint_sigma_prior.experimental_pin(\n",
        "    prior_mean = tf.fill(dims = [1000],\n",
        "                         value = 0.5)\n",
        ").sample_unpinned()\n",
        "\n",
        "\n",
        "y_cond_x2 = joint_sigma_prior.experimental_pin(\n",
        "    prior_mean = tf.fill(dims = [1000],\n",
        "                         value = 2.5)\n",
        ").sample_unpinned()\n",
        "\n",
        "y_cond_sigma = joint_sigma_prior.experimental_pin(\n",
        "    scale_prior = tf.fill(dims = [1000],\n",
        "                         value = 0.1)\n",
        ").sample_unpinned()\n"
      ],
      "metadata": {
        "id": "9bDyNdtaool9"
      },
      "execution_count": null,
      "outputs": []
    },
    {
      "cell_type": "code",
      "source": [
        "# histogram\n",
        "plt.figure(figsize = (10,4))\n",
        "# plot x1\n",
        "plt.hist(y_cond_x1.y,\n",
        "         #bins=15,\n",
        "         alpha = 0.7,\n",
        "         edgecolor='black',\n",
        "         label = 'y|x=0.5')\n",
        "# plot x2\n",
        "plt.hist(y_cond_x2.y,\n",
        "         #bins=15,\n",
        "         alpha = 0.7,\n",
        "         edgecolor='black',\n",
        "         label = 'y|x=2.5')\n",
        "# plot sigma\n",
        "plt.hist(y_cond_sigma.y,\n",
        "         #bins=15,\n",
        "         alpha = 0.7,\n",
        "         edgecolor='black',\n",
        "         label = 'y|sigma=0.1')\n",
        "plt.legend()\n",
        "plt.xlabel('Value')\n",
        "plt.ylabel('Frequency')\n",
        "plt.title('Histogram of Values')"
      ],
      "metadata": {
        "colab": {
          "base_uri": "https://localhost:8080/",
          "height": 437
        },
        "id": "n5a0TgYoo3uM",
        "outputId": "8496d13d-92e5-42ee-c76d-adfb2ba8a4c5"
      },
      "execution_count": null,
      "outputs": [
        {
          "output_type": "execute_result",
          "data": {
            "text/plain": [
              "Text(0.5, 1.0, 'Histogram of Values')"
            ]
          },
          "metadata": {},
          "execution_count": 70
        },
        {
          "output_type": "display_data",
          "data": {
            "text/plain": [
              "<Figure size 1000x400 with 1 Axes>"
            ],
            "image/png": "[encoded data removed]"
          },
          "metadata": {}
        }
      ]
    },
    {
      "cell_type": "markdown",
      "source": [
        "## Incorporating `gemlib` models\n",
        "\n",
        "The distributions we defined above give us a nice footprint for how to compose our epidemic models.\n",
        "```\n",
        "@tfd.JointDistributionCoroutine\n",
        "def epi_model():\n",
        "    # prior block\n",
        "    | parameter1 = yield tfd...\n",
        "    | parameter2 = yield tfd...\n",
        "    |\n",
        "\n",
        "    parameters = (parameter1, parameter2, ...)\n",
        "\n",
        "    # transition rate function\n",
        "    def transition_rate_fn(*parameters):\n",
        "        |\n",
        "        |\n",
        "        return *rates\n",
        "    \n",
        "    model = yield *StateTransitionModel(**kwargs)\n",
        "```\n",
        "\n",
        "The `*StateTransitionModel` classes we've previously seen meet the Tensorflow criteria of a distribution so they can be used within a `JointDistributionCoroutine` to create the DAG of the model."
      ],
      "metadata": {
        "id": "sm4tEe-e4LWQ"
      }
    },
    {
      "cell_type": "markdown",
      "source": [
        "### Exercise 2\n",
        "\n",
        "Take the SEIR model from the [Models in gemlib](https://gem-epidemics.gitlab.io/practical-epidemics/iddinf/02-intro-to-gemlib.html#discrete-time-stochastic-solver) session and wrap it in the `epi_model` footprint above.\n",
        "\n",
        "__Suggestion:__ Keep model constants (those that relate to the structure of the model) outside of the `epi_model` function so they are easier to access."
      ],
      "metadata": {
        "id": "GmQ5goB162HE"
      }
    },
    {
      "cell_type": "markdown",
      "source": [
        "### Solution\n",
        "\n",
        "I am pulling the epidemic model constants (incidence matrix, connectivity matrix, initial population, and transition rate function) outside of the template above so I can have access to them as global variables and not need to dig through the `tfd.JointDistributionCoroutine` to find them."
      ],
      "metadata": {
        "id": "Mjj0hK208VQl"
      }
    },
    {
      "cell_type": "code",
      "source": [
        "connectivity = np.array(\n",
        "    [\n",
        "        [0.0 , 0.5, 0.25],\n",
        "        [0.5 , 0.0, 0.1 ],\n",
        "        [0.25, 0.1, 0.0 ]\n",
        "    ],\n",
        "    dtype=np.float32\n",
        ")"
      ],
      "metadata": {
        "id": "Kw50LDxn61S_"
      },
      "execution_count": null,
      "outputs": []
    },
    {
      "cell_type": "code",
      "source": [
        "incidence_matrix = np.array(\n",
        "    [\n",
        "        [-1,  0,  0],\n",
        "        [ 1, -1,  0],\n",
        "        [ 0,  1, -1],\n",
        "        [ 0,  0,  1],\n",
        "    ],\n",
        "    dtype=np.float32\n",
        ")"
      ],
      "metadata": {
        "id": "gE57R3Wu8boh"
      },
      "execution_count": null,
      "outputs": []
    },
    {
      "cell_type": "code",
      "source": [
        "initial_state = np.array(\n",
        "    [  # S    E  I  R\n",
        "        [99 , 0, 1, 0],  # n=0\n",
        "        [100, 0, 0, 0],  # n=1\n",
        "        [100, 0, 0, 0],  # n=2\n",
        "    ],\n",
        "    np.float32\n",
        ")"
      ],
      "metadata": {
        "id": "MlVTybMS8eK1"
      },
      "execution_count": null,
      "outputs": []
    },
    {
      "cell_type": "code",
      "source": [
        "def make_transition_rate_fn(beta, psi, nu, gamma):\n",
        "    def trf(t, state):\n",
        "        within = state[:, 2]  # states are enumerated S, E, I, R from 0\n",
        "        between = psi * tf.linalg.matvec(\n",
        "            connectivity, state[:, 2] / tf.reduce_sum(state, axis=-1)\n",
        "        )\n",
        "        si_rate = beta * (within + between)\n",
        "        ei_rate = tf.broadcast_to(nu, si_rate.shape)\n",
        "        ir_rate = tf.broadcast_to(gamma, si_rate.shape)\n",
        "        return si_rate, ei_rate, ir_rate\n",
        "    return trf"
      ],
      "metadata": {
        "id": "r_96v_ph9cW9"
      },
      "execution_count": null,
      "outputs": []
    },
    {
      "cell_type": "code",
      "source": [
        "@tfd.JointDistributionCoroutine\n",
        "def seir_meta_pop_model():\n",
        "    # prior block\n",
        "    beta = yield Root(tfd.HalfNormal(scale = 10., name = 'beta'))\n",
        "    psi = yield Root(tfd.Gamma(concentration = 2., rate = 4., name = 'psi'))\n",
        "    nu = yield Root(tfd.Gamma(concentration = 8., rate = 2., name = 'nu'))\n",
        "    gamma = yield Root(tfd.HalfCauchy(loc = 0.,scale = 10., name = 'gamma'))\n",
        "\n",
        "    # bundle parameters\n",
        "    parameters = (beta, psi, nu, gamma)\n",
        "\n",
        "    # create an instance of the transition rate function w/ prior sim parameters\n",
        "    transition_rate_fn = make_transition_rate_fn(*parameters)\n",
        "\n",
        "    # create the model\n",
        "    seir = yield DiscreteTimeStateTransitionModel(\n",
        "        transition_rate_fn=transition_rate_fn,\n",
        "        incidence_matrix=incidence_matrix,\n",
        "        initial_state=initial_state,\n",
        "        num_steps=80,\n",
        "        name = 'seir')"
      ],
      "metadata": {
        "id": "u95uatcm8k4R"
      },
      "execution_count": null,
      "outputs": []
    },
    {
      "cell_type": "code",
      "source": [
        "seir = seir_meta_pop_model"
      ],
      "metadata": {
        "id": "4fHe0J5u-Ss1"
      },
      "execution_count": null,
      "outputs": []
    },
    {
      "cell_type": "code",
      "source": [
        "seir"
      ],
      "metadata": {
        "colab": {
          "base_uri": "https://localhost:8080/"
        },
        "id": "mDTqYAsiBnr9",
        "outputId": "301b0a0e-c887-4353-f631-3f6c2809703a"
      },
      "execution_count": null,
      "outputs": [
        {
          "output_type": "execute_result",
          "data": {
            "text/plain": [
              "<tfp.distributions.JointDistributionCoroutine 'JointDistributionCoroutine' batch_shape=StructTuple(\n",
              "  beta=[],\n",
              "  psi=[],\n",
              "  nu=[],\n",
              "  gamma=[],\n",
              "  seir=[]\n",
              ") event_shape=StructTuple(\n",
              "  beta=[],\n",
              "  psi=[],\n",
              "  nu=[],\n",
              "  gamma=[],\n",
              "  seir=[80, 3, 3]\n",
              ") dtype=StructTuple(\n",
              "  beta=float32,\n",
              "  psi=float32,\n",
              "  nu=float32,\n",
              "  gamma=float32,\n",
              "  seir=float32\n",
              ")>"
            ]
          },
          "metadata": {},
          "execution_count": 21
        }
      ]
    },
    {
      "cell_type": "code",
      "source": [
        "seir.sample()"
      ],
      "metadata": {
        "colab": {
          "base_uri": "https://localhost:8080/"
        },
        "collapsed": true,
        "id": "kTh9Jg66uFl-",
        "outputId": "f0b7ad91-b510-42a2-9cb4-9a396c2f6084"
      },
      "execution_count": null,
      "outputs": [
        {
          "output_type": "execute_result",
          "data": {
            "text/plain": [
              "StructTuple(\n",
              "  beta=<tf.Tensor: shape=(), dtype=float32, numpy=5.780337>,\n",
              "  psi=<tf.Tensor: shape=(), dtype=float32, numpy=0.61099535>,\n",
              "  nu=<tf.Tensor: shape=(), dtype=float32, numpy=4.8489494>,\n",
              "  gamma=<tf.Tensor: shape=(), dtype=float32, numpy=32.561745>,\n",
              "  seir=<tf.Tensor: shape=(80, 3, 3), dtype=float32, numpy=\n",
              "    array([[[99.,  0.,  1.],\n",
              "            [ 5.,  0.,  0.],\n",
              "            [ 1.,  0.,  0.]],\n",
              "    \n",
              "           [[ 0., 99.,  0.],\n",
              "            [ 0.,  5.,  0.],\n",
              "            [ 0.,  1.,  0.]],\n",
              "    \n",
              "           [[ 0.,  0., 99.],\n",
              "            [95.,  0.,  5.],\n",
              "            [99.,  0.,  1.]],\n",
              "    \n",
              "           [[ 0.,  0.,  0.],\n",
              "            [ 0., 95.,  0.],\n",
              "            [ 0., 97.,  0.]],\n",
              "    \n",
              "           [[ 0.,  0.,  0.],\n",
              "            [ 0.,  0., 95.],\n",
              "            [ 0.,  2., 97.]],\n",
              "    \n",
              "           [[ 0.,  0.,  0.],\n",
              "            [ 0.,  0.,  0.],\n",
              "            [ 0.,  0.,  2.]],\n",
              "    \n",
              "           [[ 0.,  0.,  0.],\n",
              "            [ 0.,  0.,  0.],\n",
              "            [ 0.,  0.,  0.]],\n",
              "    \n",
              "           [[ 0.,  0.,  0.],\n",
              "            [ 0.,  0.,  0.],\n",
              "            [ 0.,  0.,  0.]],\n",
              "    \n",
              "           [[ 0.,  0.,  0.],\n",
              "            [ 0.,  0.,  0.],\n",
              "            [ 0.,  0.,  0.]],\n",
              "    \n",
              "           [[ 0.,  0.,  0.],\n",
              "            [ 0.,  0.,  0.],\n",
              "            [ 0.,  0.,  0.]],\n",
              "    \n",
              "           [[ 0.,  0.,  0.],\n",
              "            [ 0.,  0.,  0.],\n",
              "            [ 0.,  0.,  0.]],\n",
              "    \n",
              "           [[ 0.,  0.,  0.],\n",
              "            [ 0.,  0.,  0.],\n",
              "            [ 0.,  0.,  0.]],\n",
              "    \n",
              "           [[ 0.,  0.,  0.],\n",
              "            [ 0.,  0.,  0.],\n",
              "            [ 0.,  0.,  0.]],\n",
              "    \n",
              "           [[ 0.,  0.,  0.],\n",
              "            [ 0.,  0.,  0.],\n",
              "            [ 0.,  0.,  0.]],\n",
              "    \n",
              "           [[ 0.,  0.,  0.],\n",
              "            [ 0.,  0.,  0.],\n",
              "            [ 0.,  0.,  0.]],\n",
              "    \n",
              "           [[ 0.,  0.,  0.],\n",
              "            [ 0.,  0.,  0.],\n",
              "            [ 0.,  0.,  0.]],\n",
              "    \n",
              "           [[ 0.,  0.,  0.],\n",
              "            [ 0.,  0.,  0.],\n",
              "            [ 0.,  0.,  0.]],\n",
              "    \n",
              "           [[ 0.,  0.,  0.],\n",
              "            [ 0.,  0.,  0.],\n",
              "            [ 0.,  0.,  0.]],\n",
              "    \n",
              "           [[ 0.,  0.,  0.],\n",
              "            [ 0.,  0.,  0.],\n",
              "            [ 0.,  0.,  0.]],\n",
              "    \n",
              "           [[ 0.,  0.,  0.],\n",
              "            [ 0.,  0.,  0.],\n",
              "            [ 0.,  0.,  0.]],\n",
              "    \n",
              "           [[ 0.,  0.,  0.],\n",
              "            [ 0.,  0.,  0.],\n",
              "            [ 0.,  0.,  0.]],\n",
              "    \n",
              "           [[ 0.,  0.,  0.],\n",
              "            [ 0.,  0.,  0.],\n",
              "            [ 0.,  0.,  0.]],\n",
              "    \n",
              "           [[ 0.,  0.,  0.],\n",
              "            [ 0.,  0.,  0.],\n",
              "            [ 0.,  0.,  0.]],\n",
              "    \n",
              "           [[ 0.,  0.,  0.],\n",
              "            [ 0.,  0.,  0.],\n",
              "            [ 0.,  0.,  0.]],\n",
              "    \n",
              "           [[ 0.,  0.,  0.],\n",
              "            [ 0.,  0.,  0.],\n",
              "            [ 0.,  0.,  0.]],\n",
              "    \n",
              "           [[ 0.,  0.,  0.],\n",
              "            [ 0.,  0.,  0.],\n",
              "            [ 0.,  0.,  0.]],\n",
              "    \n",
              "           [[ 0.,  0.,  0.],\n",
              "            [ 0.,  0.,  0.],\n",
              "            [ 0.,  0.,  0.]],\n",
              "    \n",
              "           [[ 0.,  0.,  0.],\n",
              "            [ 0.,  0.,  0.],\n",
              "            [ 0.,  0.,  0.]],\n",
              "    \n",
              "           [[ 0.,  0.,  0.],\n",
              "            [ 0.,  0.,  0.],\n",
              "            [ 0.,  0.,  0.]],\n",
              "    \n",
              "           [[ 0.,  0.,  0.],\n",
              "            [ 0.,  0.,  0.],\n",
              "            [ 0.,  0.,  0.]],\n",
              "    \n",
              "           [[ 0.,  0.,  0.],\n",
              "            [ 0.,  0.,  0.],\n",
              "            [ 0.,  0.,  0.]],\n",
              "    \n",
              "           [[ 0.,  0.,  0.],\n",
              "            [ 0.,  0.,  0.],\n",
              "            [ 0.,  0.,  0.]],\n",
              "    \n",
              "           [[ 0.,  0.,  0.],\n",
              "            [ 0.,  0.,  0.],\n",
              "            [ 0.,  0.,  0.]],\n",
              "    \n",
              "           [[ 0.,  0.,  0.],\n",
              "            [ 0.,  0.,  0.],\n",
              "            [ 0.,  0.,  0.]],\n",
              "    \n",
              "           [[ 0.,  0.,  0.],\n",
              "            [ 0.,  0.,  0.],\n",
              "            [ 0.,  0.,  0.]],\n",
              "    \n",
              "           [[ 0.,  0.,  0.],\n",
              "            [ 0.,  0.,  0.],\n",
              "            [ 0.,  0.,  0.]],\n",
              "    \n",
              "           [[ 0.,  0.,  0.],\n",
              "            [ 0.,  0.,  0.],\n",
              "            [ 0.,  0.,  0.]],\n",
              "    \n",
              "           [[ 0.,  0.,  0.],\n",
              "            [ 0.,  0.,  0.],\n",
              "            [ 0.,  0.,  0.]],\n",
              "    \n",
              "           [[ 0.,  0.,  0.],\n",
              "            [ 0.,  0.,  0.],\n",
              "            [ 0.,  0.,  0.]],\n",
              "    \n",
              "           [[ 0.,  0.,  0.],\n",
              "            [ 0.,  0.,  0.],\n",
              "            [ 0.,  0.,  0.]],\n",
              "    \n",
              "           [[ 0.,  0.,  0.],\n",
              "            [ 0.,  0.,  0.],\n",
              "            [ 0.,  0.,  0.]],\n",
              "    \n",
              "           [[ 0.,  0.,  0.],\n",
              "            [ 0.,  0.,  0.],\n",
              "            [ 0.,  0.,  0.]],\n",
              "    \n",
              "           [[ 0.,  0.,  0.],\n",
              "            [ 0.,  0.,  0.],\n",
              "            [ 0.,  0.,  0.]],\n",
              "    \n",
              "           [[ 0.,  0.,  0.],\n",
              "            [ 0.,  0.,  0.],\n",
              "            [ 0.,  0.,  0.]],\n",
              "    \n",
              "           [[ 0.,  0.,  0.],\n",
              "            [ 0.,  0.,  0.],\n",
              "            [ 0.,  0.,  0.]],\n",
              "    \n",
              "           [[ 0.,  0.,  0.],\n",
              "            [ 0.,  0.,  0.],\n",
              "            [ 0.,  0.,  0.]],\n",
              "    \n",
              "           [[ 0.,  0.,  0.],\n",
              "            [ 0.,  0.,  0.],\n",
              "            [ 0.,  0.,  0.]],\n",
              "    \n",
              "           [[ 0.,  0.,  0.],\n",
              "            [ 0.,  0.,  0.],\n",
              "            [ 0.,  0.,  0.]],\n",
              "    \n",
              "           [[ 0.,  0.,  0.],\n",
              "            [ 0.,  0.,  0.],\n",
              "            [ 0.,  0.,  0.]],\n",
              "    \n",
              "           [[ 0.,  0.,  0.],\n",
              "            [ 0.,  0.,  0.],\n",
              "            [ 0.,  0.,  0.]],\n",
              "    \n",
              "           [[ 0.,  0.,  0.],\n",
              "            [ 0.,  0.,  0.],\n",
              "            [ 0.,  0.,  0.]],\n",
              "    \n",
              "           [[ 0.,  0.,  0.],\n",
              "            [ 0.,  0.,  0.],\n",
              "            [ 0.,  0.,  0.]],\n",
              "    \n",
              "           [[ 0.,  0.,  0.],\n",
              "            [ 0.,  0.,  0.],\n",
              "            [ 0.,  0.,  0.]],\n",
              "    \n",
              "           [[ 0.,  0.,  0.],\n",
              "            [ 0.,  0.,  0.],\n",
              "            [ 0.,  0.,  0.]],\n",
              "    \n",
              "           [[ 0.,  0.,  0.],\n",
              "            [ 0.,  0.,  0.],\n",
              "            [ 0.,  0.,  0.]],\n",
              "    \n",
              "           [[ 0.,  0.,  0.],\n",
              "            [ 0.,  0.,  0.],\n",
              "            [ 0.,  0.,  0.]],\n",
              "    \n",
              "           [[ 0.,  0.,  0.],\n",
              "            [ 0.,  0.,  0.],\n",
              "            [ 0.,  0.,  0.]],\n",
              "    \n",
              "           [[ 0.,  0.,  0.],\n",
              "            [ 0.,  0.,  0.],\n",
              "            [ 0.,  0.,  0.]],\n",
              "    \n",
              "           [[ 0.,  0.,  0.],\n",
              "            [ 0.,  0.,  0.],\n",
              "            [ 0.,  0.,  0.]],\n",
              "    \n",
              "           [[ 0.,  0.,  0.],\n",
              "            [ 0.,  0.,  0.],\n",
              "            [ 0.,  0.,  0.]],\n",
              "    \n",
              "           [[ 0.,  0.,  0.],\n",
              "            [ 0.,  0.,  0.],\n",
              "            [ 0.,  0.,  0.]],\n",
              "    \n",
              "           [[ 0.,  0.,  0.],\n",
              "            [ 0.,  0.,  0.],\n",
              "            [ 0.,  0.,  0.]],\n",
              "    \n",
              "           [[ 0.,  0.,  0.],\n",
              "            [ 0.,  0.,  0.],\n",
              "            [ 0.,  0.,  0.]],\n",
              "    \n",
              "           [[ 0.,  0.,  0.],\n",
              "            [ 0.,  0.,  0.],\n",
              "            [ 0.,  0.,  0.]],\n",
              "    \n",
              "           [[ 0.,  0.,  0.],\n",
              "            [ 0.,  0.,  0.],\n",
              "            [ 0.,  0.,  0.]],\n",
              "    \n",
              "           [[ 0.,  0.,  0.],\n",
              "            [ 0.,  0.,  0.],\n",
              "            [ 0.,  0.,  0.]],\n",
              "    \n",
              "           [[ 0.,  0.,  0.],\n",
              "            [ 0.,  0.,  0.],\n",
              "            [ 0.,  0.,  0.]],\n",
              "    \n",
              "           [[ 0.,  0.,  0.],\n",
              "            [ 0.,  0.,  0.],\n",
              "            [ 0.,  0.,  0.]],\n",
              "    \n",
              "           [[ 0.,  0.,  0.],\n",
              "            [ 0.,  0.,  0.],\n",
              "            [ 0.,  0.,  0.]],\n",
              "    \n",
              "           [[ 0.,  0.,  0.],\n",
              "            [ 0.,  0.,  0.],\n",
              "            [ 0.,  0.,  0.]],\n",
              "    \n",
              "           [[ 0.,  0.,  0.],\n",
              "            [ 0.,  0.,  0.],\n",
              "            [ 0.,  0.,  0.]],\n",
              "    \n",
              "           [[ 0.,  0.,  0.],\n",
              "            [ 0.,  0.,  0.],\n",
              "            [ 0.,  0.,  0.]],\n",
              "    \n",
              "           [[ 0.,  0.,  0.],\n",
              "            [ 0.,  0.,  0.],\n",
              "            [ 0.,  0.,  0.]],\n",
              "    \n",
              "           [[ 0.,  0.,  0.],\n",
              "            [ 0.,  0.,  0.],\n",
              "            [ 0.,  0.,  0.]],\n",
              "    \n",
              "           [[ 0.,  0.,  0.],\n",
              "            [ 0.,  0.,  0.],\n",
              "            [ 0.,  0.,  0.]],\n",
              "    \n",
              "           [[ 0.,  0.,  0.],\n",
              "            [ 0.,  0.,  0.],\n",
              "            [ 0.,  0.,  0.]],\n",
              "    \n",
              "           [[ 0.,  0.,  0.],\n",
              "            [ 0.,  0.,  0.],\n",
              "            [ 0.,  0.,  0.]],\n",
              "    \n",
              "           [[ 0.,  0.,  0.],\n",
              "            [ 0.,  0.,  0.],\n",
              "            [ 0.,  0.,  0.]],\n",
              "    \n",
              "           [[ 0.,  0.,  0.],\n",
              "            [ 0.,  0.,  0.],\n",
              "            [ 0.,  0.,  0.]],\n",
              "    \n",
              "           [[ 0.,  0.,  0.],\n",
              "            [ 0.,  0.,  0.],\n",
              "            [ 0.,  0.,  0.]]], dtype=float32)>\n",
              ")"
            ]
          },
          "metadata": {},
          "execution_count": 71
        }
      ]
    },
    {
      "cell_type": "markdown",
      "source": [
        "### Exercise 3\n",
        "\n",
        "Simulate an epidemic with the following fixed parameter values.\n",
        "\n",
        "\\begin{align}\n",
        "\\beta &= 0.02 \\\\  \n",
        "\\nu &= 0.5 \\\\\n",
        "\\psi &= 0.06 \\\\\n",
        "\\gamma &= 0.2\n",
        "\\end{align}\n",
        "\n",
        "Use 3 graphs plotting the number of transition events to explain what happens to the progression of the epidemic as connectivity parameter $\\psi$ increases (i.e. use 3 increasing values of $\\psi$)."
      ],
      "metadata": {
        "id": "DTEt2AB7Aw1I"
      }
    },
    {
      "cell_type": "markdown",
      "source": [
        "### Solution"
      ],
      "metadata": {
        "id": "_5U_COfQO5gg"
      }
    },
    {
      "cell_type": "code",
      "source": [
        "conditioned_seir = seir.experimental_pin(\n",
        "    beta = 0.02,\n",
        "    nu = 0.05,\n",
        "    psi = 0.6,          # change me :)\n",
        "    gamma = 0.2\n",
        "    )"
      ],
      "metadata": {
        "id": "o7xvP4ZhAqy7"
      },
      "execution_count": null,
      "outputs": []
    },
    {
      "cell_type": "code",
      "source": [
        "simulation = conditioned_seir.sample_unpinned()"
      ],
      "metadata": {
        "id": "M5QppTxKB8xI",
        "colab": {
          "base_uri": "https://localhost:8080/"
        },
        "outputId": "79382994-3d81-41c4-9a94-1fee1e51ca8a"
      },
      "execution_count": null,
      "outputs": [
        {
          "output_type": "stream",
          "name": "stderr",
          "text": [
            "WARNING:tensorflow:Setting parallel_iterations > 1 has no effect when executing eagerly. Consider calling map_fn with tf.function to execute fn in parallel.\n"
          ]
        }
      ]
    },
    {
      "cell_type": "markdown",
      "source": [
        "Import plotting code from [Models in gemlib](https://gem-epidemics.gitlab.io/practical-epidemics/iddinf/02-intro-to-gemlib.html#discrete-time-stochastic-solver)."
      ],
      "metadata": {
        "id": "QAvLo9g_gd_j"
      }
    },
    {
      "cell_type": "code",
      "source": [
        "from matplotlib.lines import Line2D"
      ],
      "metadata": {
        "id": "2TjZTeMUeIym"
      },
      "execution_count": null,
      "outputs": []
    },
    {
      "cell_type": "code",
      "source": [
        "def plot_timeseries_counts(\n",
        "        times, states, plot_height=4, labels=[\"SE\", \"EI\", \"IR\"], alpha=1.0\n",
        "):\n",
        "    num_plots = states.shape[-2]\n",
        "    fig, ax = plt.subplots(\n",
        "        1, num_plots, figsize=(num_plots*plot_height*1.5, plot_height)\n",
        "    )\n",
        "\n",
        "    for i in range(num_plots):\n",
        "        for s, label in enumerate(labels):\n",
        "            state = np.transpose(states[..., i, s])\n",
        "            ax[i].plot(\n",
        "                np.transpose(times),\n",
        "                np.cumsum(state),       # change to show cumulative events\n",
        "                label=label,\n",
        "                color=f\"C{s}\",\n",
        "                alpha=alpha\n",
        "            )\n",
        "        ax[i].set_title(\"Subpopulation {}\".format(i))\n",
        "        ax[i].set_xlabel(\"Time\")\n",
        "        ax[i].set_ylabel(\"Individuals\")\n",
        "        leg_lines = [Line2D([0], [0], color=f\"C{i}\") for i in range(len(labels))]\n",
        "        ax[i].legend(leg_lines, labels)\n",
        "\n",
        "    return fig, ax"
      ],
      "metadata": {
        "id": "rVh0_wOQfSQX"
      },
      "execution_count": null,
      "outputs": []
    },
    {
      "cell_type": "code",
      "source": [
        "_ = plot_timeseries_counts(np.arange(80), simulation[0], alpha=0.8)"
      ],
      "metadata": {
        "colab": {
          "base_uri": "https://localhost:8080/",
          "height": 293
        },
        "id": "lJdUD_4nBj10",
        "outputId": "8add18b1-ddb4-496d-8542-c4a625eb41e1"
      },
      "execution_count": null,
      "outputs": [
        {
          "output_type": "display_data",
          "data": {
            "text/plain": [
              "<Figure size 1800x400 with 3 Axes>"
            ],
            "image/png": "[encoded data removed]"
          },
          "metadata": {}
        }
      ]
    },
    {
      "cell_type": "markdown",
      "source": [
        "As $\\psi$ increases the mixing between the 3 populations increases and the epidemic takes of sooner in sub-population 1 and 2.\n"
      ],
      "metadata": {
        "id": "IRNWUDBr_80A"
      }
    },
    {
      "cell_type": "markdown",
      "source": [
        "One of the tradeoffs for the convenience of the `tfd.JointDistributionCoroutine` is that we lose the methods of the `*StateTransitionModel*. If we want to plot the epidemic curves instead of the counts, we need to create an instance of the __same__ model that is _inside_ the distribution, outside of it as well."
      ],
      "metadata": {
        "id": "1qS_epFFuSgM"
      }
    },
    {
      "cell_type": "code",
      "source": [
        "seir_again = DiscreteTimeStateTransitionModel(\n",
        "        transition_rate_fn=make_transition_rate_fn(beta = 0.02,\n",
        "                                                   nu = 0.05,\n",
        "                                                   psi = 0.6,\n",
        "                                                   gamma = 0.2),\n",
        "        incidence_matrix=incidence_matrix,\n",
        "        initial_state=initial_state,\n",
        "        num_steps=80,\n",
        "        name = 'seir')"
      ],
      "metadata": {
        "id": "9Ei1deW6ul1k"
      },
      "execution_count": null,
      "outputs": []
    },
    {
      "cell_type": "code",
      "source": [
        "simulation.seir"
      ],
      "metadata": {
        "colab": {
          "base_uri": "https://localhost:8080/"
        },
        "collapsed": true,
        "id": "w7nPnsLFvLof",
        "outputId": "231ea250-7ab3-4ba3-b48c-3bebe31a26fa"
      },
      "execution_count": null,
      "outputs": [
        {
          "output_type": "execute_result",
          "data": {
            "text/plain": [
              "<tf.Tensor: shape=(80, 3, 3), dtype=float32, numpy=\n",
              "array([[[ 0.,  0.,  0.],\n",
              "        [ 0.,  0.,  0.],\n",
              "        [ 0.,  0.,  0.]],\n",
              "\n",
              "       [[ 1.,  0.,  0.],\n",
              "        [ 0.,  0.,  0.],\n",
              "        [ 0.,  0.,  0.]],\n",
              "\n",
              "       [[ 3.,  0.,  0.],\n",
              "        [ 0.,  0.,  0.],\n",
              "        [ 0.,  0.,  0.]],\n",
              "\n",
              "       [[ 2.,  0.,  0.],\n",
              "        [ 0.,  0.,  0.],\n",
              "        [ 0.,  0.,  0.]],\n",
              "\n",
              "       [[ 4.,  0.,  0.],\n",
              "        [ 0.,  0.,  0.],\n",
              "        [ 0.,  0.,  0.]],\n",
              "\n",
              "       [[ 3.,  0.,  0.],\n",
              "        [ 0.,  0.,  0.],\n",
              "        [ 0.,  0.,  0.]],\n",
              "\n",
              "       [[ 1.,  0.,  0.],\n",
              "        [ 0.,  0.,  0.],\n",
              "        [ 0.,  0.,  0.]],\n",
              "\n",
              "       [[ 1.,  1.,  0.],\n",
              "        [ 0.,  0.,  0.],\n",
              "        [ 0.,  0.,  0.]],\n",
              "\n",
              "       [[ 3.,  0.,  0.],\n",
              "        [ 0.,  0.,  0.],\n",
              "        [ 0.,  0.,  0.]],\n",
              "\n",
              "       [[ 3.,  0.,  0.],\n",
              "        [ 0.,  0.,  0.],\n",
              "        [ 0.,  0.,  0.]],\n",
              "\n",
              "       [[ 1.,  0.,  0.],\n",
              "        [ 0.,  0.,  0.],\n",
              "        [ 0.,  0.,  0.]],\n",
              "\n",
              "       [[ 6.,  1.,  0.],\n",
              "        [ 0.,  0.,  0.],\n",
              "        [ 0.,  0.,  0.]],\n",
              "\n",
              "       [[ 4.,  1.,  1.],\n",
              "        [ 0.,  0.,  0.],\n",
              "        [ 0.,  0.,  0.]],\n",
              "\n",
              "       [[ 4.,  2.,  1.],\n",
              "        [ 0.,  0.,  0.],\n",
              "        [ 0.,  0.,  0.]],\n",
              "\n",
              "       [[ 5.,  2.,  1.],\n",
              "        [ 0.,  0.,  0.],\n",
              "        [ 0.,  0.,  0.]],\n",
              "\n",
              "       [[ 7.,  0.,  1.],\n",
              "        [ 0.,  0.,  0.],\n",
              "        [ 0.,  0.,  0.]],\n",
              "\n",
              "       [[ 7.,  5.,  2.],\n",
              "        [ 0.,  0.,  0.],\n",
              "        [ 0.,  0.,  0.]],\n",
              "\n",
              "       [[ 5.,  3.,  1.],\n",
              "        [ 0.,  0.,  0.],\n",
              "        [ 0.,  0.,  0.]],\n",
              "\n",
              "       [[ 4.,  0.,  3.],\n",
              "        [ 0.,  0.,  0.],\n",
              "        [ 0.,  0.,  0.]],\n",
              "\n",
              "       [[ 3.,  3.,  0.],\n",
              "        [ 0.,  0.,  0.],\n",
              "        [ 0.,  0.,  0.]],\n",
              "\n",
              "       [[ 4.,  0.,  2.],\n",
              "        [ 0.,  0.,  0.],\n",
              "        [ 0.,  0.,  0.]],\n",
              "\n",
              "       [[ 6.,  4.,  1.],\n",
              "        [ 0.,  0.,  0.],\n",
              "        [ 0.,  0.,  0.]],\n",
              "\n",
              "       [[ 3.,  2.,  1.],\n",
              "        [ 0.,  0.,  0.],\n",
              "        [ 0.,  0.,  0.]],\n",
              "\n",
              "       [[ 4.,  1.,  2.],\n",
              "        [ 0.,  0.,  0.],\n",
              "        [ 0.,  0.,  0.]],\n",
              "\n",
              "       [[ 4.,  2.,  2.],\n",
              "        [ 0.,  0.,  0.],\n",
              "        [ 0.,  0.,  0.]],\n",
              "\n",
              "       [[ 1.,  2.,  1.],\n",
              "        [ 0.,  0.,  0.],\n",
              "        [ 0.,  0.,  0.]],\n",
              "\n",
              "       [[ 3.,  4.,  1.],\n",
              "        [ 0.,  0.,  0.],\n",
              "        [ 0.,  0.,  0.]],\n",
              "\n",
              "       [[ 1.,  1.,  4.],\n",
              "        [ 1.,  0.,  0.],\n",
              "        [ 0.,  0.,  0.]],\n",
              "\n",
              "       [[ 1.,  2.,  3.],\n",
              "        [ 0.,  0.,  0.],\n",
              "        [ 0.,  0.,  0.]],\n",
              "\n",
              "       [[ 0.,  2.,  1.],\n",
              "        [ 0.,  0.,  0.],\n",
              "        [ 0.,  0.,  0.]],\n",
              "\n",
              "       [[ 1.,  3.,  2.],\n",
              "        [ 0.,  0.,  0.],\n",
              "        [ 0.,  0.,  0.]],\n",
              "\n",
              "       [[ 1.,  5.,  2.],\n",
              "        [ 0.,  0.,  0.],\n",
              "        [ 0.,  0.,  0.]],\n",
              "\n",
              "       [[ 1.,  5.,  0.],\n",
              "        [ 0.,  0.,  0.],\n",
              "        [ 0.,  0.,  0.]],\n",
              "\n",
              "       [[ 0.,  2.,  4.],\n",
              "        [ 0.,  0.,  0.],\n",
              "        [ 0.,  0.,  0.]],\n",
              "\n",
              "       [[ 0.,  3.,  4.],\n",
              "        [ 0.,  0.,  0.],\n",
              "        [ 0.,  0.,  0.]],\n",
              "\n",
              "       [[ 1.,  2.,  2.],\n",
              "        [ 0.,  0.,  0.],\n",
              "        [ 0.,  0.,  0.]],\n",
              "\n",
              "       [[ 0.,  1.,  2.],\n",
              "        [ 0.,  0.,  0.],\n",
              "        [ 0.,  0.,  0.]],\n",
              "\n",
              "       [[ 0.,  5.,  2.],\n",
              "        [ 0.,  0.,  0.],\n",
              "        [ 0.,  0.,  0.]],\n",
              "\n",
              "       [[ 0.,  4.,  2.],\n",
              "        [ 0.,  0.,  0.],\n",
              "        [ 0.,  0.,  0.]],\n",
              "\n",
              "       [[ 1.,  2.,  8.],\n",
              "        [ 0.,  0.,  0.],\n",
              "        [ 0.,  0.,  0.]],\n",
              "\n",
              "       [[ 0.,  0.,  6.],\n",
              "        [ 0.,  0.,  0.],\n",
              "        [ 0.,  0.,  0.]],\n",
              "\n",
              "       [[ 0.,  2.,  3.],\n",
              "        [ 0.,  1.,  0.],\n",
              "        [ 0.,  0.,  0.]],\n",
              "\n",
              "       [[ 0.,  2.,  0.],\n",
              "        [ 2.,  0.,  1.],\n",
              "        [ 0.,  0.,  0.]],\n",
              "\n",
              "       [[ 0.,  1.,  1.],\n",
              "        [ 1.,  0.,  0.],\n",
              "        [ 0.,  0.,  0.]],\n",
              "\n",
              "       [[ 0.,  1.,  3.],\n",
              "        [ 0.,  0.,  0.],\n",
              "        [ 0.,  0.,  0.]],\n",
              "\n",
              "       [[ 0.,  0.,  1.],\n",
              "        [ 0.,  0.,  0.],\n",
              "        [ 0.,  0.,  0.]],\n",
              "\n",
              "       [[ 0.,  1.,  1.],\n",
              "        [ 0.,  0.,  0.],\n",
              "        [ 0.,  0.,  0.]],\n",
              "\n",
              "       [[ 0.,  0.,  1.],\n",
              "        [ 0.,  0.,  0.],\n",
              "        [ 0.,  0.,  0.]],\n",
              "\n",
              "       [[ 0.,  0.,  1.],\n",
              "        [ 0.,  0.,  0.],\n",
              "        [ 0.,  0.,  0.]],\n",
              "\n",
              "       [[ 0.,  0.,  1.],\n",
              "        [ 0.,  0.,  0.],\n",
              "        [ 0.,  0.,  0.]],\n",
              "\n",
              "       [[ 0.,  3.,  1.],\n",
              "        [ 0.,  0.,  0.],\n",
              "        [ 0.,  0.,  0.]],\n",
              "\n",
              "       [[ 0.,  0.,  1.],\n",
              "        [ 0.,  0.,  0.],\n",
              "        [ 0.,  0.,  0.]],\n",
              "\n",
              "       [[ 0.,  0.,  0.],\n",
              "        [ 0.,  0.,  0.],\n",
              "        [ 0.,  0.,  0.]],\n",
              "\n",
              "       [[ 0.,  2.,  1.],\n",
              "        [ 0.,  0.,  0.],\n",
              "        [ 0.,  0.,  0.]],\n",
              "\n",
              "       [[ 0.,  0.,  1.],\n",
              "        [ 0.,  0.,  0.],\n",
              "        [ 0.,  0.,  0.]],\n",
              "\n",
              "       [[ 0.,  3.,  0.],\n",
              "        [ 0.,  0.,  0.],\n",
              "        [ 0.,  0.,  0.]],\n",
              "\n",
              "       [[ 0.,  3.,  2.],\n",
              "        [ 0.,  0.,  0.],\n",
              "        [ 0.,  0.,  0.]],\n",
              "\n",
              "       [[ 0.,  0.,  1.],\n",
              "        [ 0.,  0.,  0.],\n",
              "        [ 0.,  0.,  0.]],\n",
              "\n",
              "       [[ 0.,  0.,  0.],\n",
              "        [ 0.,  0.,  0.],\n",
              "        [ 0.,  0.,  0.]],\n",
              "\n",
              "       [[ 0.,  2.,  1.],\n",
              "        [ 0.,  0.,  0.],\n",
              "        [ 0.,  0.,  0.]],\n",
              "\n",
              "       [[ 0.,  0.,  1.],\n",
              "        [ 0.,  0.,  0.],\n",
              "        [ 0.,  0.,  0.]],\n",
              "\n",
              "       [[ 0.,  1.,  2.],\n",
              "        [ 0.,  0.,  0.],\n",
              "        [ 0.,  0.,  0.]],\n",
              "\n",
              "       [[ 0.,  0.,  1.],\n",
              "        [ 0.,  0.,  0.],\n",
              "        [ 0.,  0.,  0.]],\n",
              "\n",
              "       [[ 0.,  0.,  3.],\n",
              "        [ 0.,  0.,  0.],\n",
              "        [ 0.,  0.,  0.]],\n",
              "\n",
              "       [[ 0.,  1.,  1.],\n",
              "        [ 0.,  0.,  0.],\n",
              "        [ 0.,  0.,  0.]],\n",
              "\n",
              "       [[ 0.,  0.,  3.],\n",
              "        [ 0.,  0.,  0.],\n",
              "        [ 0.,  0.,  0.]],\n",
              "\n",
              "       [[ 0.,  1.,  0.],\n",
              "        [ 0.,  0.,  0.],\n",
              "        [ 0.,  0.,  0.]],\n",
              "\n",
              "       [[ 0.,  0.,  0.],\n",
              "        [ 0.,  0.,  0.],\n",
              "        [ 0.,  0.,  0.]],\n",
              "\n",
              "       [[ 0.,  1.,  0.],\n",
              "        [ 0.,  1.,  0.],\n",
              "        [ 0.,  0.,  0.]],\n",
              "\n",
              "       [[ 0.,  1.,  1.],\n",
              "        [ 1.,  0.,  0.],\n",
              "        [ 0.,  0.,  0.]],\n",
              "\n",
              "       [[ 0.,  1.,  0.],\n",
              "        [ 2.,  0.,  0.],\n",
              "        [ 0.,  0.,  0.]],\n",
              "\n",
              "       [[ 0.,  0.,  1.],\n",
              "        [ 1.,  0.,  0.],\n",
              "        [ 0.,  0.,  0.]],\n",
              "\n",
              "       [[ 0.,  0.,  0.],\n",
              "        [ 1.,  2.,  0.],\n",
              "        [ 0.,  0.,  0.]],\n",
              "\n",
              "       [[ 0.,  0.,  1.],\n",
              "        [ 7.,  1.,  0.],\n",
              "        [ 0.,  0.,  0.]],\n",
              "\n",
              "       [[ 0.,  0.,  0.],\n",
              "        [ 6.,  3.,  0.],\n",
              "        [ 0.,  0.,  0.]],\n",
              "\n",
              "       [[ 0.,  0.,  0.],\n",
              "        [ 9.,  0.,  3.],\n",
              "        [ 0.,  0.,  0.]],\n",
              "\n",
              "       [[ 0.,  0.,  0.],\n",
              "        [11.,  0.,  1.],\n",
              "        [ 0.,  0.,  0.]],\n",
              "\n",
              "       [[ 0.,  0.,  0.],\n",
              "        [ 3.,  1.,  0.],\n",
              "        [ 0.,  0.,  0.]],\n",
              "\n",
              "       [[ 0.,  0.,  0.],\n",
              "        [ 3.,  2.,  1.],\n",
              "        [ 0.,  0.,  0.]],\n",
              "\n",
              "       [[ 0.,  0.,  0.],\n",
              "        [ 3.,  2.,  1.],\n",
              "        [ 0.,  0.,  0.]]], dtype=float32)>"
            ]
          },
          "metadata": {},
          "execution_count": 77
        }
      ]
    },
    {
      "cell_type": "code",
      "source": [
        "# now I can feed the realization of the coroutine into seir_again\n",
        "seir_again.compute_state(simulation.seir) # dig out the realization of seir"
      ],
      "metadata": {
        "colab": {
          "base_uri": "https://localhost:8080/"
        },
        "collapsed": true,
        "id": "01ayMqOKu9od",
        "outputId": "6f142d63-20eb-4aa1-8259-7290fecb13a7"
      },
      "execution_count": null,
      "outputs": [
        {
          "output_type": "execute_result",
          "data": {
            "text/plain": [
              "<tf.Tensor: shape=(80, 3, 4), dtype=float32, numpy=\n",
              "array([[[ 99.,   0.,   1.,   0.],\n",
              "        [100.,   0.,   0.,   0.],\n",
              "        [100.,   0.,   0.,   0.]],\n",
              "\n",
              "       [[ 99.,   0.,   1.,   0.],\n",
              "        [100.,   0.,   0.,   0.],\n",
              "        [100.,   0.,   0.,   0.]],\n",
              "\n",
              "       [[ 98.,   1.,   1.,   0.],\n",
              "        [100.,   0.,   0.,   0.],\n",
              "        [100.,   0.,   0.,   0.]],\n",
              "\n",
              "       [[ 95.,   4.,   1.,   0.],\n",
              "        [100.,   0.,   0.,   0.],\n",
              "        [100.,   0.,   0.,   0.]],\n",
              "\n",
              "       [[ 93.,   6.,   1.,   0.],\n",
              "        [100.,   0.,   0.,   0.],\n",
              "        [100.,   0.,   0.,   0.]],\n",
              "\n",
              "       [[ 89.,  10.,   1.,   0.],\n",
              "        [100.,   0.,   0.,   0.],\n",
              "        [100.,   0.,   0.,   0.]],\n",
              "\n",
              "       [[ 86.,  13.,   1.,   0.],\n",
              "        [100.,   0.,   0.,   0.],\n",
              "        [100.,   0.,   0.,   0.]],\n",
              "\n",
              "       [[ 85.,  14.,   1.,   0.],\n",
              "        [100.,   0.,   0.,   0.],\n",
              "        [100.,   0.,   0.,   0.]],\n",
              "\n",
              "       [[ 84.,  14.,   2.,   0.],\n",
              "        [100.,   0.,   0.,   0.],\n",
              "        [100.,   0.,   0.,   0.]],\n",
              "\n",
              "       [[ 81.,  17.,   2.,   0.],\n",
              "        [100.,   0.,   0.,   0.],\n",
              "        [100.,   0.,   0.,   0.]],\n",
              "\n",
              "       [[ 78.,  20.,   2.,   0.],\n",
              "        [100.,   0.,   0.,   0.],\n",
              "        [100.,   0.,   0.,   0.]],\n",
              "\n",
              "       [[ 77.,  21.,   2.,   0.],\n",
              "        [100.,   0.,   0.,   0.],\n",
              "        [100.,   0.,   0.,   0.]],\n",
              "\n",
              "       [[ 71.,  26.,   3.,   0.],\n",
              "        [100.,   0.,   0.,   0.],\n",
              "        [100.,   0.,   0.,   0.]],\n",
              "\n",
              "       [[ 67.,  29.,   3.,   1.],\n",
              "        [100.,   0.,   0.,   0.],\n",
              "        [100.,   0.,   0.,   0.]],\n",
              "\n",
              "       [[ 63.,  31.,   4.,   2.],\n",
              "        [100.,   0.,   0.,   0.],\n",
              "        [100.,   0.,   0.,   0.]],\n",
              "\n",
              "       [[ 58.,  34.,   5.,   3.],\n",
              "        [100.,   0.,   0.,   0.],\n",
              "        [100.,   0.,   0.,   0.]],\n",
              "\n",
              "       [[ 51.,  41.,   4.,   4.],\n",
              "        [100.,   0.,   0.,   0.],\n",
              "        [100.,   0.,   0.,   0.]],\n",
              "\n",
              "       [[ 44.,  43.,   7.,   6.],\n",
              "        [100.,   0.,   0.,   0.],\n",
              "        [100.,   0.,   0.,   0.]],\n",
              "\n",
              "       [[ 39.,  45.,   9.,   7.],\n",
              "        [100.,   0.,   0.,   0.],\n",
              "        [100.,   0.,   0.,   0.]],\n",
              "\n",
              "       [[ 35.,  49.,   6.,  10.],\n",
              "        [100.,   0.,   0.,   0.],\n",
              "        [100.,   0.,   0.,   0.]],\n",
              "\n",
              "       [[ 32.,  49.,   9.,  10.],\n",
              "        [100.,   0.,   0.,   0.],\n",
              "        [100.,   0.,   0.,   0.]],\n",
              "\n",
              "       [[ 28.,  53.,   7.,  12.],\n",
              "        [100.,   0.,   0.,   0.],\n",
              "        [100.,   0.,   0.,   0.]],\n",
              "\n",
              "       [[ 22.,  55.,  10.,  13.],\n",
              "        [100.,   0.,   0.,   0.],\n",
              "        [100.,   0.,   0.,   0.]],\n",
              "\n",
              "       [[ 19.,  56.,  11.,  14.],\n",
              "        [100.,   0.,   0.,   0.],\n",
              "        [100.,   0.,   0.,   0.]],\n",
              "\n",
              "       [[ 15.,  59.,  10.,  16.],\n",
              "        [100.,   0.,   0.,   0.],\n",
              "        [100.,   0.,   0.,   0.]],\n",
              "\n",
              "       [[ 11.,  61.,  10.,  18.],\n",
              "        [100.,   0.,   0.,   0.],\n",
              "        [100.,   0.,   0.,   0.]],\n",
              "\n",
              "       [[ 10.,  60.,  11.,  19.],\n",
              "        [100.,   0.,   0.,   0.],\n",
              "        [100.,   0.,   0.,   0.]],\n",
              "\n",
              "       [[  7.,  59.,  14.,  20.],\n",
              "        [100.,   0.,   0.,   0.],\n",
              "        [100.,   0.,   0.,   0.]],\n",
              "\n",
              "       [[  6.,  59.,  11.,  24.],\n",
              "        [ 99.,   1.,   0.,   0.],\n",
              "        [100.,   0.,   0.,   0.]],\n",
              "\n",
              "       [[  5.,  58.,  10.,  27.],\n",
              "        [ 99.,   1.,   0.,   0.],\n",
              "        [100.,   0.,   0.,   0.]],\n",
              "\n",
              "       [[  5.,  56.,  11.,  28.],\n",
              "        [ 99.,   1.,   0.,   0.],\n",
              "        [100.,   0.,   0.,   0.]],\n",
              "\n",
              "       [[  4.,  54.,  12.,  30.],\n",
              "        [ 99.,   1.,   0.,   0.],\n",
              "        [100.,   0.,   0.,   0.]],\n",
              "\n",
              "       [[  3.,  50.,  15.,  32.],\n",
              "        [ 99.,   1.,   0.,   0.],\n",
              "        [100.,   0.,   0.,   0.]],\n",
              "\n",
              "       [[  2.,  46.,  20.,  32.],\n",
              "        [ 99.,   1.,   0.,   0.],\n",
              "        [100.,   0.,   0.,   0.]],\n",
              "\n",
              "       [[  2.,  44.,  18.,  36.],\n",
              "        [ 99.,   1.,   0.,   0.],\n",
              "        [100.,   0.,   0.,   0.]],\n",
              "\n",
              "       [[  2.,  41.,  17.,  40.],\n",
              "        [ 99.,   1.,   0.,   0.],\n",
              "        [100.,   0.,   0.,   0.]],\n",
              "\n",
              "       [[  1.,  40.,  17.,  42.],\n",
              "        [ 99.,   1.,   0.,   0.],\n",
              "        [100.,   0.,   0.,   0.]],\n",
              "\n",
              "       [[  1.,  39.,  16.,  44.],\n",
              "        [ 99.,   1.,   0.,   0.],\n",
              "        [100.,   0.,   0.,   0.]],\n",
              "\n",
              "       [[  1.,  34.,  19.,  46.],\n",
              "        [ 99.,   1.,   0.,   0.],\n",
              "        [100.,   0.,   0.,   0.]],\n",
              "\n",
              "       [[  1.,  30.,  21.,  48.],\n",
              "        [ 99.,   1.,   0.,   0.],\n",
              "        [100.,   0.,   0.,   0.]],\n",
              "\n",
              "       [[  0.,  29.,  15.,  56.],\n",
              "        [ 99.,   1.,   0.,   0.],\n",
              "        [100.,   0.,   0.,   0.]],\n",
              "\n",
              "       [[  0.,  29.,   9.,  62.],\n",
              "        [ 99.,   1.,   0.,   0.],\n",
              "        [100.,   0.,   0.,   0.]],\n",
              "\n",
              "       [[  0.,  27.,   8.,  65.],\n",
              "        [ 99.,   0.,   1.,   0.],\n",
              "        [100.,   0.,   0.,   0.]],\n",
              "\n",
              "       [[  0.,  25.,  10.,  65.],\n",
              "        [ 97.,   2.,   0.,   1.],\n",
              "        [100.,   0.,   0.,   0.]],\n",
              "\n",
              "       [[  0.,  24.,  10.,  66.],\n",
              "        [ 96.,   3.,   0.,   1.],\n",
              "        [100.,   0.,   0.,   0.]],\n",
              "\n",
              "       [[  0.,  23.,   8.,  69.],\n",
              "        [ 96.,   3.,   0.,   1.],\n",
              "        [100.,   0.,   0.,   0.]],\n",
              "\n",
              "       [[  0.,  23.,   7.,  70.],\n",
              "        [ 96.,   3.,   0.,   1.],\n",
              "        [100.,   0.,   0.,   0.]],\n",
              "\n",
              "       [[  0.,  22.,   7.,  71.],\n",
              "        [ 96.,   3.,   0.,   1.],\n",
              "        [100.,   0.,   0.,   0.]],\n",
              "\n",
              "       [[  0.,  22.,   6.,  72.],\n",
              "        [ 96.,   3.,   0.,   1.],\n",
              "        [100.,   0.,   0.,   0.]],\n",
              "\n",
              "       [[  0.,  22.,   5.,  73.],\n",
              "        [ 96.,   3.,   0.,   1.],\n",
              "        [100.,   0.,   0.,   0.]],\n",
              "\n",
              "       [[  0.,  22.,   4.,  74.],\n",
              "        [ 96.,   3.,   0.,   1.],\n",
              "        [100.,   0.,   0.,   0.]],\n",
              "\n",
              "       [[  0.,  19.,   6.,  75.],\n",
              "        [ 96.,   3.,   0.,   1.],\n",
              "        [100.,   0.,   0.,   0.]],\n",
              "\n",
              "       [[  0.,  19.,   5.,  76.],\n",
              "        [ 96.,   3.,   0.,   1.],\n",
              "        [100.,   0.,   0.,   0.]],\n",
              "\n",
              "       [[  0.,  19.,   5.,  76.],\n",
              "        [ 96.,   3.,   0.,   1.],\n",
              "        [100.,   0.,   0.,   0.]],\n",
              "\n",
              "       [[  0.,  17.,   6.,  77.],\n",
              "        [ 96.,   3.,   0.,   1.],\n",
              "        [100.,   0.,   0.,   0.]],\n",
              "\n",
              "       [[  0.,  17.,   5.,  78.],\n",
              "        [ 96.,   3.,   0.,   1.],\n",
              "        [100.,   0.,   0.,   0.]],\n",
              "\n",
              "       [[  0.,  14.,   8.,  78.],\n",
              "        [ 96.,   3.,   0.,   1.],\n",
              "        [100.,   0.,   0.,   0.]],\n",
              "\n",
              "       [[  0.,  11.,   9.,  80.],\n",
              "        [ 96.,   3.,   0.,   1.],\n",
              "        [100.,   0.,   0.,   0.]],\n",
              "\n",
              "       [[  0.,  11.,   8.,  81.],\n",
              "        [ 96.,   3.,   0.,   1.],\n",
              "        [100.,   0.,   0.,   0.]],\n",
              "\n",
              "       [[  0.,  11.,   8.,  81.],\n",
              "        [ 96.,   3.,   0.,   1.],\n",
              "        [100.,   0.,   0.,   0.]],\n",
              "\n",
              "       [[  0.,   9.,   9.,  82.],\n",
              "        [ 96.,   3.,   0.,   1.],\n",
              "        [100.,   0.,   0.,   0.]],\n",
              "\n",
              "       [[  0.,   9.,   8.,  83.],\n",
              "        [ 96.,   3.,   0.,   1.],\n",
              "        [100.,   0.,   0.,   0.]],\n",
              "\n",
              "       [[  0.,   8.,   7.,  85.],\n",
              "        [ 96.,   3.,   0.,   1.],\n",
              "        [100.,   0.,   0.,   0.]],\n",
              "\n",
              "       [[  0.,   8.,   6.,  86.],\n",
              "        [ 96.,   3.,   0.,   1.],\n",
              "        [100.,   0.,   0.,   0.]],\n",
              "\n",
              "       [[  0.,   8.,   3.,  89.],\n",
              "        [ 96.,   3.,   0.,   1.],\n",
              "        [100.,   0.,   0.,   0.]],\n",
              "\n",
              "       [[  0.,   7.,   3.,  90.],\n",
              "        [ 96.,   3.,   0.,   1.],\n",
              "        [100.,   0.,   0.,   0.]],\n",
              "\n",
              "       [[  0.,   7.,   0.,  93.],\n",
              "        [ 96.,   3.,   0.,   1.],\n",
              "        [100.,   0.,   0.,   0.]],\n",
              "\n",
              "       [[  0.,   6.,   1.,  93.],\n",
              "        [ 96.,   3.,   0.,   1.],\n",
              "        [100.,   0.,   0.,   0.]],\n",
              "\n",
              "       [[  0.,   6.,   1.,  93.],\n",
              "        [ 96.,   3.,   0.,   1.],\n",
              "        [100.,   0.,   0.,   0.]],\n",
              "\n",
              "       [[  0.,   5.,   2.,  93.],\n",
              "        [ 96.,   2.,   1.,   1.],\n",
              "        [100.,   0.,   0.,   0.]],\n",
              "\n",
              "       [[  0.,   4.,   2.,  94.],\n",
              "        [ 95.,   3.,   1.,   1.],\n",
              "        [100.,   0.,   0.,   0.]],\n",
              "\n",
              "       [[  0.,   3.,   3.,  94.],\n",
              "        [ 93.,   5.,   1.,   1.],\n",
              "        [100.,   0.,   0.,   0.]],\n",
              "\n",
              "       [[  0.,   3.,   2.,  95.],\n",
              "        [ 92.,   6.,   1.,   1.],\n",
              "        [100.,   0.,   0.,   0.]],\n",
              "\n",
              "       [[  0.,   3.,   2.,  95.],\n",
              "        [ 91.,   5.,   3.,   1.],\n",
              "        [100.,   0.,   0.,   0.]],\n",
              "\n",
              "       [[  0.,   3.,   1.,  96.],\n",
              "        [ 84.,  11.,   4.,   1.],\n",
              "        [100.,   0.,   0.,   0.]],\n",
              "\n",
              "       [[  0.,   3.,   1.,  96.],\n",
              "        [ 78.,  14.,   7.,   1.],\n",
              "        [100.,   0.,   0.,   0.]],\n",
              "\n",
              "       [[  0.,   3.,   1.,  96.],\n",
              "        [ 69.,  23.,   4.,   4.],\n",
              "        [100.,   0.,   0.,   0.]],\n",
              "\n",
              "       [[  0.,   3.,   1.,  96.],\n",
              "        [ 58.,  34.,   3.,   5.],\n",
              "        [100.,   0.,   0.,   0.]],\n",
              "\n",
              "       [[  0.,   3.,   1.,  96.],\n",
              "        [ 55.,  36.,   4.,   5.],\n",
              "        [100.,   0.,   0.,   0.]],\n",
              "\n",
              "       [[  0.,   3.,   1.,  96.],\n",
              "        [ 52.,  37.,   5.,   6.],\n",
              "        [100.,   0.,   0.,   0.]]], dtype=float32)>"
            ]
          },
          "metadata": {},
          "execution_count": 76
        }
      ]
    },
    {
      "cell_type": "code",
      "source": [
        "def plot_timeseries_cruves(\n",
        "        times, states, plot_height=4, labels=[\"S\", \"E\", \"I\", \"R\"], alpha=1.0\n",
        "):\n",
        "    num_plots = states.shape[-2]\n",
        "    fig, ax = plt.subplots(\n",
        "        1, num_plots, figsize=(num_plots*plot_height*1.5, plot_height)\n",
        "    )\n",
        "\n",
        "    for i in range(num_plots):\n",
        "        for s, label in enumerate(labels):\n",
        "            state = np.transpose(states[..., i, s])\n",
        "            ax[i].plot(\n",
        "                np.transpose(times),\n",
        "                state,\n",
        "                label=label,\n",
        "                color=f\"C{s}\",\n",
        "                alpha=alpha\n",
        "            )\n",
        "        ax[i].set_title(\"Subpopulation {}\".format(i))\n",
        "        ax[i].set_xlabel(\"Time\")\n",
        "        ax[i].set_ylabel(\"Individuals\")\n",
        "        leg_lines = [Line2D([0], [0], color=f\"C{i}\") for i in range(len(labels))]\n",
        "        ax[i].legend(leg_lines, labels)\n",
        "\n",
        "    return fig, ax"
      ],
      "metadata": {
        "id": "bUJfsdVWvTBC"
      },
      "execution_count": null,
      "outputs": []
    },
    {
      "cell_type": "code",
      "source": [
        "_ = plot_timeseries_cruves(np.arange(80),\n",
        "                           seir_again.compute_state(simulation.seir),\n",
        "                           alpha=0.8)"
      ],
      "metadata": {
        "colab": {
          "base_uri": "https://localhost:8080/",
          "height": 293
        },
        "id": "em3hHhxgvhOq",
        "outputId": "3cb69c7a-0d55-47fb-99fb-9ed3050ad528"
      },
      "execution_count": null,
      "outputs": [
        {
          "output_type": "display_data",
          "data": {
            "text/plain": [
              "<Figure size 1800x400 with 3 Axes>"
            ],
            "image/png": "[encoded data removed]"
          },
          "metadata": {}
        }
      ]
    },
    {
      "cell_type": "markdown",
      "source": [
        "## Finding MAPs\n",
        "\n",
        "The `experimental_pin` method can also be used as a way to create a log-probability function for the model which allows us to compute _Maximum a Posteriori_ estimates of parameters. These can be thought of as the Bayesian MLE.\n"
      ],
      "metadata": {
        "id": "tCuVu_x4ASd3"
      }
    },
    {
      "cell_type": "code",
      "source": [
        "# generate some data\n",
        "simulated_dataset = conditioned_seir.sample_unpinned(seed = [11,9])"
      ],
      "metadata": {
        "id": "FjiXZA9rFHiv"
      },
      "execution_count": null,
      "outputs": []
    },
    {
      "cell_type": "markdown",
      "source": [
        "### Exercise\n",
        "Write a function that evaluates the log-probability of the model and use `scipy.optimize.minimize` to find the optimal values."
      ],
      "metadata": {
        "id": "ajIpSPnfOSkA"
      }
    },
    {
      "cell_type": "markdown",
      "source": [
        "### Solution"
      ],
      "metadata": {
        "id": "NOVjEYjqOeV3"
      }
    },
    {
      "cell_type": "code",
      "source": [
        "def seir_log_prob(params_tuple):\n",
        "    \"\"\"\n",
        "    Create a negative log-prob function for our model\n",
        "    \"\"\"\n",
        "    params_dict = {'beta': params_tuple[0],\n",
        "                   'nu': params_tuple[1],\n",
        "                   'psi': params_tuple[2],\n",
        "                   'gamma': params_tuple[3]}\n",
        "\n",
        "    conditional_tlp = seir_meta_pop_model.experimental_pin(\n",
        "        seir = simulated_dataset\n",
        "    )\n",
        "    return -conditional_tlp.log_prob(**params_dict)"
      ],
      "metadata": {
        "id": "IggawXSuG5xO"
      },
      "execution_count": null,
      "outputs": []
    },
    {
      "cell_type": "code",
      "source": [
        "# need to use named arguments with experimental_pin\n",
        "seir_log_prob([0.02, 0.05, 0.6, 0.2])"
      ],
      "metadata": {
        "colab": {
          "base_uri": "https://localhost:8080/"
        },
        "id": "zW-iCM2KGe0m",
        "outputId": "6d20934e-1273-4d0f-f586-1d67cb6aa3f5"
      },
      "execution_count": null,
      "outputs": [
        {
          "output_type": "execute_result",
          "data": {
            "text/plain": [
              "<tf.Tensor: shape=(1,), dtype=float32, numpy=array([477.45853], dtype=float32)>"
            ]
          },
          "metadata": {},
          "execution_count": 29
        }
      ]
    },
    {
      "cell_type": "code",
      "source": [
        "from scipy.optimize import minimize"
      ],
      "metadata": {
        "id": "S9QXsj5xFsH7"
      },
      "execution_count": null,
      "outputs": []
    },
    {
      "cell_type": "code",
      "source": [
        "# this may take a while (up to 5min)\n",
        "mle = minimize(fun = seir_log_prob,\n",
        "               x0 = [0.01, 0.01, 0.01, 0.01],\n",
        "               method=\"L-BFGS-B\",\n",
        "               jac=\"3-point\",\n",
        "               options={\"finite_diff_rel_step\": None},\n",
        "               )"
      ],
      "metadata": {
        "id": "4vBjio4-HsC5",
        "colab": {
          "base_uri": "https://localhost:8080/"
        },
        "outputId": "4487248a-07c2-4090-ee97-fc52a3ac7d91"
      },
      "execution_count": null,
      "outputs": [
        {
          "output_type": "stream",
          "name": "stderr",
          "text": [
            "WARNING:tensorflow:5 out of the last 5 calls to <function pfor.<locals>.f at 0x7bafa471e710> triggered tf.function retracing. Tracing is expensive and the excessive number of tracings could be due to (1) creating @tf.function repeatedly in a loop, (2) passing tensors with different shapes, (3) passing Python objects instead of tensors. For (1), please define your @tf.function outside of the loop. For (2), @tf.function has reduce_retracing=True option that can avoid unnecessary retracing. For (3), please refer to https://www.tensorflow.org/guide/function#controlling_retracing and https://www.tensorflow.org/api_docs/python/tf/function for  more details.\n",
            "WARNING:tensorflow:6 out of the last 6 calls to <function pfor.<locals>.f at 0x7bafa494fa30> triggered tf.function retracing. Tracing is expensive and the excessive number of tracings could be due to (1) creating @tf.function repeatedly in a loop, (2) passing tensors with different shapes, (3) passing Python objects instead of tensors. For (1), please define your @tf.function outside of the loop. For (2), @tf.function has reduce_retracing=True option that can avoid unnecessary retracing. For (3), please refer to https://www.tensorflow.org/guide/function#controlling_retracing and https://www.tensorflow.org/api_docs/python/tf/function for  more details.\n"
          ]
        }
      ]
    },
    {
      "cell_type": "code",
      "source": [
        "print(f\"True values: {[0.02, 0.05, 0.6, 0.2]}\"),\n",
        "print(f\"Estimated values: {[round(x, 3) for x in mle.x]}\")\n"
      ],
      "metadata": {
        "colab": {
          "base_uri": "https://localhost:8080/"
        },
        "id": "952hN_zwJqSA",
        "outputId": "ac3e2beb-ad61-45e2-ada7-7656dfe72924"
      },
      "execution_count": null,
      "outputs": [
        {
          "output_type": "stream",
          "name": "stdout",
          "text": [
            "True values: [0.02, 0.05, 0.6, 0.2]\n",
            "Estimated values: [0.023, 0.051, 0.071, 0.207]\n"
          ]
        }
      ]
    },
    {
      "cell_type": "markdown",
      "source": [
        "\n",
        "\n",
        "For the remainder of the time, try to implement your own model using the `epi_model` pattern."
      ],
      "metadata": {
        "id": "HpW19eNIFHQj"
      }
    }
  ]
}