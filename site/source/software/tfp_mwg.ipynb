{
 "cells": [
  {
   "cell_type": "code",
   "execution_count": 2,
   "id": "169bb88b-64a3-477b-8a69-2521766ace95",
   "metadata": {},
   "outputs": [],
   "source": [
    "from collections import namedtuple\n",
    "from functools import partial\n",
    "import matplotlib.pyplot as plt\n",
    "%matplotlib inline\n",
    "\n",
    "from pprint import pprint\n",
    "import numpy as np\n",
    "import tensorflow as tf\n",
    "import tensorflow_probability as tfp\n",
    "tfd = tfp.distributions"
   ]
  },
  {
   "cell_type": "markdown",
   "id": "46aa55ea-f304-4bb3-bcb7-390a4d64d7e5",
   "metadata": {
    "tags": []
   },
   "source": [
    "# Metropolis-within-Gibbs sampling with Tensorflow Probability\n",
    "\n",
    "Markov-chain Monte Carlo, or MCMC, is a powerful methodology for simulating draws from \n",
    "a random variable $X$, for which a probability density function $\\pi(X)$ is known only up to a \n",
    "normalising constant.  It is often used to sample from Bayesian posterior distributions, expecially\n",
    "when the probability space is complex.\n",
    "\n",
    "Let us start with a simple example, considering a Bayesian changepoint model in which our data observations \n",
    "$y_t, \\; t=1,\\dots,T$ are discrete in time and Poisson distributed such that\n",
    "\n",
    "$$\n",
    "y_t \\sim \\mbox{Poisson}(e^{\\eta_t})\n",
    "$$\n",
    "\n",
    "where\n",
    "\n",
    "$$\n",
    "\\eta_t = \\begin{cases}\n",
    "  \\alpha_0 & \\mbox{if } t \\leq s \\\\\n",
    "  \\alpha_1 & \\mbox{if } t > s \\\\\n",
    "\\end{cases}.\n",
    "$$\n",
    "\n",
    "Here, $s$ is an unknown changepoint denoting the point at which the Poisson mean changes from $\\alpha_0$ to $\\alpha_1$.\n",
    "\n",
    "## The data generating model\n",
    "\n",
    "Let's first simulate a dataset from this model, using $T=20$, $\\alpha_0 = 1.1$, $\\alpha_1 = 2.5$, and $s=10$:"
   ]
  },
  {
   "cell_type": "code",
   "execution_count": 4,
   "id": "0cf30ba7-6e0c-4c81-a4b7-2c28c2ccc0d2",
   "metadata": {},
   "outputs": [
    {
     "data": {
      "image/png": "[encoded data removed]",
      "text/plain": [
       "<Figure size 432x288 with 1 Axes>"
      ]
     },
     "metadata": {
      "needs_background": "light"
     },
     "output_type": "display_data"
    }
   ],
   "source": [
    "def data_generating_model(alpha_0, alpha_1, s, T):\n",
    "    \"\"\"Simulate a draw from a changepoint model\n",
    "    \n",
    "    Args:\n",
    "      alpha0: first log mean\n",
    "      alpha1: second log mean\n",
    "      s: the changepoint\n",
    "      T: number of timepoints\n",
    "    \n",
    "    Returns:\n",
    "      a tensor of observations\n",
    "    \"\"\"\n",
    "    t = tf.range(T)\n",
    "    eta = tf.where(t <= s, alpha_0, alpha_1)\n",
    "    return tfd.Poisson(rate=tf.math.exp(eta)).sample()\n",
    "\n",
    "y_sim = data_generating_model(alpha_0=1.1, alpha_1=2.5, s=10, T=20)\n",
    "plt.plot(y_sim, \"o\")\n",
    "plt.ylabel(\"Observation\")\n",
    "_ = plt.xlabel(\"Timepoint\")"
   ]
  },
  {
   "cell_type": "markdown",
   "id": "fd521b82-2c5f-4260-ba44-ceeb62de480f",
   "metadata": {},
   "source": [
    "Now suppose that we impose prior distributions on $\\alpha_0, \\alpha_1 \\sim \\mbox{Normal}(0, 10)$ and $s \\sim \\mbox{Discrete}(1,\\dots,T)$.  This allows us to define the log posterior density function\n",
    "$$\n",
    "\\ell(y; \\alpha_0, \\alpha_1, s) = \\sum_{t=1}^{T} \\left(\\log f(y_t | \\alpha_0, \\alpha_1, s)\\right) + \\log f(\\alpha_0) + \\log f(\\alpha_1) + \\log f(s)\n",
    "$$"
   ]
  },
  {
   "cell_type": "code",
   "execution_count": 5,
   "id": "1946088b-8884-4dcd-89d7-36f8163dfabc",
   "metadata": {},
   "outputs": [],
   "source": [
    "def model_log_prob_fn(alpha_0, alpha_1, s, y):\n",
    "\n",
    "    num_times = y.shape[0]\n",
    "    \n",
    "    # Priors\n",
    "    lf_alpha_0 = tfd.Normal(loc=0.0, scale=10.0).log_prob(alpha_0)\n",
    "    lf_alpha_1 = tfd.Normal(loc=0.0, scale=10.0).log_prob(alpha_1)\n",
    "    lf_s = tf.where((0 <= s) & (s < num_times), 0.0, -np.inf) # uniform density\n",
    "\n",
    "    # Likelihood\n",
    "    t = tf.range(num_times, dtype=tf.int32)\n",
    "    eta = tf.where(t <= s, alpha_0, alpha_1)\n",
    "    lf_y = tf.reduce_sum(tfd.Poisson(rate=tf.math.exp(eta)).log_prob(y))\n",
    "\n",
    "    log_prob = lf_y + lf_alpha_0 + lf_alpha_1 + lf_s\n",
    "    \n",
    "    return log_prob"
   ]
  },
  {
   "cell_type": "markdown",
   "id": "724bdc64-5350-49f6-833c-a76c42b00006",
   "metadata": {},
   "source": [
    "## Inference\n",
    "\n",
    "Our model poses a problem for MCMC sampling in that our parameter space $\\theta = \\{\\alpha_0, \\alpha_1, s\\}$\n",
    "contains both continuous ($\\alpha_0$ and $\\alpha_1$) and discrete ($s$) random variables, such that a single MCMC kernel\n",
    "(e.g. multi-site random walk Metropolis-Hastings or Hamiltonian Monte Carlo) is not suitable.  Fortunately, the \"Metropolis-within-Gibbs\" flavour of\n",
    "MCMC provides for this situation by allowing us to decompose the parameter space into sub-spaces on which\n",
    "different kernels can operate.\n",
    "\n",
    "Let us suppose we have two kernels\n",
    "\n",
    "$$\n",
    "k_\\alpha(\\alpha_0, \\alpha_1; \\pi_\\alpha(\\cdot | s, y)) :: (\\alpha_0, \\alpha_1) \\rightarrow (\\alpha_0^\\prime, \\alpha_1^\\prime)\n",
    "$$\n",
    "\n",
    "and \n",
    "\n",
    "$$\n",
    "k_s(s; \\pi_s(\\cdot | \\alpha_0, \\alpha_1, y)) :: s \\rightarrow s^\\prime\n",
    "$$\n",
    "\n",
    "for which the conditional posterior distribution functions are $\\pi_\\alpha(\\alpha_0, \\alpha_1 | s, y)$ and $\\pi_s(s | \\alpha_0, \\alpha_1, y)$ respectively.\n",
    "From a computer science perspective, both $\\pi_\\alpha$ and $\\pi_s$ may be thought of as [_partial function evaluations_](https://en.wikipedia.org/wiki/Partial_application)\n",
    "of the joint posterior density function $\\pi(\\alpha_0, \\alpha_1, s | y)$ as described above.  \n",
    "\n",
    "Given parameter vector $(\\alpha_0, \\alpha_1, s)$, one step of the overall MCMC algorithm would go something like:\n",
    "\n",
    "1. Draw $(\\alpha_0^\\prime,\\alpha_1^\\prime) \\sim k_\\alpha(\\alpha_0, \\alpha_1; \\pi_\\alpha(\\cdot | s, y))$\n",
    "2. Draw $s^\\prime \\sim k_s(s ; \\pi_s(\\cdot | \\alpha_0^\\prime, \\alpha_1^\\prime, y))$\n",
    "3. Return $\\alpha_0^\\prime, \\alpha_1^\\prime, s^\\prime$\n",
    "\n",
    "In terms of the overal parameter vector then, the crucial aspect of this algorithm is that Step 1 maps $(\\alpha_0, \\alpha_1, s) \\mapsto (\\alpha_0^\\prime, \\alpha_1^\\prime, s)$, and Step 2 maps $(\\alpha_0^\\prime, \\alpha_1^\\prime, s) \\mapsto (\\alpha_0^\\prime, \\alpha_1^\\prime, s^\\prime)$.  Thus $k_2$ _depends_ on $\\alpha_0^\\prime$ and $\\alpha_1^\\prime$ drawn in Step 1 through the definition of the conditional posterior $\\pi_s$.  This sequential application of _partial kernels_ has implications for how we implement our MCMC sampler in code."
   ]
  },
  {
   "cell_type": "markdown",
   "id": "91d9a6a4-a19a-4fa5-9a5b-4320a4ee0e50",
   "metadata": {},
   "source": [
    "__Note__: We are going to make a _lot_ of use of partial function evaluation. If you're unfamiliar with [closures](https://en.wikipedia.org/wiki/Closure_(computer_programming)) or Python's [functools.partial](https://docs.python.org/3/library/functools.html), then dip out for 5 minutes and read up on it!"
   ]
  },
  {
   "cell_type": "markdown",
   "id": "257644de-358b-4b22-bcee-4a52e7f80094",
   "metadata": {},
   "source": [
    "### The sampler\n",
    "\n",
    "We will now provide a concrete example of a Metropolis-within-Gibbs MCMC algorithm, in which we assume $k_1$ is an adaptive Hamiltonian Monte Carlo (HMC) algorithm, and $k_2$ is a discrete random-walk Metropolis-Hastings algorithm.  What follows is intended to be a simple software pattern, bespoke to this MCMC scheme but that demonstrates how partial kernels are instantiated on-the-fly by creating ephemeral conditional log density functions.  The pattern should not be considered a particularly re-usable software device, but could definitely be built into a more generic Metropolis-within-Gibbs framework.\n",
    "\n",
    "#### Preliminaries\n",
    "We first begin by defining a `namedtuple` to hold the current MCMC chain state, i.e. $(\\alpha_0, \\alpha_1, s)$"
   ]
  },
  {
   "cell_type": "code",
   "execution_count": 6,
   "id": "b14c30e1-5d5d-409e-be26-03b39683dc2e",
   "metadata": {},
   "outputs": [],
   "source": [
    "State = namedtuple(\"State\", [\"alpha_0\", \"alpha_1\", \"s\"])"
   ]
  },
  {
   "cell_type": "markdown",
   "id": "048757a2-6aef-434e-82ad-938395cc0a8c",
   "metadata": {},
   "source": [
    "and then condition our model on the observed data, using partial function evaluation to obtain a computation representing the joint log posterior distribution function"
   ]
  },
  {
   "cell_type": "code",
   "execution_count": 7,
   "id": "1d5273ce-658a-4e2d-b381-e395aeabb8e9",
   "metadata": {},
   "outputs": [
    {
     "data": {
      "text/plain": [
       "<tf.Tensor: shape=(), dtype=float32, numpy=-61.33996>"
      ]
     },
     "execution_count": 7,
     "metadata": {},
     "output_type": "execute_result"
    }
   ],
   "source": [
    "joint_log_posterior_fn = partial(\n",
    "    model_log_prob_fn, y=y_sim\n",
    ")\n",
    "joint_log_posterior_fn(alpha_0=1.0, alpha_1=2.0, s=10)"
   ]
  },
  {
   "cell_type": "markdown",
   "id": "85b34f00-f01f-4966-8dce-8c2c33dcf2a8",
   "metadata": {},
   "source": [
    "#### Kernel construction\n",
    "\n",
    "We now define two _kernel builder_ functions which return `tfp.mcmc.TransitionKernel` objects designed to operate on our parameter subsets.  Each builder function takes the global MCMC chain state, builds a conditional distribution function by closing over the \"fixed\" portion of the global state, and then instantiates and returns the kernel.  Note the presence also of the bespoke discrete random walk proposal function `discrete_random_walk_proposal_fn`."
   ]
  },
  {
   "cell_type": "code",
   "execution_count": 8,
   "id": "0dba993f-7535-4908-8071-8565fea817ab",
   "metadata": {},
   "outputs": [],
   "source": [
    "def make_alpha_kernel(current_state):\n",
    "    \n",
    "    def conditional_log_prob_fn(alpha_0, alpha_1):\n",
    "        return joint_log_posterior_fn(alpha_0, alpha_1, current_state.s)\n",
    "    \n",
    "    return tfp.mcmc.HamiltonianMonteCarlo(\n",
    "        target_log_prob_fn=conditional_log_prob_fn,\n",
    "        step_size=0.1,\n",
    "        num_leapfrog_steps=16\n",
    "    )\n",
    "\n",
    "\n",
    "def discrete_random_walk_proposal_fn(max_delta):\n",
    "    \"\"\"A function that implements a discrete Uniform random walk proposal\n",
    "    \n",
    "    Args:\n",
    "        max_delta: the maximum distance for a random walk step\n",
    "    Returns:\n",
    "        a function with signature `fn(x, seed)` which returns a \n",
    "        new `x` shifted by a discrete increment in the range \n",
    "        `[x-max_delta, x+max_delta]`.\n",
    "    \"\"\"\n",
    "\n",
    "    def new_state_fn(x, seed):\n",
    "        \"\"\"Discrete random walk\"\"\"\n",
    "        if isinstance(x, (tuple, list)):\n",
    "            x_ = x[0]\n",
    "\n",
    "        proposed_state = x_ + tf.cast(\n",
    "            tf.math.floor(\n",
    "                tfd.Uniform(low=-max_delta, high=max_delta).sample(seed=seed)\n",
    "            ),\n",
    "            dtype=tf.int32,\n",
    "        )\n",
    "\n",
    "        if isinstance(x, (tuple, list)):\n",
    "            proposed_state = [proposed_state]\n",
    "\n",
    "        return proposed_state\n",
    "    \n",
    "    return new_state_fn\n",
    "\n",
    "\n",
    "def make_s_kernel(current_state):\n",
    "    \n",
    "    def conditional_log_prob_fn(s):\n",
    "        return joint_log_posterior_fn(\n",
    "            current_state.alpha_0, current_state.alpha_1, s\n",
    "        )\n",
    "    \n",
    "    return tfp.mcmc.RandomWalkMetropolis(\n",
    "        target_log_prob_fn=conditional_log_prob_fn,\n",
    "        new_state_fn=discrete_random_walk_proposal_fn(3),\n",
    "    )"
   ]
  },
  {
   "cell_type": "markdown",
   "id": "987164be-0835-4068-ae18-5aa2eb68581f",
   "metadata": {},
   "source": [
    "#### Combining the kernels\n",
    "\n",
    "We then combine the kernels into a \"compound kernel\", complete with the logic that runs the computations.  For each kernel, we:\n",
    "\n",
    "1. instantiate the TFP kernel object, \n",
    "2. initialise the kernel \"results\" structure using the `bootstrap_results` method (which computes the \"current\" value of the conditional posterior), \n",
    "3. invoke the `one_step` method to actually run the transition kernel.\n",
    "4. Update the state `namedtuple`"
   ]
  },
  {
   "cell_type": "code",
   "execution_count": 9,
   "id": "4fe889cb-44cb-4749-83d7-dfc91837ba96",
   "metadata": {},
   "outputs": [],
   "source": [
    "def compound_kernel(current_state, seed=None):\n",
    "    \"\"\"Execute the compound kernel\n",
    "    \n",
    "    Args:\n",
    "      current_state: a namedtuple encapsulating the MCMC chain state\n",
    "    \n",
    "    Returns:\n",
    "      a tuple of `(new_state, new_results)`\n",
    "    \"\"\"\n",
    "    ### Split seed\n",
    "    seeds = tfp.random.split_seed(seed, n=2, salt=\"compound_kernel\")\n",
    "    \n",
    "    ### Build and execute k_\\alpha\n",
    "    kernel_alpha = make_alpha_kernel(current_state)\n",
    "    \n",
    "    current_alpha = (current_state.alpha_0, current_state.alpha_1) # Pack for convenience\n",
    "    results_alpha = kernel_alpha.bootstrap_results(current_alpha)\n",
    "    \n",
    "    new_alpha, new_results_alpha = kernel_alpha.one_step(\n",
    "        current_state=current_alpha,\n",
    "        previous_kernel_results=results_alpha,\n",
    "        seed=seeds[0],\n",
    "    )\n",
    "    \n",
    "    # Update state\n",
    "    next_state = current_state._replace(alpha_0=new_alpha[0], alpha_1=new_alpha[1])\n",
    "\n",
    "    ### Build and execute k_s\n",
    "    kernel_s = make_s_kernel(next_state)\n",
    "\n",
    "    results_s = kernel_s.bootstrap_results(next_state.s)\n",
    "    \n",
    "    new_s, new_results_s = kernel_s.one_step(\n",
    "        current_state=next_state.s,\n",
    "        previous_kernel_results=results_s,\n",
    "        seed=seeds[1],\n",
    "    )\n",
    "    \n",
    "    # Update state\n",
    "    final_state = next_state._replace(s=new_s)\n",
    "    \n",
    "    return final_state, (new_results_alpha, new_results_s)"
   ]
  },
  {
   "cell_type": "markdown",
   "id": "5b41e869-40e1-4cca-862b-33d7120a9f0f",
   "metadata": {},
   "source": [
    "#### Testing the compound kernel\n",
    "\n",
    "Let's quickly test the compound kernel, and study the structure of the function output.  Importantly, we see that the `results` structure is a tuple containing two instances of `MetropolisHastingsKernelResults`, which contain various interesting statistics about the kernels applied to the parameter vector."
   ]
  },
  {
   "cell_type": "code",
   "execution_count": 11,
   "id": "8561d92c-6a6c-436f-b5e1-f1650ee893e3",
   "metadata": {},
   "outputs": [
    {
     "name": "stdout",
     "output_type": "stream",
     "text": [
      "new_state:\n",
      "State(alpha_0=<tf.Tensor: shape=(), dtype=float32, numpy=1.1843501>, alpha_1=<tf.Tensor: shape=(), dtype=float32, numpy=2.4595327>, s=<tf.Tensor: shape=(), dtype=int32, numpy=10>)\n",
      "results:\n",
      "(MetropolisHastingsKernelResults(\n",
      "  accepted_results=UncalibratedHamiltonianMonteCarloKernelResults(\n",
      "      log_acceptance_correction=<tf.Tensor: shape=(), dtype=float32, numpy=-6.1093855>,\n",
      "      target_log_prob=<tf.Tensor: shape=(), dtype=float32, numpy=-53.514496>,\n",
      "      grads_target_log_prob=[<tf.Tensor: shape=(), dtype=float32, numpy=3.0339744>, <tf.Tensor: shape=(), dtype=float32, numpy=-6.3186884>],\n",
      "      initial_momentum=[<tf.Tensor: shape=(), dtype=float32, numpy=1.779703>, <tf.Tensor: shape=(), dtype=float32, numpy=1.250512>],\n",
      "      final_momentum=[<tf.Tensor: shape=(), dtype=float32, numpy=-2.2814403>, <tf.Tensor: shape=(), dtype=float32, numpy=-3.4270868>],\n",
      "      step_size=[],\n",
      "      num_leapfrog_steps=[],\n",
      "      seed=[]\n",
      "    ),\n",
      "  is_accepted=<tf.Tensor: shape=(), dtype=bool, numpy=True>,\n",
      "  log_accept_ratio=<tf.Tensor: shape=(), dtype=float32, numpy=1.7160769>,\n",
      "  proposed_state=(<tf.Tensor: shape=(), dtype=float32, numpy=1.1843501>, <tf.Tensor: shape=(), dtype=float32, numpy=2.4595327>),\n",
      "  proposed_results=UncalibratedHamiltonianMonteCarloKernelResults(\n",
      "      log_acceptance_correction=<tf.Tensor: shape=(), dtype=float32, numpy=-6.1093855>,\n",
      "      target_log_prob=<tf.Tensor: shape=(), dtype=float32, numpy=-53.514496>,\n",
      "      grads_target_log_prob=[<tf.Tensor: shape=(), dtype=float32, numpy=3.0339744>, <tf.Tensor: shape=(), dtype=float32, numpy=-6.3186884>],\n",
      "      initial_momentum=[<tf.Tensor: shape=(), dtype=float32, numpy=1.779703>, <tf.Tensor: shape=(), dtype=float32, numpy=1.250512>],\n",
      "      final_momentum=[<tf.Tensor: shape=(), dtype=float32, numpy=-2.2814403>, <tf.Tensor: shape=(), dtype=float32, numpy=-3.4270868>],\n",
      "      step_size=[],\n",
      "      num_leapfrog_steps=[],\n",
      "      seed=<tf.Tensor: shape=(2,), dtype=int32, numpy=array([ 1156505488, -1898779210], dtype=int32)>\n",
      "    ),\n",
      "  extra=[],\n",
      "  seed=<tf.Tensor: shape=(2,), dtype=int32, numpy=array([899415176, 371802257], dtype=int32)>\n",
      "),\n",
      " MetropolisHastingsKernelResults(\n",
      "  accepted_results=UncalibratedRandomWalkResults(\n",
      "      log_acceptance_correction=<tf.Tensor: shape=(), dtype=float32, numpy=0.0>,\n",
      "      target_log_prob=<tf.Tensor: shape=(), dtype=float32, numpy=-53.514496>,\n",
      "      seed=[]\n",
      "    ),\n",
      "  is_accepted=<tf.Tensor: shape=(), dtype=bool, numpy=True>,\n",
      "  log_accept_ratio=<tf.Tensor: shape=(), dtype=float32, numpy=0.0>,\n",
      "  proposed_state=<tf.Tensor: shape=(), dtype=int32, numpy=10>,\n",
      "  proposed_results=UncalibratedRandomWalkResults(\n",
      "      log_acceptance_correction=<tf.Tensor: shape=(), dtype=float32, numpy=0.0>,\n",
      "      target_log_prob=<tf.Tensor: shape=(), dtype=float32, numpy=-53.514496>,\n",
      "      seed=<tf.Tensor: shape=(2,), dtype=int32, numpy=array([-80373006,  26497245], dtype=int32)>\n",
      "    ),\n",
      "  extra=[],\n",
      "  seed=<tf.Tensor: shape=(2,), dtype=int32, numpy=array([1607451869, -853974791], dtype=int32)>\n",
      "))\n"
     ]
    }
   ],
   "source": [
    "new_state, results = compound_kernel(State(1.0, 2.0, 10))\n",
    "print(\"new_state:\")\n",
    "pprint(new_state)\n",
    "print(\"results:\")\n",
    "pprint(results)"
   ]
  },
  {
   "cell_type": "markdown",
   "id": "287bb567-6b35-4cab-96c6-c3c16bfc1ed9",
   "metadata": {},
   "source": [
    "### Running the MCMC algorithm\n",
    "\n",
    "To generate a useful MCMC chain, we must call `compound_kernel` recursively as many times as we need\n",
    "to draw samples from the posterior.  Again, there are various ways to do this, but I've chosen to use\n",
    "`tf.scan` here:"
   ]
  },
  {
   "cell_type": "code",
   "execution_count": 12,
   "id": "419814b3-3b98-40d5-8870-4e764a4de783",
   "metadata": {},
   "outputs": [],
   "source": [
    "@tf.function(jit_compile=True)\n",
    "def run_mcmc(initial_state, num_samples, seed):\n",
    "\n",
    "    def scan_fn(state_and_results, seed):\n",
    "        state, _ = state_and_results\n",
    "        return compound_kernel(state, seed)\n",
    "    \n",
    "    seeds = tfp.random.split_seed(\n",
    "        seed,\n",
    "        n=num_samples,\n",
    "        salt=\"run_mcmc\",\n",
    "    )\n",
    "\n",
    "    # Make the initial results structure\n",
    "    initial_results = (\n",
    "        make_alpha_kernel(initial_state).bootstrap_results(\n",
    "            (initial_state.alpha_0, initial_state.alpha_1)\n",
    "        ),\n",
    "        make_s_kernel(initial_state).bootstrap_results(initial_state.s),\n",
    "    )\n",
    "    \n",
    "    return tf.scan(\n",
    "        fn=scan_fn,\n",
    "        elems=tf.stack(seeds),\n",
    "        initializer=(initial_state, initial_results),\n",
    "    )\n",
    "    \n",
    "    "
   ]
  },
  {
   "cell_type": "markdown",
   "id": "6c3eba8f-c802-4b13-bb1e-45529501a143",
   "metadata": {},
   "source": [
    "#### Run the MCMC\n",
    "\n",
    "We now run the MCMC from a fixed starting position, and with a constant seed for reproducibility.  The acceptance rates of both kernels are outputted below."
   ]
  },
  {
   "cell_type": "code",
   "execution_count": 14,
   "id": "a9537afc-9894-492d-930f-aeda71092bce",
   "metadata": {},
   "outputs": [
    {
     "name": "stdout",
     "output_type": "stream",
     "text": [
      "kernel_alpha acceptance: 0.9093\n",
      "kernel_s acceptance: 0.2754\n"
     ]
    }
   ],
   "source": [
    "samples, results = run_mcmc(\n",
    "    State(alpha_0=1.0, alpha_1=3.0, s=5),\n",
    "    num_samples=10000,\n",
    "    seed=[0,1],\n",
    ")\n",
    "\n",
    "print(\"kernel_alpha acceptance:\", np.mean(results[0].is_accepted))\n",
    "print(\"kernel_s acceptance:\", np.mean(results[1].is_accepted))"
   ]
  },
  {
   "cell_type": "code",
   "execution_count": 15,
   "id": "58eb2402-017b-4eae-8d93-356923866b44",
   "metadata": {},
   "outputs": [
    {
     "data": {
      "text/plain": [
       "[<matplotlib.lines.Line2D at 0x7f62644d39d0>]"
      ]
     },
     "execution_count": 15,
     "metadata": {},
     "output_type": "execute_result"
    },
    {
     "data": {
      "image/png": "[encoded data removed]",
      "text/plain": [
       "<Figure size 1080x360 with 3 Axes>"
      ]
     },
     "metadata": {
      "needs_background": "light"
     },
     "output_type": "display_data"
    }
   ],
   "source": [
    "fig, ax = plt.subplots(1, 3, figsize=(15,5))\n",
    "\n",
    "ax[0].plot(samples.alpha_0)\n",
    "ax[1].plot(samples.alpha_1)\n",
    "ax[2].plot(samples.s)"
   ]
  },
  {
   "cell_type": "markdown",
   "id": "d258814a-023a-4206-9737-0162ab053a5b",
   "metadata": {},
   "source": [
    "## Further enhancements for the next tutorial\n",
    "\n",
    "1. The algorithm above uses a fixed step-size HMC kernel.  In practice, we would want to use an adaptive HMC kernel which will require making use of the HMC `results` structure from the previous `compound_kernel` invocation.  We do this so that we can forward all the adaptive metrics used to set both the step-size, and ultimately the mass matrix too.\n",
    "2. `compound_kernel` calls `bootstrap_results` before `one_step` for each kernel in the MCMC scheme.  This is potentially a waste of computing resource, since the `target_log_prob` field could be cached between the two kernel `results` structures, obviating the need for computation of both the \"current\" and \"proposed\" target densities in the Metropolis-Hastings accept/reject ratio.  \n"
   ]
  }
 ],
 "metadata": {
  "kernelspec": {
   "display_name": "Python 3 (ipykernel)",
   "language": "python",
   "name": "python3"
  },
  "language_info": {
   "codemirror_mode": {
    "name": "ipython",
    "version": 3
   },
   "file_extension": ".py",
   "mimetype": "text/x-python",
   "name": "python",
   "nbconvert_exporter": "python",
   "pygments_lexer": "ipython3",
   "version": "3.8.12"
  }
 },
 "nbformat": 4,
 "nbformat_minor": 5
}
