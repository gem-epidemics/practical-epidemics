{
 "cells": [
  {
   "cell_type": "markdown",
   "id": "f99d2f58-aa0c-48e8-9ffe-c0bd1fe9c737",
   "metadata": {
    "slideshow": {
     "slide_type": "slide"
    },
    "tags": []
   },
   "source": [
    "# Computing with TensorFlow\n",
    "\n",
    "_Author_: Chris Jewell <c.jewell@lancaster.ac.uk>\n",
    "\n",
    "_Date_: 2022-03-22\n",
    "\n",
    "_Copyright_: Chris Jewell 2022\n",
    "\n",
    "\n",
    "----"
   ]
  },
  {
   "cell_type": "markdown",
   "id": "cc777246-b4e5-4f32-99da-23321845925c",
   "metadata": {
    "slideshow": {
     "slide_type": "notes"
    },
    "tags": []
   },
   "source": [
    "This notebook presents a brief introduction to using [TensorFlow](https://tensorflow.org) as a general compute engine for number crunching.  It is written very much from my experience of using the library to implement complex statistical models, and I'll try to highlight features of the library that lead to rapid implementation _and_ rapid runtime.\n",
    "\n",
    "This guide differs from most other guides and tutorials on [TensorFlow](https://tensorflow.org) by focusing on fundamental computing, such as vectorised and linear algebra, control flow, and automatic parallelisation.  I will _not_ cover use of the high-level machine learning functions provided by Keras, or the probabilistic programming language features provided by [TensorFlow Probability](https://tensorflow.org/probability). \n",
    "\n",
    "__Pre-requisites__:\n",
    "\n",
    "* Familiarity with Python\n",
    "* Familiarity with Numpy"
   ]
  },
  {
   "cell_type": "markdown",
   "id": "99ec618b-03ae-4f9a-9169-92e687a87e87",
   "metadata": {
    "slideshow": {
     "slide_type": "slide"
    },
    "tags": []
   },
   "source": [
    "## What does TensorFlow do?\n",
    "\n",
    "From the [TensorFlow basics guide](https://www.tensorflow.org/guide/basics): \n",
    "\n",
    "> TensorFlow is an end-to-end platform for machine learning. It supports the following:\n",
    ">\n",
    "> * Multidimensional-array based numeric computation (similar to NumPy.)\n",
    "> * GPU and distributed processing\n",
    "> * Automatic differentiation\n",
    "> * Model construction, training, and export\n",
    "\n",
    "TensorFlow allows you to express your computation as a graph, leaving the hardware implementation to the library.  This leads to\n",
    "* rapid development\n",
    "* rapid computation\n",
    "* reduced bugs!"
   ]
  },
  {
   "cell_type": "markdown",
   "id": "26cbabfa-c296-4d66-8852-bb37b19a0a29",
   "metadata": {
    "slideshow": {
     "slide_type": "slide"
    },
    "tags": []
   },
   "source": [
    "## TensorFlow library structure\n",
    "\n",
    "TensorFlow provides a rich set of [libraries](https://tensorflow.org/resources/libraries-extensions) that sit on top of the compute layer.  \n",
    "\n",
    "__NB__: Don't get confused, the Keras ML layer is part of TensorFlow core library!\n",
    "\n",
    "<div>\n",
    "<img src=\"https://gitlab.com/chrism0dwk/practical-epidemics/-/raw/master/site/source/notebooks/TF_diagram.png\" width=\"500\" alt=\"TensorFlow library organisation\"/>\n",
    "</div>"
   ]
  },
  {
   "cell_type": "markdown",
   "id": "09c236f1-6bac-44aa-8563-a2ec9bf93e67",
   "metadata": {
    "slideshow": {
     "slide_type": "slide"
    },
    "tags": []
   },
   "source": [
    "## Installing TensorFlow\n",
    "\n",
    "TensorFlow has bindings for a wide range of programming languages.  The Python API is most developed, so that is what we will use here.\n",
    "\n",
    "The latest release version (v2.8.0 as of 2022-03-22) of Tensorflow is best installed using `pip`\n",
    "```bash\n",
    "pip install tensorflow\n",
    "```\n",
    "with bleeding-edge nightly development versions available too\n",
    "```bash\n",
    "pip install tf-nightly\n",
    "```\n",
    "\n",
    "__NB__. [Colab](https://colab.research.google.com) users already get TF installed in the standard instance!"
   ]
  },
  {
   "cell_type": "markdown",
   "id": "5aba78aa-2fdd-4316-b5cb-33badf2b0b21",
   "metadata": {
    "slideshow": {
     "slide_type": "slide"
    },
    "tags": []
   },
   "source": [
    "## Importing TensorFlow\n",
    "\n",
    "We can import TensorFlow in the usual Python way, and query the hardware devices available for TF to use"
   ]
  },
  {
   "cell_type": "code",
   "execution_count": 1,
   "id": "3fe550de-5ebe-4e75-aff7-d571b1c96c5d",
   "metadata": {},
   "outputs": [
    {
     "name": "stderr",
     "output_type": "stream",
     "text": [
      "2022-03-23 13:08:03.402679: E tensorflow/stream_executor/cuda/cuda_driver.cc:271] failed call to cuInit: CUDA_ERROR_UNKNOWN: unknown error\n",
      "2022-03-23 13:08:03.402708: I tensorflow/stream_executor/cuda/cuda_diagnostics.cc:169] retrieving CUDA diagnostic information for host: diamond\n",
      "2022-03-23 13:08:03.402714: I tensorflow/stream_executor/cuda/cuda_diagnostics.cc:176] hostname: diamond\n",
      "2022-03-23 13:08:03.402758: I tensorflow/stream_executor/cuda/cuda_diagnostics.cc:200] libcuda reported version is: 465.19.1\n",
      "2022-03-23 13:08:03.402774: I tensorflow/stream_executor/cuda/cuda_diagnostics.cc:204] kernel reported version is: 465.19.1\n",
      "2022-03-23 13:08:03.402778: I tensorflow/stream_executor/cuda/cuda_diagnostics.cc:310] kernel version seems to match DSO: 465.19.1\n",
      "2022-03-23 13:08:03.402989: I tensorflow/core/platform/cpu_feature_guard.cc:151] This TensorFlow binary is optimized with oneAPI Deep Neural Network Library (oneDNN) to use the following CPU instructions in performance-critical operations:  AVX2 FMA\n",
      "To enable them in other operations, rebuild TensorFlow with the appropriate compiler flags.\n"
     ]
    },
    {
     "data": {
      "text/plain": [
       "[LogicalDevice(name='/device:CPU:0', device_type='CPU')]"
      ]
     },
     "execution_count": 1,
     "metadata": {},
     "output_type": "execute_result"
    }
   ],
   "source": [
    "import tensorflow as tf\n",
    "\n",
    "tf.config.list_logical_devices()"
   ]
  },
  {
   "cell_type": "markdown",
   "id": "bbb6685d-7a2b-4def-bf23-565ee6047605",
   "metadata": {
    "slideshow": {
     "slide_type": "slide"
    },
    "tags": []
   },
   "source": [
    "## Tensors\n",
    "\n",
    "TensorFlow operators act on data stored as _Tensors_, which are\n",
    "* multidimensional arrays containing data _of the same type_\n",
    "* immutable -- you cannot directly modify them (see later!)"
   ]
  },
  {
   "cell_type": "code",
   "execution_count": 2,
   "id": "911bed31-75ea-4095-ab5e-962eda240ac7",
   "metadata": {
    "slideshow": {
     "slide_type": "skip"
    },
    "tags": []
   },
   "outputs": [],
   "source": [
    "# Skip just to hide library errors if GPU not found\n",
    "import tensorflow as tf\n",
    "x = tf.constant(3)"
   ]
  },
  {
   "cell_type": "code",
   "execution_count": 3,
   "id": "094b28f9-0be3-4756-88b9-b04ae287414b",
   "metadata": {},
   "outputs": [
    {
     "name": "stdout",
     "output_type": "stream",
     "text": [
      "tf.Tensor(\n",
      "[[1. 2. 3.]\n",
      " [4. 5. 6.]], shape=(2, 3), dtype=float32)\n"
     ]
    }
   ],
   "source": [
    "import tensorflow as tf\n",
    "\n",
    "x = tf.constant([[1., 2., 3.],\n",
    "                 [4., 5., 6.]])\n",
    "print(x)"
   ]
  },
  {
   "cell_type": "markdown",
   "id": "4a65b432-9940-48be-a55c-06934d5e9a98",
   "metadata": {
    "slideshow": {
     "slide_type": "subslide"
    },
    "tags": []
   },
   "source": [
    "### Tensor properties\n",
    "\n",
    "Tensors have two _important_ properties similar to Numpy arrays:\n",
    "* `shape` gives the size of the Tensor along each axis\n",
    "* `dtype` gives the type of the data stored in the Tensor (float32, float64, int32, int64, etc)"
   ]
  },
  {
   "cell_type": "code",
   "execution_count": 4,
   "id": "42613349-4e06-43f1-bee2-ac8048d727b4",
   "metadata": {},
   "outputs": [
    {
     "name": "stdout",
     "output_type": "stream",
     "text": [
      "Data type: <dtype: 'float32'>\n",
      "Tensor shape: (2, 3)\n"
     ]
    }
   ],
   "source": [
    "print(\"Data type:\", x.dtype)\n",
    "print(\"Tensor shape:\", x.shape)"
   ]
  },
  {
   "cell_type": "markdown",
   "id": "b4cfd592-1c03-4758-b93b-17d761d91e6e",
   "metadata": {
    "slideshow": {
     "slide_type": "subslide"
    },
    "tags": []
   },
   "source": [
    "## Tensor operations\n",
    "\n",
    "Tensors may be subject to operations, similar to Numpy arrays.  e.g."
   ]
  },
  {
   "cell_type": "code",
   "execution_count": 5,
   "id": "73b33134-a3da-4fc4-bfe4-de0f86955e63",
   "metadata": {},
   "outputs": [
    {
     "data": {
      "text/plain": [
       "<tf.Tensor: shape=(2, 3), dtype=float32, numpy=\n",
       "array([[3., 4., 5.],\n",
       "       [6., 7., 8.]], dtype=float32)>"
      ]
     },
     "execution_count": 5,
     "metadata": {},
     "output_type": "execute_result"
    }
   ],
   "source": [
    "x + 2"
   ]
  },
  {
   "cell_type": "code",
   "execution_count": 6,
   "id": "759d470a-9fcf-4795-9276-1348b26913cc",
   "metadata": {},
   "outputs": [
    {
     "data": {
      "text/plain": [
       "<tf.Tensor: shape=(2, 3), dtype=float32, numpy=\n",
       "array([[ 6., 12., 18.],\n",
       "       [24., 30., 36.]], dtype=float32)>"
      ]
     },
     "execution_count": 6,
     "metadata": {},
     "output_type": "execute_result"
    }
   ],
   "source": [
    "x * 6"
   ]
  },
  {
   "cell_type": "code",
   "execution_count": 7,
   "id": "2f764357-420e-4b6f-9c7f-c8510bd7dcf3",
   "metadata": {
    "slideshow": {
     "slide_type": "subslide"
    },
    "tags": []
   },
   "outputs": [
    {
     "data": {
      "text/plain": [
       "<tf.Tensor: shape=(3, 2), dtype=float32, numpy=\n",
       "array([[1., 4.],\n",
       "       [2., 5.],\n",
       "       [3., 6.]], dtype=float32)>"
      ]
     },
     "execution_count": 7,
     "metadata": {},
     "output_type": "execute_result"
    }
   ],
   "source": [
    "tf.transpose(x)"
   ]
  },
  {
   "cell_type": "code",
   "execution_count": 8,
   "id": "615d05ec-df74-47da-a599-438492431669",
   "metadata": {
    "slideshow": {
     "slide_type": "subslide"
    },
    "tags": []
   },
   "outputs": [
    {
     "data": {
      "text/plain": [
       "<tf.Tensor: shape=(), dtype=float32, numpy=21.0>"
      ]
     },
     "execution_count": 8,
     "metadata": {},
     "output_type": "execute_result"
    }
   ],
   "source": [
    "tf.reduce_sum(x)"
   ]
  },
  {
   "cell_type": "code",
   "execution_count": 9,
   "id": "068cbd4b-1ad7-4a82-b764-04c7ea96dccc",
   "metadata": {},
   "outputs": [
    {
     "data": {
      "text/plain": [
       "<tf.Tensor: shape=(3,), dtype=float32, numpy=array([5., 7., 9.], dtype=float32)>"
      ]
     },
     "execution_count": 9,
     "metadata": {},
     "output_type": "execute_result"
    }
   ],
   "source": [
    "tf.reduce_sum(x, axis=0) # Reduce over dimension 0, i.e. colsums"
   ]
  },
  {
   "cell_type": "code",
   "execution_count": 10,
   "id": "669567e8-fcff-47ff-a537-ea48d7b4f9fe",
   "metadata": {},
   "outputs": [
    {
     "data": {
      "text/plain": [
       "<tf.Tensor: shape=(2,), dtype=float32, numpy=array([ 6., 15.], dtype=float32)>"
      ]
     },
     "execution_count": 10,
     "metadata": {},
     "output_type": "execute_result"
    }
   ],
   "source": [
    "tf.reduce_sum(x, axis=1) # Reduce over dimension 1, i.e. rowsums"
   ]
  },
  {
   "cell_type": "markdown",
   "id": "b1afdd17-c866-4b22-8b50-0ca9ce9d24b9",
   "metadata": {
    "slideshow": {
     "slide_type": "subslide"
    },
    "tags": []
   },
   "source": [
    "## Shape manipulation\n",
    "\n",
    "Tensor shapes may be manipulated, remembering that elements in the _leftmost_ dimension are stored contiguously in memory.  Reshapes are a fast operation, as only array metadata needs to be updated."
   ]
  },
  {
   "cell_type": "code",
   "execution_count": 11,
   "id": "03ec17c0-0525-4f97-83fb-1ad6db47a9fb",
   "metadata": {},
   "outputs": [
    {
     "data": {
      "text/plain": [
       "<tf.Tensor: shape=(3, 2), dtype=float32, numpy=\n",
       "array([[1., 2.],\n",
       "       [3., 4.],\n",
       "       [5., 6.]], dtype=float32)>"
      ]
     },
     "execution_count": 11,
     "metadata": {},
     "output_type": "execute_result"
    }
   ],
   "source": [
    "tf.reshape(x, shape=(3, 2))"
   ]
  },
  {
   "cell_type": "code",
   "execution_count": 12,
   "id": "30ad0d21-4238-4ec4-b422-47e6b21ed5ad",
   "metadata": {},
   "outputs": [
    {
     "data": {
      "text/plain": [
       "<tf.Tensor: shape=(6,), dtype=float32, numpy=array([1., 2., 3., 4., 5., 6.], dtype=float32)>"
      ]
     },
     "execution_count": 12,
     "metadata": {},
     "output_type": "execute_result"
    }
   ],
   "source": [
    "tf.reshape(x, shape=-1) # special notation to `flatten` a Tensor"
   ]
  },
  {
   "cell_type": "markdown",
   "id": "513df27f-ed45-47d0-bced-03e6b301615b",
   "metadata": {
    "slideshow": {
     "slide_type": "subslide"
    },
    "tags": []
   },
   "source": [
    "and stacked or concatenated in the normal Numpy way"
   ]
  },
  {
   "cell_type": "code",
   "execution_count": 13,
   "id": "a12c8d6c-5113-44c2-bcb6-2a13dddf54cc",
   "metadata": {},
   "outputs": [
    {
     "data": {
      "text/plain": [
       "<tf.Tensor: shape=(4, 3), dtype=float32, numpy=\n",
       "array([[ 1.,  2.,  3.],\n",
       "       [ 4.,  5.,  6.],\n",
       "       [ 7.,  8.,  9.],\n",
       "       [10., 11., 12.]], dtype=float32)>"
      ]
     },
     "execution_count": 13,
     "metadata": {},
     "output_type": "execute_result"
    }
   ],
   "source": [
    "y = tf.constant([[7., 8., 9.],\n",
    "                 [10., 11., 12.]])\n",
    "tf.concat([x, y], axis=0) # concatenate along first dimension"
   ]
  },
  {
   "cell_type": "code",
   "execution_count": 14,
   "id": "2066f566-f3cd-43da-b218-08e662e2b7fc",
   "metadata": {},
   "outputs": [
    {
     "data": {
      "text/plain": [
       "<tf.Tensor: shape=(2, 2, 3), dtype=float32, numpy=\n",
       "array([[[ 1.,  2.,  3.],\n",
       "        [ 4.,  5.,  6.]],\n",
       "\n",
       "       [[ 7.,  8.,  9.],\n",
       "        [10., 11., 12.]]], dtype=float32)>"
      ]
     },
     "execution_count": 14,
     "metadata": {},
     "output_type": "execute_result"
    }
   ],
   "source": [
    "tf.stack([x, y], axis=0)  # Stack introduces a new dimension"
   ]
  },
  {
   "cell_type": "markdown",
   "id": "f42c5ef3-801d-44fc-aa3a-f1350d4841fe",
   "metadata": {
    "slideshow": {
     "slide_type": "slide"
    },
    "tags": []
   },
   "source": [
    "## Tensor `dtype`\n",
    "\n",
    "When computing with Tensors, `dtype` and `shape` is __everything__!  TensorFlow is _really_ fussy about `dtype` -- there is no automatic type promotion/demotion as in Numpy, R, C++, etc.!  \n",
    "\n",
    "Fortunately we can control `dtype` when we create a Tensor, such as the following 1-row matrix:"
   ]
  },
  {
   "cell_type": "code",
   "execution_count": 15,
   "id": "aa8c8f3c-8363-4810-b019-9579c902b7c2",
   "metadata": {},
   "outputs": [],
   "source": [
    "z = tf.constant([[13., 14., 15.]], dtype=tf.float64)"
   ]
  },
  {
   "cell_type": "code",
   "execution_count": 16,
   "id": "31c16b13-9119-40d0-9fb5-53277bd6a068",
   "metadata": {
    "slideshow": {
     "slide_type": "subslide"
    },
    "tags": []
   },
   "outputs": [
    {
     "name": "stdout",
     "output_type": "stream",
     "text": [
      "Traceback (most recent call last):\n",
      "  File \"/tmp/ipykernel_1278309/1295964305.py\", line 4, in <module>\n",
      "    tf.concat([x, z], axis=0)  # This fails as x.dtype == tf.float32 but z.dtype == tf.float64\n",
      "  File \"/home/jewellcp/Documents/Projects/practical-epidemics/.venv/lib/python3.8/site-packages/tensorflow/python/util/traceback_utils.py\", line 153, in error_handler\n",
      "    raise e.with_traceback(filtered_tb) from None\n",
      "  File \"/home/jewellcp/Documents/Projects/practical-epidemics/.venv/lib/python3.8/site-packages/tensorflow/python/framework/ops.py\", line 7186, in raise_from_not_ok_status\n",
      "    raise core._status_to_exception(e) from None  # pylint: disable=protected-access\n",
      "tensorflow.python.framework.errors_impl.InvalidArgumentError: cannot compute ConcatV2 as input #1(zero-based) was expected to be a float tensor but is a double tensor [Op:ConcatV2] name: concat\n",
      "\n"
     ]
    }
   ],
   "source": [
    "import traceback \n",
    "\n",
    "try:\n",
    "    tf.concat([x, z], axis=0)  # This fails as x.dtype == tf.float32 but z.dtype == tf.float64\n",
    "except tf.errors.InvalidArgumentError as e:\n",
    "    print(traceback.format_exc())"
   ]
  },
  {
   "cell_type": "markdown",
   "id": "d263232a-47d2-4538-9870-6e6f6b46d8ac",
   "metadata": {
    "slideshow": {
     "slide_type": "subslide"
    },
    "tags": []
   },
   "source": [
    "This operation failed because `x.dtype == tf.float32` but `z.dtype == tf.float64`.  If needs be, we can cast Tensors to different `dtypes`"
   ]
  },
  {
   "cell_type": "code",
   "execution_count": 17,
   "id": "6cf5bb08-fdc0-4947-bea4-ad2d1667c5bc",
   "metadata": {},
   "outputs": [
    {
     "data": {
      "text/plain": [
       "<tf.Tensor: shape=(3, 3), dtype=float64, numpy=\n",
       "array([[ 1.,  2.,  3.],\n",
       "       [ 4.,  5.,  6.],\n",
       "       [13., 14., 15.]])>"
      ]
     },
     "execution_count": 17,
     "metadata": {},
     "output_type": "execute_result"
    }
   ],
   "source": [
    "tf.concat([tf.cast(x, z.dtype),  # works, as we cast x to z's `dtype`\n",
    "           z],\n",
    "          axis=0)"
   ]
  },
  {
   "cell_type": "markdown",
   "id": "28d03df1-fff2-4dd3-84ee-0452aac1479f",
   "metadata": {},
   "source": [
    "though generally this should be avoided if possible as it hurts performance."
   ]
  },
  {
   "cell_type": "markdown",
   "id": "1aea52f1-fb76-4d00-a6c1-b7b7470d2c66",
   "metadata": {
    "slideshow": {
     "slide_type": "slide"
    },
    "tags": []
   },
   "source": [
    "## Tensor `shape`\n",
    "\n",
    "Tensor `shape` is equally important.  Shapes of binary operators must be _compatible_ -- they must obey [Numpy broadcasting rules](https://numpy.org/doc/stable/user/basics.broadcasting.html).\n",
    "\n",
    "For example this raises an `InvalidArgumentError`, because `x.shape = (2, 3)` is not compatible with `y.shape == (2,)`"
   ]
  },
  {
   "cell_type": "code",
   "execution_count": 18,
   "id": "a6bf10e1-f702-493e-8d58-af9405952d64",
   "metadata": {},
   "outputs": [
    {
     "name": "stdout",
     "output_type": "stream",
     "text": [
      "Traceback (most recent call last):\n",
      "  File \"/tmp/ipykernel_1278309/969305608.py\", line 5, in <module>\n",
      "    x * y\n",
      "  File \"/home/jewellcp/Documents/Projects/practical-epidemics/.venv/lib/python3.8/site-packages/tensorflow/python/util/traceback_utils.py\", line 153, in error_handler\n",
      "    raise e.with_traceback(filtered_tb) from None\n",
      "  File \"/home/jewellcp/Documents/Projects/practical-epidemics/.venv/lib/python3.8/site-packages/tensorflow/python/framework/ops.py\", line 7186, in raise_from_not_ok_status\n",
      "    raise core._status_to_exception(e) from None  # pylint: disable=protected-access\n",
      "tensorflow.python.framework.errors_impl.InvalidArgumentError: Incompatible shapes: [2,3] vs. [2] [Op:Mul]\n",
      "\n"
     ]
    }
   ],
   "source": [
    "x = tf.constant([[1., 2., 3.],\n",
    "                 [4., 5., 6.]])\n",
    "y = tf.constant([7., 8.])\n",
    "try:\n",
    "    x * y\n",
    "except tf.errors.InvalidArgumentError:\n",
    "    print(traceback.format_exc())"
   ]
  },
  {
   "cell_type": "markdown",
   "id": "c8282765-db71-40c6-bcca-65b931f6b53d",
   "metadata": {
    "slideshow": {
     "slide_type": "subslide"
    },
    "tags": []
   },
   "source": [
    "### Broadcasting\n",
    "\n",
    "But [broadcasting](https://numpy.org/doc/stable/user/basics.broadcasting.html) allows us to automatically operate on different shapes, provided the shapes broadcast together.  This allows some _incredibly_ concise code to express computations which in other languages would be more verbose.\n",
    "\n",
    "For example, I can calculate the outer product of two vectors by altering their shapes to 1-column and 1-row matrices respectively:"
   ]
  },
  {
   "cell_type": "code",
   "execution_count": 19,
   "id": "6b10fe0d-be5c-4e22-b6f9-977387034fab",
   "metadata": {},
   "outputs": [
    {
     "data": {
      "text/plain": [
       "<tf.Tensor: shape=(5, 5), dtype=int32, numpy=\n",
       "array([[ 0,  0,  0,  0,  0],\n",
       "       [ 5,  6,  7,  8,  9],\n",
       "       [10, 12, 14, 16, 18],\n",
       "       [15, 18, 21, 24, 27],\n",
       "       [20, 24, 28, 32, 36]], dtype=int32)>"
      ]
     },
     "execution_count": 19,
     "metadata": {},
     "output_type": "execute_result"
    }
   ],
   "source": [
    "a = tf.range(5)  # [0, 1, 2, 3, 4]\n",
    "b = tf.range(5, 10)  # [5, 6, 7, 8, 9]\n",
    "\n",
    "a[:, tf.newaxis] * b[tf.newaxis, :]"
   ]
  },
  {
   "cell_type": "markdown",
   "id": "e2dc84fa-7c28-4f8a-9b87-197097a4e890",
   "metadata": {},
   "source": [
    "For more information, see the [TensorFlow basics guide](https://www.tensorflow.org/guide/tensor#about_shapes)."
   ]
  },
  {
   "cell_type": "markdown",
   "id": "da83a53a-8bac-42af-b60d-7f5c048a846d",
   "metadata": {
    "slideshow": {
     "slide_type": "slide"
    },
    "tags": []
   },
   "source": [
    "## Indexing Tensors\n",
    "\n",
    "Indexing is an extensive topic, and readers are referred to the [TensorFlow Tensor Slicing Guide](https://www.tensorflow.org/guide/tensor_slicing) for an extensive discussion.\n",
    "\n",
    "Tensors may be indexed using Numpy-style integer or slice notation:"
   ]
  },
  {
   "cell_type": "code",
   "execution_count": 20,
   "id": "a81d0248-99f9-4450-874d-3f438aec3dec",
   "metadata": {},
   "outputs": [
    {
     "name": "stdout",
     "output_type": "stream",
     "text": [
      "Extract x[2, 2] tf.Tensor(11.0, shape=(), dtype=float32)\n",
      "Extract row 1: tf.Tensor([5. 6. 7. 8.], shape=(4,), dtype=float32)\n",
      "Extract columns 2 and 3 tf.Tensor(\n",
      "[[ 3.  4.]\n",
      " [ 7.  8.]\n",
      " [11. 12.]], shape=(3, 2), dtype=float32)\n"
     ]
    }
   ],
   "source": [
    "x = tf.constant([[1., 2., 3., 4.],\n",
    "                 [5., 6., 7., 8.],\n",
    "                 [9., 10., 11., 12.]])\n",
    "print(\"Extract x[2, 2]\", x[2, 2])\n",
    "print(\"Extract row 1:\", x[1, :])\n",
    "print(\"Extract columns 2 and 3\", x[:, 2:4])\n"
   ]
  },
  {
   "cell_type": "markdown",
   "id": "5be80e9a-a60d-44b7-9e60-83b57620b0c8",
   "metadata": {
    "slideshow": {
     "slide_type": "subslide"
    },
    "tags": []
   },
   "source": [
    "However, indexing using Tensors of indices will not work"
   ]
  },
  {
   "cell_type": "code",
   "execution_count": 21,
   "id": "906e5ff9-c2af-43e8-ba38-bf8899d802d0",
   "metadata": {},
   "outputs": [
    {
     "name": "stdout",
     "output_type": "stream",
     "text": [
      "Traceback (most recent call last):\n",
      "  File \"/tmp/ipykernel_1278309/201978485.py\", line 3, in <module>\n",
      "    x[:, col_idx]\n",
      "  File \"/home/jewellcp/Documents/Projects/practical-epidemics/.venv/lib/python3.8/site-packages/tensorflow/python/util/traceback_utils.py\", line 153, in error_handler\n",
      "    raise e.with_traceback(filtered_tb) from None\n",
      "  File \"/home/jewellcp/Documents/Projects/practical-epidemics/.venv/lib/python3.8/site-packages/tensorflow/python/ops/array_ops.py\", line 899, in _check_index\n",
      "    raise TypeError(_SLICE_TYPE_ERROR + \", got {!r}\".format(idx))\n",
      "TypeError: Only integers, slices (`:`), ellipsis (`...`), tf.newaxis (`None`) and scalar tf.int32/tf.int64 tensors are valid indices, got <tf.Tensor: shape=(3,), dtype=int32, numpy=array([0, 2, 3], dtype=int32)>\n",
      "\n"
     ]
    }
   ],
   "source": [
    "col_idx = tf.constant([0, 2, 3])\n",
    "try:\n",
    "    x[:, col_idx]\n",
    "except TypeError:\n",
    "    print(traceback.format_exc())"
   ]
  },
  {
   "cell_type": "markdown",
   "id": "3288eea0-480c-47cd-9841-a1cc314404ef",
   "metadata": {
    "slideshow": {
     "slide_type": "subslide"
    },
    "tags": []
   },
   "source": [
    "### `tf.gather` and `tf.gather_nd`\n",
    "\n",
    "Instead of list indexing, we can use `tf.gather` to index on a single dimension, for example to extract columns:"
   ]
  },
  {
   "cell_type": "code",
   "execution_count": 22,
   "id": "4423c3d2-a31e-4241-91bc-cf59344e6993",
   "metadata": {},
   "outputs": [
    {
     "data": {
      "text/plain": [
       "<tf.Tensor: shape=(3, 3), dtype=float32, numpy=\n",
       "array([[ 1.,  3.,  4.],\n",
       "       [ 5.,  7.,  8.],\n",
       "       [ 9., 11., 12.]], dtype=float32)>"
      ]
     },
     "execution_count": 22,
     "metadata": {},
     "output_type": "execute_result"
    }
   ],
   "source": [
    "tf.gather(x, indices=col_idx, axis=1)  "
   ]
  },
  {
   "cell_type": "markdown",
   "id": "bfdeb258-8131-42d4-b523-b08a87d7bd9c",
   "metadata": {},
   "source": [
    "or to gather specific indices"
   ]
  },
  {
   "cell_type": "code",
   "execution_count": 23,
   "id": "d9d2b8a3-8e94-4218-ac27-feb9457f9843",
   "metadata": {},
   "outputs": [
    {
     "data": {
      "text/plain": [
       "<tf.Tensor: shape=(3,), dtype=float32, numpy=array([ 2., 12.,  1.], dtype=float32)>"
      ]
     },
     "execution_count": 23,
     "metadata": {},
     "output_type": "execute_result"
    }
   ],
   "source": [
    "indices = tf.constant([[0, 1], [2, 3], [0, 0]])\n",
    "tf.gather_nd(x, indices=indices)"
   ]
  },
  {
   "cell_type": "markdown",
   "id": "96d61767-528f-4d6c-8af4-fd781f00aff8",
   "metadata": {
    "slideshow": {
     "slide_type": "slide"
    },
    "tags": []
   },
   "source": [
    "## Updating Tensors\n",
    "\n",
    "Tensors are immutable -- we cannot assign to arbitrary elements like we can with Numpy.  So, for example,"
   ]
  },
  {
   "cell_type": "code",
   "execution_count": 24,
   "id": "2d66f7fd-b7ed-4967-a26b-2cbc2a3223d9",
   "metadata": {},
   "outputs": [
    {
     "name": "stdout",
     "output_type": "stream",
     "text": [
      "'tensorflow.python.framework.ops.EagerTensor' object does not support item assignment\n"
     ]
    }
   ],
   "source": [
    "try:\n",
    "    x[2, 3] = 16.0\n",
    "except TypeError as e:\n",
    "    print(e)"
   ]
  },
  {
   "cell_type": "markdown",
   "id": "cedb18d3-c24f-44e0-8f10-a979988465ae",
   "metadata": {},
   "source": [
    "raises a `TypeError`."
   ]
  },
  {
   "cell_type": "markdown",
   "id": "6f84b6b5-13b9-40fd-aa6a-3a2ca6dce1f1",
   "metadata": {
    "slideshow": {
     "slide_type": "subslide"
    },
    "tags": []
   },
   "source": [
    "Instead, however, we can use the `tf.tensor_scatter_nd_*` functions to add, subtract, or replace elements.  So our example should be"
   ]
  },
  {
   "cell_type": "code",
   "execution_count": 25,
   "id": "dcd0acd0-e6fa-4b7f-ac94-cd8a608d0b38",
   "metadata": {},
   "outputs": [],
   "source": [
    "new_x = tf.tensor_scatter_nd_update(x, indices=[[2, 3]], updates=[16.0])"
   ]
  },
  {
   "cell_type": "markdown",
   "id": "c63c67ef-7e47-48de-aad4-65557c829d5d",
   "metadata": {},
   "source": [
    "__NB__ `tf.tensor_scatter_nd_update` returns a new `new_x`, but wherever possible the memory belonging to the old `x` will be reused to avoid unnecessary copying of data."
   ]
  },
  {
   "cell_type": "markdown",
   "id": "6908fcbb-ede9-4478-9ace-326a93d31dfa",
   "metadata": {},
   "source": [
    "## Converting between TensorFlow and Numpy\n",
    "\n",
    "TensorFlow allows conversion to and from Numpy arrays using `tf.convert_to_tensor` and `Tensor.numpy()` respectively"
   ]
  },
  {
   "cell_type": "code",
   "execution_count": 26,
   "id": "60a65070-1196-4817-baa9-a5cc2664ba36",
   "metadata": {},
   "outputs": [
    {
     "data": {
      "text/plain": [
       "array([[-1.78708352, -1.6118898 , -0.10471066],\n",
       "       [-3.53953039, -0.41078817, -0.5490035 ]])"
      ]
     },
     "execution_count": 26,
     "metadata": {},
     "output_type": "execute_result"
    }
   ],
   "source": [
    "import numpy as np\n",
    "\n",
    "foo = np.random.uniform(size=[2,3])\n",
    "\n",
    "foo_tf = tf.convert_to_tensor(foo)\n",
    "bar_tf = tf.math.log(foo_tf)\n",
    "\n",
    "bar_tf.numpy()"
   ]
  },
  {
   "cell_type": "markdown",
   "id": "42814ba3-a0cb-4246-8409-eabc4d6c4daf",
   "metadata": {
    "slideshow": {
     "slide_type": "slide"
    },
    "tags": []
   },
   "source": [
    "## Computing gradients\n",
    "\n",
    "One of the most powerful features of Tensorflow is Autodiff.  Gradients may be calculated using the `tf.GradientTape` context manager.\n",
    "\n",
    "The Gradient Tape records the operations performed in a particular calculation, enabling [back-propagation](https://en.wikipedia.org/wiki/Backpropagation) auto-differentiation.\n",
    "\n",
    "For example, to record\n",
    "$$\\frac{\\mathrm{d} x^2}{\\mathrm{d} x} = 2x$$\n",
    "we first record the tape"
   ]
  },
  {
   "cell_type": "code",
   "execution_count": 27,
   "id": "972c4048-0570-4541-a32b-416cfc6ce577",
   "metadata": {},
   "outputs": [],
   "source": [
    "x = tf.constant(3.0)\n",
    "\n",
    "with tf.GradientTape() as tape:\n",
    "    tape.watch(x)\n",
    "    y = x**2"
   ]
  },
  {
   "cell_type": "markdown",
   "id": "a1d8d9b6-2f5c-4f1c-8386-0c444b698138",
   "metadata": {},
   "source": [
    "then use it to calculate our required gradient"
   ]
  },
  {
   "cell_type": "code",
   "execution_count": 28,
   "id": "53446914-f44c-4100-b1d6-369301a03695",
   "metadata": {},
   "outputs": [
    {
     "data": {
      "text/plain": [
       "<tf.Tensor: shape=(), dtype=float32, numpy=6.0>"
      ]
     },
     "execution_count": 28,
     "metadata": {},
     "output_type": "execute_result"
    }
   ],
   "source": [
    "tape.gradient(target=y, sources=x)"
   ]
  },
  {
   "cell_type": "markdown",
   "id": "3d5e2a39-62e4-4460-b45d-b5b9bada03d5",
   "metadata": {
    "slideshow": {
     "slide_type": "slide"
    },
    "tags": []
   },
   "source": [
    "## Functions\n",
    "\n",
    "Tensors can be used -- and are encouraged to be used -- inside functions.  For example, let's calculate the pair-wise distance between all points in a set of 2D coordinates."
   ]
  },
  {
   "cell_type": "code",
   "execution_count": 29,
   "id": "271418c5-d7c1-4e22-a147-0e88614d38f3",
   "metadata": {},
   "outputs": [
    {
     "data": {
      "text/plain": [
       "TensorShape([100, 100])"
      ]
     },
     "execution_count": 29,
     "metadata": {},
     "output_type": "execute_result"
    }
   ],
   "source": [
    "def pairwise_distance(x_coords, y_coords):\n",
    "    x_coords = tf.convert_to_tensor(x_coords) # Good idea to ensure we have Tensors!\n",
    "    y_coords = tf.convert_to_tensor(y_coords)\n",
    "    dx = x_coords[:, tf.newaxis] - x_coords[tf.newaxis, :]\n",
    "    dy = y_coords[:, tf.newaxis] - y_coords[tf.newaxis, :]\n",
    "    return tf.sqrt(dx*dx + dy*dy)\n",
    "\n",
    "x_coords = tf.random.uniform(shape=[100])\n",
    "y_coords = tf.random.uniform(shape=[100])\n",
    "\n",
    "d = pairwise_distance(x_coords, y_coords)\n",
    "d.shape"
   ]
  },
  {
   "cell_type": "markdown",
   "id": "a0255a36-d111-4155-8b31-5ba19efc2da6",
   "metadata": {
    "slideshow": {
     "slide_type": "slide"
    },
    "tags": []
   },
   "source": [
    "## Loops\n",
    "\n",
    "Loops are implemented using the `tf.while_loop` operation.  This operation requires a _functional_ approach to programming, where we loop along a pre-specified tensor until a stopping criterion is met.\n",
    "\n",
    "We'll use `tf.while_loop` to implement an iterative Geometric random variable sampler.  A Geometric random variable represents the number of weighted coin tosses required to get the first heads up.  Our loop repeatedly tosses a weighted coin, accumulating the number of iterations until the coin comes up heads"
   ]
  },
  {
   "cell_type": "code",
   "execution_count": 30,
   "id": "16ad4aa5-7aba-4232-ac87-ffaf77984eca",
   "metadata": {},
   "outputs": [
    {
     "data": {
      "text/plain": [
       "<tf.Tensor: shape=(), dtype=int32, numpy=411>"
      ]
     },
     "execution_count": 30,
     "metadata": {},
     "output_type": "execute_result"
    }
   ],
   "source": [
    "prob = tf.constant(0.01)  # Probability of a heads up\n",
    "\n",
    "def loop_body(num_tosses, stop):  # loop_body takes same arguments as return values\n",
    "    u = tf.random.uniform(shape=[1])\n",
    "    must_stop = u < prob\n",
    "    return num_tosses+1, must_stop\n",
    "\n",
    "def loop_cond(num_tosses, stop):  # loop_condition returns False to break the loop\n",
    "    return tf.math.logical_not(stop)\n",
    "\n",
    "num_tosses, _ = tf.while_loop(cond=loop_cond, body=loop_body, loop_vars=(0, False))\n",
    "num_tosses"
   ]
  },
  {
   "cell_type": "markdown",
   "id": "e1567dc6-8716-4a48-b813-1a046f4a879f",
   "metadata": {
    "slideshow": {
     "slide_type": "slide"
    },
    "tags": []
   },
   "source": [
    "## Conditionals\n",
    "\n",
    "Since TensorFlow is targeted at _vector_ processors, conditionals can seem a little weird.  However, really they are just following functional programming patterns.\n",
    "\n",
    "* `tf.cond`\n",
    "* `tf.switch_case`\n",
    "* `tf.where`"
   ]
  },
  {
   "cell_type": "markdown",
   "id": "1d8c597f-01df-41be-87a4-41ccaef3f4e2",
   "metadata": {
    "slideshow": {
     "slide_type": "subslide"
    },
    "tags": []
   },
   "source": [
    "### Selecting behaviour\n",
    "\n",
    "`tf.cond` allows selecting a behaviour based on a _scalar_ condition.  We define `true_fn` and `false_fn` functions, which take no arguments and return _exactly_ the `Tensorspec` (i.e. shape and dtype)"
   ]
  },
  {
   "cell_type": "code",
   "execution_count": 31,
   "id": "47cb2b97-2874-4e27-b4ce-f037a99890e7",
   "metadata": {},
   "outputs": [
    {
     "data": {
      "text/plain": [
       "<tf.Tensor: shape=(), dtype=int32, numpy=0>"
      ]
     },
     "execution_count": 31,
     "metadata": {},
     "output_type": "execute_result"
    }
   ],
   "source": [
    "def true_fn():\n",
    "    return tf.constant(1)\n",
    "\n",
    "def false_fn():\n",
    "    return tf.constant(0)\n",
    "\n",
    "tf.cond(tf.random.uniform(shape=[1]) < 0.5, true_fn, false_fn)"
   ]
  },
  {
   "cell_type": "markdown",
   "id": "5832a795-0ad9-4a0a-9456-7c005d909df7",
   "metadata": {
    "slideshow": {
     "slide_type": "subslide"
    },
    "tags": []
   },
   "source": [
    "### Selecting a function to run based on index\n",
    "\n",
    "`tf.switch_case` allows us to select a particular function from a list based on an enumeration (see also `tf.case`):"
   ]
  },
  {
   "cell_type": "code",
   "execution_count": 32,
   "id": "110408a3-74f3-4ab6-b33b-a1d5d00f373e",
   "metadata": {},
   "outputs": [
    {
     "data": {
      "text/plain": [
       "<tf.Tensor: shape=(), dtype=int32, numpy=1>"
      ]
     },
     "execution_count": 32,
     "metadata": {},
     "output_type": "execute_result"
    }
   ],
   "source": [
    "def fn0(): return tf.constant(0)\n",
    "def fn1(): return tf.constant(1)\n",
    "def fn2(): return tf.constant(2)\n",
    "\n",
    "branch_to_call = tf.constant(1)\n",
    "tf.switch_case(branch_to_call, branch_fns=(fn0, fn1, fn2))"
   ]
  },
  {
   "cell_type": "markdown",
   "id": "3d36077a-0d43-4106-95cd-b9cedba32998",
   "metadata": {
    "slideshow": {
     "slide_type": "subslide"
    },
    "tags": []
   },
   "source": [
    "### Selecting values from vectors\n",
    "\n",
    "`tf.where` allows us to select elements from one of two vectors depending on an element-wise criterion"
   ]
  },
  {
   "cell_type": "code",
   "execution_count": 33,
   "id": "d3f05ea5-7b0d-4e06-867b-09fc67d03500",
   "metadata": {},
   "outputs": [
    {
     "name": "stdout",
     "output_type": "stream",
     "text": [
      "selector: [False  True False  True]\n",
      "vals: [-1.  2. -3.  4.]\n"
     ]
    }
   ],
   "source": [
    "true_vals = tf.constant([1., 2., 3., 4.])\n",
    "false_vals = -true_vals\n",
    "\n",
    "selector = tf.random.uniform(shape=true_vals.shape) < 0.5\n",
    "vals = tf.where(selector, true_vals, false_vals)\n",
    "\n",
    "print(\"selector:\", selector.numpy())\n",
    "print(\"vals:\", vals.numpy())"
   ]
  },
  {
   "cell_type": "markdown",
   "id": "60e616d9-418b-47d8-b9c1-fd7dc87c4514",
   "metadata": {},
   "source": [
    "__NB__ a common pattern in vectorised programming is to compute *all* branches, and then use `tf.where` to select the relevant results."
   ]
  },
  {
   "cell_type": "markdown",
   "id": "26c3530d-afe6-4d42-a8a6-2d5ef473ec70",
   "metadata": {
    "slideshow": {
     "slide_type": "slide"
    },
    "tags": []
   },
   "source": [
    "## Graph mode\n",
    "\n",
    "So far, we have run all our code in \"Eager mode\" where all commands are run on the fly just like regular Numpy.  The real power of TensorFlow is when we run computations in \"Graph mode\".\n",
    "\n",
    "Graph mode is enabled by decorating our function with `@tf.function`, e.g. our Geometric function from earlier"
   ]
  },
  {
   "cell_type": "code",
   "execution_count": 34,
   "id": "dad01d90-d70d-40b8-8ab8-a66451b2c9d7",
   "metadata": {},
   "outputs": [
    {
     "name": "stderr",
     "output_type": "stream",
     "text": [
      "2022-03-23 13:08:04.660916: W tensorflow/core/framework/cpu_allocator_impl.cc:82] Allocation of 200000000 exceeds 10% of free system memory.\n",
      "2022-03-23 13:08:04.772051: W tensorflow/core/framework/cpu_allocator_impl.cc:82] Allocation of 200000000 exceeds 10% of free system memory.\n",
      "2022-03-23 13:08:04.884634: W tensorflow/core/framework/cpu_allocator_impl.cc:82] Allocation of 200000000 exceeds 10% of free system memory.\n"
     ]
    }
   ],
   "source": [
    "@tf.function\n",
    "def matrix_sq(x):\n",
    "    x = tf.convert_to_tensor(x)\n",
    "    return tf.linalg.matmul(x, x, transpose_a=True)\n",
    "\n",
    "x = np.random.uniform(size=(5000, 5000))\n",
    "z = matrix_sq(x)"
   ]
  },
  {
   "cell_type": "markdown",
   "id": "099fba64-625f-46dd-9ad7-2205c9165e8c",
   "metadata": {
    "slideshow": {
     "slide_type": "subslide"
    },
    "tags": []
   },
   "source": [
    "### Function tracing\n",
    "\n",
    "In Graph mode, operations within functions are first _traced_, and assembled into a directed acyclic graph.  Tracing only happens _once_ per function as long as its arguments stay the same.  \n",
    "\n",
    "This means that Python functions are (typically) only run during tracing, and are excluded when the compiled graph is run.  This is particularly true for `print` statements.  For example"
   ]
  },
  {
   "cell_type": "code",
   "execution_count": 35,
   "id": "933fb10c-01cf-4ce1-a4ef-31632dc5321e",
   "metadata": {},
   "outputs": [
    {
     "name": "stdout",
     "output_type": "stream",
     "text": [
      "Adding to  5\n",
      "First call: tf.Tensor(5, shape=(), dtype=int32)\n",
      "Second call: tf.Tensor(5, shape=(), dtype=int32)\n"
     ]
    }
   ],
   "source": [
    "@tf.function\n",
    "def add_one(x):\n",
    "    print(\"Adding to \", x)\n",
    "    return x\n",
    "\n",
    "print(\"First call:\",  add_one(5)) # Graph is traced, so `print` is called\n",
    "print(\"Second call:\", add_one(5)) # Graph already exists for this function, no tracing is done"
   ]
  },
  {
   "cell_type": "markdown",
   "id": "ea67695f-2b15-4858-a8d0-e97edfbb7b78",
   "metadata": {},
   "source": [
    "but if we change the argument, the function is re-traced:"
   ]
  },
  {
   "cell_type": "code",
   "execution_count": 36,
   "id": "f5b3fd01-275a-4c0e-98d8-729652533d54",
   "metadata": {},
   "outputs": [
    {
     "name": "stdout",
     "output_type": "stream",
     "text": [
      "Adding to  6\n",
      "Third call: tf.Tensor(6, shape=(), dtype=int32)\n"
     ]
    }
   ],
   "source": [
    "print(\"Third call:\", add_one(6))"
   ]
  },
  {
   "cell_type": "markdown",
   "id": "f0049e54-3129-464d-9dfc-52f7c00c9d86",
   "metadata": {},
   "source": [
    "To prevent re-tracing, we can specify the argument as a `tf.Tensor`"
   ]
  },
  {
   "cell_type": "code",
   "execution_count": 37,
   "id": "d57e9f40-7f45-44de-bc04-e97dee9e5839",
   "metadata": {},
   "outputs": [
    {
     "name": "stdout",
     "output_type": "stream",
     "text": [
      "Adding to  Tensor(\"x:0\", shape=(), dtype=int32)\n",
      "Fourth call: tf.Tensor(7, shape=(), dtype=int32)\n",
      "Fifth call: tf.Tensor(8, shape=(), dtype=int32)\n"
     ]
    }
   ],
   "source": [
    "print(\"Fourth call:\", add_one(tf.constant(7)))  # tracing occurs\n",
    "print(\"Fifth call:\", add_one(tf.constant(8)))   # no tracing"
   ]
  },
  {
   "cell_type": "markdown",
   "id": "a34ef284-ef22-4fe1-a133-e986553fa6dd",
   "metadata": {},
   "source": [
    "### Printing within a graph-mode function"
   ]
  },
  {
   "cell_type": "markdown",
   "id": "9ddff887-bc81-4652-8169-76f3be9b047e",
   "metadata": {},
   "source": [
    "Notice that in \"Fourth call\" above, printing `x` (a Tensor) simply provides an empty `TensorSpec` with shape and `dtype` information but no actual value.  This is because `print` is only called during tracing _before_ the graph-mode function has been called with its actual value.  \n",
    "\n",
    "To print the actual value of a Tensor, use `tf.print` which is a TF operation and is compiled into the graph.  This can be useful for debugging.  "
   ]
  },
  {
   "cell_type": "code",
   "execution_count": 38,
   "id": "80a1db3d-e176-4784-8b76-55835f83a53e",
   "metadata": {},
   "outputs": [
    {
     "name": "stdout",
     "output_type": "stream",
     "text": [
      "Adding to  9\n",
      "Sixth call: tf.Tensor(9, shape=(), dtype=int32)\n",
      "Adding to  10\n",
      "Seventh call: tf.Tensor(10, shape=(), dtype=int32)\n"
     ]
    }
   ],
   "source": [
    "@tf.function\n",
    "def add_oneV2(x):\n",
    "    tf.print(\"Adding to \", x)\n",
    "    return x\n",
    "\n",
    "print(\"Sixth call:\", add_oneV2(tf.constant(9)))  # `tf.print` returns value of `x`\n",
    "print(\"Seventh call:\", add_oneV2(tf.constant(10))) # `tf.print` returns value of `x`"
   ]
  },
  {
   "cell_type": "markdown",
   "id": "6d2ac6bd-4782-46d5-90c5-458ad8d0c7f7",
   "metadata": {},
   "source": [
    "### Why graph mode\n",
    "\n",
    "Using graph mode, we give TensorFlow the opportunity to speed up our code by performing optimisations on our function, such as pre-computing constant values and fusing operations.  This is most effective on functions that require lots of smaller operations rather than one big one.  Therefore, we do not expect `tf.function` to accelerate a single call to, say, `tf.linalg.matmul`.\n",
    "\n",
    "__Limitations__:\n",
    "* Graph-compiled functions _must_ only return Tensors, or lists/tuples/dicts of Tensors!\n",
    "* For very short functions, graph compilation overhead may outweigh the computational gains.\n",
    "* Tracing is expensive: occasionally it is difficult to avoid."
   ]
  },
  {
   "cell_type": "markdown",
   "id": "96eda123-7a06-42ed-a41a-1a6eb76695d4",
   "metadata": {
    "slideshow": {
     "slide_type": "slide"
    },
    "tags": []
   },
   "source": [
    "## Just in time compilation\n",
    "\n",
    "TensorFlow provides a _just-in-time_ (JIT) compiler, [XLA](https://tensorflow.org/xla).  XLA provides an extreme level of optimisation, effectively compiling our Python code into low-level bytecode for rapid execution.  We can switch XLA on just as easily"
   ]
  },
  {
   "cell_type": "code",
   "execution_count": 39,
   "id": "f8c44ae7-372d-4b07-b12f-ae9755f55b59",
   "metadata": {},
   "outputs": [
    {
     "name": "stderr",
     "output_type": "stream",
     "text": [
      "2022-03-23 13:08:07.281624: W tensorflow/core/framework/cpu_allocator_impl.cc:82] Allocation of 200000000 exceeds 10% of free system memory.\n",
      "2022-03-23 13:08:07.439877: W tensorflow/core/framework/cpu_allocator_impl.cc:82] Allocation of 200000000 exceeds 10% of free system memory.\n",
      "2022-03-23 13:08:07.525500: I tensorflow/compiler/xla/service/service.cc:171] XLA service 0x55652302d260 initialized for platform Host (this does not guarantee that XLA will be used). Devices:\n",
      "2022-03-23 13:08:07.525519: I tensorflow/compiler/xla/service/service.cc:179]   StreamExecutor device (0): Host, Default Version\n",
      "2022-03-23 13:08:07.532936: I tensorflow/compiler/jit/xla_compilation_cache.cc:399] Compiled cluster using XLA!  This line is logged at most once for the lifetime of the process.\n"
     ]
    }
   ],
   "source": [
    "@tf.function(jit_compile=True)\n",
    "def matrix_sq(x):\n",
    "    x = tf.convert_to_tensor(x)\n",
    "    return tf.linalg.matmul(x, x, transpose_a=True)\n",
    "\n",
    "x = np.random.uniform(size=(5000, 5000))\n",
    "z = matrix_sq(x)"
   ]
  },
  {
   "cell_type": "markdown",
   "id": "1b8be54f-f869-439d-8ee0-4140e789a748",
   "metadata": {},
   "source": [
    "### Limitations of XLA\n",
    "\n",
    "In addition to Graph-mode limitations, XLA has a number of further limitations:\n",
    "* the shapes of _all_ data structures must be known at compile time\n",
    "* XLA-compiled functions must be _pure_\n",
    "  * no side-effects, e.g. IO, printing, etc\n",
    "  \n",
    "Some TensorFlow operations are not available, e.g. `tf.sparse` operations, `tf.print`."
   ]
  },
  {
   "cell_type": "markdown",
   "id": "6a0e7a2b-4247-4175-9e48-be1607ab4fc2",
   "metadata": {
    "slideshow": {
     "slide_type": "slide"
    },
    "tags": []
   },
   "source": [
    "## Worked example in epidemics\n",
    "\n",
    "To demonstrate the capabilities of TensorFlow in action, we'll use the example of a discrete-time \"SIR\" epidemic model simulation.  This simulation evolves the system through time, with Susceptible individuals transitioning to Infected, and Infected individuals transitioning to Removed.\n",
    "\n",
    "<div>\n",
    "<img src=\"https://gitlab.com/chrism0dwk/practical-epidemics/-/raw/master/site/source/notebooks/sir_diagram.png\" width=\"500\" alt=\"TensorFlow library organisation\"/>\n",
    "</div>"
   ]
  },
  {
   "cell_type": "markdown",
   "id": "97d20ee7-60dc-4ce1-8b14-34202e76bde8",
   "metadata": {
    "slideshow": {
     "slide_type": "subslide"
    },
    "tags": []
   },
   "source": [
    "Given initial conditions $t=0$, $S_0 = 120000$, $I_0=1$, $R_0=0$, we can evolve the system discrete timesteps (of length 1) by\n",
    "\n",
    "1. Drawing new transition events\n",
    "$$y_{SI} \\sim Binomial(S_t, 1 - e^{-\\beta I_t}) \\\\ y_{IR} \\sim Binomial(I_t, 1 - e^{-\\gamma})$$\n",
    "\n",
    "2. Updating the states and time\n",
    "$$S_{t+1} = S_t - y_{SI} \\\\ I_{t+1} = I_t + y_{SE} - y_{IR} \\\\ R_{t+1} = R_{t}+ y_{IR} \\\\ t:=t+1$$\n",
    "\n",
    "3. Goto 1 while $t < 200$"
   ]
  },
  {
   "cell_type": "markdown",
   "id": "81c89311-2680-482e-8810-b63ddd095c52",
   "metadata": {
    "slideshow": {
     "slide_type": "subslide"
    },
    "tags": []
   },
   "source": [
    "## TensorFlow implementation\n",
    "\n",
    "To implement our simulation, we need to make use of vectorized operations and linear algebra where we can.  What follows is my personal preferred pattern for this problem!\n",
    "\n",
    "First define the state transition model and event rates"
   ]
  },
  {
   "cell_type": "code",
   "execution_count": 40,
   "id": "6a1813a1-3d7e-40bb-9e73-97a34999b6fc",
   "metadata": {},
   "outputs": [],
   "source": [
    "# Define the SIR model using stoichiometry matrix \n",
    "#                          SI  IR \n",
    "sir_stoich = tf.constant([[-1,  0],  # S\n",
    "                          [ 1, -1],  # I\n",
    "                          [ 0,  1]], # R\n",
    "                         dtype=np.float32)\n",
    "\n",
    "\n",
    "def make_transition_rate_fn(beta, gamma):  # Closures are a common pattern\n",
    "    \"\"\"S->I and I->R transitions\"\"\"\n",
    "    def fn(state):\n",
    "            return tf.stack([\n",
    "                    beta * state[1] / tf.reduce_sum(state),  # Infection rate\n",
    "                    gamma                                    # Recovery rate\n",
    "                ],\n",
    "                axis=0\n",
    "            )\n",
    "    return fn\n",
    "\n",
    "\n",
    "# Set initial state\n",
    "initial_state = np.array([120000, 1, 0], dtype=np.float32)\n",
    "\n",
    "# Set the parameters\n",
    "transition_rate_fn = make_transition_rate_fn(beta=0.3, gamma=0.14)"
   ]
  },
  {
   "cell_type": "markdown",
   "id": "5f4966d3-0335-4e51-888a-1b925271f399",
   "metadata": {
    "slideshow": {
     "slide_type": "subslide"
    },
    "tags": []
   },
   "source": [
    "Now define the actual simulation loop, with random number seed propagation"
   ]
  },
  {
   "cell_type": "code",
   "execution_count": 41,
   "id": "9fc45587-28d4-450e-aa17-9d95b0569c2b",
   "metadata": {
    "tags": []
   },
   "outputs": [],
   "source": [
    "import tensorflow_probability as tfp\n",
    "from tensorflow_probability.python.internal import samplers\n",
    "tfd = tfp.distributions\n",
    "\n",
    "def simulation(initial_state, transition_rate_fn, stoichiometry, num_steps, seed=0):\n",
    "    seed = samplers.sanitize_seed(seed)\n",
    "    \n",
    "    def one_step(seed_and_state, _):  # Timestep index is ignored\n",
    "        seed, state = seed_and_state\n",
    "        seed0, next_seed = samplers.split_seed(seed, salt=\"one_step\") # Split seed\n",
    "        \n",
    "        # Calculate transition probabilities\n",
    "        rates = transition_rate_fn(state)\n",
    "        probs = 1.0 - tf.math.exp(-rates)\n",
    "        \n",
    "        # Draw increments, batching together S->I and I->R\n",
    "        increments = tfd.Binomial(total_count=state[:2],  # Select (S, I), R is irrelevant\n",
    "                                  probs=probs).sample(seed=seed0)\n",
    "        \n",
    "        # Calculate new state\n",
    "        new_state = state + tf.linalg.matvec(stoichiometry, increments)\n",
    "        \n",
    "        return next_seed, new_state\n",
    "    \n",
    "    # tf.scan iteratively applies one_step (uses tf.while_loop)\n",
    "    _, simulation = tf.scan(fn=one_step,\n",
    "                            elems=tf.range(200),  # Run for 200 steps\n",
    "                            initializer=(seed, initial_state))\n",
    "    \n",
    "    return simulation"
   ]
  },
  {
   "cell_type": "markdown",
   "id": "3e52b6e3-b0cf-4a8a-a7b4-221301a6cdf2",
   "metadata": {
    "slideshow": {
     "slide_type": "fragment"
    },
    "tags": []
   },
   "source": [
    "and a plotting function for our output"
   ]
  },
  {
   "cell_type": "code",
   "execution_count": 42,
   "id": "c50f1c87-ea3d-4d49-9828-c6653035cbae",
   "metadata": {
    "slideshow": {
     "slide_type": "fragment"
    },
    "tags": []
   },
   "outputs": [],
   "source": [
    "def plot_sir(sim):\n",
    "    plt.plot(sim[:, 0], label=\"Susceptible\")\n",
    "    plt.plot(sim[:,1], label=\"Infected\")\n",
    "    plt.plot(sim[:, 2], label=\"Removed\")\n",
    "    plt.xlabel(\"Time/days\")\n",
    "    plt.ylabel(\"Number of individuals\")\n",
    "    plt.legend()\n",
    "    return None\n",
    "\n",
    "def time_this(fn):\n",
    "    \"\"\"Timing decorator using time.perf_counter\"\"\"\n",
    "    def wrapper(*args, **kwargs):\n",
    "        start = time.perf_counter()\n",
    "        rv = fn(*args, **kwargs)\n",
    "        end = time.perf_counter()\n",
    "        print(\"Elapsed wallclock time:\", end-start, \"seconds\")\n",
    "        return rv\n",
    "    return wrapper"
   ]
  },
  {
   "cell_type": "markdown",
   "id": "93ba08a5-faf5-4f0e-8bde-3008fb403a74",
   "metadata": {
    "slideshow": {
     "slide_type": "subslide"
    },
    "tags": []
   },
   "source": [
    "Run the simulation in (default) Eager model, and plot the output"
   ]
  },
  {
   "cell_type": "code",
   "execution_count": 43,
   "id": "5587dd6c-5bad-4960-9edf-60359a470275",
   "metadata": {
    "tags": []
   },
   "outputs": [
    {
     "name": "stdout",
     "output_type": "stream",
     "text": [
      "Elapsed wallclock time: 0.7186074089840986 seconds\n"
     ]
    },
    {
     "data": {
      "image/png": "[encoded data removed]",
      "text/plain": [
       "<Figure size 432x288 with 1 Axes>"
      ]
     },
     "metadata": {
      "needs_background": "light"
     },
     "output_type": "display_data"
    }
   ],
   "source": [
    "import matplotlib.pyplot as plt\n",
    "import time\n",
    "    \n",
    "@time_this\n",
    "def eager_mode():\n",
    "  return simulation(initial_state=initial_state, \n",
    "                    transition_rate_fn=transition_rate_fn,\n",
    "                    stoichiometry=sir_stoich,\n",
    "                    num_steps=200, \n",
    "                    seed=[4,2])\n",
    "sim = eager_mode()\n",
    "plot_sir(sim.numpy())"
   ]
  },
  {
   "cell_type": "markdown",
   "id": "b21719af-1969-4351-914f-a0e598b4a696",
   "metadata": {
    "slideshow": {
     "slide_type": "subslide"
    },
    "tags": []
   },
   "source": [
    "### Simulate in graph mode\n",
    "\n",
    "In graph mode, we get a speedup on the _second_ call to `simulate`.  This is because on the first call, we incur a graph compilation overhead.  However, with a compiled graph we get a 10x speedup!"
   ]
  },
  {
   "cell_type": "code",
   "execution_count": 44,
   "id": "dd6959b3-ce07-418a-97ef-274db4bae32c",
   "metadata": {},
   "outputs": [
    {
     "name": "stdout",
     "output_type": "stream",
     "text": [
      "Elapsed wallclock time: 0.35742090101120993 seconds\n",
      "Elapsed wallclock time: 0.011307230975944549 seconds\n"
     ]
    }
   ],
   "source": [
    "@time_this\n",
    "@tf.function\n",
    "def graph_mode():\n",
    "    return simulation(initial_state=initial_state, \n",
    "                      transition_rate_fn=transition_rate_fn,\n",
    "                      stoichiometry=sir_stoich,\n",
    "                      num_steps=200, \n",
    "                      seed=[2,2])\n",
    "\n",
    "sim = graph_mode()\n",
    "sim = graph_mode()"
   ]
  },
  {
   "cell_type": "markdown",
   "id": "c0594861-8d31-4db4-be37-ff50c5381fa7",
   "metadata": {
    "slideshow": {
     "slide_type": "subslide"
    },
    "tags": []
   },
   "source": [
    "### Simulate in XLA mode\n",
    "\n",
    "In XLA mode, we incur a large compilation overhead, but get an even faster function on the second call -- approximately a 500x speedup compared to Eager mode!"
   ]
  },
  {
   "cell_type": "code",
   "execution_count": 45,
   "id": "159eecb6-ec19-4b01-8906-f6269e23016d",
   "metadata": {},
   "outputs": [
    {
     "name": "stderr",
     "output_type": "stream",
     "text": [
      "2022-03-23 13:08:11.248248: I tensorflow/compiler/mlir/tensorflow/utils/dump_mlir_util.cc:237] disabling MLIR crash reproducer, set env var `MLIR_CRASH_REPRODUCER_DIRECTORY` to enable.\n"
     ]
    },
    {
     "name": "stdout",
     "output_type": "stream",
     "text": [
      "Elapsed wallclock time: 1.800255890993867 seconds\n",
      "Elapsed wallclock time: 0.0005566269974224269 seconds\n"
     ]
    }
   ],
   "source": [
    "@time_this\n",
    "@tf.function(jit_compile=True)\n",
    "def xla_mode():\n",
    "    return simulation(initial_state=initial_state, \n",
    "                      transition_rate_fn=transition_rate_fn,\n",
    "                      stoichiometry=sir_stoich,\n",
    "                      num_steps=200, \n",
    "                      seed=[2,2])\n",
    "\n",
    "sim = xla_mode()\n",
    "sim = xla_mode()"
   ]
  },
  {
   "cell_type": "markdown",
   "id": "d2d72971-adaf-4a4d-863a-4116b7b5fb4e",
   "metadata": {
    "slideshow": {
     "slide_type": "slide"
    },
    "tags": []
   },
   "source": [
    "## Remarks and conclusions\n",
    "\n",
    "For large computationally-intensive problems, TensorFlow provides an interesting framework for vectorised computation, autodiff, and hardware agnostic computing.  \n",
    "\n",
    "Graph mode and XLA mode are useful, _provided_:\n",
    "* Problem sizes are large\n",
    "* Problems are complex\n",
    "* Large graphs of operations are required\n",
    "\n",
    "Limitations in Graph mode and XLA require careful thought for some algorithms, however.  My advice is to try to replace conditionals (e.g. `np.where`, `if`/`else`, etc) with mathematical operations (e.g. multiply by 0 or 1) wherever possible.\n",
    "\n",
    "Decomposing problems in terms of _linear algebra_ leads to more concise code and (more often than not) improved runtime. "
   ]
  },
  {
   "cell_type": "markdown",
   "id": "d12ef6f7-726b-4cac-a2ef-2f1e165b822b",
   "metadata": {
    "slideshow": {
     "slide_type": "slide"
    },
    "tags": []
   },
   "source": [
    "## Where next?\n",
    "I would recommend\n",
    "\n",
    "1. Reading the API docs at https://tensorflow.org/api_docs\n",
    "    * `tf.linalg`\n",
    "    * `tf.sparse`\n",
    "    * `tf.math`...\n",
    "\n",
    "2. Read the TensorFlow guide at https://tensorflow.org/guide\n",
    "\n",
    "3. Profiling with TensorBoard at https://www.tensorflow.org/tensorboard\n",
    "\n",
    "4. Machine learning library, `keras`, provides Neural Net building blocks\n",
    "\n",
    "5. [TensorFlow Probability](https://tensorflow.org/probability) provides probabilistic programming\n",
    "\n",
    "6. Let's open a discussion in the RSN Team!"
   ]
  }
 ],
 "metadata": {
  "kernelspec": {
   "display_name": "Python 3 (ipykernel)",
   "language": "python",
   "name": "python3"
  },
  "language_info": {
   "codemirror_mode": {
    "name": "ipython",
    "version": 3
   },
   "file_extension": ".py",
   "mimetype": "text/x-python",
   "name": "python",
   "nbconvert_exporter": "python",
   "pygments_lexer": "ipython3",
   "version": "3.8.12"
  }
 },
 "nbformat": 4,
 "nbformat_minor": 5
}
